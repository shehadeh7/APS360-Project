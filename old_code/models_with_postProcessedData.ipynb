{
  "cells": [
    {
      "cell_type": "markdown",
      "metadata": {
        "id": "view-in-github",
        "colab_type": "text"
      },
      "source": [
        "<a href=\"https://colab.research.google.com/github/shehadeh7/APS360-Project/blob/main/models_with_postProcessedData.ipynb\" target=\"_parent\"><img src=\"https://colab.research.google.com/assets/colab-badge.svg\" alt=\"Open In Colab\"/></a>"
      ]
    },
    {
      "cell_type": "code",
      "source": [
        "import numpy as np\n",
        "import os\n",
        "import sklearn\n",
        "from sklearn.ensemble import RandomForestClassifier\n",
        "from sklearn.utils import shuffle"
      ],
      "metadata": {
        "id": "oXDirr09eM4P"
      },
      "execution_count": 11,
      "outputs": []
    },
    {
      "cell_type": "code",
      "source": [
        "!unzip x_y_data.zip"
      ],
      "metadata": {
        "colab": {
          "base_uri": "https://localhost:8080/"
        },
        "id": "RJxCQ07oezQ5",
        "outputId": "709d9cb0-2039-4000-ae03-9ef3d9e26834"
      },
      "execution_count": 4,
      "outputs": [
        {
          "output_type": "stream",
          "name": "stdout",
          "text": [
            "Archive:  x_y_data.zip\n",
            "   creating: x_y_data/\n",
            "  inflating: x_y_data/X_datanew2.npy  \n",
            "  inflating: x_y_data/Y_datanew0.npy  \n",
            "  inflating: x_y_data/X_datanew0.npy  \n",
            "  inflating: x_y_data/Y_datanew2.npy  \n"
          ]
        }
      ]
    },
    {
      "cell_type": "code",
      "execution_count": 6,
      "metadata": {
        "id": "BDSOjJj3ntwq"
      },
      "outputs": [],
      "source": [
        "# load X and Y from npy files\n",
        "x_path = './x_y_data/' + 'X_datanew'\n",
        "y_path = './x_y_data/' + 'Y_datanew'\n",
        "X = np.concatenate((np.load(x_path + '0' + '.npy'), np.load(x_path+ '2' + '.npy')))\n",
        "Y = np.concatenate((np.load(y_path + '0' + '.npy'), np.load(y_path+ '2' + '.npy')))"
      ]
    },
    {
      "cell_type": "code",
      "source": [
        "print(X.shape)\n",
        "print(Y.shape)"
      ],
      "metadata": {
        "colab": {
          "base_uri": "https://localhost:8080/"
        },
        "id": "W18XOwWDgNc6",
        "outputId": "505e3b60-2ec1-4329-c860-c8f001fb80e5"
      },
      "execution_count": 8,
      "outputs": [
        {
          "output_type": "stream",
          "name": "stdout",
          "text": [
            "(4000, 352, 168)\n",
            "(4000,)\n"
          ]
        }
      ]
    },
    {
      "cell_type": "code",
      "source": [
        "# shuffle X and Y same way\n",
        "# random_state to seed the shuffle\n",
        "X, Y = shuffle(X, Y, random_state=0)\n",
        "print(X.shape)\n",
        "print(Y.shape)"
      ],
      "metadata": {
        "colab": {
          "base_uri": "https://localhost:8080/"
        },
        "id": "zKJXqcmcho67",
        "outputId": "255cdf57-9b36-4039-b1b8-ba11d6e8faeb"
      },
      "execution_count": 17,
      "outputs": [
        {
          "output_type": "stream",
          "name": "stdout",
          "text": [
            "(4000, 352, 168)\n",
            "(4000,)\n"
          ]
        }
      ]
    },
    {
      "cell_type": "code",
      "execution_count": 18,
      "metadata": {
        "colab": {
          "base_uri": "https://localhost:8080/"
        },
        "id": "rT0A8B6NdK77",
        "outputId": "8308f0a0-af03-4a55-83e5-f1cfae7284e5"
      },
      "outputs": [
        {
          "output_type": "execute_result",
          "data": {
            "text/plain": [
              "RandomForestClassifier(criterion='entropy')"
            ]
          },
          "metadata": {},
          "execution_count": 18
        }
      ],
      "source": [
        "#Create a Gaussian Classifier\n",
        "clf=RandomForestClassifier(criterion='entropy')\n",
        "\n",
        "training_split = 0.8 # use 80% of data for training\n",
        "\n",
        "#Train the model using the training sets y_pred=clf.predict(X_test)\n",
        "# Flatten X to a 2d array for random forest\n",
        "nsamples, nx, ny = X.shape\n",
        "t_id = int(nsamples * training_split)\n",
        "X_2d = X.reshape((nsamples,nx*ny))\n",
        "clf.fit(X_2d[:t_id,:], Y[:t_id])"
      ]
    },
    {
      "cell_type": "code",
      "execution_count": null,
      "metadata": {
        "id": "B2h4rCf6ebC4"
      },
      "outputs": [],
      "source": [
        "# Perform prediction\n",
        "y_pred=clf.predict(X_2d[t_id:,:])"
      ]
    },
    {
      "cell_type": "code",
      "source": [
        "from sklearn.metrics import confusion_matrix\n",
        "\n",
        "#Generate the confusion matrix\n",
        "cf_matrix = confusion_matrix(Y[t_id:], y_pred)\n",
        "\n",
        "print(cf_matrix)"
      ],
      "metadata": {
        "colab": {
          "base_uri": "https://localhost:8080/"
        },
        "id": "D6MIa_kzjKoa",
        "outputId": "480a8104-db27-4a40-d4ec-f12aa1b65008"
      },
      "execution_count": 19,
      "outputs": [
        {
          "output_type": "stream",
          "name": "stdout",
          "text": [
            "[[22 41 29 33 14 20]\n",
            " [26 23 22 21 15 23]\n",
            " [23 37 26 21 14 19]\n",
            " [26 35 21 18 11 19]\n",
            " [25 32 27 21 10 14]\n",
            " [20 24 20 20  8 20]]\n"
          ]
        }
      ]
    },
    {
      "cell_type": "code",
      "source": [
        "# Plot confusion matrix\n",
        "import seaborn as sns\n",
        "import matplotlib.pyplot as plt\n",
        "\n",
        "ax = sns.heatmap(cf_matrix, annot=True, cmap='Blues')\n",
        "\n",
        "ax.set_title('Emotion Confusion Matrix with labels\\n\\n');\n",
        "ax.set_xlabel('\\nPredicted Values')\n",
        "ax.set_ylabel('Actual Values ');\n",
        "\n",
        "## Ticket labels - List must be in alphabetical order\n",
        "ax.xaxis.set_ticklabels(['happy', 'sad', 'angry', 'disgust', 'fear', 'neutral'])\n",
        "ax.yaxis.set_ticklabels(['happy', 'sad', 'angry', 'disgust', 'fear', 'neutral'])\n",
        "\n",
        "## Display the visualization of the Confusion Matrix.\n",
        "plt.show()"
      ],
      "metadata": {
        "colab": {
          "base_uri": "https://localhost:8080/",
          "height": 337
        },
        "id": "zxNABkUsjRfS",
        "outputId": "d8c74cd9-a2cb-4c00-b8d9-90ba89653f89"
      },
      "execution_count": 20,
      "outputs": [
        {
          "output_type": "display_data",
          "data": {
            "image/png": "[encoded data removed]",
            "text/plain": [
              "<Figure size 432x288 with 2 Axes>"
            ]
          },
          "metadata": {
            "needs_background": "light"
          }
        }
      ]
    },
    {
      "cell_type": "code",
      "source": [
        "# Report useful metrics\n",
        "ascore = sklearn.metrics.accuracy_score(Y[t_id:], y_pred)\n",
        "rscore = sklearn.metrics.recall_score(Y[t_id:], y_pred, average='macro')\n",
        "pscore = sklearn.metrics.precision_score(Y[t_id:], y_pred, average='macro')\n",
        "fscore = sklearn.metrics.f1_score(Y[t_id:], y_pred, average='macro')\n",
        "print('Accuracy:{}, Precision:{}, Recall:{}, F1:{}'.format(ascore, pscore, rscore, fscore))"
      ],
      "metadata": {
        "colab": {
          "base_uri": "https://localhost:8080/"
        },
        "id": "vHDw8FhHlFvM",
        "outputId": "fe68870a-6941-402f-cca8-a7a69984d588"
      },
      "execution_count": 24,
      "outputs": [
        {
          "output_type": "stream",
          "name": "stdout",
          "text": [
            "Accuracy:0.14875, Precision:0.15019364658919107, Recall:0.14925908156491746, F1:0.14726171047861572\n"
          ]
        }
      ]
    },
    {
      "cell_type": "code",
      "source": [
        "import tensorflow as tf\n",
        "\n",
        "# Create a base model -- sequential, functional, or subclass.\n",
        "model = tf.keras.Sequential([\n",
        "    tf.keras.Input((nx, ny), name='feature'),\n",
        "    tf.keras.layers.Flatten(),\n",
        "    tf.keras.layers.Dense(256, activation=tf.nn.relu),\n",
        "    tf.keras.layers.Dense(512, activation=tf.nn.relu),\n",
        "    tf.keras.layers.Dense(6, activation=tf.nn.softmax)\n",
        "])\n",
        "\n",
        "# # Wrap the model with adversarial regularization.\n",
        "# adv_config = nsl.configs.make_adv_reg_config(multiplier=0.2, adv_step_size=0.05)\n",
        "# adv_model = nsl.keras.AdversarialRegularization(model, adv_config=adv_config)\n",
        "\n",
        "(x_train, y_train) = (X[:t_id, :, :], Y[:t_id])\n",
        "# y_train = tf.keras.utils.to_categorical(y_train)\n",
        "# print(y_train)\n",
        "\n",
        "(x_test, y_test) = (X[t_id:, :, :], Y[t_id:])\n",
        "# y_test = tf.keras.utils.to_categorical(y_test)\n",
        "\n",
        "# Compile, train, and evaluate.\n",
        "model.compile(optimizer='adam',\n",
        "                  loss='sparse_categorical_crossentropy',\n",
        "                  metrics=['accuracy'])\n",
        "model.fit(x_train, y_train, batch_size=64, epochs=50)\n",
        "model.evaluate(x_test, y_test)"
      ],
      "metadata": {
        "colab": {
          "base_uri": "https://localhost:8080/"
        },
        "id": "PsWi3gRRmFoV",
        "outputId": "72a1a8e3-19a7-4479-eb63-fe3cf5ca0ae1"
      },
      "execution_count": 34,
      "outputs": [
        {
          "output_type": "stream",
          "name": "stdout",
          "text": [
            "Epoch 1/50\n",
            "50/50 [==============================] - 6s 117ms/step - loss: 2121896960.0000 - accuracy: 0.2334\n",
            "Epoch 2/50\n",
            "50/50 [==============================] - 6s 115ms/step - loss: 586976896.0000 - accuracy: 0.4334\n",
            "Epoch 3/50\n",
            "50/50 [==============================] - 6s 117ms/step - loss: 330067040.0000 - accuracy: 0.5275\n",
            "Epoch 4/50\n",
            "50/50 [==============================] - 7s 137ms/step - loss: 236047456.0000 - accuracy: 0.5672\n",
            "Epoch 5/50\n",
            "50/50 [==============================] - 6s 116ms/step - loss: 232288112.0000 - accuracy: 0.6091\n",
            "Epoch 6/50\n",
            "50/50 [==============================] - 6s 117ms/step - loss: 187732208.0000 - accuracy: 0.6325\n",
            "Epoch 7/50\n",
            "50/50 [==============================] - 6s 115ms/step - loss: 125256264.0000 - accuracy: 0.6409\n",
            "Epoch 8/50\n",
            "50/50 [==============================] - 6s 116ms/step - loss: 127675536.0000 - accuracy: 0.6500\n",
            "Epoch 9/50\n",
            "50/50 [==============================] - 6s 115ms/step - loss: 126870720.0000 - accuracy: 0.6700\n",
            "Epoch 10/50\n",
            "50/50 [==============================] - 6s 116ms/step - loss: 148814432.0000 - accuracy: 0.6466\n",
            "Epoch 11/50\n",
            "50/50 [==============================] - 6s 116ms/step - loss: 244081424.0000 - accuracy: 0.6384\n",
            "Epoch 12/50\n",
            "50/50 [==============================] - 6s 115ms/step - loss: 186041024.0000 - accuracy: 0.6381\n",
            "Epoch 13/50\n",
            "50/50 [==============================] - 6s 115ms/step - loss: 210359360.0000 - accuracy: 0.6394\n",
            "Epoch 14/50\n",
            "50/50 [==============================] - 6s 115ms/step - loss: 207609616.0000 - accuracy: 0.6475\n",
            "Epoch 15/50\n",
            "50/50 [==============================] - 6s 116ms/step - loss: 193657696.0000 - accuracy: 0.6394\n",
            "Epoch 16/50\n",
            "50/50 [==============================] - 6s 115ms/step - loss: 165366032.0000 - accuracy: 0.6528\n",
            "Epoch 17/50\n",
            "50/50 [==============================] - 6s 122ms/step - loss: 131232320.0000 - accuracy: 0.6575\n",
            "Epoch 18/50\n",
            "50/50 [==============================] - 6s 115ms/step - loss: 131907512.0000 - accuracy: 0.6675\n",
            "Epoch 19/50\n",
            "50/50 [==============================] - 6s 115ms/step - loss: 178189840.0000 - accuracy: 0.6594\n",
            "Epoch 20/50\n",
            "50/50 [==============================] - 6s 122ms/step - loss: 222095488.0000 - accuracy: 0.6559\n",
            "Epoch 21/50\n",
            "50/50 [==============================] - 6s 116ms/step - loss: 122056376.0000 - accuracy: 0.6656\n",
            "Epoch 22/50\n",
            "50/50 [==============================] - 6s 116ms/step - loss: 96717520.0000 - accuracy: 0.6762\n",
            "Epoch 23/50\n",
            "50/50 [==============================] - 6s 115ms/step - loss: 133311920.0000 - accuracy: 0.6678\n",
            "Epoch 24/50\n",
            "50/50 [==============================] - 6s 116ms/step - loss: 119407176.0000 - accuracy: 0.6612\n",
            "Epoch 25/50\n",
            "50/50 [==============================] - 6s 116ms/step - loss: 69250000.0000 - accuracy: 0.6750\n",
            "Epoch 26/50\n",
            "50/50 [==============================] - 6s 116ms/step - loss: 46398320.0000 - accuracy: 0.6787\n",
            "Epoch 27/50\n",
            "50/50 [==============================] - 6s 116ms/step - loss: 34950540.0000 - accuracy: 0.6775\n",
            "Epoch 28/50\n",
            "50/50 [==============================] - 6s 115ms/step - loss: 26894824.0000 - accuracy: 0.6850\n",
            "Epoch 29/50\n",
            "50/50 [==============================] - 6s 116ms/step - loss: 69231120.0000 - accuracy: 0.6806\n",
            "Epoch 30/50\n",
            "50/50 [==============================] - 6s 115ms/step - loss: 105640800.0000 - accuracy: 0.6697\n",
            "Epoch 31/50\n",
            "50/50 [==============================] - 6s 116ms/step - loss: 109999264.0000 - accuracy: 0.6594\n",
            "Epoch 32/50\n",
            "50/50 [==============================] - 6s 116ms/step - loss: 113619760.0000 - accuracy: 0.6697\n",
            "Epoch 33/50\n",
            "50/50 [==============================] - 6s 116ms/step - loss: 117564304.0000 - accuracy: 0.6734\n",
            "Epoch 34/50\n",
            "50/50 [==============================] - 6s 115ms/step - loss: 200211648.0000 - accuracy: 0.6612\n",
            "Epoch 35/50\n",
            "50/50 [==============================] - 6s 115ms/step - loss: 149101072.0000 - accuracy: 0.6516\n",
            "Epoch 36/50\n",
            "50/50 [==============================] - 6s 115ms/step - loss: 160896096.0000 - accuracy: 0.6587\n",
            "Epoch 37/50\n",
            "50/50 [==============================] - 6s 116ms/step - loss: 57618628.0000 - accuracy: 0.6669\n",
            "Epoch 38/50\n",
            "50/50 [==============================] - 6s 116ms/step - loss: 88728760.0000 - accuracy: 0.6634\n",
            "Epoch 39/50\n",
            "50/50 [==============================] - 6s 116ms/step - loss: 55438772.0000 - accuracy: 0.6700\n",
            "Epoch 40/50\n",
            "50/50 [==============================] - 6s 115ms/step - loss: 55704320.0000 - accuracy: 0.6747\n",
            "Epoch 41/50\n",
            "50/50 [==============================] - 6s 116ms/step - loss: 33489758.0000 - accuracy: 0.6666\n",
            "Epoch 42/50\n",
            "50/50 [==============================] - 6s 116ms/step - loss: 52033128.0000 - accuracy: 0.6694\n",
            "Epoch 43/50\n",
            "50/50 [==============================] - 6s 115ms/step - loss: 41443644.0000 - accuracy: 0.6728\n",
            "Epoch 44/50\n",
            "50/50 [==============================] - 6s 116ms/step - loss: 22264310.0000 - accuracy: 0.6728\n",
            "Epoch 45/50\n",
            "50/50 [==============================] - 6s 116ms/step - loss: 22449654.0000 - accuracy: 0.6744\n",
            "Epoch 46/50\n",
            "50/50 [==============================] - 6s 116ms/step - loss: 4753010.0000 - accuracy: 0.6719\n",
            "Epoch 47/50\n",
            "50/50 [==============================] - 6s 116ms/step - loss: 1521922.3750 - accuracy: 0.6697\n",
            "Epoch 48/50\n",
            "50/50 [==============================] - 6s 116ms/step - loss: 7960696.5000 - accuracy: 0.6687\n",
            "Epoch 49/50\n",
            "50/50 [==============================] - 6s 116ms/step - loss: 4029436.2500 - accuracy: 0.6756\n",
            "Epoch 50/50\n",
            "50/50 [==============================] - 6s 117ms/step - loss: 1613068.0000 - accuracy: 0.6794\n",
            "25/25 [==============================] - 1s 27ms/step - loss: 6150443520.0000 - accuracy: 0.2288\n"
          ]
        },
        {
          "output_type": "execute_result",
          "data": {
            "text/plain": [
              "[6150443520.0, 0.22875000536441803]"
            ]
          },
          "metadata": {},
          "execution_count": 34
        }
      ]
    }
  ],
  "metadata": {
    "colab": {
      "collapsed_sections": [],
      "name": "models_with_postProcessedData.ipynb",
      "provenance": [],
      "authorship_tag": "ABX9TyMeVqysqNOP+bIEMoAE6ufA",
      "include_colab_link": true
    },
    "kernelspec": {
      "display_name": "Python 3",
      "name": "python3"
    },
    "language_info": {
      "name": "python"
    }
  },
  "nbformat": 4,
  "nbformat_minor": 0
}
