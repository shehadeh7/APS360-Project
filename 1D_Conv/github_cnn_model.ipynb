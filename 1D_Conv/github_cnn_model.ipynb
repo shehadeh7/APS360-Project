{
  "cells": [
    {
      "cell_type": "markdown",
      "metadata": {
        "id": "view-in-github",
        "colab_type": "text"
      },
      "source": [
        "<a href=\"https://colab.research.google.com/github/shehadeh7/APS360-Project/blob/main/1D_conv/github_cnn_model.ipynb\" target=\"_parent\"><img src=\"https://colab.research.google.com/assets/colab-badge.svg\" alt=\"Open In Colab\"/></a>"
      ]
    },
    {
      "cell_type": "code",
      "source": [
        "import numpy as np\n",
        "import os\n",
        "import sklearn\n",
        "from sklearn.ensemble import RandomForestClassifier\n",
        "from sklearn.utils import shuffle"
      ],
      "metadata": {
        "id": "Gzrmh1cf4R3E"
      },
      "execution_count": 1,
      "outputs": []
    },
    {
      "cell_type": "code",
      "source": [
        "import tensorflow as tf\n",
        "from keras.layers import Dense\n",
        "from keras.layers import Conv1D\n",
        "from keras.layers import Flatten\n",
        "from keras.layers import Dropout\n",
        "from keras.layers import Activation\n",
        "from keras.models import Sequential\n",
        "from sklearn.model_selection import train_test_split\n",
        "import matplotlib.pyplot as plt"
      ],
      "metadata": {
        "id": "5wqTlYAj4rSe"
      },
      "execution_count": 2,
      "outputs": []
    },
    {
      "cell_type": "code",
      "source": [
        "!unzip github_fork_data.zip"
      ],
      "metadata": {
        "colab": {
          "base_uri": "https://localhost:8080/"
        },
        "id": "9XQaOTqX4SVs",
        "outputId": "a6b6d8cb-f0e8-4df3-8a5d-eef11264c0ab"
      },
      "execution_count": 3,
      "outputs": [
        {
          "output_type": "stream",
          "name": "stdout",
          "text": [
            "Archive:  github_fork_data.zip\n",
            "  inflating: x_data.npy              \n",
            "  inflating: y_data.npy              \n"
          ]
        }
      ]
    },
    {
      "cell_type": "code",
      "source": [
        "# load X and Y from npy files\n",
        "x_path = './x_data.npy'\n",
        "y_path = './y_data.npy'\n",
        "X = np.load(x_path)\n",
        "Y = np.load(y_path)\n",
        "\n",
        "print(X.shape)\n",
        "print(Y.shape)"
      ],
      "metadata": {
        "colab": {
          "base_uri": "https://localhost:8080/"
        },
        "id": "vo02cve-4YUC",
        "outputId": "f603fba2-fb9d-4922-bc3c-6a59f502791f"
      },
      "execution_count": 4,
      "outputs": [
        {
          "output_type": "stream",
          "name": "stdout",
          "text": [
            "(3876, 40)\n",
            "(3876,)\n"
          ]
        }
      ]
    },
    {
      "cell_type": "code",
      "source": [
        "X_train_0, X_test, y_train_0, y_test = train_test_split(X, Y, test_size=0.15, random_state=42)\n",
        "X_train, X_val, y_train, y_val = train_test_split(X_train_0, y_train_0, test_size=0.18, random_state=42) # 0.18 x 0.85 = 0.15"
      ],
      "metadata": {
        "id": "fyCleU2H4p0v"
      },
      "execution_count": 5,
      "outputs": []
    },
    {
      "cell_type": "code",
      "source": [
        "print(X_train.shape, X_val.shape, X_test.shape)"
      ],
      "metadata": {
        "colab": {
          "base_uri": "https://localhost:8080/"
        },
        "id": "J8fMsVfY4vFE",
        "outputId": "7a838493-7662-4aca-936b-4555ec5a9212"
      },
      "execution_count": 6,
      "outputs": [
        {
          "output_type": "stream",
          "name": "stdout",
          "text": [
            "(2701, 40) (593, 40) (582, 40)\n"
          ]
        }
      ]
    },
    {
      "cell_type": "code",
      "source": [
        "# count occurences of each emotion\n",
        "train_count = [0]*6\n",
        "val_count = [0]*6\n",
        "test_count = [0]*6\n",
        "\n",
        "for e in y_train:\n",
        "    train_count[e] += 1\n",
        "\n",
        "for e in y_val:\n",
        "    val_count[e] += 1\n",
        "\n",
        "for e in y_test:\n",
        "    test_count[e] += 1\n",
        "\n",
        "print(train_count, val_count, test_count)"
      ],
      "metadata": {
        "colab": {
          "base_uri": "https://localhost:8080/"
        },
        "id": "7MyQmEtP4wr7",
        "outputId": "34ea7b27-2ef7-4cad-9055-dbdc6c98fb2f"
      },
      "execution_count": 7,
      "outputs": [
        {
          "output_type": "stream",
          "name": "stdout",
          "text": [
            "[448, 459, 457, 457, 454, 426] [111, 94, 97, 90, 97, 104] [93, 99, 98, 105, 101, 86]\n"
          ]
        }
      ]
    },
    {
      "cell_type": "code",
      "source": [
        "from matplotlib import pyplot\n",
        "\n",
        "fig = plt.figure()\n",
        "c = ['tab:green', 'tab:blue', 'tab:red', 'tab:purple', 'tab:orange', 'tab:gray']\n",
        "\n",
        "emos = ['happy', 'sad', 'angry', 'disgust', 'fear', 'neutral']\n",
        "plt.bar(emos, train_count, color=c)\n",
        "plt.xlabel(\"Emotion class\")\n",
        "plt.ylabel(\"Count\")\n",
        "plt.title(\"Emotion distribution in training data\")\n",
        "plt.show()"
      ],
      "metadata": {
        "colab": {
          "base_uri": "https://localhost:8080/",
          "height": 295
        },
        "id": "wZEbHnp248Hv",
        "outputId": "f0189d19-b79d-4598-f994-04c5ba3e28d0"
      },
      "execution_count": 8,
      "outputs": [
        {
          "output_type": "display_data",
          "data": {
            "text/plain": [
              "<Figure size 432x288 with 1 Axes>"
            ],
            "image/png": "[encoded data removed]"
          },
          "metadata": {
            "needs_background": "light"
          }
        }
      ]
    },
    {
      "cell_type": "code",
      "source": [
        "from matplotlib import pyplot\n",
        "\n",
        "fig = plt.figure()\n",
        "c = ['tab:green', 'tab:blue', 'tab:red', 'tab:purple', 'tab:orange', 'tab:gray']\n",
        "\n",
        "emos = ['happy', 'sad', 'angry', 'disgust', 'fear', 'neutral']\n",
        "plt.bar(emos, val_count, color=c)\n",
        "plt.xlabel(\"Emotion class\")\n",
        "plt.ylabel(\"Count\")\n",
        "plt.title(\"Emotion distribution in validation data\")\n",
        "plt.show()"
      ],
      "metadata": {
        "colab": {
          "base_uri": "https://localhost:8080/",
          "height": 295
        },
        "id": "Kmopgi6C55Tw",
        "outputId": "e3597992-6acb-4936-8b04-20410059ac65"
      },
      "execution_count": 11,
      "outputs": [
        {
          "output_type": "display_data",
          "data": {
            "text/plain": [
              "<Figure size 432x288 with 1 Axes>"
            ],
            "image/png": "[encoded data removed]"
          },
          "metadata": {
            "needs_background": "light"
          }
        }
      ]
    },
    {
      "cell_type": "code",
      "source": [
        "#####################################################\n",
        "#                 Model Section                     #\n",
        "#####################################################\n",
        "\n",
        "x_traincnn = np.expand_dims(X_train, axis=2)\n",
        "x_valcnn = np.expand_dims(X_val, axis=2)\n",
        "\n",
        "print(x_traincnn.shape, x_valcnn.shape)\n",
        "\n",
        "model = Sequential()\n",
        "model.add(Conv1D(64, 5, padding='same',\n",
        "                    input_shape=(40, 1)))\n",
        "model.add(Activation('relu'))\n",
        "model.add(Dropout(0.2))\n",
        "model.add(Flatten())\n",
        "model.add(Dense(6))\n",
        "model.add(Activation('softmax'))\n",
        "\n",
        "print(model.summary)\n",
        "\n",
        "model.compile(loss='sparse_categorical_crossentropy',\n",
        "                optimizer='rmsprop',\n",
        "                metrics=['accuracy'])\n",
        "\n",
        "history = model.fit(x_traincnn, y_train,\n",
        "                        batch_size=16, epochs=50,\n",
        "                        validation_data=(x_valcnn, y_val))"
      ],
      "metadata": {
        "colab": {
          "base_uri": "https://localhost:8080/"
        },
        "id": "1qzcFmje4-Mu",
        "outputId": "97074a85-5a9e-4f1e-90e9-67754bda168a"
      },
      "execution_count": 9,
      "outputs": [
        {
          "output_type": "stream",
          "name": "stdout",
          "text": [
            "(2701, 40, 1) (593, 40, 1)\n",
            "<bound method Model.summary of <keras.engine.sequential.Sequential object at 0x7f67b974f350>>\n",
            "Epoch 1/50\n",
            "169/169 [==============================] - 1s 4ms/step - loss: 3.5816 - accuracy: 0.5217 - val_loss: 1.6621 - val_accuracy: 0.6678\n",
            "Epoch 2/50\n",
            "169/169 [==============================] - 1s 3ms/step - loss: 1.6327 - accuracy: 0.6698 - val_loss: 1.0567 - val_accuracy: 0.6965\n",
            "Epoch 3/50\n",
            "169/169 [==============================] - 1s 3ms/step - loss: 1.0380 - accuracy: 0.7116 - val_loss: 0.8217 - val_accuracy: 0.7369\n",
            "Epoch 4/50\n",
            "169/169 [==============================] - 1s 4ms/step - loss: 0.7937 - accuracy: 0.7386 - val_loss: 0.8872 - val_accuracy: 0.7420\n",
            "Epoch 5/50\n",
            "169/169 [==============================] - 1s 3ms/step - loss: 0.6556 - accuracy: 0.7723 - val_loss: 0.6888 - val_accuracy: 0.7589\n",
            "Epoch 6/50\n",
            "169/169 [==============================] - 1s 3ms/step - loss: 0.5978 - accuracy: 0.7864 - val_loss: 0.6551 - val_accuracy: 0.7690\n",
            "Epoch 7/50\n",
            "169/169 [==============================] - 1s 3ms/step - loss: 0.5544 - accuracy: 0.7949 - val_loss: 0.6149 - val_accuracy: 0.7757\n",
            "Epoch 8/50\n",
            "169/169 [==============================] - 1s 3ms/step - loss: 0.5457 - accuracy: 0.8023 - val_loss: 0.6202 - val_accuracy: 0.7841\n",
            "Epoch 9/50\n",
            "169/169 [==============================] - 1s 3ms/step - loss: 0.5181 - accuracy: 0.8086 - val_loss: 0.6396 - val_accuracy: 0.7690\n",
            "Epoch 10/50\n",
            "169/169 [==============================] - 1s 3ms/step - loss: 0.5154 - accuracy: 0.8067 - val_loss: 0.6390 - val_accuracy: 0.7690\n",
            "Epoch 11/50\n",
            "169/169 [==============================] - 1s 4ms/step - loss: 0.5047 - accuracy: 0.8190 - val_loss: 0.6637 - val_accuracy: 0.7808\n",
            "Epoch 12/50\n",
            "169/169 [==============================] - 1s 3ms/step - loss: 0.4881 - accuracy: 0.8153 - val_loss: 0.6418 - val_accuracy: 0.7943\n",
            "Epoch 13/50\n",
            "169/169 [==============================] - 1s 4ms/step - loss: 0.4806 - accuracy: 0.8215 - val_loss: 0.6025 - val_accuracy: 0.7740\n",
            "Epoch 14/50\n",
            "169/169 [==============================] - 1s 3ms/step - loss: 0.4628 - accuracy: 0.8364 - val_loss: 0.7146 - val_accuracy: 0.7605\n",
            "Epoch 15/50\n",
            "169/169 [==============================] - 1s 3ms/step - loss: 0.4611 - accuracy: 0.8264 - val_loss: 0.6169 - val_accuracy: 0.7943\n",
            "Epoch 16/50\n",
            "169/169 [==============================] - 1s 3ms/step - loss: 0.4598 - accuracy: 0.8349 - val_loss: 0.5996 - val_accuracy: 0.8044\n",
            "Epoch 17/50\n",
            "169/169 [==============================] - 1s 3ms/step - loss: 0.4592 - accuracy: 0.8338 - val_loss: 0.6923 - val_accuracy: 0.7825\n",
            "Epoch 18/50\n",
            "169/169 [==============================] - 1s 3ms/step - loss: 0.4410 - accuracy: 0.8301 - val_loss: 0.5887 - val_accuracy: 0.7960\n",
            "Epoch 19/50\n",
            "169/169 [==============================] - 1s 3ms/step - loss: 0.4355 - accuracy: 0.8360 - val_loss: 0.6353 - val_accuracy: 0.7875\n",
            "Epoch 20/50\n",
            "169/169 [==============================] - 1s 3ms/step - loss: 0.4318 - accuracy: 0.8434 - val_loss: 0.5614 - val_accuracy: 0.8010\n",
            "Epoch 21/50\n",
            "169/169 [==============================] - 1s 3ms/step - loss: 0.4277 - accuracy: 0.8430 - val_loss: 0.5784 - val_accuracy: 0.8027\n",
            "Epoch 22/50\n",
            "169/169 [==============================] - 1s 5ms/step - loss: 0.4112 - accuracy: 0.8508 - val_loss: 0.6757 - val_accuracy: 0.7825\n",
            "Epoch 23/50\n",
            "169/169 [==============================] - 1s 5ms/step - loss: 0.4174 - accuracy: 0.8486 - val_loss: 0.5911 - val_accuracy: 0.8010\n",
            "Epoch 24/50\n",
            "169/169 [==============================] - 1s 6ms/step - loss: 0.4149 - accuracy: 0.8489 - val_loss: 0.6298 - val_accuracy: 0.8010\n",
            "Epoch 25/50\n",
            "169/169 [==============================] - 1s 3ms/step - loss: 0.4059 - accuracy: 0.8497 - val_loss: 0.6599 - val_accuracy: 0.8061\n",
            "Epoch 26/50\n",
            "169/169 [==============================] - 1s 3ms/step - loss: 0.4032 - accuracy: 0.8486 - val_loss: 0.6603 - val_accuracy: 0.8061\n",
            "Epoch 27/50\n",
            "169/169 [==============================] - 1s 3ms/step - loss: 0.3978 - accuracy: 0.8526 - val_loss: 0.5841 - val_accuracy: 0.8111\n",
            "Epoch 28/50\n",
            "169/169 [==============================] - 1s 3ms/step - loss: 0.3904 - accuracy: 0.8619 - val_loss: 0.5799 - val_accuracy: 0.8094\n",
            "Epoch 29/50\n",
            "169/169 [==============================] - 1s 3ms/step - loss: 0.3880 - accuracy: 0.8567 - val_loss: 0.5941 - val_accuracy: 0.8010\n",
            "Epoch 30/50\n",
            "169/169 [==============================] - 1s 3ms/step - loss: 0.3858 - accuracy: 0.8597 - val_loss: 0.5807 - val_accuracy: 0.8179\n",
            "Epoch 31/50\n",
            "169/169 [==============================] - 1s 4ms/step - loss: 0.3824 - accuracy: 0.8667 - val_loss: 0.6339 - val_accuracy: 0.8145\n",
            "Epoch 32/50\n",
            "169/169 [==============================] - 1s 4ms/step - loss: 0.3871 - accuracy: 0.8597 - val_loss: 0.6103 - val_accuracy: 0.7960\n",
            "Epoch 33/50\n",
            "169/169 [==============================] - 1s 4ms/step - loss: 0.3937 - accuracy: 0.8575 - val_loss: 0.5813 - val_accuracy: 0.8145\n",
            "Epoch 34/50\n",
            "169/169 [==============================] - 1s 3ms/step - loss: 0.3709 - accuracy: 0.8593 - val_loss: 0.5537 - val_accuracy: 0.8128\n",
            "Epoch 35/50\n",
            "169/169 [==============================] - 1s 3ms/step - loss: 0.3688 - accuracy: 0.8604 - val_loss: 0.6747 - val_accuracy: 0.8027\n",
            "Epoch 36/50\n",
            "169/169 [==============================] - 1s 3ms/step - loss: 0.3590 - accuracy: 0.8741 - val_loss: 0.6142 - val_accuracy: 0.8162\n",
            "Epoch 37/50\n",
            "169/169 [==============================] - 1s 3ms/step - loss: 0.3640 - accuracy: 0.8667 - val_loss: 0.5820 - val_accuracy: 0.8263\n",
            "Epoch 38/50\n",
            "169/169 [==============================] - 1s 3ms/step - loss: 0.3570 - accuracy: 0.8649 - val_loss: 0.6086 - val_accuracy: 0.8196\n",
            "Epoch 39/50\n",
            "169/169 [==============================] - 1s 3ms/step - loss: 0.3553 - accuracy: 0.8741 - val_loss: 0.5496 - val_accuracy: 0.8179\n",
            "Epoch 40/50\n",
            "169/169 [==============================] - 1s 4ms/step - loss: 0.3642 - accuracy: 0.8693 - val_loss: 0.6368 - val_accuracy: 0.8061\n",
            "Epoch 41/50\n",
            "169/169 [==============================] - 1s 4ms/step - loss: 0.3557 - accuracy: 0.8741 - val_loss: 0.6300 - val_accuracy: 0.8145\n",
            "Epoch 42/50\n",
            "169/169 [==============================] - 1s 4ms/step - loss: 0.3507 - accuracy: 0.8671 - val_loss: 0.6604 - val_accuracy: 0.8061\n",
            "Epoch 43/50\n",
            "169/169 [==============================] - 1s 3ms/step - loss: 0.3586 - accuracy: 0.8649 - val_loss: 0.8169 - val_accuracy: 0.7909\n",
            "Epoch 44/50\n",
            "169/169 [==============================] - 1s 3ms/step - loss: 0.3614 - accuracy: 0.8678 - val_loss: 0.6479 - val_accuracy: 0.8145\n",
            "Epoch 45/50\n",
            "169/169 [==============================] - 1s 4ms/step - loss: 0.3489 - accuracy: 0.8782 - val_loss: 0.6269 - val_accuracy: 0.8078\n",
            "Epoch 46/50\n",
            "169/169 [==============================] - 1s 3ms/step - loss: 0.3577 - accuracy: 0.8808 - val_loss: 0.7046 - val_accuracy: 0.7841\n",
            "Epoch 47/50\n",
            "169/169 [==============================] - 1s 4ms/step - loss: 0.3546 - accuracy: 0.8678 - val_loss: 0.6187 - val_accuracy: 0.8179\n",
            "Epoch 48/50\n",
            "169/169 [==============================] - 1s 3ms/step - loss: 0.3200 - accuracy: 0.8830 - val_loss: 0.6272 - val_accuracy: 0.8044\n",
            "Epoch 49/50\n",
            "169/169 [==============================] - 1s 3ms/step - loss: 0.3492 - accuracy: 0.8778 - val_loss: 0.6059 - val_accuracy: 0.8128\n",
            "Epoch 50/50\n",
            "169/169 [==============================] - 1s 4ms/step - loss: 0.3401 - accuracy: 0.8712 - val_loss: 0.6053 - val_accuracy: 0.8212\n"
          ]
        }
      ]
    },
    {
      "cell_type": "code",
      "source": [
        "# Model plots\n",
        "plt.plot(history.history['accuracy'])\n",
        "plt.plot(history.history['val_accuracy'])\n",
        "plt.title('model accuracy')\n",
        "plt.ylabel('accuracy')\n",
        "plt.xlabel('epoch')\n",
        "plt.legend(['train', 'val'], loc='upper left')\n",
        "plt.show()\n",
        "\n",
        "plt.plot(history.history['loss'])\n",
        "plt.plot(history.history['val_loss'])\n",
        "plt.title('model loss')\n",
        "plt.ylabel('loss')\n",
        "plt.xlabel('epoch')\n",
        "plt.legend(['train', 'val'], loc='upper left')\n",
        "plt.show()"
      ],
      "metadata": {
        "colab": {
          "base_uri": "https://localhost:8080/",
          "height": 573
        },
        "id": "BhBa-U0y5GC9",
        "outputId": "e913729d-ff4d-4622-9745-c39871fc7933"
      },
      "execution_count": 10,
      "outputs": [
        {
          "output_type": "display_data",
          "data": {
            "text/plain": [
              "<Figure size 432x288 with 1 Axes>"
            ],
            "image/png": "[encoded data removed]"
          },
          "metadata": {
            "needs_background": "light"
          }
        },
        {
          "output_type": "display_data",
          "data": {
            "text/plain": [
              "<Figure size 432x288 with 1 Axes>"
            ],
            "image/png": "[encoded data removed]"
          },
          "metadata": {
            "needs_background": "light"
          }
        }
      ]
    }
  ],
  "metadata": {
    "colab": {
      "collapsed_sections": [],
      "name": "github_cnn_model.ipynb",
      "provenance": [],
      "authorship_tag": "ABX9TyO8hbpDq0qepI8HTMoCJh6m",
      "include_colab_link": true
    },
    "kernelspec": {
      "display_name": "Python 3",
      "name": "python3"
    },
    "language_info": {
      "name": "python"
    }
  },
  "nbformat": 4,
  "nbformat_minor": 0
}
