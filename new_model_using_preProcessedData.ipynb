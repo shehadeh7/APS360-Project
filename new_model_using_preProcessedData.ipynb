{
  "cells": [
    {
      "cell_type": "markdown",
      "metadata": {
        "id": "view-in-github",
        "colab_type": "text"
      },
      "source": [
        "<a href=\"https://colab.research.google.com/github/shehadeh7/APS360-Project/blob/main/new_model_using_preProcessedData.ipynb\" target=\"_parent\"><img src=\"https://colab.research.google.com/assets/colab-badge.svg\" alt=\"Open In Colab\"/></a>"
      ]
    },
    {
      "cell_type": "code",
      "source": [
        "import numpy as np\n",
        "import os\n",
        "import sklearn\n",
        "from sklearn.ensemble import RandomForestClassifier\n",
        "from sklearn.utils import shuffle"
      ],
      "metadata": {
        "id": "oXDirr09eM4P"
      },
      "execution_count": 1,
      "outputs": []
    },
    {
      "cell_type": "code",
      "source": [
        "!unzip processed_data.zip"
      ],
      "metadata": {
        "colab": {
          "base_uri": "https://localhost:8080/"
        },
        "id": "RJxCQ07oezQ5",
        "outputId": "6a7a014e-b112-4e80-a205-55e01db97c1a"
      },
      "execution_count": 2,
      "outputs": [
        {
          "output_type": "stream",
          "name": "stdout",
          "text": [
            "Archive:  processed_data.zip\n",
            "  inflating: x_data.npy              \n",
            "  inflating: y_data.npy              \n"
          ]
        }
      ]
    },
    {
      "cell_type": "code",
      "execution_count": 5,
      "metadata": {
        "id": "BDSOjJj3ntwq"
      },
      "outputs": [],
      "source": [
        "# load X and Y from npy files\n",
        "x_path = './x_data.npy'\n",
        "y_path = './y_data.npy'\n",
        "X = np.load(x_path)\n",
        "Y = np.load(y_path)"
      ]
    },
    {
      "cell_type": "code",
      "source": [
        "print(X.shape)\n",
        "print(Y.shape)"
      ],
      "metadata": {
        "colab": {
          "base_uri": "https://localhost:8080/"
        },
        "id": "W18XOwWDgNc6",
        "outputId": "b1c69f67-5f2f-47f4-b611-f599dc3412ae"
      },
      "execution_count": 6,
      "outputs": [
        {
          "output_type": "stream",
          "name": "stdout",
          "text": [
            "(11317, 352, 16)\n",
            "(11317,)\n"
          ]
        }
      ]
    },
    {
      "cell_type": "code",
      "source": [
        "# shuffle X and Y same way\n",
        "# random_state to seed the shuffle\n",
        "from sklearn.model_selection import train_test_split\n",
        "X_train, X_test, y_train, y_test = train_test_split(X, Y, test_size=0.2, random_state=1)"
      ],
      "metadata": {
        "id": "zKJXqcmcho67"
      },
      "execution_count": 11,
      "outputs": []
    },
    {
      "cell_type": "code",
      "execution_count": 13,
      "metadata": {
        "colab": {
          "base_uri": "https://localhost:8080/"
        },
        "id": "rT0A8B6NdK77",
        "outputId": "66dbac89-9790-45ee-dde8-3ace2f2e9b1a"
      },
      "outputs": [
        {
          "output_type": "execute_result",
          "data": {
            "text/plain": [
              "RandomForestClassifier(criterion='entropy')"
            ]
          },
          "metadata": {},
          "execution_count": 13
        }
      ],
      "source": [
        "#Create a Gaussian Classifier\n",
        "clf=RandomForestClassifier(criterion='entropy')\n",
        "\n",
        "training_split = 0.8 # use 80% of data for training\n",
        "\n",
        "#Train the model using the training sets y_pred=clf.predict(X_test)\n",
        "# Flatten X to a 2d array for random forest\n",
        "nsamples, nx, ny = X_train.shape\n",
        "X_train_2d = X_train.reshape(nsamples, nx*ny)\n",
        "clf.fit(X_train_2d, y_train)"
      ]
    },
    {
      "cell_type": "code",
      "execution_count": 14,
      "metadata": {
        "id": "B2h4rCf6ebC4"
      },
      "outputs": [],
      "source": [
        "# Perform prediction\n",
        "t_samples, tx, ty = X_test.shape\n",
        "X_test_2d = X_test.reshape(t_samples, tx*ty)\n",
        "y_pred=clf.predict(X_test_2d)"
      ]
    },
    {
      "cell_type": "code",
      "source": [
        "from sklearn.metrics import confusion_matrix\n",
        "\n",
        "#Generate the confusion matrix\n",
        "cf_matrix = confusion_matrix(y_test, y_pred)\n",
        "\n",
        "print(cf_matrix)"
      ],
      "metadata": {
        "colab": {
          "base_uri": "https://localhost:8080/"
        },
        "id": "D6MIa_kzjKoa",
        "outputId": "edd1f802-86cd-4816-8d28-1f0fbc103357"
      },
      "execution_count": 15,
      "outputs": [
        {
          "output_type": "stream",
          "name": "stdout",
          "text": [
            "[[211  33  42  40  26  26]\n",
            " [ 21 260  13  47  16  21]\n",
            " [ 61  11 258  32  11   7]\n",
            " [ 43  66  36 191  24  27]\n",
            " [ 75  81  30  50 127  23]\n",
            " [ 44  72  16  37  21 165]]\n"
          ]
        }
      ]
    },
    {
      "cell_type": "code",
      "source": [
        "# Plot confusion matrix\n",
        "import seaborn as sns\n",
        "import matplotlib.pyplot as plt\n",
        "\n",
        "ax = sns.heatmap(cf_matrix, annot=True, cmap='Blues')\n",
        "\n",
        "ax.set_title('Emotion Confusion Matrix with labels\\n\\n');\n",
        "ax.set_xlabel('\\nPredicted Values')\n",
        "ax.set_ylabel('Actual Values ');\n",
        "\n",
        "## Ticket labels - List must be in alphabetical order\n",
        "ax.xaxis.set_ticklabels(['happy', 'sad', 'angry', 'disgust', 'fear', 'neutral'])\n",
        "ax.yaxis.set_ticklabels(['happy', 'sad', 'angry', 'disgust', 'fear', 'neutral'])\n",
        "\n",
        "## Display the visualization of the Confusion Matrix.\n",
        "plt.show()"
      ],
      "metadata": {
        "colab": {
          "base_uri": "https://localhost:8080/",
          "height": 337
        },
        "id": "zxNABkUsjRfS",
        "outputId": "3774986e-eb38-4ff8-9a52-8a27680855f9"
      },
      "execution_count": 16,
      "outputs": [
        {
          "output_type": "display_data",
          "data": {
            "image/png": "[encoded data removed]",
            "text/plain": [
              "<Figure size 432x288 with 2 Axes>"
            ]
          },
          "metadata": {
            "needs_background": "light"
          }
        }
      ]
    },
    {
      "cell_type": "code",
      "source": [
        "# Report useful metrics\n",
        "ascore = sklearn.metrics.accuracy_score(y_test, y_pred)\n",
        "rscore = sklearn.metrics.recall_score(y_test, y_pred, average='macro')\n",
        "pscore = sklearn.metrics.precision_score(y_test, y_pred, average='macro')\n",
        "fscore = sklearn.metrics.f1_score(y_test, y_pred, average='macro')\n",
        "print('Accuracy:{}, Precision:{}, Recall:{}, F1:{}'.format(ascore, pscore, rscore, fscore))"
      ],
      "metadata": {
        "colab": {
          "base_uri": "https://localhost:8080/"
        },
        "id": "vHDw8FhHlFvM",
        "outputId": "3ad757dc-fb59-48bc-a3f3-44828db3832b"
      },
      "execution_count": 18,
      "outputs": [
        {
          "output_type": "stream",
          "name": "stdout",
          "text": [
            "Accuracy:0.5353356890459364, Precision:0.5454947347133173, Recall:0.5353872404280337, F1:0.5302247678474761\n"
          ]
        }
      ]
    },
    {
      "cell_type": "code",
      "source": [
        "import tensorflow as tf\n",
        "\n",
        "X_train, X_val, y_train, y_val = train_test_split(X_train, y_train, test_size=0.25, random_state=1) # 0.25 x 0.8 = 0.2\n",
        "\n",
        "# Create a base model -- sequential, functional, or subclass.\n",
        "model = tf.keras.Sequential([\n",
        "    tf.keras.Input((nx, ny), name='feature'),\n",
        "    tf.keras.layers.Flatten(),\n",
        "    tf.keras.layers.Dense(256, activation=tf.nn.relu),\n",
        "    tf.keras.layers.Dense(512, activation=tf.nn.relu),\n",
        "    tf.keras.layers.Dense(6, activation=tf.nn.softmax)\n",
        "])\n",
        "\n",
        "# # Wrap the model with adversarial regularization.\n",
        "# adv_config = nsl.configs.make_adv_reg_config(multiplier=0.2, adv_step_size=0.05)\n",
        "# adv_model = nsl.keras.AdversarialRegularization(model, adv_config=adv_config)\n",
        "\n",
        "# Compile, train, and evaluate.\n",
        "rms = tf.keras.optimizers.RMSprop(learning_rate=0.0001)\n",
        "\n",
        "# Compile, train, and evaluate.\n",
        "model.compile(optimizer=rms,\n",
        "                  loss='sparse_categorical_crossentropy',\n",
        "                  metrics=['accuracy'])\n",
        "model.fit(X_train, y_train, batch_size=32, epochs=30, validation_data=(X_val, y_val))\n",
        "#model.evaluate(X_test, y_test)"
      ],
      "metadata": {
        "colab": {
          "base_uri": "https://localhost:8080/"
        },
        "id": "PsWi3gRRmFoV",
        "outputId": "7397c2df-4f56-4daf-d031-52d81b22a299"
      },
      "execution_count": null,
      "outputs": [
        {
          "output_type": "stream",
          "name": "stdout",
          "text": [
            "Epoch 1/30\n",
            "213/213 [==============================] - 4s 14ms/step - loss: 23.4124 - accuracy: 0.2833 - val_loss: 36.7933 - val_accuracy: 0.1988\n",
            "Epoch 2/30\n",
            "213/213 [==============================] - 3s 14ms/step - loss: 9.9250 - accuracy: 0.3731 - val_loss: 6.4997 - val_accuracy: 0.3653\n",
            "Epoch 3/30\n",
            "213/213 [==============================] - 3s 14ms/step - loss: 4.9701 - accuracy: 0.4146 - val_loss: 5.9096 - val_accuracy: 0.3516\n",
            "Epoch 4/30\n",
            "213/213 [==============================] - 3s 13ms/step - loss: 3.0779 - accuracy: 0.4336 - val_loss: 2.8233 - val_accuracy: 0.4103\n",
            "Epoch 5/30\n",
            "213/213 [==============================] - 3s 14ms/step - loss: 2.3307 - accuracy: 0.4607 - val_loss: 3.0191 - val_accuracy: 0.3644\n",
            "Epoch 6/30\n",
            "213/213 [==============================] - 3s 15ms/step - loss: 1.9455 - accuracy: 0.4705 - val_loss: 2.5118 - val_accuracy: 0.3922\n",
            "Epoch 7/30\n",
            "213/213 [==============================] - 3s 15ms/step - loss: 1.6867 - accuracy: 0.4830 - val_loss: 3.1973 - val_accuracy: 0.3405\n",
            "Epoch 8/30\n",
            "213/213 [==============================] - 3s 14ms/step - loss: 1.5925 - accuracy: 0.4933 - val_loss: 2.8955 - val_accuracy: 0.3719\n",
            "Epoch 9/30\n",
            "213/213 [==============================] - 3s 14ms/step - loss: 1.4581 - accuracy: 0.5223 - val_loss: 2.2567 - val_accuracy: 0.4320\n",
            "Epoch 10/30\n",
            "213/213 [==============================] - 3s 13ms/step - loss: 1.3879 - accuracy: 0.5297 - val_loss: 1.8614 - val_accuracy: 0.4655\n",
            "Epoch 11/30\n",
            "213/213 [==============================] - 3s 13ms/step - loss: 1.3161 - accuracy: 0.5434 - val_loss: 2.1577 - val_accuracy: 0.4161\n",
            "Epoch 12/30\n",
            "213/213 [==============================] - 3s 13ms/step - loss: 1.2490 - accuracy: 0.5497 - val_loss: 2.3296 - val_accuracy: 0.4448\n",
            "Epoch 13/30\n",
            "213/213 [==============================] - 3s 13ms/step - loss: 1.2409 - accuracy: 0.5527 - val_loss: 2.9180 - val_accuracy: 0.4024\n",
            "Epoch 14/30\n",
            "213/213 [==============================] - 3s 13ms/step - loss: 1.2069 - accuracy: 0.5603 - val_loss: 2.5286 - val_accuracy: 0.4496\n",
            "Epoch 15/30\n",
            "213/213 [==============================] - 3s 13ms/step - loss: 1.1838 - accuracy: 0.5671 - val_loss: 2.4584 - val_accuracy: 0.4231\n",
            "Epoch 16/30\n",
            "213/213 [==============================] - 3s 13ms/step - loss: 1.1349 - accuracy: 0.5799 - val_loss: 2.3929 - val_accuracy: 0.3966\n",
            "Epoch 17/30\n",
            "213/213 [==============================] - 3s 13ms/step - loss: 1.1086 - accuracy: 0.5896 - val_loss: 1.7931 - val_accuracy: 0.4801\n",
            "Epoch 18/30\n",
            "213/213 [==============================] - 3s 15ms/step - loss: 1.0852 - accuracy: 0.5935 - val_loss: 2.0494 - val_accuracy: 0.4501\n",
            "Epoch 19/30\n",
            "213/213 [==============================] - 3s 13ms/step - loss: 1.0668 - accuracy: 0.6008 - val_loss: 2.0754 - val_accuracy: 0.4527\n",
            "Epoch 20/30\n",
            "213/213 [==============================] - 3s 13ms/step - loss: 1.0572 - accuracy: 0.6091 - val_loss: 2.1933 - val_accuracy: 0.4563\n",
            "Epoch 21/30\n",
            "213/213 [==============================] - 3s 13ms/step - loss: 1.0546 - accuracy: 0.6154 - val_loss: 2.2678 - val_accuracy: 0.4717\n",
            "Epoch 22/30\n",
            "213/213 [==============================] - 3s 13ms/step - loss: 0.9839 - accuracy: 0.6259 - val_loss: 2.0807 - val_accuracy: 0.4594\n",
            "Epoch 23/30\n",
            "213/213 [==============================] - 3s 13ms/step - loss: 1.0097 - accuracy: 0.6266 - val_loss: 2.2739 - val_accuracy: 0.4576\n",
            "Epoch 24/30\n",
            "213/213 [==============================] - 3s 13ms/step - loss: 0.9692 - accuracy: 0.6382 - val_loss: 1.9528 - val_accuracy: 0.4850\n",
            "Epoch 25/30\n",
            "182/213 [========================>.....] - ETA: 0s - loss: 0.9313 - accuracy: 0.6411"
          ]
        }
      ]
    }
  ],
  "metadata": {
    "colab": {
      "collapsed_sections": [],
      "name": "models_with_postProcessedData.ipynb",
      "provenance": [],
      "authorship_tag": "ABX9TyMIK6XshV3hEv4ZSyRubdBF",
      "include_colab_link": true
    },
    "kernelspec": {
      "display_name": "Python 3",
      "name": "python3"
    },
    "language_info": {
      "name": "python"
    }
  },
  "nbformat": 4,
  "nbformat_minor": 0
}