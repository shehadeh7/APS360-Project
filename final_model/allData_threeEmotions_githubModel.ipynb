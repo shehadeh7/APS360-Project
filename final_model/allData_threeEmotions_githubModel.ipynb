{
  "cells": [
    {
      "cell_type": "code",
      "source": [
        "import numpy as np\n",
        "import os\n",
        "import sklearn\n",
        "from sklearn.ensemble import RandomForestClassifier\n",
        "from sklearn.utils import shuffle\n",
        "from sklearn.metrics import confusion_matrix\n",
        "import librosa"
      ],
      "metadata": {
        "id": "Gzrmh1cf4R3E"
      },
      "execution_count": null,
      "outputs": []
    },
    {
      "cell_type": "code",
      "source": [
        "import tensorflow as tf\n",
        "from keras.layers import Dense\n",
        "from keras.layers import Conv1D\n",
        "from keras.layers import Flatten\n",
        "from keras.layers import Dropout\n",
        "from keras.layers import Activation\n",
        "from keras.layers import BatchNormalization\n",
        "from keras.layers import MaxPooling1D\n",
        "from keras.layers import Bidirectional\n",
        "from keras.layers import LeakyReLU\n",
        "from keras.models import Sequential\n",
        "from sklearn.model_selection import train_test_split\n",
        "import matplotlib.pyplot as plt"
      ],
      "metadata": {
        "id": "5wqTlYAj4rSe"
      },
      "execution_count": null,
      "outputs": []
    },
    {
      "cell_type": "code",
      "source": [
        "!unzip allData_threeEmotions.zip"
      ],
      "metadata": {
        "colab": {
          "base_uri": "https://localhost:8080/"
        },
        "id": "9XQaOTqX4SVs",
        "outputId": "9b8689f2-5035-4883-8026-3be1bb849dd2"
      },
      "execution_count": null,
      "outputs": [
        {
          "output_type": "stream",
          "name": "stdout",
          "text": [
            "Archive:  allData_threeEmotions.zip\n",
            "  inflating: x_data.npy              \n",
            "  inflating: y_data.npy              \n"
          ]
        }
      ]
    },
    {
      "cell_type": "code",
      "source": [
        "# load X and Y from npy files\n",
        "x_path = './x_data.npy'\n",
        "y_path = './y_data.npy'\n",
        "X = np.load(x_path)\n",
        "Y = np.load(y_path)\n",
        "\n",
        "print(X.shape)\n",
        "print(Y.shape)"
      ],
      "metadata": {
        "colab": {
          "base_uri": "https://localhost:8080/"
        },
        "id": "vo02cve-4YUC",
        "outputId": "a9882a32-05ab-4ed6-f51a-38849d17a4ab"
      },
      "execution_count": null,
      "outputs": [
        {
          "output_type": "stream",
          "name": "stdout",
          "text": [
            "(5768, 40)\n",
            "(5768,)\n"
          ]
        }
      ]
    },
    {
      "cell_type": "code",
      "source": [
        "X_train, X_val, y_train, y_val = train_test_split(X, Y, test_size=0.20, random_state=42, shuffle=True)\n",
        "# X_train, X_val, y_train, y_val = train_test_split(X_train_0, y_train_0, test_size=0.18, random_state=42) # 0.18 x 0.85 = 0.15"
      ],
      "metadata": {
        "id": "fyCleU2H4p0v"
      },
      "execution_count": null,
      "outputs": []
    },
    {
      "cell_type": "code",
      "source": [
        "print(X_train.shape, X_val.shape)"
      ],
      "metadata": {
        "colab": {
          "base_uri": "https://localhost:8080/"
        },
        "id": "J8fMsVfY4vFE",
        "outputId": "6fe7ee55-3895-4f08-8993-d7dce1dff9d6"
      },
      "execution_count": null,
      "outputs": [
        {
          "output_type": "stream",
          "name": "stdout",
          "text": [
            "(4614, 40) (1154, 40)\n"
          ]
        }
      ]
    },
    {
      "cell_type": "code",
      "source": [
        "# count occurences of each emotion\n",
        "train_count = [0]*3\n",
        "val_count = [0]*3\n",
        "\n",
        "for e in y_train:\n",
        "    train_count[e] += 1\n",
        "\n",
        "for e in y_val:\n",
        "    val_count[e] += 1\n",
        "\n",
        "print(train_count, val_count)"
      ],
      "metadata": {
        "colab": {
          "base_uri": "https://localhost:8080/"
        },
        "id": "7MyQmEtP4wr7",
        "outputId": "23d4c88c-e1be-458e-c99f-174286727b20"
      },
      "execution_count": null,
      "outputs": [
        {
          "output_type": "stream",
          "name": "stdout",
          "text": [
            "[1546, 1530, 1538] [377, 392, 385]\n"
          ]
        }
      ]
    },
    {
      "cell_type": "code",
      "source": [
        "from matplotlib import pyplot\n",
        "\n",
        "fig = plt.figure()\n",
        "c = ['tab:green', 'tab:blue', 'tab:red']\n",
        "\n",
        "emos = ['happy', 'sad', 'angry']\n",
        "plt.bar(emos, train_count, color=c)\n",
        "plt.xlabel(\"Emotion class\")\n",
        "plt.ylabel(\"Count\")\n",
        "plt.title(\"Emotion distribution in training data\")\n",
        "plt.show()"
      ],
      "metadata": {
        "colab": {
          "base_uri": "https://localhost:8080/",
          "height": 295
        },
        "id": "wZEbHnp248Hv",
        "outputId": "3305334a-e335-4271-9120-4c0da528eead"
      },
      "execution_count": null,
      "outputs": [
        {
          "output_type": "display_data",
          "data": {
            "text/plain": [
              "<Figure size 432x288 with 1 Axes>"
            ],
            "image/png": "[encoded data removed]"
          },
          "metadata": {
            "needs_background": "light"
          }
        }
      ]
    },
    {
      "cell_type": "code",
      "source": [
        "from matplotlib import pyplot\n",
        "\n",
        "fig = plt.figure()\n",
        "\n",
        "plt.bar(emos, val_count, color=c)\n",
        "plt.xlabel(\"Emotion class\")\n",
        "plt.ylabel(\"Count\")\n",
        "plt.title(\"Emotion distribution in validation data\")\n",
        "plt.show()"
      ],
      "metadata": {
        "id": "Kmopgi6C55Tw",
        "outputId": "b8924376-d6e1-4786-f578-0aef49324ff2",
        "colab": {
          "base_uri": "https://localhost:8080/",
          "height": 295
        }
      },
      "execution_count": null,
      "outputs": [
        {
          "output_type": "display_data",
          "data": {
            "text/plain": [
              "<Figure size 432x288 with 1 Axes>"
            ],
            "image/png": "[encoded data removed]"
          },
          "metadata": {
            "needs_background": "light"
          }
        }
      ]
    },
    {
      "cell_type": "code",
      "source": [
        "#####################################################\n",
        "#                 Baseline Model                    #\n",
        "#####################################################\n",
        "\n",
        "#Create a Gaussian Classifier\n",
        "clf=RandomForestClassifier(criterion='entropy')\n",
        "clf.fit(X_train, y_train)"
      ],
      "metadata": {
        "colab": {
          "base_uri": "https://localhost:8080/"
        },
        "id": "UxnSCOJKLA96",
        "outputId": "fbd7caf6-947d-4f0c-9eae-aec86f14fd25"
      },
      "execution_count": null,
      "outputs": [
        {
          "output_type": "execute_result",
          "data": {
            "text/plain": [
              "RandomForestClassifier(criterion='entropy')"
            ]
          },
          "metadata": {},
          "execution_count": 87
        }
      ]
    },
    {
      "cell_type": "code",
      "source": [
        "y_pred=clf.predict(X_2)"
      ],
      "metadata": {
        "id": "ALUoUlhfLM8t"
      },
      "execution_count": null,
      "outputs": []
    },
    {
      "cell_type": "code",
      "source": [
        "# Report useful metrics\n",
        "ascore = sklearn.metrics.accuracy_score(Y_2, y_pred)\n",
        "rscore = sklearn.metrics.recall_score(Y_2, y_pred, average='macro')\n",
        "pscore = sklearn.metrics.precision_score(Y_2, y_pred, average='macro')\n",
        "fscore = sklearn.metrics.f1_score(Y_2, y_pred, average='macro')\n",
        "print('Accuracy:{}, Precision:{}, Recall:{}, F1:{}'.format(ascore, pscore, rscore, fscore))"
      ],
      "metadata": {
        "colab": {
          "base_uri": "https://localhost:8080/"
        },
        "id": "bliDnJqDLe_s",
        "outputId": "07bf79b7-56db-4312-b88d-d9c9e8a1f37e"
      },
      "execution_count": null,
      "outputs": [
        {
          "output_type": "stream",
          "name": "stdout",
          "text": [
            "Accuracy:0.4861111111111111, Precision:0.5795965586180559, Recall:0.4861111111111111, F1:0.4576262123523276\n"
          ]
        }
      ]
    },
    {
      "cell_type": "code",
      "source": [
        "!pip install neural-structured-learning"
      ],
      "metadata": {
        "colab": {
          "base_uri": "https://localhost:8080/"
        },
        "id": "KX84o_t2aSoJ",
        "outputId": "714e95a1-0d97-44ea-8257-2200705a7e2f"
      },
      "execution_count": null,
      "outputs": [
        {
          "output_type": "stream",
          "name": "stdout",
          "text": [
            "Collecting neural-structured-learning\n",
            "  Downloading neural_structured_learning-1.3.1-py2.py3-none-any.whl (120 kB)\n",
            "\u001b[?25l\r\u001b[K     |██▊                             | 10 kB 17.8 MB/s eta 0:00:01\r\u001b[K     |█████▍                          | 20 kB 14.6 MB/s eta 0:00:01\r\u001b[K     |████████▏                       | 30 kB 10.5 MB/s eta 0:00:01\r\u001b[K     |██████████▉                     | 40 kB 9.5 MB/s eta 0:00:01\r\u001b[K     |█████████████▋                  | 51 kB 6.3 MB/s eta 0:00:01\r\u001b[K     |████████████████▎               | 61 kB 7.3 MB/s eta 0:00:01\r\u001b[K     |███████████████████             | 71 kB 7.0 MB/s eta 0:00:01\r\u001b[K     |█████████████████████▊          | 81 kB 6.2 MB/s eta 0:00:01\r\u001b[K     |████████████████████████▌       | 92 kB 6.8 MB/s eta 0:00:01\r\u001b[K     |███████████████████████████▏    | 102 kB 7.4 MB/s eta 0:00:01\r\u001b[K     |██████████████████████████████  | 112 kB 7.4 MB/s eta 0:00:01\r\u001b[K     |████████████████████████████████| 120 kB 7.4 MB/s \n",
            "\u001b[?25hRequirement already satisfied: absl-py in /usr/local/lib/python3.7/dist-packages (from neural-structured-learning) (1.0.0)\n",
            "Requirement already satisfied: attrs in /usr/local/lib/python3.7/dist-packages (from neural-structured-learning) (21.4.0)\n",
            "Requirement already satisfied: six in /usr/local/lib/python3.7/dist-packages (from neural-structured-learning) (1.15.0)\n",
            "Requirement already satisfied: scipy in /usr/local/lib/python3.7/dist-packages (from neural-structured-learning) (1.4.1)\n",
            "Requirement already satisfied: numpy>=1.13.3 in /usr/local/lib/python3.7/dist-packages (from scipy->neural-structured-learning) (1.21.5)\n",
            "Installing collected packages: neural-structured-learning\n",
            "Successfully installed neural-structured-learning-1.3.1\n"
          ]
        }
      ]
    },
    {
      "cell_type": "code",
      "source": [
        "import neural_structured_learning as nsl\n",
        "import keras.layers as layers"
      ],
      "metadata": {
        "id": "sU9vtWewaT5x"
      },
      "execution_count": null,
      "outputs": []
    },
    {
      "cell_type": "code",
      "source": [
        "#####################################################\n",
        "#                 Model Section                     #\n",
        "#####################################################\n",
        "\n",
        "x_traincnn = np.expand_dims(X_train, axis=2)\n",
        "x_valcnn = np.expand_dims(X_val, axis=2)\n",
        "\n",
        "print(x_traincnn.shape, x_valcnn.shape)\n",
        "\n",
        "# model = Sequential()\n",
        "# model.add(BatchNormalization())\n",
        "# model.add(Conv1D(64, 5, padding='same',\n",
        "#                     input_shape=(40, 1)))\n",
        "# model.add(Activation('relu'))\n",
        "# model.add(Dropout(0.2))\n",
        "# model.add(Flatten())\n",
        "# model.add(Dense(3))\n",
        "# model.add(Activation('softmax'))\n",
        "model = Sequential()\n",
        "model.add(BatchNormalization())\n",
        "model.add(Conv1D(32, 3, padding='same',\n",
        "                    input_shape=(40, 1)))\n",
        "model.add(Activation('relu'))\n",
        "model.add(tf.keras.layers.MaxPool1D())\n",
        "model.add(Conv1D(64, 3, padding='same'))\n",
        "model.add(Dropout(0.2))\n",
        "model.add(tf.keras.layers.MaxPool1D())\n",
        "model.add(Conv1D(128, 3, padding='same'))\n",
        "model.add(Dropout(0.2))\n",
        "model.add(Flatten())\n",
        "model.add(Dense(3))\n",
        "model.add(Activation('softmax'))\n",
        "\n",
        "print(model.summary)\n",
        "\n",
        "model.compile(loss='sparse_categorical_crossentropy',\n",
        "                optimizer='rmsprop',\n",
        "                metrics=['accuracy'])\n",
        "\n",
        "history = model.fit(x_traincnn, y_train,\n",
        "                        batch_size=64, epochs=60,\n",
        "                        validation_data=(x_valcnn, y_val))"
      ],
      "metadata": {
        "colab": {
          "base_uri": "https://localhost:8080/"
        },
        "id": "1qzcFmje4-Mu",
        "outputId": "1738a59b-5607-4674-91d8-ad7049fd1ac3"
      },
      "execution_count": null,
      "outputs": [
        {
          "output_type": "stream",
          "name": "stdout",
          "text": [
            "(4614, 40, 1) (1154, 40, 1)\n",
            "<bound method Model.summary of <keras.engine.sequential.Sequential object at 0x7f4f698caa10>>\n",
            "Epoch 1/60\n",
            "73/73 [==============================] - 3s 20ms/step - loss: 0.9307 - accuracy: 0.5479 - val_loss: 1.1699 - val_accuracy: 0.5321\n",
            "Epoch 2/60\n",
            "73/73 [==============================] - 1s 18ms/step - loss: 0.7827 - accuracy: 0.6385 - val_loss: 0.8037 - val_accuracy: 0.6490\n",
            "Epoch 3/60\n",
            "73/73 [==============================] - 1s 16ms/step - loss: 0.7504 - accuracy: 0.6569 - val_loss: 0.8357 - val_accuracy: 0.6395\n",
            "Epoch 4/60\n",
            "73/73 [==============================] - 1s 18ms/step - loss: 0.7258 - accuracy: 0.6686 - val_loss: 0.8238 - val_accuracy: 0.6447\n",
            "Epoch 5/60\n",
            "73/73 [==============================] - 1s 18ms/step - loss: 0.7111 - accuracy: 0.6784 - val_loss: 0.7589 - val_accuracy: 0.6690\n",
            "Epoch 6/60\n",
            "73/73 [==============================] - 1s 17ms/step - loss: 0.6971 - accuracy: 0.6944 - val_loss: 0.7322 - val_accuracy: 0.6698\n",
            "Epoch 7/60\n",
            "73/73 [==============================] - 1s 17ms/step - loss: 0.6803 - accuracy: 0.6979 - val_loss: 0.7733 - val_accuracy: 0.6733\n",
            "Epoch 8/60\n",
            "73/73 [==============================] - 1s 16ms/step - loss: 0.6721 - accuracy: 0.7031 - val_loss: 1.0476 - val_accuracy: 0.6075\n",
            "Epoch 9/60\n",
            "73/73 [==============================] - 1s 16ms/step - loss: 0.6758 - accuracy: 0.7009 - val_loss: 0.8822 - val_accuracy: 0.6005\n",
            "Epoch 10/60\n",
            "73/73 [==============================] - 1s 16ms/step - loss: 0.6624 - accuracy: 0.7072 - val_loss: 0.8147 - val_accuracy: 0.6759\n",
            "Epoch 11/60\n",
            "73/73 [==============================] - 1s 17ms/step - loss: 0.6531 - accuracy: 0.7141 - val_loss: 0.6404 - val_accuracy: 0.7227\n",
            "Epoch 12/60\n",
            "73/73 [==============================] - 1s 16ms/step - loss: 0.6481 - accuracy: 0.7076 - val_loss: 0.7120 - val_accuracy: 0.6664\n",
            "Epoch 13/60\n",
            "73/73 [==============================] - 1s 16ms/step - loss: 0.6368 - accuracy: 0.7219 - val_loss: 0.7334 - val_accuracy: 0.6768\n",
            "Epoch 14/60\n",
            "73/73 [==============================] - 1s 17ms/step - loss: 0.6339 - accuracy: 0.7163 - val_loss: 0.8159 - val_accuracy: 0.6205\n",
            "Epoch 15/60\n",
            "73/73 [==============================] - 1s 17ms/step - loss: 0.6201 - accuracy: 0.7297 - val_loss: 0.7583 - val_accuracy: 0.6872\n",
            "Epoch 16/60\n",
            "73/73 [==============================] - 1s 17ms/step - loss: 0.6266 - accuracy: 0.7261 - val_loss: 0.7814 - val_accuracy: 0.6889\n",
            "Epoch 17/60\n",
            "73/73 [==============================] - 1s 16ms/step - loss: 0.6125 - accuracy: 0.7310 - val_loss: 0.6780 - val_accuracy: 0.7201\n",
            "Epoch 18/60\n",
            "73/73 [==============================] - 1s 17ms/step - loss: 0.6136 - accuracy: 0.7334 - val_loss: 0.6613 - val_accuracy: 0.7028\n",
            "Epoch 19/60\n",
            "73/73 [==============================] - 1s 17ms/step - loss: 0.6079 - accuracy: 0.7336 - val_loss: 0.6247 - val_accuracy: 0.7210\n",
            "Epoch 20/60\n",
            "73/73 [==============================] - 1s 16ms/step - loss: 0.6046 - accuracy: 0.7365 - val_loss: 0.5623 - val_accuracy: 0.7496\n",
            "Epoch 21/60\n",
            "73/73 [==============================] - 1s 18ms/step - loss: 0.5995 - accuracy: 0.7317 - val_loss: 0.7759 - val_accuracy: 0.6785\n",
            "Epoch 22/60\n",
            "73/73 [==============================] - 1s 16ms/step - loss: 0.5973 - accuracy: 0.7382 - val_loss: 0.6396 - val_accuracy: 0.7331\n",
            "Epoch 23/60\n",
            "73/73 [==============================] - 1s 17ms/step - loss: 0.5964 - accuracy: 0.7365 - val_loss: 0.6021 - val_accuracy: 0.7400\n",
            "Epoch 24/60\n",
            "73/73 [==============================] - 1s 18ms/step - loss: 0.5854 - accuracy: 0.7406 - val_loss: 0.9962 - val_accuracy: 0.5485\n",
            "Epoch 25/60\n",
            "73/73 [==============================] - 1s 16ms/step - loss: 0.5965 - accuracy: 0.7336 - val_loss: 0.5704 - val_accuracy: 0.7383\n",
            "Epoch 26/60\n",
            "73/73 [==============================] - 1s 16ms/step - loss: 0.5971 - accuracy: 0.7393 - val_loss: 0.5668 - val_accuracy: 0.7244\n",
            "Epoch 27/60\n",
            "73/73 [==============================] - 1s 16ms/step - loss: 0.5746 - accuracy: 0.7512 - val_loss: 0.6253 - val_accuracy: 0.7279\n",
            "Epoch 28/60\n",
            "73/73 [==============================] - 1s 16ms/step - loss: 0.5793 - accuracy: 0.7440 - val_loss: 0.6611 - val_accuracy: 0.6889\n",
            "Epoch 29/60\n",
            "73/73 [==============================] - 1s 16ms/step - loss: 0.5693 - accuracy: 0.7553 - val_loss: 0.8638 - val_accuracy: 0.6083\n",
            "Epoch 30/60\n",
            "73/73 [==============================] - 1s 16ms/step - loss: 0.5774 - accuracy: 0.7449 - val_loss: 0.6241 - val_accuracy: 0.7374\n",
            "Epoch 31/60\n",
            "73/73 [==============================] - 1s 18ms/step - loss: 0.5742 - accuracy: 0.7434 - val_loss: 0.6296 - val_accuracy: 0.7253\n",
            "Epoch 32/60\n",
            "73/73 [==============================] - 1s 16ms/step - loss: 0.5689 - accuracy: 0.7542 - val_loss: 0.7183 - val_accuracy: 0.7071\n",
            "Epoch 33/60\n",
            "73/73 [==============================] - 1s 17ms/step - loss: 0.5744 - accuracy: 0.7445 - val_loss: 0.7470 - val_accuracy: 0.6854\n",
            "Epoch 34/60\n",
            "73/73 [==============================] - 1s 17ms/step - loss: 0.5649 - accuracy: 0.7557 - val_loss: 0.6208 - val_accuracy: 0.7071\n",
            "Epoch 35/60\n",
            "73/73 [==============================] - 1s 17ms/step - loss: 0.5649 - accuracy: 0.7488 - val_loss: 0.7242 - val_accuracy: 0.7088\n",
            "Epoch 36/60\n",
            "73/73 [==============================] - 2s 23ms/step - loss: 0.5684 - accuracy: 0.7583 - val_loss: 0.6517 - val_accuracy: 0.7279\n",
            "Epoch 37/60\n",
            "73/73 [==============================] - 1s 18ms/step - loss: 0.5616 - accuracy: 0.7542 - val_loss: 0.6582 - val_accuracy: 0.7288\n",
            "Epoch 38/60\n",
            "73/73 [==============================] - 1s 18ms/step - loss: 0.5502 - accuracy: 0.7536 - val_loss: 0.5872 - val_accuracy: 0.7244\n",
            "Epoch 39/60\n",
            "73/73 [==============================] - 1s 16ms/step - loss: 0.5551 - accuracy: 0.7514 - val_loss: 0.5426 - val_accuracy: 0.7522\n",
            "Epoch 40/60\n",
            "73/73 [==============================] - 1s 18ms/step - loss: 0.5551 - accuracy: 0.7586 - val_loss: 0.5312 - val_accuracy: 0.7660\n",
            "Epoch 41/60\n",
            "73/73 [==============================] - 1s 17ms/step - loss: 0.5488 - accuracy: 0.7599 - val_loss: 0.7579 - val_accuracy: 0.6915\n",
            "Epoch 42/60\n",
            "73/73 [==============================] - 1s 18ms/step - loss: 0.5628 - accuracy: 0.7475 - val_loss: 0.7745 - val_accuracy: 0.6958\n",
            "Epoch 43/60\n",
            "73/73 [==============================] - 1s 18ms/step - loss: 0.5583 - accuracy: 0.7568 - val_loss: 0.5994 - val_accuracy: 0.7184\n",
            "Epoch 44/60\n",
            "73/73 [==============================] - 1s 16ms/step - loss: 0.5489 - accuracy: 0.7588 - val_loss: 0.6298 - val_accuracy: 0.7062\n",
            "Epoch 45/60\n",
            "73/73 [==============================] - 1s 18ms/step - loss: 0.5462 - accuracy: 0.7631 - val_loss: 0.5108 - val_accuracy: 0.7695\n",
            "Epoch 46/60\n",
            "73/73 [==============================] - 1s 17ms/step - loss: 0.5379 - accuracy: 0.7618 - val_loss: 0.5497 - val_accuracy: 0.7565\n",
            "Epoch 47/60\n",
            "73/73 [==============================] - 1s 17ms/step - loss: 0.5517 - accuracy: 0.7633 - val_loss: 0.6150 - val_accuracy: 0.7418\n",
            "Epoch 48/60\n",
            "73/73 [==============================] - 1s 17ms/step - loss: 0.5419 - accuracy: 0.7642 - val_loss: 0.6014 - val_accuracy: 0.7149\n",
            "Epoch 49/60\n",
            "73/73 [==============================] - 1s 18ms/step - loss: 0.5462 - accuracy: 0.7568 - val_loss: 0.6980 - val_accuracy: 0.7253\n",
            "Epoch 50/60\n",
            "73/73 [==============================] - 1s 18ms/step - loss: 0.5431 - accuracy: 0.7638 - val_loss: 0.5427 - val_accuracy: 0.7686\n",
            "Epoch 51/60\n",
            "73/73 [==============================] - 1s 18ms/step - loss: 0.5425 - accuracy: 0.7614 - val_loss: 0.5640 - val_accuracy: 0.7470\n",
            "Epoch 52/60\n",
            "73/73 [==============================] - 1s 18ms/step - loss: 0.5383 - accuracy: 0.7690 - val_loss: 0.5531 - val_accuracy: 0.7331\n",
            "Epoch 53/60\n",
            "73/73 [==============================] - 1s 17ms/step - loss: 0.5373 - accuracy: 0.7627 - val_loss: 0.6481 - val_accuracy: 0.7028\n",
            "Epoch 54/60\n",
            "73/73 [==============================] - 1s 18ms/step - loss: 0.5387 - accuracy: 0.7646 - val_loss: 0.5582 - val_accuracy: 0.7617\n",
            "Epoch 55/60\n",
            "73/73 [==============================] - 1s 17ms/step - loss: 0.5375 - accuracy: 0.7622 - val_loss: 0.5888 - val_accuracy: 0.7201\n",
            "Epoch 56/60\n",
            "73/73 [==============================] - 1s 16ms/step - loss: 0.5388 - accuracy: 0.7605 - val_loss: 0.5158 - val_accuracy: 0.7695\n",
            "Epoch 57/60\n",
            "73/73 [==============================] - 1s 17ms/step - loss: 0.5328 - accuracy: 0.7629 - val_loss: 0.7166 - val_accuracy: 0.6716\n",
            "Epoch 58/60\n",
            "73/73 [==============================] - 1s 17ms/step - loss: 0.5232 - accuracy: 0.7720 - val_loss: 0.6602 - val_accuracy: 0.7045\n",
            "Epoch 59/60\n",
            "73/73 [==============================] - 1s 17ms/step - loss: 0.5293 - accuracy: 0.7581 - val_loss: 0.6114 - val_accuracy: 0.7296\n",
            "Epoch 60/60\n",
            "73/73 [==============================] - 1s 18ms/step - loss: 0.5252 - accuracy: 0.7718 - val_loss: 0.6494 - val_accuracy: 0.7262\n"
          ]
        }
      ]
    },
    {
      "cell_type": "code",
      "source": [
        "#####################################################\n",
        "#                 Model Section                     #\n",
        "#####################################################\n",
        "\n",
        "x_traincnn = np.expand_dims(X_train, axis=2)\n",
        "x_valcnn = np.expand_dims(X_val, axis=2)\n",
        "\n",
        "print(x_traincnn.shape, x_valcnn.shape)\n",
        "\n",
        "from keras.models import Sequential\n",
        "from keras.layers import Dense, LSTM, Dropout\n",
        "\n",
        "# model = Sequential([\n",
        "#     LSTM(256, return_sequences=False, input_shape=(40,1)),\n",
        "#     Dropout(0.2),\n",
        "#     Dense(128, activation='relu'),\n",
        "#     Dropout(0.2),\n",
        "#     Dense(64, activation='relu'),\n",
        "#     Dropout(0.2),\n",
        "#     Dense(3, activation='softmax')\n",
        "# ])\n",
        "model = Sequential([\n",
        "    LSTM(256, return_sequences=False, input_shape=(40,1)),\n",
        "    Dropout(0.2),\n",
        "    Dense(128),\n",
        "    LeakyReLU(0.1),\n",
        "    Dropout(0.2),\n",
        "    Dense(64),\n",
        "    LeakyReLU(0.1),\n",
        "    Dropout(0.2),\n",
        "    Dense(3, activation='softmax')\n",
        "])\n",
        "\n",
        "\n",
        "# rms = tf.keras.optimizers.RMSprop(learning_rate=0.0001)\n",
        "adam = tf.keras.optimizers.Adam(learning_rate=0.0001)\n",
        "\n",
        "model.compile(loss='sparse_categorical_crossentropy',\n",
        "                optimizer=adam,\n",
        "                metrics=['accuracy'])\n",
        "\n",
        "history = model.fit(x_traincnn, y_train,\n",
        "                        batch_size=256, epochs=60,\n",
        "                        validation_data=(x_valcnn, y_val))"
      ],
      "metadata": {
        "colab": {
          "base_uri": "https://localhost:8080/"
        },
        "id": "L_iK9A9hToSj",
        "outputId": "7b4c6e4f-7eef-493b-bc43-810fc4a91e93"
      },
      "execution_count": null,
      "outputs": [
        {
          "output_type": "stream",
          "name": "stdout",
          "text": [
            "(4614, 40, 1) (1154, 40, 1)\n",
            "Epoch 1/60\n",
            "19/19 [==============================] - 3s 64ms/step - loss: 1.0881 - accuracy: 0.3806 - val_loss: 1.0654 - val_accuracy: 0.4298\n",
            "Epoch 2/60\n",
            "19/19 [==============================] - 1s 27ms/step - loss: 1.0699 - accuracy: 0.3888 - val_loss: 1.0438 - val_accuracy: 0.4255\n",
            "Epoch 3/60\n",
            "19/19 [==============================] - 1s 26ms/step - loss: 1.0548 - accuracy: 0.3936 - val_loss: 1.0240 - val_accuracy: 0.4428\n",
            "Epoch 4/60\n",
            "19/19 [==============================] - 0s 26ms/step - loss: 1.0344 - accuracy: 0.4241 - val_loss: 1.0021 - val_accuracy: 0.4705\n",
            "Epoch 5/60\n",
            "19/19 [==============================] - 1s 27ms/step - loss: 1.0201 - accuracy: 0.4339 - val_loss: 0.9768 - val_accuracy: 0.4931\n",
            "Epoch 6/60\n",
            "19/19 [==============================] - 1s 27ms/step - loss: 0.9964 - accuracy: 0.4551 - val_loss: 0.9437 - val_accuracy: 0.4991\n",
            "Epoch 7/60\n",
            "19/19 [==============================] - 1s 27ms/step - loss: 0.9574 - accuracy: 0.4993 - val_loss: 0.8895 - val_accuracy: 0.5529\n",
            "Epoch 8/60\n",
            "19/19 [==============================] - 1s 27ms/step - loss: 0.9144 - accuracy: 0.5438 - val_loss: 0.8417 - val_accuracy: 0.5780\n",
            "Epoch 9/60\n",
            "19/19 [==============================] - 1s 26ms/step - loss: 0.8695 - accuracy: 0.5830 - val_loss: 0.8160 - val_accuracy: 0.6075\n",
            "Epoch 10/60\n",
            "19/19 [==============================] - 0s 26ms/step - loss: 0.8306 - accuracy: 0.6073 - val_loss: 0.7732 - val_accuracy: 0.6334\n",
            "Epoch 11/60\n",
            "19/19 [==============================] - 0s 26ms/step - loss: 0.7992 - accuracy: 0.6259 - val_loss: 0.7456 - val_accuracy: 0.6438\n",
            "Epoch 12/60\n",
            "19/19 [==============================] - 0s 26ms/step - loss: 0.7670 - accuracy: 0.6435 - val_loss: 0.7242 - val_accuracy: 0.6577\n",
            "Epoch 13/60\n",
            "19/19 [==============================] - 0s 26ms/step - loss: 0.7686 - accuracy: 0.6417 - val_loss: 0.7151 - val_accuracy: 0.6586\n",
            "Epoch 14/60\n",
            "19/19 [==============================] - 0s 26ms/step - loss: 0.7367 - accuracy: 0.6554 - val_loss: 0.6987 - val_accuracy: 0.6664\n",
            "Epoch 15/60\n",
            "19/19 [==============================] - 1s 27ms/step - loss: 0.7251 - accuracy: 0.6662 - val_loss: 0.6925 - val_accuracy: 0.6690\n",
            "Epoch 16/60\n",
            "19/19 [==============================] - 0s 26ms/step - loss: 0.7190 - accuracy: 0.6695 - val_loss: 0.6818 - val_accuracy: 0.6811\n",
            "Epoch 17/60\n",
            "19/19 [==============================] - 1s 28ms/step - loss: 0.6982 - accuracy: 0.6799 - val_loss: 0.6849 - val_accuracy: 0.6802\n",
            "Epoch 18/60\n",
            "19/19 [==============================] - 1s 27ms/step - loss: 0.6895 - accuracy: 0.6829 - val_loss: 0.6725 - val_accuracy: 0.6820\n",
            "Epoch 19/60\n",
            "19/19 [==============================] - 1s 27ms/step - loss: 0.6863 - accuracy: 0.6875 - val_loss: 0.6982 - val_accuracy: 0.6785\n",
            "Epoch 20/60\n",
            "19/19 [==============================] - 1s 26ms/step - loss: 0.6833 - accuracy: 0.6790 - val_loss: 0.6681 - val_accuracy: 0.6863\n",
            "Epoch 21/60\n",
            "19/19 [==============================] - 1s 27ms/step - loss: 0.6807 - accuracy: 0.6944 - val_loss: 0.6569 - val_accuracy: 0.6941\n",
            "Epoch 22/60\n",
            "19/19 [==============================] - 1s 28ms/step - loss: 0.6719 - accuracy: 0.6892 - val_loss: 0.7172 - val_accuracy: 0.6863\n",
            "Epoch 23/60\n",
            "19/19 [==============================] - 0s 26ms/step - loss: 0.6875 - accuracy: 0.6886 - val_loss: 0.6597 - val_accuracy: 0.6915\n",
            "Epoch 24/60\n",
            "19/19 [==============================] - 1s 27ms/step - loss: 0.6788 - accuracy: 0.6862 - val_loss: 0.6479 - val_accuracy: 0.6993\n",
            "Epoch 25/60\n",
            "19/19 [==============================] - 0s 26ms/step - loss: 0.6795 - accuracy: 0.6933 - val_loss: 0.6531 - val_accuracy: 0.7054\n",
            "Epoch 26/60\n",
            "19/19 [==============================] - 1s 27ms/step - loss: 0.6601 - accuracy: 0.6987 - val_loss: 0.6385 - val_accuracy: 0.6984\n",
            "Epoch 27/60\n",
            "19/19 [==============================] - 1s 26ms/step - loss: 0.6380 - accuracy: 0.7111 - val_loss: 0.6426 - val_accuracy: 0.7010\n",
            "Epoch 28/60\n",
            "19/19 [==============================] - 1s 26ms/step - loss: 0.6411 - accuracy: 0.7124 - val_loss: 0.6835 - val_accuracy: 0.7010\n",
            "Epoch 29/60\n",
            "19/19 [==============================] - 0s 26ms/step - loss: 0.6722 - accuracy: 0.6925 - val_loss: 0.6385 - val_accuracy: 0.7054\n",
            "Epoch 30/60\n",
            "19/19 [==============================] - 0s 26ms/step - loss: 0.6591 - accuracy: 0.6981 - val_loss: 0.6299 - val_accuracy: 0.7132\n",
            "Epoch 31/60\n",
            "19/19 [==============================] - 1s 27ms/step - loss: 0.6312 - accuracy: 0.7128 - val_loss: 0.6199 - val_accuracy: 0.7158\n",
            "Epoch 32/60\n",
            "19/19 [==============================] - 0s 26ms/step - loss: 0.6236 - accuracy: 0.7159 - val_loss: 0.6156 - val_accuracy: 0.7149\n",
            "Epoch 33/60\n",
            "19/19 [==============================] - 0s 26ms/step - loss: 0.6113 - accuracy: 0.7235 - val_loss: 0.6116 - val_accuracy: 0.7132\n",
            "Epoch 34/60\n",
            "19/19 [==============================] - 1s 26ms/step - loss: 0.6309 - accuracy: 0.7089 - val_loss: 0.6304 - val_accuracy: 0.7114\n",
            "Epoch 35/60\n",
            "19/19 [==============================] - 0s 26ms/step - loss: 0.6271 - accuracy: 0.7130 - val_loss: 0.6295 - val_accuracy: 0.7080\n",
            "Epoch 36/60\n",
            "19/19 [==============================] - 0s 26ms/step - loss: 0.6201 - accuracy: 0.7143 - val_loss: 0.6163 - val_accuracy: 0.7114\n",
            "Epoch 37/60\n",
            "19/19 [==============================] - 1s 27ms/step - loss: 0.6215 - accuracy: 0.7148 - val_loss: 0.6085 - val_accuracy: 0.7158\n",
            "Epoch 38/60\n",
            "19/19 [==============================] - 1s 29ms/step - loss: 0.6082 - accuracy: 0.7198 - val_loss: 0.6020 - val_accuracy: 0.7166\n",
            "Epoch 39/60\n",
            "19/19 [==============================] - 1s 27ms/step - loss: 0.6172 - accuracy: 0.7241 - val_loss: 0.6074 - val_accuracy: 0.7192\n",
            "Epoch 40/60\n",
            "19/19 [==============================] - 1s 30ms/step - loss: 0.6083 - accuracy: 0.7206 - val_loss: 0.6476 - val_accuracy: 0.6976\n",
            "Epoch 41/60\n",
            "19/19 [==============================] - 1s 28ms/step - loss: 0.6308 - accuracy: 0.7094 - val_loss: 0.6321 - val_accuracy: 0.6984\n",
            "Epoch 42/60\n",
            "19/19 [==============================] - 1s 27ms/step - loss: 0.6091 - accuracy: 0.7215 - val_loss: 0.6041 - val_accuracy: 0.7210\n",
            "Epoch 43/60\n",
            "19/19 [==============================] - 1s 27ms/step - loss: 0.5966 - accuracy: 0.7284 - val_loss: 0.5914 - val_accuracy: 0.7166\n",
            "Epoch 44/60\n",
            "19/19 [==============================] - 1s 26ms/step - loss: 0.5911 - accuracy: 0.7293 - val_loss: 0.5961 - val_accuracy: 0.7158\n",
            "Epoch 45/60\n",
            "19/19 [==============================] - 0s 26ms/step - loss: 0.5948 - accuracy: 0.7343 - val_loss: 0.5878 - val_accuracy: 0.7236\n",
            "Epoch 46/60\n",
            "19/19 [==============================] - 1s 28ms/step - loss: 0.5799 - accuracy: 0.7408 - val_loss: 0.6071 - val_accuracy: 0.7314\n",
            "Epoch 47/60\n",
            "19/19 [==============================] - 1s 27ms/step - loss: 0.6234 - accuracy: 0.7098 - val_loss: 0.5923 - val_accuracy: 0.7348\n",
            "Epoch 48/60\n",
            "19/19 [==============================] - 0s 26ms/step - loss: 0.5861 - accuracy: 0.7330 - val_loss: 0.5938 - val_accuracy: 0.7132\n",
            "Epoch 49/60\n",
            "19/19 [==============================] - 1s 27ms/step - loss: 0.6211 - accuracy: 0.7143 - val_loss: 0.5979 - val_accuracy: 0.7201\n",
            "Epoch 50/60\n",
            "19/19 [==============================] - 1s 28ms/step - loss: 0.5985 - accuracy: 0.7252 - val_loss: 0.5843 - val_accuracy: 0.7288\n",
            "Epoch 51/60\n",
            "19/19 [==============================] - 1s 28ms/step - loss: 0.5879 - accuracy: 0.7326 - val_loss: 0.5799 - val_accuracy: 0.7253\n",
            "Epoch 52/60\n",
            "19/19 [==============================] - 1s 28ms/step - loss: 0.5913 - accuracy: 0.7276 - val_loss: 0.5903 - val_accuracy: 0.7314\n",
            "Epoch 53/60\n",
            "19/19 [==============================] - 1s 28ms/step - loss: 0.5805 - accuracy: 0.7367 - val_loss: 0.5905 - val_accuracy: 0.7288\n",
            "Epoch 54/60\n",
            "19/19 [==============================] - 1s 26ms/step - loss: 0.6026 - accuracy: 0.7306 - val_loss: 0.6156 - val_accuracy: 0.7071\n",
            "Epoch 55/60\n",
            "19/19 [==============================] - 0s 26ms/step - loss: 0.6031 - accuracy: 0.7289 - val_loss: 0.6001 - val_accuracy: 0.7192\n",
            "Epoch 56/60\n",
            "19/19 [==============================] - 1s 26ms/step - loss: 0.5861 - accuracy: 0.7345 - val_loss: 0.5812 - val_accuracy: 0.7366\n",
            "Epoch 57/60\n",
            "19/19 [==============================] - 1s 28ms/step - loss: 0.5940 - accuracy: 0.7330 - val_loss: 0.5917 - val_accuracy: 0.7374\n",
            "Epoch 58/60\n",
            "19/19 [==============================] - 1s 28ms/step - loss: 0.5787 - accuracy: 0.7310 - val_loss: 0.6181 - val_accuracy: 0.7192\n",
            "Epoch 59/60\n",
            "19/19 [==============================] - 1s 27ms/step - loss: 0.6220 - accuracy: 0.7195 - val_loss: 0.5828 - val_accuracy: 0.7314\n",
            "Epoch 60/60\n",
            "19/19 [==============================] - 1s 26ms/step - loss: 0.5747 - accuracy: 0.7352 - val_loss: 0.5726 - val_accuracy: 0.7400\n"
          ]
        }
      ]
    },
    {
      "cell_type": "code",
      "source": [
        "# Model plots\n",
        "plt.plot(history.history['accuracy'])\n",
        "plt.plot(history.history['val_accuracy'])\n",
        "plt.title('model accuracy')\n",
        "plt.ylabel('accuracy')\n",
        "plt.xlabel('epoch')\n",
        "plt.legend(['train', 'val'], loc='upper left')\n",
        "plt.show()\n",
        "\n",
        "plt.plot(history.history['loss'])\n",
        "plt.plot(history.history['val_loss'])\n",
        "plt.title('model loss')\n",
        "plt.ylabel('loss')\n",
        "plt.xlabel('epoch')\n",
        "plt.legend(['train', 'val'], loc='upper left')\n",
        "plt.show()"
      ],
      "metadata": {
        "colab": {
          "base_uri": "https://localhost:8080/",
          "height": 573
        },
        "id": "BhBa-U0y5GC9",
        "outputId": "e3796974-2485-4c0c-c234-9e4337adc598"
      },
      "execution_count": null,
      "outputs": [
        {
          "output_type": "display_data",
          "data": {
            "text/plain": [
              "<Figure size 432x288 with 1 Axes>"
            ],
            "image/png": "[encoded data removed]"
          },
          "metadata": {
            "needs_background": "light"
          }
        },
        {
          "output_type": "display_data",
          "data": {
            "text/plain": [
              "<Figure size 432x288 with 1 Axes>"
            ],
            "image/png": "[encoded data removed]"
          },
          "metadata": {
            "needs_background": "light"
          }
        }
      ]
    },
    {
      "cell_type": "code",
      "source": [
        "voice_model = Sequential([\n",
        "    LSTM(128, return_sequences=False, input_shape=(40,1)),\n",
        "    Dropout(0.2),\n",
        "    Dense(128, activation='relu'),\n",
        "    Dropout(0.2),\n",
        "    Dense(64, activation='relu'),\n",
        "    Dropout(0.2),\n",
        "    Dense(3, activation='softmax')\n",
        "])\n",
        "\n",
        "\n",
        "# rms = tf.keras.optimizers.RMSprop(learning_rate=0.0001)\n",
        "adam = tf.keras.optimizers.Adam(learning_rate=0.0001)\n",
        "\n",
        "voice_model.compile(loss='sparse_categorical_crossentropy',\n",
        "                optimizer='adam',\n",
        "                metrics=['accuracy'])\n",
        "\n",
        "voice_model.fit(x_traincnn, y_train, batch_size=64, epochs=60, validation_data=(x_valcnn, y_val))"
      ],
      "metadata": {
        "colab": {
          "base_uri": "https://localhost:8080/"
        },
        "id": "KHUsLigp1fLT",
        "outputId": "d995ca48-e1f6-4756-a471-95ac49933249"
      },
      "execution_count": null,
      "outputs": [
        {
          "output_type": "stream",
          "name": "stdout",
          "text": [
            "Epoch 1/60\n",
            "73/73 [==============================] - 4s 23ms/step - loss: 0.9826 - accuracy: 0.4612 - val_loss: 0.8139 - val_accuracy: 0.6057\n",
            "Epoch 2/60\n",
            "73/73 [==============================] - 1s 15ms/step - loss: 0.7602 - accuracy: 0.6452 - val_loss: 0.8039 - val_accuracy: 0.6516\n",
            "Epoch 3/60\n",
            "73/73 [==============================] - 1s 15ms/step - loss: 0.7182 - accuracy: 0.6671 - val_loss: 0.6940 - val_accuracy: 0.6820\n",
            "Epoch 4/60\n",
            "73/73 [==============================] - 1s 16ms/step - loss: 0.6861 - accuracy: 0.6797 - val_loss: 0.6666 - val_accuracy: 0.6984\n",
            "Epoch 5/60\n",
            "73/73 [==============================] - 1s 15ms/step - loss: 0.6753 - accuracy: 0.6860 - val_loss: 0.6265 - val_accuracy: 0.7045\n",
            "Epoch 6/60\n",
            "73/73 [==============================] - 1s 16ms/step - loss: 0.6462 - accuracy: 0.7024 - val_loss: 0.6176 - val_accuracy: 0.6984\n",
            "Epoch 7/60\n",
            "73/73 [==============================] - 1s 15ms/step - loss: 0.6151 - accuracy: 0.7211 - val_loss: 0.6092 - val_accuracy: 0.7184\n",
            "Epoch 8/60\n",
            "73/73 [==============================] - 1s 15ms/step - loss: 0.6083 - accuracy: 0.7169 - val_loss: 0.6240 - val_accuracy: 0.7045\n",
            "Epoch 9/60\n",
            "73/73 [==============================] - 1s 15ms/step - loss: 0.6176 - accuracy: 0.7206 - val_loss: 0.5915 - val_accuracy: 0.7149\n",
            "Epoch 10/60\n",
            "73/73 [==============================] - 1s 15ms/step - loss: 0.5878 - accuracy: 0.7271 - val_loss: 0.6101 - val_accuracy: 0.6993\n",
            "Epoch 11/60\n",
            "73/73 [==============================] - 1s 16ms/step - loss: 0.5987 - accuracy: 0.7269 - val_loss: 0.5813 - val_accuracy: 0.7270\n",
            "Epoch 12/60\n",
            "73/73 [==============================] - 1s 15ms/step - loss: 0.5794 - accuracy: 0.7308 - val_loss: 0.5670 - val_accuracy: 0.7331\n",
            "Epoch 13/60\n",
            "73/73 [==============================] - 1s 16ms/step - loss: 0.5850 - accuracy: 0.7349 - val_loss: 0.5638 - val_accuracy: 0.7383\n",
            "Epoch 14/60\n",
            "73/73 [==============================] - 1s 15ms/step - loss: 0.5710 - accuracy: 0.7395 - val_loss: 0.6459 - val_accuracy: 0.6906\n",
            "Epoch 15/60\n",
            "73/73 [==============================] - 1s 16ms/step - loss: 0.5769 - accuracy: 0.7378 - val_loss: 0.6178 - val_accuracy: 0.7106\n",
            "Epoch 16/60\n",
            "73/73 [==============================] - 1s 15ms/step - loss: 0.5680 - accuracy: 0.7445 - val_loss: 0.6167 - val_accuracy: 0.7296\n",
            "Epoch 17/60\n",
            "73/73 [==============================] - 1s 16ms/step - loss: 0.5622 - accuracy: 0.7462 - val_loss: 0.5690 - val_accuracy: 0.7452\n",
            "Epoch 18/60\n",
            "73/73 [==============================] - 1s 15ms/step - loss: 0.5537 - accuracy: 0.7510 - val_loss: 0.6117 - val_accuracy: 0.7201\n",
            "Epoch 19/60\n",
            "73/73 [==============================] - 1s 16ms/step - loss: 0.5540 - accuracy: 0.7453 - val_loss: 0.5711 - val_accuracy: 0.7340\n",
            "Epoch 20/60\n",
            "73/73 [==============================] - 1s 15ms/step - loss: 0.5719 - accuracy: 0.7395 - val_loss: 0.5513 - val_accuracy: 0.7452\n",
            "Epoch 21/60\n",
            "73/73 [==============================] - 1s 16ms/step - loss: 0.5260 - accuracy: 0.7651 - val_loss: 0.5976 - val_accuracy: 0.7184\n",
            "Epoch 22/60\n",
            "73/73 [==============================] - 1s 15ms/step - loss: 0.5543 - accuracy: 0.7445 - val_loss: 0.6045 - val_accuracy: 0.7010\n",
            "Epoch 23/60\n",
            "73/73 [==============================] - 1s 15ms/step - loss: 0.5305 - accuracy: 0.7583 - val_loss: 0.5640 - val_accuracy: 0.7461\n",
            "Epoch 24/60\n",
            "73/73 [==============================] - 1s 16ms/step - loss: 0.5249 - accuracy: 0.7579 - val_loss: 0.5943 - val_accuracy: 0.7478\n",
            "Epoch 25/60\n",
            "73/73 [==============================] - 1s 16ms/step - loss: 0.5237 - accuracy: 0.7661 - val_loss: 0.5821 - val_accuracy: 0.7626\n",
            "Epoch 26/60\n",
            "73/73 [==============================] - 1s 15ms/step - loss: 0.5367 - accuracy: 0.7516 - val_loss: 0.5664 - val_accuracy: 0.7652\n",
            "Epoch 27/60\n",
            "73/73 [==============================] - 1s 15ms/step - loss: 0.5096 - accuracy: 0.7748 - val_loss: 0.6430 - val_accuracy: 0.7002\n",
            "Epoch 28/60\n",
            "73/73 [==============================] - 1s 16ms/step - loss: 0.5351 - accuracy: 0.7657 - val_loss: 0.5602 - val_accuracy: 0.7669\n",
            "Epoch 29/60\n",
            "73/73 [==============================] - 1s 15ms/step - loss: 0.5126 - accuracy: 0.7685 - val_loss: 0.5607 - val_accuracy: 0.7513\n",
            "Epoch 30/60\n",
            "73/73 [==============================] - 1s 16ms/step - loss: 0.4992 - accuracy: 0.7739 - val_loss: 0.5695 - val_accuracy: 0.7487\n",
            "Epoch 31/60\n",
            "73/73 [==============================] - 1s 16ms/step - loss: 0.5176 - accuracy: 0.7657 - val_loss: 0.5669 - val_accuracy: 0.7478\n",
            "Epoch 32/60\n",
            "73/73 [==============================] - 1s 15ms/step - loss: 0.5053 - accuracy: 0.7709 - val_loss: 0.5219 - val_accuracy: 0.7738\n",
            "Epoch 33/60\n",
            "73/73 [==============================] - 1s 16ms/step - loss: 0.4968 - accuracy: 0.7739 - val_loss: 0.5428 - val_accuracy: 0.7695\n",
            "Epoch 34/60\n",
            "73/73 [==============================] - 1s 15ms/step - loss: 0.5036 - accuracy: 0.7737 - val_loss: 0.5369 - val_accuracy: 0.7669\n",
            "Epoch 35/60\n",
            "73/73 [==============================] - 1s 16ms/step - loss: 0.4889 - accuracy: 0.7852 - val_loss: 0.5347 - val_accuracy: 0.7721\n",
            "Epoch 36/60\n",
            "73/73 [==============================] - 1s 16ms/step - loss: 0.5034 - accuracy: 0.7772 - val_loss: 0.5293 - val_accuracy: 0.7522\n",
            "Epoch 37/60\n",
            "73/73 [==============================] - 1s 16ms/step - loss: 0.4804 - accuracy: 0.7870 - val_loss: 0.5555 - val_accuracy: 0.7634\n",
            "Epoch 38/60\n",
            "73/73 [==============================] - 1s 16ms/step - loss: 0.4660 - accuracy: 0.7976 - val_loss: 0.5293 - val_accuracy: 0.7582\n",
            "Epoch 39/60\n",
            "73/73 [==============================] - 1s 16ms/step - loss: 0.4781 - accuracy: 0.7833 - val_loss: 0.5704 - val_accuracy: 0.7574\n",
            "Epoch 40/60\n",
            "73/73 [==============================] - 1s 16ms/step - loss: 0.4661 - accuracy: 0.7917 - val_loss: 0.5311 - val_accuracy: 0.7669\n",
            "Epoch 41/60\n",
            "73/73 [==============================] - 1s 16ms/step - loss: 0.4589 - accuracy: 0.8017 - val_loss: 0.5448 - val_accuracy: 0.7669\n",
            "Epoch 42/60\n",
            "73/73 [==============================] - 1s 16ms/step - loss: 0.5395 - accuracy: 0.7722 - val_loss: 0.5383 - val_accuracy: 0.7582\n",
            "Epoch 43/60\n",
            "73/73 [==============================] - 1s 16ms/step - loss: 0.4824 - accuracy: 0.7904 - val_loss: 0.6068 - val_accuracy: 0.7444\n",
            "Epoch 44/60\n",
            "73/73 [==============================] - 1s 15ms/step - loss: 0.4913 - accuracy: 0.7800 - val_loss: 0.5684 - val_accuracy: 0.7383\n",
            "Epoch 45/60\n",
            "73/73 [==============================] - 1s 15ms/step - loss: 0.4756 - accuracy: 0.7898 - val_loss: 0.5887 - val_accuracy: 0.7522\n",
            "Epoch 46/60\n",
            "73/73 [==============================] - 1s 15ms/step - loss: 0.4501 - accuracy: 0.8015 - val_loss: 0.6110 - val_accuracy: 0.7331\n",
            "Epoch 47/60\n",
            "73/73 [==============================] - 1s 16ms/step - loss: 0.4540 - accuracy: 0.8047 - val_loss: 0.5665 - val_accuracy: 0.7530\n",
            "Epoch 48/60\n",
            "73/73 [==============================] - 1s 15ms/step - loss: 0.4536 - accuracy: 0.8078 - val_loss: 0.5657 - val_accuracy: 0.7487\n",
            "Epoch 49/60\n",
            "73/73 [==============================] - 1s 15ms/step - loss: 0.4625 - accuracy: 0.7971 - val_loss: 0.5471 - val_accuracy: 0.7721\n",
            "Epoch 50/60\n",
            "73/73 [==============================] - 1s 15ms/step - loss: 0.4409 - accuracy: 0.8075 - val_loss: 0.5857 - val_accuracy: 0.7253\n",
            "Epoch 51/60\n",
            "73/73 [==============================] - 1s 16ms/step - loss: 0.4787 - accuracy: 0.7889 - val_loss: 0.5722 - val_accuracy: 0.7461\n",
            "Epoch 52/60\n",
            "73/73 [==============================] - 1s 16ms/step - loss: 0.4549 - accuracy: 0.8002 - val_loss: 0.5453 - val_accuracy: 0.7652\n",
            "Epoch 53/60\n",
            "73/73 [==============================] - 1s 15ms/step - loss: 0.4252 - accuracy: 0.8110 - val_loss: 0.5607 - val_accuracy: 0.7600\n",
            "Epoch 54/60\n",
            "73/73 [==============================] - 1s 16ms/step - loss: 0.4196 - accuracy: 0.8179 - val_loss: 0.5544 - val_accuracy: 0.7496\n",
            "Epoch 55/60\n",
            "73/73 [==============================] - 1s 16ms/step - loss: 0.4435 - accuracy: 0.8021 - val_loss: 0.5542 - val_accuracy: 0.7686\n",
            "Epoch 56/60\n",
            "73/73 [==============================] - 1s 16ms/step - loss: 0.4109 - accuracy: 0.8197 - val_loss: 0.5526 - val_accuracy: 0.7764\n",
            "Epoch 57/60\n",
            "73/73 [==============================] - 1s 15ms/step - loss: 0.3919 - accuracy: 0.8299 - val_loss: 0.5725 - val_accuracy: 0.7678\n",
            "Epoch 58/60\n",
            "73/73 [==============================] - 1s 16ms/step - loss: 0.4301 - accuracy: 0.8121 - val_loss: 0.5718 - val_accuracy: 0.7730\n",
            "Epoch 59/60\n",
            "73/73 [==============================] - 1s 15ms/step - loss: 0.4036 - accuracy: 0.8260 - val_loss: 0.5293 - val_accuracy: 0.7617\n",
            "Epoch 60/60\n",
            "73/73 [==============================] - 1s 15ms/step - loss: 0.4113 - accuracy: 0.8294 - val_loss: 0.5920 - val_accuracy: 0.7513\n"
          ]
        },
        {
          "output_type": "execute_result",
          "data": {
            "text/plain": [
              "<keras.callbacks.History at 0x7f144949ead0>"
            ]
          },
          "metadata": {},
          "execution_count": 116
        }
      ]
    },
    {
      "cell_type": "code",
      "source": [
        "# Create np arrays for data and labels\n",
        "x_testcnn = np.expand_dims(X_test, axis=2)\n",
        "results = model.evaluate(x_testcnn, y_test, batch_size=64)"
      ],
      "metadata": {
        "colab": {
          "base_uri": "https://localhost:8080/"
        },
        "id": "uZ5cyMc7N145",
        "outputId": "17845b78-a01f-4400-f584-f5355a017e87"
      },
      "execution_count": null,
      "outputs": [
        {
          "output_type": "stream",
          "name": "stdout",
          "text": [
            "14/14 [==============================] - 1s 49ms/step - loss: 0.6176 - accuracy: 0.7517\n"
          ]
        }
      ]
    },
    {
      "cell_type": "code",
      "source": [
        "index_to_emotion = {\n",
        "    0:\"happy\",\n",
        "    1:\"sad\",\n",
        "    2:\"angry\",\n",
        "    3:\"disgust\",\n",
        "    4:\"fear\",\n",
        "    5:\"neutral\"\n",
        "}"
      ],
      "metadata": {
        "id": "vDfLMaNKbzM-"
      },
      "execution_count": null,
      "outputs": []
    },
    {
      "cell_type": "code",
      "source": [
        "! pip install pydub\n",
        "! pip install noisereduce\n",
        "! pip install kaggle\n",
        "! mkdir ~/.kaggle\n",
        "! cp kaggle.json ~/.kaggle/\n",
        "! chmod 600 ~/.kaggle/kaggle.json"
      ],
      "metadata": {
        "id": "Ng8oqwiwnTzy"
      },
      "execution_count": null,
      "outputs": []
    },
    {
      "cell_type": "code",
      "source": [
        "! kaggle datasets download -d tli725/jl-corpus"
      ],
      "metadata": {
        "colab": {
          "base_uri": "https://localhost:8080/"
        },
        "id": "4J71p-yInZ_H",
        "outputId": "513164e4-80e3-4c22-a6c8-4ff8b85bf053"
      },
      "execution_count": null,
      "outputs": [
        {
          "output_type": "stream",
          "name": "stdout",
          "text": [
            "Downloading jl-corpus.zip to /content\n",
            " 99% 1.18G/1.20G [00:23<00:00, 52.1MB/s]\n",
            "100% 1.20G/1.20G [00:23<00:00, 55.1MB/s]\n"
          ]
        }
      ]
    },
    {
      "cell_type": "code",
      "source": [
        "!mkdir ./data"
      ],
      "metadata": {
        "id": "jY8Yi_Pbner0"
      },
      "execution_count": null,
      "outputs": []
    },
    {
      "cell_type": "code",
      "source": [
        "%%capture\n",
        "!unzip jl-corpus.zip -d ./data"
      ],
      "metadata": {
        "id": "o5ZfAflBnhtK"
      },
      "execution_count": null,
      "outputs": []
    },
    {
      "cell_type": "code",
      "source": [
        "emotions = {\n",
        "  'happy': 0, \n",
        "  'sad': 1, \n",
        "  'angry': 2\n",
        "}\n",
        "\n",
        "processed_data = []\n",
        "\n",
        "data_path = \"/content/data/Raw JL corpus (unchecked and unannotated)/JL(wav+txt)\"\n",
        "for file in os.listdir(data_path):\n",
        "     filename = os.fsdecode(file)\n",
        "     file_path = os.path.join(data_path, filename)\n",
        "\n",
        "     if filename.endswith(\".wav\"):\n",
        "         emotion_label = emotions.get(filename.split('_')[1], None)\n",
        "         if (emotion_label != None):\n",
        "            processed_data.append([file_path, emotion_label])         \n",
        "     else:\n",
        "         continue"
      ],
      "metadata": {
        "id": "LwbTgsFTnh_f"
      },
      "execution_count": null,
      "outputs": []
    },
    {
      "cell_type": "code",
      "source": [
        "print(len(processed_data))"
      ],
      "metadata": {
        "colab": {
          "base_uri": "https://localhost:8080/"
        },
        "id": "TVvDPA27qwut",
        "outputId": "0ffef48c-0340-47f0-f11e-55563b6d5eeb"
      },
      "execution_count": null,
      "outputs": [
        {
          "output_type": "stream",
          "name": "stdout",
          "text": [
            "720\n"
          ]
        }
      ]
    },
    {
      "cell_type": "code",
      "source": [
        "def extract_feature(file_name): \n",
        "\n",
        "    y, sample_rate = librosa.load(file_name, sr=None)\n",
        "\n",
        "    # Don't process corrupted audio signals\n",
        "    if not np.any(y):\n",
        "        return None\n",
        "  \n",
        "    result=np.array([])\n",
        "    \n",
        "    mfccs=np.mean(librosa.feature.mfcc(y=y, sr=sample_rate, n_mfcc=40).T, axis=0)\n",
        "    result=np.hstack((result, mfccs))\n",
        "\n",
        "    # chroma=np.mean(librosa.feature.chroma_stft(S=stft, sr=sample_rate).T,axis=0)\n",
        "    # result=np.hstack((result, chroma))\n",
        "\n",
        "    # mel=np.mean(librosa.feature.melspectrogram(y, sr=sample_rate).T,axis=0)\n",
        "    # result=np.hstack((result, mel))\n",
        "\n",
        "    return result\n",
        "\n",
        "# Obtain features from each wav file\n",
        "labels = []\n",
        "features = []\n",
        "\n",
        "i = 0 # partially save results?\n",
        "for data in processed_data:\n",
        "    i += 1\n",
        "    result = extract_feature(data[0])\n",
        "    if result is not None:\n",
        "        labels.append(data[1])\n",
        "        features.append(result)\n",
        "    if i%100 == 0:\n",
        "        print(i)"
      ],
      "metadata": {
        "colab": {
          "base_uri": "https://localhost:8080/"
        },
        "id": "TMf8YnQiqnCE",
        "outputId": "0434a513-74db-4ea5-8914-56348fdc4970"
      },
      "execution_count": null,
      "outputs": [
        {
          "output_type": "stream",
          "name": "stdout",
          "text": [
            "100\n",
            "200\n",
            "300\n",
            "400\n",
            "500\n",
            "600\n",
            "700\n"
          ]
        }
      ]
    },
    {
      "cell_type": "code",
      "source": [
        "# Create np arrays for data and labels\n",
        "X_2 = np.array(features)\n",
        "Y_2 = np.array(labels)\n",
        "x_2cnn = np.expand_dims(X_2, axis=2)"
      ],
      "metadata": {
        "id": "k5wvo-BOq0vA"
      },
      "execution_count": null,
      "outputs": []
    },
    {
      "cell_type": "code",
      "source": [
        "results = model.evaluate(x_2cnn, Y_2, batch_size=64)\n",
        "# results = adv_model.evaluate({'feature': x_2cnn, 'label': Y_2})"
      ],
      "metadata": {
        "colab": {
          "base_uri": "https://localhost:8080/"
        },
        "id": "YxfEiPZirAht",
        "outputId": "54092fb0-3380-4364-d657-113516b8e15f"
      },
      "execution_count": null,
      "outputs": [
        {
          "output_type": "stream",
          "name": "stdout",
          "text": [
            "12/12 [==============================] - 0s 8ms/step - loss: 0.9304 - accuracy: 0.6458\n"
          ]
        }
      ]
    },
    {
      "cell_type": "code",
      "source": [
        "out = model.predict(x_2cnn)"
      ],
      "metadata": {
        "id": "ogjcelBcrDRZ"
      },
      "execution_count": null,
      "outputs": []
    },
    {
      "cell_type": "code",
      "source": [
        "out_r = out.argmax(axis=1)"
      ],
      "metadata": {
        "id": "3Ihney8UZgN5"
      },
      "execution_count": null,
      "outputs": []
    },
    {
      "cell_type": "code",
      "source": [
        "# Report useful metrics\n",
        "ascore = sklearn.metrics.accuracy_score(Y_2, out_r)\n",
        "rscore = sklearn.metrics.recall_score(Y_2, out_r, average='macro')\n",
        "pscore = sklearn.metrics.precision_score(Y_2, out_r, average='macro')\n",
        "fscore = sklearn.metrics.f1_score(Y_2, out_r, average='macro')\n",
        "print('Accuracy:{}, Precision:{}, Recall:{}, F1:{}'.format(ascore, pscore, rscore, fscore))"
      ],
      "metadata": {
        "colab": {
          "base_uri": "https://localhost:8080/"
        },
        "id": "RU4v_zooPWWY",
        "outputId": "ee03dbec-e455-40da-9bce-addbb757e501"
      },
      "execution_count": null,
      "outputs": [
        {
          "output_type": "stream",
          "name": "stdout",
          "text": [
            "Accuracy:0.6458333333333334, Precision:0.7023809523809524, Recall:0.6458333333333334, F1:0.629204761083319\n"
          ]
        }
      ]
    },
    {
      "cell_type": "code",
      "source": [
        "from sklearn.metrics import confusion_matrix\n",
        "\n",
        "#Generate the confusion matrix\n",
        "cf_matrix = confusion_matrix(Y_2, out_r)\n",
        "\n",
        "print(cf_matrix)"
      ],
      "metadata": {
        "colab": {
          "base_uri": "https://localhost:8080/"
        },
        "id": "haSVfN7IZYFY",
        "outputId": "bc815f22-8822-44e3-ed0a-713963b2c49c"
      },
      "execution_count": null,
      "outputs": [
        {
          "output_type": "stream",
          "name": "stdout",
          "text": [
            "[[104 125  11]\n",
            " [  0 240   0]\n",
            " [ 64  55 121]]\n"
          ]
        }
      ]
    },
    {
      "cell_type": "code",
      "source": [
        "val_c = model.predict(x_valcnn)\n",
        "val_r = val_c.argmax(axis = 1)\n",
        "cf_matrix = confusion_matrix(y_val, val_r)\n",
        "print(cf_matrix)"
      ],
      "metadata": {
        "colab": {
          "base_uri": "https://localhost:8080/"
        },
        "id": "67Sc5z0x4p-F",
        "outputId": "bc65c3c6-ea88-43f9-8acb-8b226b4cac83"
      },
      "execution_count": null,
      "outputs": [
        {
          "output_type": "stream",
          "name": "stdout",
          "text": [
            "[[270  40  67]\n",
            " [ 69 315   8]\n",
            " [ 80  16 289]]\n"
          ]
        }
      ]
    },
    {
      "cell_type": "code",
      "source": [
        "print(out[:15])"
      ],
      "metadata": {
        "colab": {
          "base_uri": "https://localhost:8080/"
        },
        "id": "kLFAMR75rF_C",
        "outputId": "51263d79-edad-4ff8-ead7-4445f3ec05e2"
      },
      "execution_count": null,
      "outputs": [
        {
          "output_type": "stream",
          "name": "stdout",
          "text": [
            "[[1.23329826e-01 1.19548617e-02 8.64715338e-01]\n",
            " [1.47495593e-03 9.98515904e-01 9.17840680e-06]\n",
            " [8.65745023e-02 9.12428319e-01 9.97046009e-04]\n",
            " [1.95749477e-01 7.40300864e-02 7.30220437e-01]\n",
            " [1.46135226e-01 7.15825319e-01 1.38039529e-01]\n",
            " [5.18367365e-02 9.36716080e-01 1.14472723e-02]\n",
            " [2.59526223e-01 4.81508760e-05 7.40425646e-01]\n",
            " [5.78672588e-01 2.19905898e-01 2.01421529e-01]\n",
            " [3.73481303e-01 5.74468315e-01 5.20504117e-02]\n",
            " [1.98799253e-01 9.34490818e-05 8.01107347e-01]\n",
            " [9.86068919e-02 2.05046814e-02 8.80888402e-01]\n",
            " [2.31896296e-01 3.93711209e-01 3.74392450e-01]\n",
            " [1.48093759e-03 9.97968853e-01 5.50202793e-04]\n",
            " [9.62466281e-03 9.44210708e-01 4.61646281e-02]\n",
            " [3.18706222e-02 9.60758567e-01 7.37081096e-03]]\n"
          ]
        }
      ]
    },
    {
      "cell_type": "code",
      "source": [
        "# count occurences of each emotion\n",
        "JL_count = [0]*3\n",
        "\n",
        "for e in Y_2:\n",
        "    JL_count[e] += 1\n",
        "\n",
        "print(JL_count)"
      ],
      "metadata": {
        "colab": {
          "base_uri": "https://localhost:8080/"
        },
        "id": "yJA0Ja5HrfT_",
        "outputId": "a5791921-b4c2-4ca4-8bca-6d5c48d9de27"
      },
      "execution_count": null,
      "outputs": [
        {
          "output_type": "stream",
          "name": "stdout",
          "text": [
            "[240, 240, 240]\n"
          ]
        }
      ]
    },
    {
      "cell_type": "code",
      "source": [
        "fig = plt.figure()\n",
        "c = ['tab:green', 'tab:blue', 'tab:red']\n",
        "\n",
        "emos = ['happy', 'sad', 'angry']\n",
        "plt.bar(emos, JL_count, color=c)\n",
        "plt.xlabel(\"Emotion class\")\n",
        "plt.ylabel(\"Count\")\n",
        "plt.title(\"Emotion distribution in JL corpus\")\n",
        "plt.show()"
      ],
      "metadata": {
        "colab": {
          "base_uri": "https://localhost:8080/",
          "height": 295
        },
        "id": "xNxdc2Yvroxi",
        "outputId": "020dd92f-73cb-44ad-f1e0-e2b8b0283a36"
      },
      "execution_count": null,
      "outputs": [
        {
          "output_type": "display_data",
          "data": {
            "text/plain": [
              "<Figure size 432x288 with 1 Axes>"
            ],
            "image/png": "[encoded data removed]"
          },
          "metadata": {
            "needs_background": "light"
          }
        }
      ]
    },
    {
      "cell_type": "code",
      "source": [
        "new_features = []\n",
        "new_features.append(extract_feature('Angry_second.wav'))\n",
        "new_features.append(extract_feature('Sad.wav'))\n",
        "new_features.append(extract_feature('Happy.wav'))\n",
        "\n",
        "X_3 = np.array(new_features)\n",
        "x_3cnn = np.expand_dims(X_3, axis=2)"
      ],
      "metadata": {
        "id": "z8YS41fvXDGu"
      },
      "execution_count": null,
      "outputs": []
    },
    {
      "cell_type": "code",
      "source": [
        "results = model.predict(x_3cnn)"
      ],
      "metadata": {
        "id": "BiaPgORvXev-"
      },
      "execution_count": null,
      "outputs": []
    },
    {
      "cell_type": "code",
      "source": [
        "print(results)"
      ],
      "metadata": {
        "colab": {
          "base_uri": "https://localhost:8080/"
        },
        "id": "47BhLU4YXoB6",
        "outputId": "cf4f2c34-a78d-4795-d607-704609ec7b23"
      },
      "execution_count": null,
      "outputs": [
        {
          "output_type": "stream",
          "name": "stdout",
          "text": [
            "[[0.13308212 0.8156562  0.05126164]\n",
            " [0.02110085 0.9755574  0.00334177]\n",
            " [0.0570318  0.93281215 0.01015611]]\n"
          ]
        }
      ]
    },
    {
      "cell_type": "code",
      "source": [
        "results_voice = voice_model.predict(x_3cnn)\n",
        "print(results_voice)"
      ],
      "metadata": {
        "colab": {
          "base_uri": "https://localhost:8080/"
        },
        "id": "l9aGESEl14Z3",
        "outputId": "cc709f03-1905-4ff2-93c6-f516e5f223c0"
      },
      "execution_count": null,
      "outputs": [
        {
          "output_type": "stream",
          "name": "stdout",
          "text": [
            "[[0.40493795 0.02970882 0.5653532 ]\n",
            " [0.15231666 0.8279536  0.01972983]\n",
            " [0.8713068  0.05056087 0.07813232]]\n"
          ]
        }
      ]
    }
  ],
  "metadata": {
    "colab": {
      "collapsed_sections": [],
      "name": "allData_threeEmotions_githubModel.ipynb",
      "provenance": [],
      "authorship_tag": "ABX9TyMtNaISRtgro29y5khOPuiN"
    },
    "kernelspec": {
      "display_name": "Python 3",
      "name": "python3"
    },
    "language_info": {
      "name": "python"
    },
    "accelerator": "GPU"
  },
  "nbformat": 4,
  "nbformat_minor": 0
}