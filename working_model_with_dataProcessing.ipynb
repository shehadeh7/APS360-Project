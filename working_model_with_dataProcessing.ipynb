{
  "cells": [
    {
      "cell_type": "markdown",
      "metadata": {
        "id": "view-in-github",
        "colab_type": "text"
      },
      "source": [
        "<a href=\"https://colab.research.google.com/github/shehadeh7/APS360-Project/blob/main/working_model_with_dataProcessing.ipynb\" target=\"_parent\"><img src=\"https://colab.research.google.com/assets/colab-badge.svg\" alt=\"Open In Colab\"/></a>"
      ]
    },
    {
      "cell_type": "code",
      "source": [
        "! pip install pydub\n",
        "! pip install noisereduce\n",
        "! pip install kaggle\n",
        "! mkdir ~/.kaggle\n",
        "! cp kaggle.json ~/.kaggle/\n",
        "! chmod 600 ~/.kaggle/kaggle.json"
      ],
      "metadata": {
        "colab": {
          "base_uri": "https://localhost:8080/"
        },
        "id": "YzrCinDpFibG",
        "outputId": "d87189c6-30cc-4fa2-aaf4-26e2fa1241e0"
      },
      "execution_count": 16,
      "outputs": [
        {
          "output_type": "stream",
          "name": "stdout",
          "text": [
            "Collecting pydub\n",
            "  Downloading pydub-0.25.1-py2.py3-none-any.whl (32 kB)\n",
            "Installing collected packages: pydub\n",
            "Successfully installed pydub-0.25.1\n",
            "Collecting noisereduce\n",
            "  Downloading noisereduce-2.0.0-py3-none-any.whl (15 kB)\n",
            "Requirement already satisfied: numpy in /usr/local/lib/python3.7/dist-packages (from noisereduce) (1.21.5)\n",
            "Requirement already satisfied: librosa in /usr/local/lib/python3.7/dist-packages (from noisereduce) (0.8.1)\n",
            "Requirement already satisfied: scipy in /usr/local/lib/python3.7/dist-packages (from noisereduce) (1.4.1)\n",
            "Requirement already satisfied: joblib in /usr/local/lib/python3.7/dist-packages (from noisereduce) (1.1.0)\n",
            "Requirement already satisfied: matplotlib in /usr/local/lib/python3.7/dist-packages (from noisereduce) (3.2.2)\n",
            "Requirement already satisfied: tqdm in /usr/local/lib/python3.7/dist-packages (from noisereduce) (4.62.3)\n",
            "Requirement already satisfied: numba>=0.43.0 in /usr/local/lib/python3.7/dist-packages (from librosa->noisereduce) (0.51.2)\n",
            "Requirement already satisfied: audioread>=2.0.0 in /usr/local/lib/python3.7/dist-packages (from librosa->noisereduce) (2.1.9)\n",
            "Requirement already satisfied: pooch>=1.0 in /usr/local/lib/python3.7/dist-packages (from librosa->noisereduce) (1.6.0)\n",
            "Requirement already satisfied: resampy>=0.2.2 in /usr/local/lib/python3.7/dist-packages (from librosa->noisereduce) (0.2.2)\n",
            "Requirement already satisfied: packaging>=20.0 in /usr/local/lib/python3.7/dist-packages (from librosa->noisereduce) (21.3)\n",
            "Requirement already satisfied: scikit-learn!=0.19.0,>=0.14.0 in /usr/local/lib/python3.7/dist-packages (from librosa->noisereduce) (1.0.2)\n",
            "Requirement already satisfied: soundfile>=0.10.2 in /usr/local/lib/python3.7/dist-packages (from librosa->noisereduce) (0.10.3.post1)\n",
            "Requirement already satisfied: decorator>=3.0.0 in /usr/local/lib/python3.7/dist-packages (from librosa->noisereduce) (4.4.2)\n",
            "Requirement already satisfied: llvmlite<0.35,>=0.34.0.dev0 in /usr/local/lib/python3.7/dist-packages (from numba>=0.43.0->librosa->noisereduce) (0.34.0)\n",
            "Requirement already satisfied: setuptools in /usr/local/lib/python3.7/dist-packages (from numba>=0.43.0->librosa->noisereduce) (57.4.0)\n",
            "Requirement already satisfied: pyparsing!=3.0.5,>=2.0.2 in /usr/local/lib/python3.7/dist-packages (from packaging>=20.0->librosa->noisereduce) (3.0.7)\n",
            "Requirement already satisfied: appdirs>=1.3.0 in /usr/local/lib/python3.7/dist-packages (from pooch>=1.0->librosa->noisereduce) (1.4.4)\n",
            "Requirement already satisfied: requests>=2.19.0 in /usr/local/lib/python3.7/dist-packages (from pooch>=1.0->librosa->noisereduce) (2.23.0)\n",
            "Requirement already satisfied: certifi>=2017.4.17 in /usr/local/lib/python3.7/dist-packages (from requests>=2.19.0->pooch>=1.0->librosa->noisereduce) (2021.10.8)\n",
            "Requirement already satisfied: chardet<4,>=3.0.2 in /usr/local/lib/python3.7/dist-packages (from requests>=2.19.0->pooch>=1.0->librosa->noisereduce) (3.0.4)\n",
            "Requirement already satisfied: idna<3,>=2.5 in /usr/local/lib/python3.7/dist-packages (from requests>=2.19.0->pooch>=1.0->librosa->noisereduce) (2.10)\n",
            "Requirement already satisfied: urllib3!=1.25.0,!=1.25.1,<1.26,>=1.21.1 in /usr/local/lib/python3.7/dist-packages (from requests>=2.19.0->pooch>=1.0->librosa->noisereduce) (1.24.3)\n",
            "Requirement already satisfied: six>=1.3 in /usr/local/lib/python3.7/dist-packages (from resampy>=0.2.2->librosa->noisereduce) (1.15.0)\n",
            "Requirement already satisfied: threadpoolctl>=2.0.0 in /usr/local/lib/python3.7/dist-packages (from scikit-learn!=0.19.0,>=0.14.0->librosa->noisereduce) (3.1.0)\n",
            "Requirement already satisfied: cffi>=1.0 in /usr/local/lib/python3.7/dist-packages (from soundfile>=0.10.2->librosa->noisereduce) (1.15.0)\n",
            "Requirement already satisfied: pycparser in /usr/local/lib/python3.7/dist-packages (from cffi>=1.0->soundfile>=0.10.2->librosa->noisereduce) (2.21)\n",
            "Requirement already satisfied: cycler>=0.10 in /usr/local/lib/python3.7/dist-packages (from matplotlib->noisereduce) (0.11.0)\n",
            "Requirement already satisfied: python-dateutil>=2.1 in /usr/local/lib/python3.7/dist-packages (from matplotlib->noisereduce) (2.8.2)\n",
            "Requirement already satisfied: kiwisolver>=1.0.1 in /usr/local/lib/python3.7/dist-packages (from matplotlib->noisereduce) (1.3.2)\n",
            "Installing collected packages: noisereduce\n",
            "Successfully installed noisereduce-2.0.0\n",
            "Requirement already satisfied: kaggle in /usr/local/lib/python3.7/dist-packages (1.5.12)\n",
            "Requirement already satisfied: six>=1.10 in /usr/local/lib/python3.7/dist-packages (from kaggle) (1.15.0)\n",
            "Requirement already satisfied: requests in /usr/local/lib/python3.7/dist-packages (from kaggle) (2.23.0)\n",
            "Requirement already satisfied: urllib3 in /usr/local/lib/python3.7/dist-packages (from kaggle) (1.24.3)\n",
            "Requirement already satisfied: python-slugify in /usr/local/lib/python3.7/dist-packages (from kaggle) (6.0.1)\n",
            "Requirement already satisfied: python-dateutil in /usr/local/lib/python3.7/dist-packages (from kaggle) (2.8.2)\n",
            "Requirement already satisfied: certifi in /usr/local/lib/python3.7/dist-packages (from kaggle) (2021.10.8)\n",
            "Requirement already satisfied: tqdm in /usr/local/lib/python3.7/dist-packages (from kaggle) (4.62.3)\n",
            "Requirement already satisfied: text-unidecode>=1.3 in /usr/local/lib/python3.7/dist-packages (from python-slugify->kaggle) (1.3)\n",
            "Requirement already satisfied: idna<3,>=2.5 in /usr/local/lib/python3.7/dist-packages (from requests->kaggle) (2.10)\n",
            "Requirement already satisfied: chardet<4,>=3.0.2 in /usr/local/lib/python3.7/dist-packages (from requests->kaggle) (3.0.4)\n"
          ]
        }
      ]
    },
    {
      "cell_type": "code",
      "source": [
        "# Download dataset from Kaggle (direct link: https://www.kaggle.com/dmitrybabko/speech-emotion-recognition-en)\n",
        "!kaggle datasets download dmitrybabko/speech-emotion-recognition-en"
      ],
      "metadata": {
        "colab": {
          "base_uri": "https://localhost:8080/"
        },
        "id": "BVbPW-ZrFnDM",
        "outputId": "dd5d1d26-205b-48e4-d4ea-4bcd64f44240"
      },
      "execution_count": 17,
      "outputs": [
        {
          "output_type": "stream",
          "name": "stdout",
          "text": [
            "Downloading speech-emotion-recognition-en.zip to /content\n",
            "100% 983M/987M [00:21<00:00, 54.5MB/s]\n",
            "100% 987M/987M [00:21<00:00, 48.9MB/s]\n"
          ]
        }
      ]
    },
    {
      "cell_type": "code",
      "source": [
        "!mkdir ./data"
      ],
      "metadata": {
        "id": "chYD-BvHFsBC"
      },
      "execution_count": 18,
      "outputs": []
    },
    {
      "cell_type": "code",
      "source": [
        "%%capture\n",
        "!unzip speech-emotion-recognition-en.zip -d ./data"
      ],
      "metadata": {
        "id": "FqFe2nfCFwBp"
      },
      "execution_count": 19,
      "outputs": []
    },
    {
      "cell_type": "code",
      "source": [
        "import numpy as np\n",
        "import os\n",
        "import sklearn\n",
        "from sklearn.ensemble import RandomForestClassifier\n",
        "from sklearn.utils import shuffle"
      ],
      "metadata": {
        "id": "oXDirr09eM4P"
      },
      "execution_count": 15,
      "outputs": []
    },
    {
      "cell_type": "code",
      "source": [
        "emotions = {\n",
        "  'happy': 0, \n",
        "  'sad': 1, \n",
        "  'angry': 2, \n",
        "  'disgust': 3, \n",
        "  'fear': 4, \n",
        "  'neutral': 5\n",
        "}\n",
        "\n",
        "ravdess_emotions = {\n",
        "    '01': emotions['neutral'],\n",
        "    '03': emotions['happy'],\n",
        "    '04': emotions['sad'],\n",
        "    '05': emotions['angry'],\n",
        "    '06': emotions['fear'],\n",
        "    '07': emotions['disgust'],\n",
        "}\n",
        "\n",
        "crema_emotions = {\n",
        "  'SAD': emotions['sad'], \n",
        "  'ANG': emotions['angry'], \n",
        "  'DIS': emotions['disgust'],\n",
        "  'FEA': emotions['fear'], \n",
        "  'HAP': emotions['happy'], \n",
        "  'NEU': emotions['neutral']\n",
        "}\n",
        "\n",
        "savee_emotions = {\n",
        "    'a': emotions['angry'],\n",
        "    'd': emotions['disgust'],\n",
        "    'f': emotions['fear'],\n",
        "    'h': emotions['happy'],\n",
        "    'n': emotions['neutral']\n",
        "}\n",
        "\n",
        "processed_data = []\n",
        "\n",
        "data_path = \"/content/data\"\n",
        "for root, dirs, files in os.walk(data_path):\n",
        "  for file in files:\n",
        "    file_path = os.path.join(root, file)\n",
        "\n",
        "    dataset = file_path.split('/')[3]\n",
        "    if dataset == 'Ravdess':\n",
        "      emotion_label = ravdess_emotions.get(file.split('-')[2], None)\n",
        "    elif dataset == 'Crema':\n",
        "      emotion_label = crema_emotions.get(file.split('_')[2], None)\n",
        "    elif dataset == 'Tess':\n",
        "      emotion_label = emotions.get(file.split('_')[2].split('.')[0], None)\n",
        "    else:\n",
        "      emotion_code = file.split('_')[1][:2]\n",
        "      if (emotion_code == 'sa'):\n",
        "        emotion_label = emotions['sad']\n",
        "      else:\n",
        "        emotion_label = savee_emotions.get(emotion_code[0], None)\n",
        "\n",
        "    if (emotion_label != None):\n",
        "      processed_data.append([file_path, dataset, emotion_label])"
      ],
      "metadata": {
        "id": "Ri1CwRaWFZ1b"
      },
      "execution_count": 20,
      "outputs": []
    },
    {
      "cell_type": "code",
      "source": [
        "import librosa\n",
        "\n",
        "\n",
        "from pydub import AudioSegment, effects\n",
        "import noisereduce as nr\n",
        "\n",
        "frame_length = 2048\n",
        "hop_length = 512\n",
        "total_length = 180000 # verify this value?\n",
        "\n",
        "def extract_feature(file_name): \n",
        "\n",
        "    y, sample_rate = librosa.load(file_name, sr=None)\n",
        "\n",
        "    # Don't process corrupted audio signals\n",
        "    if not np.any(y):\n",
        "        return None\n",
        "\n",
        "    rawsound = AudioSegment.from_file(file_name) \n",
        "    # Normalize the audio to +5.0 dBFS.\n",
        "    normalizedsound = effects.normalize(rawsound, headroom = 5.0) \n",
        "    # Transform the normalized audio to np.array of samples.\n",
        "    normal_x = np.array(normalizedsound.get_array_of_samples(), dtype = 'float32')\n",
        "    # Trim silence from the beginning and the end.\n",
        "    xt, index = librosa.effects.trim(normal_x, top_db=30)\n",
        "    # Pad for duration equalization.\n",
        "    padded_x = librosa.util.fix_length(xt, size=total_length)\n",
        "    # Noise reduction.\n",
        "    final_x = nr.reduce_noise(y=padded_x, sr=sample_rate)\n",
        "    \n",
        "    # Features extraction   \n",
        "    # stft = np.abs(librosa.stft(final_x))\n",
        "    mfccs = librosa.feature.mfcc(y=final_x, sr=sample_rate, n_mfcc=15)\n",
        "    # print(mfccs.shape)\n",
        "    # chroma = librosa.feature.chroma_stft(S=stft, sr=sample_rate)\n",
        "    # print(chroma.shape)\n",
        "    # mel = librosa.feature.melspectrogram(final_x, sr=sample_rate)\n",
        "    # print(mel.shape)\n",
        "    zcr = librosa.feature.zero_crossing_rate(final_x)\n",
        "    # print(zcr.shape)\n",
        "    return mfccs,zcr"
      ],
      "metadata": {
        "id": "0SXxFv1BF5nK"
      },
      "execution_count": 21,
      "outputs": []
    },
    {
      "cell_type": "code",
      "source": [
        "# Obtain features from each wav file\n",
        "labels = []\n",
        "features = []\n",
        "\n",
        "mfccs = []\n",
        "zcr = []\n",
        "i = 0 # partially save results?\n",
        "mylists = [mfccs, zcr]\n",
        "for data in processed_data:\n",
        "    i += 1\n",
        "    # if i<=4000:\n",
        "    #     continue    \n",
        "    result = extract_feature(data[0])\n",
        "    if result is not None:\n",
        "        labels.append(data[2])\n",
        "        for x, lst in zip(result, mylists):\n",
        "            lst.append(x)\n",
        "    # if i>=1000:\n",
        "    #     break"
      ],
      "metadata": {
        "id": "7tYOHrEuF9Uw"
      },
      "execution_count": 22,
      "outputs": []
    },
    {
      "cell_type": "code",
      "source": [
        "# Change feature lists to np array of size timestamp x features\n",
        "a_mfccs = np.asarray(mfccs).astype('float32')\n",
        "a_mfccs = np.swapaxes(a_mfccs, 1, 2)\n",
        "a_zcr = np.asarray(zcr).astype('float32')\n",
        "a_zcr = np.swapaxes(a_zcr, 1, 2)\n",
        "\n",
        "print('MFCCS shape:', a_mfccs.shape)"
      ],
      "metadata": {
        "colab": {
          "base_uri": "https://localhost:8080/"
        },
        "id": "W18XOwWDgNc6",
        "outputId": "63b03612-9116-4497-8846-803e095a56a5"
      },
      "execution_count": 23,
      "outputs": [
        {
          "output_type": "stream",
          "name": "stdout",
          "text": [
            "MFCCS shape: (1000, 352, 15)\n"
          ]
        }
      ]
    },
    {
      "cell_type": "code",
      "source": [
        "# Create np arrays for data and labels\n",
        "X = np.concatenate((a_mfccs, a_zcr), axis=2)\n",
        "Y = np.array(labels)"
      ],
      "metadata": {
        "id": "J8CjRiD9GGFA"
      },
      "execution_count": 24,
      "outputs": []
    },
    {
      "cell_type": "code",
      "source": [
        "# shuffle X and Y same way\n",
        "# random_state to seed the shuffle\n",
        "X, Y = shuffle(X, Y, random_state=0)\n",
        "print(X.shape)\n",
        "print(Y.shape)"
      ],
      "metadata": {
        "colab": {
          "base_uri": "https://localhost:8080/"
        },
        "id": "zKJXqcmcho67",
        "outputId": "c0a1c85a-fd69-4413-d96c-c4cebd577680"
      },
      "execution_count": 25,
      "outputs": [
        {
          "output_type": "stream",
          "name": "stdout",
          "text": [
            "(1000, 352, 16)\n",
            "(1000,)\n"
          ]
        }
      ]
    },
    {
      "cell_type": "code",
      "execution_count": 26,
      "metadata": {
        "colab": {
          "base_uri": "https://localhost:8080/"
        },
        "id": "rT0A8B6NdK77",
        "outputId": "1a9f83b4-e497-4c82-8d70-978bd755715b"
      },
      "outputs": [
        {
          "output_type": "execute_result",
          "data": {
            "text/plain": [
              "RandomForestClassifier(criterion='entropy')"
            ]
          },
          "metadata": {},
          "execution_count": 26
        }
      ],
      "source": [
        "#Create a Gaussian Classifier\n",
        "clf=RandomForestClassifier(criterion='entropy')\n",
        "\n",
        "training_split = 0.8 # use 80% of data for training\n",
        "\n",
        "#Train the model using the training sets y_pred=clf.predict(X_test)\n",
        "# Flatten X to a 2d array for random forest\n",
        "nsamples, nx, ny = X.shape\n",
        "t_id = int(nsamples * training_split)\n",
        "X_2d = X.reshape((nsamples,nx*ny))\n",
        "clf.fit(X_2d[:t_id,:], Y[:t_id])"
      ]
    },
    {
      "cell_type": "code",
      "execution_count": 27,
      "metadata": {
        "id": "B2h4rCf6ebC4"
      },
      "outputs": [],
      "source": [
        "# Perform prediction\n",
        "y_pred=clf.predict(X_2d[t_id:,:])"
      ]
    },
    {
      "cell_type": "code",
      "source": [
        "from sklearn.metrics import confusion_matrix\n",
        "\n",
        "#Generate the confusion matrix\n",
        "cf_matrix = confusion_matrix(Y[t_id:], y_pred)\n",
        "\n",
        "print(cf_matrix)"
      ],
      "metadata": {
        "colab": {
          "base_uri": "https://localhost:8080/"
        },
        "id": "D6MIa_kzjKoa",
        "outputId": "49c44330-fb3c-4b7d-c8c9-21ffcae79363"
      },
      "execution_count": 28,
      "outputs": [
        {
          "output_type": "stream",
          "name": "stdout",
          "text": [
            "[[ 9 11  3  6  3  2]\n",
            " [ 2 17  1 10  3  1]\n",
            " [ 7  3 20  6  4  0]\n",
            " [ 2  8  5 22  1  0]\n",
            " [ 4  1  4  7 16  1]\n",
            " [ 3  5  0  2  3  8]]\n"
          ]
        }
      ]
    },
    {
      "cell_type": "code",
      "source": [
        "# Plot confusion matrix\n",
        "import seaborn as sns\n",
        "import matplotlib.pyplot as plt\n",
        "\n",
        "ax = sns.heatmap(cf_matrix, annot=True, cmap='Blues')\n",
        "\n",
        "ax.set_title('Emotion Confusion Matrix with labels\\n\\n');\n",
        "ax.set_xlabel('\\nPredicted Values')\n",
        "ax.set_ylabel('Actual Values ');\n",
        "\n",
        "## Ticket labels - List must be in alphabetical order\n",
        "ax.xaxis.set_ticklabels(['happy', 'sad', 'angry', 'disgust', 'fear', 'neutral'])\n",
        "ax.yaxis.set_ticklabels(['happy', 'sad', 'angry', 'disgust', 'fear', 'neutral'])\n",
        "\n",
        "## Display the visualization of the Confusion Matrix.\n",
        "plt.show()"
      ],
      "metadata": {
        "colab": {
          "base_uri": "https://localhost:8080/",
          "height": 337
        },
        "id": "zxNABkUsjRfS",
        "outputId": "17654990-cbbf-4677-ec71-9b70e4c54b08"
      },
      "execution_count": 29,
      "outputs": [
        {
          "output_type": "display_data",
          "data": {
            "image/png": "[encoded data removed]",
            "text/plain": [
              "<Figure size 432x288 with 2 Axes>"
            ]
          },
          "metadata": {
            "needs_background": "light"
          }
        }
      ]
    },
    {
      "cell_type": "code",
      "source": [
        "# Report useful metrics\n",
        "ascore = sklearn.metrics.accuracy_score(Y[t_id:], y_pred)\n",
        "rscore = sklearn.metrics.recall_score(Y[t_id:], y_pred, average='macro')\n",
        "pscore = sklearn.metrics.precision_score(Y[t_id:], y_pred, average='macro')\n",
        "fscore = sklearn.metrics.f1_score(Y[t_id:], y_pred, average='macro')\n",
        "print('Accuracy:{}, Precision:{}, Recall:{}, F1:{}'.format(ascore, pscore, rscore, fscore))"
      ],
      "metadata": {
        "colab": {
          "base_uri": "https://localhost:8080/"
        },
        "id": "vHDw8FhHlFvM",
        "outputId": "e3f137bc-b80e-499d-851f-3db4778ab08b"
      },
      "execution_count": 30,
      "outputs": [
        {
          "output_type": "stream",
          "name": "stdout",
          "text": [
            "Accuracy:0.46, Precision:0.4887110094657264, Recall:0.45157568609580995, F1:0.4582847326382477\n"
          ]
        }
      ]
    },
    {
      "cell_type": "code",
      "source": [
        "# !pip install neural-structured-learning"
      ],
      "metadata": {
        "id": "KmHvB4r_49nr"
      },
      "execution_count": null,
      "outputs": []
    },
    {
      "cell_type": "code",
      "source": [
        "import tensorflow as tf\n",
        "from sklearn.model_selection import train_test_split\n",
        "\n",
        "X_train, X_test, y_train, y_test = train_test_split(X, Y, test_size=0.2, random_state=1)\n",
        "\n",
        "X_train, X_val, y_train, y_val = train_test_split(X_train, y_train, test_size=0.25, random_state=1) # 0.25 x 0.8 = 0.2\n",
        "\n",
        "# Create a base model -- sequential, functional, or subclass.\n",
        "model = tf.keras.Sequential([\n",
        "    tf.keras.layers.LSTM(64, return_sequences = True, input_shape=(X_train.shape[1:3])),\n",
        "    tf.keras.layers.LSTM(64),\n",
        "    tf.keras.layers.Dense(6, activation=tf.nn.softmax)\n",
        "])\n",
        "\n",
        "# # Wrap the model with adversarial regularization.\n",
        "# adv_config = nsl.configs.make_adv_reg_config(multiplier=0.2, adv_step_size=0.05)\n",
        "# adv_model = nsl.keras.AdversarialRegularization(model, adv_config=adv_config)\n",
        "\n",
        "rms = tf.keras.optimizers.RMSprop(learning_rate=0.0001)\n",
        "\n",
        "# Compile, train, and evaluate.\n",
        "model.compile(optimizer=rms,\n",
        "                  loss='sparse_categorical_crossentropy',\n",
        "                  metrics=['accuracy'])\n",
        "model.fit(X_train, y_train, batch_size=32, epochs=30, validation_data=(X_val, y_val))\n",
        "# model.evaluate(x_test, y_test)"
      ],
      "metadata": {
        "colab": {
          "base_uri": "https://localhost:8080/"
        },
        "id": "PsWi3gRRmFoV",
        "outputId": "d283de33-dccf-4666-e936-13583f5a27be"
      },
      "execution_count": null,
      "outputs": [
        {
          "output_type": "stream",
          "name": "stdout",
          "text": [
            "Epoch 1/30\n",
            "75/75 [==============================] - 31s 371ms/step - loss: 1.8023 - accuracy: 0.1658 - val_loss: 1.7932 - val_accuracy: 0.1813\n",
            "Epoch 2/30\n",
            "75/75 [==============================] - 26s 353ms/step - loss: 1.7930 - accuracy: 0.1567 - val_loss: 1.7913 - val_accuracy: 0.1762\n",
            "Epoch 3/30\n",
            "75/75 [==============================] - 26s 351ms/step - loss: 1.7898 - accuracy: 0.1658 - val_loss: 1.7886 - val_accuracy: 0.1863\n",
            "Epoch 4/30\n",
            "75/75 [==============================] - 27s 359ms/step - loss: 1.7855 - accuracy: 0.1742 - val_loss: 1.7879 - val_accuracy: 0.1775\n",
            "Epoch 5/30\n",
            "75/75 [==============================] - 26s 353ms/step - loss: 1.7805 - accuracy: 0.1925 - val_loss: 1.7843 - val_accuracy: 0.1900\n",
            "Epoch 6/30\n",
            "75/75 [==============================] - 26s 352ms/step - loss: 1.7765 - accuracy: 0.1942 - val_loss: 1.7816 - val_accuracy: 0.2013\n",
            "Epoch 7/30\n",
            "75/75 [==============================] - 26s 353ms/step - loss: 1.7722 - accuracy: 0.1983 - val_loss: 1.7791 - val_accuracy: 0.2125\n",
            "Epoch 8/30\n",
            "75/75 [==============================] - 27s 354ms/step - loss: 1.7696 - accuracy: 0.2083 - val_loss: 1.7794 - val_accuracy: 0.2100\n",
            "Epoch 9/30\n",
            "75/75 [==============================] - 27s 355ms/step - loss: 1.7670 - accuracy: 0.2146 - val_loss: 1.7792 - val_accuracy: 0.2237\n",
            "Epoch 10/30\n",
            "75/75 [==============================] - 29s 394ms/step - loss: 1.7648 - accuracy: 0.2071 - val_loss: 1.7769 - val_accuracy: 0.2100\n",
            "Epoch 11/30\n",
            "75/75 [==============================] - 27s 356ms/step - loss: 1.7631 - accuracy: 0.2192 - val_loss: 1.7775 - val_accuracy: 0.2125\n",
            "Epoch 12/30\n",
            "75/75 [==============================] - 26s 354ms/step - loss: 1.7628 - accuracy: 0.2125 - val_loss: 1.7749 - val_accuracy: 0.2200\n",
            "Epoch 13/30\n",
            "75/75 [==============================] - 26s 352ms/step - loss: 1.7615 - accuracy: 0.2175 - val_loss: 1.7753 - val_accuracy: 0.2225\n",
            "Epoch 14/30\n",
            "75/75 [==============================] - 26s 351ms/step - loss: 1.7597 - accuracy: 0.2204 - val_loss: 1.7742 - val_accuracy: 0.2212\n",
            "Epoch 15/30\n",
            "75/75 [==============================] - 26s 353ms/step - loss: 1.7583 - accuracy: 0.2175 - val_loss: 1.7733 - val_accuracy: 0.2125\n",
            "Epoch 16/30\n",
            "75/75 [==============================] - 27s 354ms/step - loss: 1.7568 - accuracy: 0.2204 - val_loss: 1.7717 - val_accuracy: 0.2262\n",
            "Epoch 17/30\n",
            "75/75 [==============================] - 26s 353ms/step - loss: 1.7563 - accuracy: 0.2196 - val_loss: 1.7733 - val_accuracy: 0.2237\n",
            "Epoch 18/30\n",
            "75/75 [==============================] - 26s 353ms/step - loss: 1.7552 - accuracy: 0.2208 - val_loss: 1.7727 - val_accuracy: 0.2275\n",
            "Epoch 19/30\n",
            "75/75 [==============================] - 26s 351ms/step - loss: 1.7528 - accuracy: 0.2304 - val_loss: 1.7741 - val_accuracy: 0.2212\n",
            "Epoch 20/30\n",
            "75/75 [==============================] - 26s 351ms/step - loss: 1.7529 - accuracy: 0.2204 - val_loss: 1.7708 - val_accuracy: 0.2275\n",
            "Epoch 21/30\n",
            "75/75 [==============================] - 29s 386ms/step - loss: 1.7508 - accuracy: 0.2262 - val_loss: 1.7719 - val_accuracy: 0.2362\n",
            "Epoch 22/30\n",
            "75/75 [==============================] - 27s 357ms/step - loss: 1.7515 - accuracy: 0.2233 - val_loss: 1.7699 - val_accuracy: 0.2275\n",
            "Epoch 23/30\n",
            "75/75 [==============================] - 27s 356ms/step - loss: 1.7491 - accuracy: 0.2354 - val_loss: 1.7703 - val_accuracy: 0.2325\n",
            "Epoch 24/30\n",
            "75/75 [==============================] - 27s 359ms/step - loss: 1.7480 - accuracy: 0.2329 - val_loss: 1.7713 - val_accuracy: 0.2412\n",
            "Epoch 25/30\n",
            "75/75 [==============================] - 27s 360ms/step - loss: 1.7456 - accuracy: 0.2371 - val_loss: 1.7725 - val_accuracy: 0.2362\n",
            "Epoch 26/30\n",
            "75/75 [==============================] - 27s 357ms/step - loss: 1.7439 - accuracy: 0.2375 - val_loss: 1.7706 - val_accuracy: 0.2325\n",
            "Epoch 27/30\n",
            "75/75 [==============================] - 27s 355ms/step - loss: 1.7434 - accuracy: 0.2342 - val_loss: 1.7712 - val_accuracy: 0.2288\n",
            "Epoch 28/30\n",
            "75/75 [==============================] - 27s 356ms/step - loss: 1.7402 - accuracy: 0.2392 - val_loss: 1.7713 - val_accuracy: 0.2300\n",
            "Epoch 29/30\n",
            "75/75 [==============================] - 27s 356ms/step - loss: 1.7383 - accuracy: 0.2450 - val_loss: 1.7722 - val_accuracy: 0.2325\n",
            "Epoch 30/30\n",
            "75/75 [==============================] - 27s 354ms/step - loss: 1.7372 - accuracy: 0.2383 - val_loss: 1.7762 - val_accuracy: 0.2325\n"
          ]
        },
        {
          "output_type": "execute_result",
          "data": {
            "text/plain": [
              "<keras.callbacks.History at 0x7fae7ddd4c50>"
            ]
          },
          "metadata": {},
          "execution_count": 14
        }
      ]
    }
  ],
  "metadata": {
    "colab": {
      "collapsed_sections": [],
      "name": "working_model_with_dataProcessing.ipynb",
      "provenance": [],
      "authorship_tag": "ABX9TyOHIuk7wRcVnkF0NbD53e4q",
      "include_colab_link": true
    },
    "kernelspec": {
      "display_name": "Python 3",
      "name": "python3"
    },
    "language_info": {
      "name": "python"
    }
  },
  "nbformat": 4,
  "nbformat_minor": 0
}