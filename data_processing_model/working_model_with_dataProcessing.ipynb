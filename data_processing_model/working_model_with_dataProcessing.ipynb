{
  "cells": [
    {
      "cell_type": "markdown",
      "metadata": {
        "id": "view-in-github",
        "colab_type": "text"
      },
      "source": [
        "<a href=\"https://colab.research.google.com/github/shehadeh7/APS360-Project/blob/main/working_model_with_dataProcessing.ipynb\" target=\"_parent\"><img src=\"https://colab.research.google.com/assets/colab-badge.svg\" alt=\"Open In Colab\"/></a>"
      ]
    },
    {
      "cell_type": "code",
      "source": [
        "! pip install pydub\n",
        "! pip install noisereduce\n",
        "! pip install kaggle\n",
        "! mkdir ~/.kaggle\n",
        "! cp kaggle.json ~/.kaggle/\n",
        "! chmod 600 ~/.kaggle/kaggle.json"
      ],
      "metadata": {
        "id": "YzrCinDpFibG"
      },
      "execution_count": null,
      "outputs": []
    },
    {
      "cell_type": "code",
      "source": [
        "# Download dataset from Kaggle (direct link: https://www.kaggle.com/dmitrybabko/speech-emotion-recognition-en)\n",
        "!kaggle datasets download dmitrybabko/speech-emotion-recognition-en"
      ],
      "metadata": {
        "colab": {
          "base_uri": "https://localhost:8080/"
        },
        "id": "BVbPW-ZrFnDM",
        "outputId": "5137cc7a-81b9-4dea-9e08-131be173db87"
      },
      "execution_count": 2,
      "outputs": [
        {
          "output_type": "stream",
          "name": "stdout",
          "text": [
            "Downloading speech-emotion-recognition-en.zip to /content\n",
            " 99% 981M/987M [00:10<00:00, 93.3MB/s]\n",
            "100% 987M/987M [00:10<00:00, 97.1MB/s]\n"
          ]
        }
      ]
    },
    {
      "cell_type": "code",
      "source": [
        "!mkdir ./data"
      ],
      "metadata": {
        "id": "chYD-BvHFsBC"
      },
      "execution_count": 3,
      "outputs": []
    },
    {
      "cell_type": "code",
      "source": [
        "%%capture\n",
        "!unzip speech-emotion-recognition-en.zip -d ./data"
      ],
      "metadata": {
        "id": "FqFe2nfCFwBp"
      },
      "execution_count": 4,
      "outputs": []
    },
    {
      "cell_type": "code",
      "source": [
        "import numpy as np\n",
        "import os\n",
        "import sklearn\n",
        "from sklearn.ensemble import RandomForestClassifier\n",
        "from sklearn.utils import shuffle"
      ],
      "metadata": {
        "id": "oXDirr09eM4P"
      },
      "execution_count": 5,
      "outputs": []
    },
    {
      "cell_type": "code",
      "source": [
        "emotions = {\n",
        "  'happy': 0, \n",
        "  'sad': 1, \n",
        "  'angry': 2, \n",
        "  'disgust': 3, \n",
        "  'fear': 4, \n",
        "  'neutral': 5\n",
        "}\n",
        "\n",
        "ravdess_emotions = {\n",
        "    '01': emotions['neutral'],\n",
        "    '03': emotions['happy'],\n",
        "    '04': emotions['sad'],\n",
        "    '05': emotions['angry'],\n",
        "    '06': emotions['fear'],\n",
        "    '07': emotions['disgust'],\n",
        "}\n",
        "\n",
        "crema_emotions = {\n",
        "  'SAD': emotions['sad'], \n",
        "  'ANG': emotions['angry'], \n",
        "  'DIS': emotions['disgust'],\n",
        "  'FEA': emotions['fear'], \n",
        "  'HAP': emotions['happy'], \n",
        "  'NEU': emotions['neutral']\n",
        "}\n",
        "\n",
        "savee_emotions = {\n",
        "    'a': emotions['angry'],\n",
        "    'd': emotions['disgust'],\n",
        "    'f': emotions['fear'],\n",
        "    'h': emotions['happy'],\n",
        "    'n': emotions['neutral']\n",
        "}\n",
        "\n",
        "processed_data = []\n",
        "\n",
        "data_path = \"/content/data\"\n",
        "for root, dirs, files in os.walk(data_path):\n",
        "  for file in files:\n",
        "    file_path = os.path.join(root, file)\n",
        "\n",
        "    dataset = file_path.split('/')[3]\n",
        "    if dataset == 'Ravdess':\n",
        "      emotion_label = ravdess_emotions.get(file.split('-')[2], None)\n",
        "    elif dataset == 'Crema':\n",
        "      emotion_label = crema_emotions.get(file.split('_')[2], None)\n",
        "    elif dataset == 'Tess':\n",
        "      emotion_label = emotions.get(file.split('_')[2].split('.')[0], None)\n",
        "    else:\n",
        "      emotion_code = file.split('_')[1][:2]\n",
        "      if (emotion_code == 'sa'):\n",
        "        emotion_label = emotions['sad']\n",
        "      else:\n",
        "        emotion_label = savee_emotions.get(emotion_code[0], None)\n",
        "\n",
        "    if (emotion_label != None):\n",
        "      processed_data.append([file_path, dataset, emotion_label])"
      ],
      "metadata": {
        "id": "Ri1CwRaWFZ1b"
      },
      "execution_count": 6,
      "outputs": []
    },
    {
      "cell_type": "code",
      "source": [
        "import librosa\n",
        "\n",
        "\n",
        "from pydub import AudioSegment, effects\n",
        "import noisereduce as nr\n",
        "\n",
        "frame_length = 2048\n",
        "hop_length = 512\n",
        "total_length = 180000 # verify this value?\n",
        "\n",
        "def extract_feature(file_name): \n",
        "\n",
        "    y, sample_rate = librosa.load(file_name, sr=None)\n",
        "\n",
        "    # Don't process corrupted audio signals\n",
        "    if not np.any(y):\n",
        "        return None\n",
        "\n",
        "    rawsound = AudioSegment.from_file(file_name) \n",
        "    # Normalize the audio to +5.0 dBFS.\n",
        "    normalizedsound = effects.normalize(rawsound, headroom = 5.0) \n",
        "    # Transform the normalized audio to np.array of samples.\n",
        "    normal_x = np.array(normalizedsound.get_array_of_samples(), dtype = 'float32')\n",
        "    # Trim silence from the beginning and the end.\n",
        "    xt, index = librosa.effects.trim(normal_x, top_db=30)\n",
        "    # Pad for duration equalization.\n",
        "    padded_x = librosa.util.fix_length(xt, size=total_length)\n",
        "    # Noise reduction.\n",
        "    final_x = nr.reduce_noise(y=padded_x, sr=sample_rate)\n",
        "    \n",
        "    # Features extraction   \n",
        "    # stft = np.abs(librosa.stft(final_x))\n",
        "    mfccs = librosa.feature.mfcc(y=final_x, sr=sample_rate, n_mfcc=15)\n",
        "    # print(mfccs.shape)\n",
        "    # chroma = librosa.feature.chroma_stft(S=stft, sr=sample_rate)\n",
        "    # print(chroma.shape)\n",
        "    # mel = librosa.feature.melspectrogram(final_x, sr=sample_rate)\n",
        "    # print(mel.shape)\n",
        "    zcr = librosa.feature.zero_crossing_rate(final_x)\n",
        "    # print(zcr.shape)\n",
        "    return mfccs,zcr"
      ],
      "metadata": {
        "id": "0SXxFv1BF5nK"
      },
      "execution_count": 7,
      "outputs": []
    },
    {
      "cell_type": "code",
      "source": [
        "# Obtain features from each wav file\n",
        "labels = []\n",
        "features = []\n",
        "\n",
        "mfccs = []\n",
        "zcr = []\n",
        "i = 0 # partially save results?\n",
        "mylists = [mfccs, zcr]\n",
        "for data in processed_data:\n",
        "    i += 1\n",
        "    # if i<=4000:\n",
        "    #     continue    \n",
        "    result = extract_feature(data[0])\n",
        "    if result is not None:\n",
        "        labels.append(data[2])\n",
        "        for x, lst in zip(result, mylists):\n",
        "            lst.append(x)\n",
        "    if i%100 == 0:\n",
        "        print(i)"
      ],
      "metadata": {
        "id": "7tYOHrEuF9Uw",
        "colab": {
          "base_uri": "https://localhost:8080/"
        },
        "outputId": "37fc58a8-3ec5-47c6-948f-46cf38718574"
      },
      "execution_count": 9,
      "outputs": [
        {
          "output_type": "stream",
          "name": "stdout",
          "text": [
            "8800\n",
            "8900\n",
            "9000\n",
            "9100\n",
            "9200\n",
            "9300\n",
            "9400\n",
            "9500\n",
            "9600\n",
            "9700\n",
            "9800\n",
            "9900\n",
            "10000\n",
            "10100\n",
            "10200\n",
            "10300\n",
            "10400\n",
            "10500\n",
            "10600\n",
            "10700\n",
            "10800\n",
            "10900\n",
            "11000\n",
            "11100\n",
            "11200\n",
            "11300\n"
          ]
        }
      ]
    },
    {
      "cell_type": "code",
      "source": [
        "# Change feature lists to np array of size timestamp x features\n",
        "a_mfccs = np.asarray(mfccs).astype('float32')\n",
        "a_mfccs = np.swapaxes(a_mfccs, 1, 2)\n",
        "a_zcr = np.asarray(zcr).astype('float32')\n",
        "a_zcr = np.swapaxes(a_zcr, 1, 2)\n",
        "\n",
        "print('MFCCS shape:', a_mfccs.shape)"
      ],
      "metadata": {
        "colab": {
          "base_uri": "https://localhost:8080/"
        },
        "id": "W18XOwWDgNc6",
        "outputId": "a1e22892-26f7-4d4b-84da-7b885b9e90c0"
      },
      "execution_count": 10,
      "outputs": [
        {
          "output_type": "stream",
          "name": "stdout",
          "text": [
            "MFCCS shape: (11317, 352, 15)\n"
          ]
        }
      ]
    },
    {
      "cell_type": "code",
      "source": [
        "# Create np arrays for data and labels\n",
        "X = np.concatenate((a_mfccs, a_zcr), axis=2)\n",
        "Y = np.array(labels)"
      ],
      "metadata": {
        "id": "J8CjRiD9GGFA"
      },
      "execution_count": 11,
      "outputs": []
    },
    {
      "cell_type": "code",
      "source": [
        "# shuffle X and Y same way\n",
        "# random_state to seed the shuffle\n",
        "X, Y = shuffle(X, Y, random_state=0)\n",
        "print(X.shape)\n",
        "print(Y.shape)"
      ],
      "metadata": {
        "colab": {
          "base_uri": "https://localhost:8080/"
        },
        "id": "zKJXqcmcho67",
        "outputId": "07818dab-c18a-4a6c-f264-a1e703c9e689"
      },
      "execution_count": 12,
      "outputs": [
        {
          "output_type": "stream",
          "name": "stdout",
          "text": [
            "(11317, 352, 16)\n",
            "(11317,)\n"
          ]
        }
      ]
    },
    {
      "cell_type": "code",
      "execution_count": 13,
      "metadata": {
        "colab": {
          "base_uri": "https://localhost:8080/"
        },
        "id": "rT0A8B6NdK77",
        "outputId": "a080c64f-e343-401d-f3e4-3101addefaf5"
      },
      "outputs": [
        {
          "output_type": "execute_result",
          "data": {
            "text/plain": [
              "RandomForestClassifier(criterion='entropy')"
            ]
          },
          "metadata": {},
          "execution_count": 13
        }
      ],
      "source": [
        "#Create a Gaussian Classifier\n",
        "clf=RandomForestClassifier(criterion='entropy')\n",
        "\n",
        "training_split = 0.8 # use 80% of data for training\n",
        "\n",
        "#Train the model using the training sets y_pred=clf.predict(X_test)\n",
        "# Flatten X to a 2d array for random forest\n",
        "nsamples, nx, ny = X.shape\n",
        "t_id = int(nsamples * training_split)\n",
        "X_2d = X.reshape((nsamples,nx*ny))\n",
        "clf.fit(X_2d[:t_id,:], Y[:t_id])"
      ]
    },
    {
      "cell_type": "code",
      "execution_count": 14,
      "metadata": {
        "id": "B2h4rCf6ebC4"
      },
      "outputs": [],
      "source": [
        "# Perform prediction\n",
        "y_pred=clf.predict(X_2d[t_id:,:])"
      ]
    },
    {
      "cell_type": "code",
      "source": [
        "from sklearn.metrics import confusion_matrix\n",
        "\n",
        "#Generate the confusion matrix\n",
        "cf_matrix = confusion_matrix(Y[t_id:], y_pred)\n",
        "\n",
        "print(cf_matrix)"
      ],
      "metadata": {
        "colab": {
          "base_uri": "https://localhost:8080/"
        },
        "id": "D6MIa_kzjKoa",
        "outputId": "f7d30abd-a28c-4d8f-d58a-f2d362594483"
      },
      "execution_count": 15,
      "outputs": [
        {
          "output_type": "stream",
          "name": "stdout",
          "text": [
            "[[210  28  47  28  31  39]\n",
            " [ 23 257  11  41  17  29]\n",
            " [ 55   7 277  26  11  24]\n",
            " [ 41  65  33 189  15  25]\n",
            " [ 53  84  45  40 134  29]\n",
            " [ 56  56  11  40  20 167]]\n"
          ]
        }
      ]
    },
    {
      "cell_type": "code",
      "source": [
        "# Plot confusion matrix\n",
        "import seaborn as sns\n",
        "import matplotlib.pyplot as plt\n",
        "\n",
        "ax = sns.heatmap(cf_matrix, annot=True, cmap='Blues')\n",
        "\n",
        "ax.set_title('Emotion Confusion Matrix with labels\\n\\n');\n",
        "ax.set_xlabel('\\nPredicted Values')\n",
        "ax.set_ylabel('Actual Values ');\n",
        "\n",
        "## Ticket labels - List must be in alphabetical order\n",
        "ax.xaxis.set_ticklabels(['happy', 'sad', 'angry', 'disgust', 'fear', 'neutral'])\n",
        "ax.yaxis.set_ticklabels(['happy', 'sad', 'angry', 'disgust', 'fear', 'neutral'])\n",
        "\n",
        "## Display the visualization of the Confusion Matrix.\n",
        "plt.show()"
      ],
      "metadata": {
        "colab": {
          "base_uri": "https://localhost:8080/",
          "height": 337
        },
        "id": "zxNABkUsjRfS",
        "outputId": "b1430888-d9bd-418b-ff27-8c5d7d9d2093"
      },
      "execution_count": 16,
      "outputs": [
        {
          "output_type": "display_data",
          "data": {
            "image/png": "[encoded data removed]",
            "text/plain": [
              "<Figure size 432x288 with 2 Axes>"
            ]
          },
          "metadata": {
            "needs_background": "light"
          }
        }
      ]
    },
    {
      "cell_type": "code",
      "source": [
        "# Report useful metrics\n",
        "ascore = sklearn.metrics.accuracy_score(Y[t_id:], y_pred)\n",
        "rscore = sklearn.metrics.recall_score(Y[t_id:], y_pred, average='macro')\n",
        "pscore = sklearn.metrics.precision_score(Y[t_id:], y_pred, average='macro')\n",
        "fscore = sklearn.metrics.f1_score(Y[t_id:], y_pred, average='macro')\n",
        "print('Accuracy:{}, Precision:{}, Recall:{}, F1:{}'.format(ascore, pscore, rscore, fscore))"
      ],
      "metadata": {
        "colab": {
          "base_uri": "https://localhost:8080/"
        },
        "id": "vHDw8FhHlFvM",
        "outputId": "7eab3400-44c8-4615-b174-4c51882ba31a"
      },
      "execution_count": 17,
      "outputs": [
        {
          "output_type": "stream",
          "name": "stdout",
          "text": [
            "Accuracy:0.5450530035335689, Precision:0.5483921584393526, Recall:0.5432464689455646, F1:0.5381147053357375\n"
          ]
        }
      ]
    },
    {
      "cell_type": "code",
      "source": [
        "# !pip install neural-structured-learning"
      ],
      "metadata": {
        "id": "KmHvB4r_49nr"
      },
      "execution_count": null,
      "outputs": []
    },
    {
      "cell_type": "code",
      "source": [
        "#numpy save x and y\n",
        "#zip together before saving?\n",
        "# x_path = './x_data'\n",
        "# y_path = './y_data'\n",
        "# np.save(x_path, X)\n",
        "# np.save(y_path, Y)"
      ],
      "metadata": {
        "id": "tD9imcv7CgRN"
      },
      "execution_count": 18,
      "outputs": []
    },
    {
      "cell_type": "code",
      "source": [
        "# ! zip processed_data.zip x_data.npy y_data.npy"
      ],
      "metadata": {
        "colab": {
          "base_uri": "https://localhost:8080/"
        },
        "id": "w7UNMaw5KpwW",
        "outputId": "7661effc-7ac3-4e9e-cb67-0f35d4a4b67f"
      },
      "execution_count": 19,
      "outputs": [
        {
          "output_type": "stream",
          "name": "stdout",
          "text": [
            "  adding: x_data.npy (deflated 74%)\n",
            "  adding: y_data.npy (deflated 92%)\n"
          ]
        }
      ]
    },
    {
      "cell_type": "code",
      "source": [
        "import tensorflow as tf\n",
        "from sklearn.model_selection import train_test_split\n",
        "\n",
        "X_train, X_test, y_train, y_test = train_test_split(X, Y, test_size=0.2, random_state=1)\n",
        "\n",
        "X_train, X_val, y_train, y_val = train_test_split(X_train, y_train, test_size=0.25, random_state=1) # 0.25 x 0.8 = 0.2\n",
        "\n",
        "# Create a base model -- sequential, functional, or subclass.\n",
        "model = tf.keras.Sequential([\n",
        "    tf.keras.layers.LSTM(64, return_sequences = True, input_shape=(X_train.shape[1:3])),\n",
        "    tf.keras.layers.LSTM(64),\n",
        "    tf.keras.layers.Dense(6, activation=tf.nn.softmax)\n",
        "])\n",
        "\n",
        "# # Wrap the model with adversarial regularization.\n",
        "# adv_config = nsl.configs.make_adv_reg_config(multiplier=0.2, adv_step_size=0.05)\n",
        "# adv_model = nsl.keras.AdversarialRegularization(model, adv_config=adv_config)\n",
        "\n",
        "rms = tf.keras.optimizers.RMSprop(learning_rate=0.0001)\n",
        "\n",
        "# Compile, train, and evaluate.\n",
        "model.compile(optimizer=rms,\n",
        "                  loss='sparse_categorical_crossentropy',\n",
        "                  metrics=['accuracy'])\n",
        "model.fit(X_train, y_train, batch_size=32, epochs=30, validation_data=(X_val, y_val))\n",
        "# model.evaluate(x_test, y_test)"
      ],
      "metadata": {
        "colab": {
          "base_uri": "https://localhost:8080/"
        },
        "id": "PsWi3gRRmFoV",
        "outputId": "d283de33-dccf-4666-e936-13583f5a27be"
      },
      "execution_count": null,
      "outputs": [
        {
          "output_type": "stream",
          "name": "stdout",
          "text": [
            "Epoch 1/30\n",
            "75/75 [==============================] - 31s 371ms/step - loss: 1.8023 - accuracy: 0.1658 - val_loss: 1.7932 - val_accuracy: 0.1813\n",
            "Epoch 2/30\n",
            "75/75 [==============================] - 26s 353ms/step - loss: 1.7930 - accuracy: 0.1567 - val_loss: 1.7913 - val_accuracy: 0.1762\n",
            "Epoch 3/30\n",
            "75/75 [==============================] - 26s 351ms/step - loss: 1.7898 - accuracy: 0.1658 - val_loss: 1.7886 - val_accuracy: 0.1863\n",
            "Epoch 4/30\n",
            "75/75 [==============================] - 27s 359ms/step - loss: 1.7855 - accuracy: 0.1742 - val_loss: 1.7879 - val_accuracy: 0.1775\n",
            "Epoch 5/30\n",
            "75/75 [==============================] - 26s 353ms/step - loss: 1.7805 - accuracy: 0.1925 - val_loss: 1.7843 - val_accuracy: 0.1900\n",
            "Epoch 6/30\n",
            "75/75 [==============================] - 26s 352ms/step - loss: 1.7765 - accuracy: 0.1942 - val_loss: 1.7816 - val_accuracy: 0.2013\n",
            "Epoch 7/30\n",
            "75/75 [==============================] - 26s 353ms/step - loss: 1.7722 - accuracy: 0.1983 - val_loss: 1.7791 - val_accuracy: 0.2125\n",
            "Epoch 8/30\n",
            "75/75 [==============================] - 27s 354ms/step - loss: 1.7696 - accuracy: 0.2083 - val_loss: 1.7794 - val_accuracy: 0.2100\n",
            "Epoch 9/30\n",
            "75/75 [==============================] - 27s 355ms/step - loss: 1.7670 - accuracy: 0.2146 - val_loss: 1.7792 - val_accuracy: 0.2237\n",
            "Epoch 10/30\n",
            "75/75 [==============================] - 29s 394ms/step - loss: 1.7648 - accuracy: 0.2071 - val_loss: 1.7769 - val_accuracy: 0.2100\n",
            "Epoch 11/30\n",
            "75/75 [==============================] - 27s 356ms/step - loss: 1.7631 - accuracy: 0.2192 - val_loss: 1.7775 - val_accuracy: 0.2125\n",
            "Epoch 12/30\n",
            "75/75 [==============================] - 26s 354ms/step - loss: 1.7628 - accuracy: 0.2125 - val_loss: 1.7749 - val_accuracy: 0.2200\n",
            "Epoch 13/30\n",
            "75/75 [==============================] - 26s 352ms/step - loss: 1.7615 - accuracy: 0.2175 - val_loss: 1.7753 - val_accuracy: 0.2225\n",
            "Epoch 14/30\n",
            "75/75 [==============================] - 26s 351ms/step - loss: 1.7597 - accuracy: 0.2204 - val_loss: 1.7742 - val_accuracy: 0.2212\n",
            "Epoch 15/30\n",
            "75/75 [==============================] - 26s 353ms/step - loss: 1.7583 - accuracy: 0.2175 - val_loss: 1.7733 - val_accuracy: 0.2125\n",
            "Epoch 16/30\n",
            "75/75 [==============================] - 27s 354ms/step - loss: 1.7568 - accuracy: 0.2204 - val_loss: 1.7717 - val_accuracy: 0.2262\n",
            "Epoch 17/30\n",
            "75/75 [==============================] - 26s 353ms/step - loss: 1.7563 - accuracy: 0.2196 - val_loss: 1.7733 - val_accuracy: 0.2237\n",
            "Epoch 18/30\n",
            "75/75 [==============================] - 26s 353ms/step - loss: 1.7552 - accuracy: 0.2208 - val_loss: 1.7727 - val_accuracy: 0.2275\n",
            "Epoch 19/30\n",
            "75/75 [==============================] - 26s 351ms/step - loss: 1.7528 - accuracy: 0.2304 - val_loss: 1.7741 - val_accuracy: 0.2212\n",
            "Epoch 20/30\n",
            "75/75 [==============================] - 26s 351ms/step - loss: 1.7529 - accuracy: 0.2204 - val_loss: 1.7708 - val_accuracy: 0.2275\n",
            "Epoch 21/30\n",
            "75/75 [==============================] - 29s 386ms/step - loss: 1.7508 - accuracy: 0.2262 - val_loss: 1.7719 - val_accuracy: 0.2362\n",
            "Epoch 22/30\n",
            "75/75 [==============================] - 27s 357ms/step - loss: 1.7515 - accuracy: 0.2233 - val_loss: 1.7699 - val_accuracy: 0.2275\n",
            "Epoch 23/30\n",
            "75/75 [==============================] - 27s 356ms/step - loss: 1.7491 - accuracy: 0.2354 - val_loss: 1.7703 - val_accuracy: 0.2325\n",
            "Epoch 24/30\n",
            "75/75 [==============================] - 27s 359ms/step - loss: 1.7480 - accuracy: 0.2329 - val_loss: 1.7713 - val_accuracy: 0.2412\n",
            "Epoch 25/30\n",
            "75/75 [==============================] - 27s 360ms/step - loss: 1.7456 - accuracy: 0.2371 - val_loss: 1.7725 - val_accuracy: 0.2362\n",
            "Epoch 26/30\n",
            "75/75 [==============================] - 27s 357ms/step - loss: 1.7439 - accuracy: 0.2375 - val_loss: 1.7706 - val_accuracy: 0.2325\n",
            "Epoch 27/30\n",
            "75/75 [==============================] - 27s 355ms/step - loss: 1.7434 - accuracy: 0.2342 - val_loss: 1.7712 - val_accuracy: 0.2288\n",
            "Epoch 28/30\n",
            "75/75 [==============================] - 27s 356ms/step - loss: 1.7402 - accuracy: 0.2392 - val_loss: 1.7713 - val_accuracy: 0.2300\n",
            "Epoch 29/30\n",
            "75/75 [==============================] - 27s 356ms/step - loss: 1.7383 - accuracy: 0.2450 - val_loss: 1.7722 - val_accuracy: 0.2325\n",
            "Epoch 30/30\n",
            "75/75 [==============================] - 27s 354ms/step - loss: 1.7372 - accuracy: 0.2383 - val_loss: 1.7762 - val_accuracy: 0.2325\n"
          ]
        },
        {
          "output_type": "execute_result",
          "data": {
            "text/plain": [
              "<keras.callbacks.History at 0x7fae7ddd4c50>"
            ]
          },
          "metadata": {},
          "execution_count": 14
        }
      ]
    }
  ],
  "metadata": {
    "colab": {
      "collapsed_sections": [],
      "name": "working_model_with_dataProcessing.ipynb",
      "provenance": [],
      "authorship_tag": "ABX9TyMisuVGpq+4fTXnr29VWG/5",
      "include_colab_link": true
    },
    "kernelspec": {
      "display_name": "Python 3",
      "name": "python3"
    },
    "language_info": {
      "name": "python"
    }
  },
  "nbformat": 4,
  "nbformat_minor": 0
}
