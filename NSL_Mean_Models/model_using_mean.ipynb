{
  "cells": [
    {
      "cell_type": "markdown",
      "metadata": {
        "id": "view-in-github",
        "colab_type": "text"
      },
      "source": [
        "<a href=\"https://colab.research.google.com/github/shehadeh7/APS360-Project/blob/main/NSL_Mean_Models/model_using_mean.ipynb\" target=\"_parent\"><img src=\"https://colab.research.google.com/assets/colab-badge.svg\" alt=\"Open In Colab\"/></a>"
      ]
    },
    {
      "cell_type": "code",
      "source": [
        "import numpy as np\n",
        "import os\n",
        "import sklearn\n",
        "from sklearn.ensemble import RandomForestClassifier\n",
        "from sklearn.utils import shuffle\n",
        "import tensorflow as tf\n",
        "from sklearn.model_selection import train_test_split\n",
        "import matplotlib.pyplot as plt"
      ],
      "metadata": {
        "id": "oXDirr09eM4P"
      },
      "execution_count": 2,
      "outputs": []
    },
    {
      "cell_type": "code",
      "source": [
        "!unzip raw_processed_data.zip\n",
        "# !unzip crema_raw_data.zip"
      ],
      "metadata": {
        "colab": {
          "base_uri": "https://localhost:8080/"
        },
        "id": "RJxCQ07oezQ5",
        "outputId": "0db92b51-20a7-458d-b0c6-3ab35b005cff"
      },
      "execution_count": null,
      "outputs": [
        {
          "output_type": "stream",
          "name": "stdout",
          "text": [
            "Archive:  raw_processed_data.zip\n",
            "  inflating: x_data.npy              \n",
            "  inflating: y_data.npy              \n"
          ]
        }
      ]
    },
    {
      "cell_type": "code",
      "execution_count": 5,
      "metadata": {
        "id": "BDSOjJj3ntwq"
      },
      "outputs": [],
      "source": [
        "# load X and Y from npy files\n",
        "x_path = './x_data.npy'\n",
        "y_path = './y_data.npy'\n",
        "X = np.load(x_path)\n",
        "Y = np.load(y_path)"
      ]
    },
    {
      "cell_type": "code",
      "source": [
        "print(X.shape)\n",
        "print(Y.shape)"
      ],
      "metadata": {
        "colab": {
          "base_uri": "https://localhost:8080/"
        },
        "id": "W18XOwWDgNc6",
        "outputId": "0102c048-992b-4ae3-ad04-14837f2343e8"
      },
      "execution_count": 6,
      "outputs": [
        {
          "output_type": "stream",
          "name": "stdout",
          "text": [
            "(11317, 180)\n",
            "(11317,)\n"
          ]
        }
      ]
    },
    {
      "cell_type": "code",
      "source": [
        "# shuffle X and Y same way\n",
        "# random_state to seed the shuffle\n",
        "from sklearn.model_selection import train_test_split\n",
        "\n",
        "X_train_0, X_test, y_train_0, y_test = train_test_split(X, Y, test_size=0.2, random_state=5)\n",
        "X_train, X_val, y_train, y_val = train_test_split(X_train_0, y_train_0, test_size=0.25, random_state=5) # 0.25 x 0.8 = 0.2"
      ],
      "metadata": {
        "id": "zKJXqcmcho67"
      },
      "execution_count": 7,
      "outputs": []
    },
    {
      "cell_type": "code",
      "source": [
        "from sklearn import svm\n",
        "from sklearn import preprocessing"
      ],
      "metadata": {
        "id": "0nTl12gqzSdJ"
      },
      "execution_count": 8,
      "outputs": []
    },
    {
      "cell_type": "code",
      "source": [
        "scaler = preprocessing.StandardScaler().fit(X_train)\n",
        "X_scaled = scaler.transform(X_train)\n",
        "\n",
        "sc = preprocessing.StandardScaler().fit(X_val)\n",
        "X_val_scaled = sc.transform(X_val)"
      ],
      "metadata": {
        "id": "2ze0qGj_zTpn"
      },
      "execution_count": 9,
      "outputs": []
    },
    {
      "cell_type": "code",
      "source": [
        "# Create a base model -- sequential, functional, or subclass.\n",
        "model = tf.keras.Sequential([\n",
        "    tf.keras.layers.Dense(128, input_dim=X.shape[1], activation='relu'),\n",
        "    tf.keras.layers.BatchNormalization(),\n",
        "    tf.keras.layers.Dropout(0.4),\n",
        "    tf.keras.layers.Dense(128, activation='relu'),\n",
        "    tf.keras.layers.BatchNormalization(),\n",
        "    tf.keras.layers.Dropout(0.4),    \n",
        "    tf.keras.layers.Dense(64, activation='relu'),\n",
        "    tf.keras.layers.BatchNormalization(),\n",
        "    tf.keras.layers.Dropout(0.4),    \n",
        "    tf.keras.layers.Dense(64, activation='relu'),\n",
        "    tf.keras.layers.Dense(6, activation=tf.nn.softmax)\n",
        "])\n",
        "\n",
        "# # Wrap the model with adversarial regularization.\n",
        "# adv_config = nsl.configs.make_adv_reg_config(multiplier=0.2, adv_step_size=0.05)\n",
        "# adv_model = nsl.keras.AdversarialRegularization(model, adv_config=adv_config)\n",
        "\n",
        "adam = tf.keras.optimizers.RMSprop(learning_rate=0.0001)\n",
        "\n",
        "# Compile, train, and evaluate.\n",
        "model.compile(optimizer=adam,\n",
        "                  loss='sparse_categorical_crossentropy',\n",
        "                  metrics=['accuracy'])\n",
        "model.fit(X_scaled, y_train, batch_size=64, epochs=100, validation_data=(X_val_scaled, y_val))\n",
        "# model.evaluate(x_test, y_test)"
      ],
      "metadata": {
        "colab": {
          "base_uri": "https://localhost:8080/"
        },
        "id": "PsWi3gRRmFoV",
        "outputId": "b4968a67-9d00-42ca-cfe1-2f7cd04559b5"
      },
      "execution_count": 11,
      "outputs": [
        {
          "output_type": "stream",
          "name": "stdout",
          "text": [
            "Epoch 1/100\n",
            "107/107 [==============================] - 2s 7ms/step - loss: 2.0993 - accuracy: 0.1729 - val_loss: 1.7398 - val_accuracy: 0.2173\n",
            "Epoch 2/100\n",
            "107/107 [==============================] - 1s 6ms/step - loss: 1.9116 - accuracy: 0.2102 - val_loss: 1.7065 - val_accuracy: 0.2345\n",
            "Epoch 3/100\n",
            "107/107 [==============================] - 1s 5ms/step - loss: 1.8414 - accuracy: 0.2419 - val_loss: 1.6640 - val_accuracy: 0.2822\n",
            "Epoch 4/100\n",
            "107/107 [==============================] - 1s 5ms/step - loss: 1.7706 - accuracy: 0.2670 - val_loss: 1.6288 - val_accuracy: 0.3158\n",
            "Epoch 5/100\n",
            "107/107 [==============================] - 1s 5ms/step - loss: 1.7187 - accuracy: 0.2828 - val_loss: 1.6011 - val_accuracy: 0.3450\n",
            "Epoch 6/100\n",
            "107/107 [==============================] - 1s 5ms/step - loss: 1.6691 - accuracy: 0.3030 - val_loss: 1.5734 - val_accuracy: 0.3763\n",
            "Epoch 7/100\n",
            "107/107 [==============================] - 1s 5ms/step - loss: 1.6380 - accuracy: 0.3123 - val_loss: 1.5464 - val_accuracy: 0.3971\n",
            "Epoch 8/100\n",
            "107/107 [==============================] - 1s 6ms/step - loss: 1.6032 - accuracy: 0.3245 - val_loss: 1.5234 - val_accuracy: 0.4090\n",
            "Epoch 9/100\n",
            "107/107 [==============================] - 1s 7ms/step - loss: 1.5675 - accuracy: 0.3472 - val_loss: 1.4997 - val_accuracy: 0.4254\n",
            "Epoch 10/100\n",
            "107/107 [==============================] - 1s 7ms/step - loss: 1.5574 - accuracy: 0.3548 - val_loss: 1.4825 - val_accuracy: 0.4307\n",
            "Epoch 11/100\n",
            "107/107 [==============================] - 1s 7ms/step - loss: 1.5432 - accuracy: 0.3535 - val_loss: 1.4633 - val_accuracy: 0.4373\n",
            "Epoch 12/100\n",
            "107/107 [==============================] - 1s 6ms/step - loss: 1.5350 - accuracy: 0.3590 - val_loss: 1.4424 - val_accuracy: 0.4510\n",
            "Epoch 13/100\n",
            "107/107 [==============================] - 1s 9ms/step - loss: 1.5185 - accuracy: 0.3632 - val_loss: 1.4263 - val_accuracy: 0.4492\n",
            "Epoch 14/100\n",
            "107/107 [==============================] - 1s 9ms/step - loss: 1.4844 - accuracy: 0.3846 - val_loss: 1.4086 - val_accuracy: 0.4554\n",
            "Epoch 15/100\n",
            "107/107 [==============================] - 1s 6ms/step - loss: 1.4663 - accuracy: 0.3895 - val_loss: 1.3926 - val_accuracy: 0.4527\n",
            "Epoch 16/100\n",
            "107/107 [==============================] - 1s 9ms/step - loss: 1.4646 - accuracy: 0.3953 - val_loss: 1.3781 - val_accuracy: 0.4567\n",
            "Epoch 17/100\n",
            "107/107 [==============================] - 1s 8ms/step - loss: 1.4392 - accuracy: 0.4099 - val_loss: 1.3634 - val_accuracy: 0.4598\n",
            "Epoch 18/100\n",
            "107/107 [==============================] - 1s 10ms/step - loss: 1.4290 - accuracy: 0.4117 - val_loss: 1.3501 - val_accuracy: 0.4761\n",
            "Epoch 19/100\n",
            "107/107 [==============================] - 1s 10ms/step - loss: 1.4201 - accuracy: 0.4195 - val_loss: 1.3365 - val_accuracy: 0.4757\n",
            "Epoch 20/100\n",
            "107/107 [==============================] - 1s 12ms/step - loss: 1.4032 - accuracy: 0.4211 - val_loss: 1.3257 - val_accuracy: 0.4753\n",
            "Epoch 21/100\n",
            "107/107 [==============================] - 2s 16ms/step - loss: 1.3920 - accuracy: 0.4300 - val_loss: 1.3151 - val_accuracy: 0.4779\n",
            "Epoch 22/100\n",
            "107/107 [==============================] - 1s 12ms/step - loss: 1.3888 - accuracy: 0.4261 - val_loss: 1.3096 - val_accuracy: 0.4797\n",
            "Epoch 23/100\n",
            "107/107 [==============================] - 1s 12ms/step - loss: 1.3782 - accuracy: 0.4397 - val_loss: 1.2991 - val_accuracy: 0.4806\n",
            "Epoch 24/100\n",
            "107/107 [==============================] - 1s 12ms/step - loss: 1.3659 - accuracy: 0.4403 - val_loss: 1.2905 - val_accuracy: 0.4854\n",
            "Epoch 25/100\n",
            "107/107 [==============================] - 1s 12ms/step - loss: 1.3645 - accuracy: 0.4409 - val_loss: 1.2853 - val_accuracy: 0.4854\n",
            "Epoch 26/100\n",
            "107/107 [==============================] - 1s 12ms/step - loss: 1.3510 - accuracy: 0.4515 - val_loss: 1.2774 - val_accuracy: 0.4854\n",
            "Epoch 27/100\n",
            "107/107 [==============================] - 1s 13ms/step - loss: 1.3422 - accuracy: 0.4547 - val_loss: 1.2685 - val_accuracy: 0.4956\n",
            "Epoch 28/100\n",
            "107/107 [==============================] - 1s 13ms/step - loss: 1.3479 - accuracy: 0.4463 - val_loss: 1.2637 - val_accuracy: 0.4947\n",
            "Epoch 29/100\n",
            "107/107 [==============================] - 1s 9ms/step - loss: 1.3294 - accuracy: 0.4506 - val_loss: 1.2597 - val_accuracy: 0.4947\n",
            "Epoch 30/100\n",
            "107/107 [==============================] - 1s 8ms/step - loss: 1.3320 - accuracy: 0.4588 - val_loss: 1.2522 - val_accuracy: 0.5004\n",
            "Epoch 31/100\n",
            "107/107 [==============================] - 1s 10ms/step - loss: 1.3183 - accuracy: 0.4715 - val_loss: 1.2478 - val_accuracy: 0.5022\n",
            "Epoch 32/100\n",
            "107/107 [==============================] - 1s 9ms/step - loss: 1.3117 - accuracy: 0.4722 - val_loss: 1.2433 - val_accuracy: 0.4978\n",
            "Epoch 33/100\n",
            "107/107 [==============================] - 1s 8ms/step - loss: 1.3088 - accuracy: 0.4746 - val_loss: 1.2397 - val_accuracy: 0.5066\n",
            "Epoch 34/100\n",
            "107/107 [==============================] - 1s 9ms/step - loss: 1.2982 - accuracy: 0.4755 - val_loss: 1.2341 - val_accuracy: 0.5080\n",
            "Epoch 35/100\n",
            "107/107 [==============================] - 1s 8ms/step - loss: 1.2947 - accuracy: 0.4674 - val_loss: 1.2304 - val_accuracy: 0.5057\n",
            "Epoch 36/100\n",
            "107/107 [==============================] - 1s 8ms/step - loss: 1.2923 - accuracy: 0.4734 - val_loss: 1.2272 - val_accuracy: 0.5053\n",
            "Epoch 37/100\n",
            "107/107 [==============================] - 1s 7ms/step - loss: 1.2832 - accuracy: 0.4837 - val_loss: 1.2230 - val_accuracy: 0.5066\n",
            "Epoch 38/100\n",
            "107/107 [==============================] - 1s 6ms/step - loss: 1.2733 - accuracy: 0.4868 - val_loss: 1.2200 - val_accuracy: 0.5093\n",
            "Epoch 39/100\n",
            "107/107 [==============================] - 1s 5ms/step - loss: 1.2775 - accuracy: 0.4800 - val_loss: 1.2172 - val_accuracy: 0.5119\n",
            "Epoch 40/100\n",
            "107/107 [==============================] - 1s 6ms/step - loss: 1.2684 - accuracy: 0.4895 - val_loss: 1.2117 - val_accuracy: 0.5159\n",
            "Epoch 41/100\n",
            "107/107 [==============================] - 1s 6ms/step - loss: 1.2729 - accuracy: 0.4887 - val_loss: 1.2103 - val_accuracy: 0.5172\n",
            "Epoch 42/100\n",
            "107/107 [==============================] - 1s 5ms/step - loss: 1.2628 - accuracy: 0.4827 - val_loss: 1.2071 - val_accuracy: 0.5172\n",
            "Epoch 43/100\n",
            "107/107 [==============================] - 1s 5ms/step - loss: 1.2593 - accuracy: 0.4908 - val_loss: 1.2050 - val_accuracy: 0.5208\n",
            "Epoch 44/100\n",
            "107/107 [==============================] - 1s 5ms/step - loss: 1.2594 - accuracy: 0.4880 - val_loss: 1.2012 - val_accuracy: 0.5216\n",
            "Epoch 45/100\n",
            "107/107 [==============================] - 1s 5ms/step - loss: 1.2448 - accuracy: 0.4921 - val_loss: 1.1996 - val_accuracy: 0.5225\n",
            "Epoch 46/100\n",
            "107/107 [==============================] - 1s 5ms/step - loss: 1.2400 - accuracy: 0.4939 - val_loss: 1.1969 - val_accuracy: 0.5181\n",
            "Epoch 47/100\n",
            "107/107 [==============================] - 1s 5ms/step - loss: 1.2448 - accuracy: 0.4959 - val_loss: 1.1930 - val_accuracy: 0.5252\n",
            "Epoch 48/100\n",
            "107/107 [==============================] - 1s 5ms/step - loss: 1.2375 - accuracy: 0.4977 - val_loss: 1.1902 - val_accuracy: 0.5269\n",
            "Epoch 49/100\n",
            "107/107 [==============================] - 1s 5ms/step - loss: 1.2396 - accuracy: 0.5038 - val_loss: 1.1876 - val_accuracy: 0.5274\n",
            "Epoch 50/100\n",
            "107/107 [==============================] - 1s 5ms/step - loss: 1.2297 - accuracy: 0.5064 - val_loss: 1.1855 - val_accuracy: 0.5300\n",
            "Epoch 51/100\n",
            "107/107 [==============================] - 1s 5ms/step - loss: 1.2342 - accuracy: 0.5013 - val_loss: 1.1828 - val_accuracy: 0.5327\n",
            "Epoch 52/100\n",
            "107/107 [==============================] - 1s 5ms/step - loss: 1.2287 - accuracy: 0.4989 - val_loss: 1.1792 - val_accuracy: 0.5322\n",
            "Epoch 53/100\n",
            "107/107 [==============================] - 1s 5ms/step - loss: 1.2240 - accuracy: 0.5039 - val_loss: 1.1807 - val_accuracy: 0.5336\n",
            "Epoch 54/100\n",
            "107/107 [==============================] - 1s 5ms/step - loss: 1.2228 - accuracy: 0.5041 - val_loss: 1.1797 - val_accuracy: 0.5314\n",
            "Epoch 55/100\n",
            "107/107 [==============================] - 1s 5ms/step - loss: 1.2120 - accuracy: 0.5070 - val_loss: 1.1759 - val_accuracy: 0.5345\n",
            "Epoch 56/100\n",
            "107/107 [==============================] - 1s 5ms/step - loss: 1.2166 - accuracy: 0.5042 - val_loss: 1.1747 - val_accuracy: 0.5362\n",
            "Epoch 57/100\n",
            "107/107 [==============================] - 1s 5ms/step - loss: 1.2133 - accuracy: 0.5135 - val_loss: 1.1725 - val_accuracy: 0.5362\n",
            "Epoch 58/100\n",
            "107/107 [==============================] - 1s 6ms/step - loss: 1.1989 - accuracy: 0.5158 - val_loss: 1.1723 - val_accuracy: 0.5353\n",
            "Epoch 59/100\n",
            "107/107 [==============================] - 1s 5ms/step - loss: 1.2000 - accuracy: 0.5099 - val_loss: 1.1692 - val_accuracy: 0.5375\n",
            "Epoch 60/100\n",
            "107/107 [==============================] - 1s 5ms/step - loss: 1.2021 - accuracy: 0.5063 - val_loss: 1.1693 - val_accuracy: 0.5349\n",
            "Epoch 61/100\n",
            "107/107 [==============================] - 1s 5ms/step - loss: 1.2090 - accuracy: 0.5098 - val_loss: 1.1691 - val_accuracy: 0.5362\n",
            "Epoch 62/100\n",
            "107/107 [==============================] - 1s 5ms/step - loss: 1.1952 - accuracy: 0.5208 - val_loss: 1.1671 - val_accuracy: 0.5358\n",
            "Epoch 63/100\n",
            "107/107 [==============================] - 1s 5ms/step - loss: 1.1927 - accuracy: 0.5139 - val_loss: 1.1659 - val_accuracy: 0.5345\n",
            "Epoch 64/100\n",
            "107/107 [==============================] - 1s 5ms/step - loss: 1.1917 - accuracy: 0.5173 - val_loss: 1.1651 - val_accuracy: 0.5349\n",
            "Epoch 65/100\n",
            "107/107 [==============================] - 1s 5ms/step - loss: 1.1947 - accuracy: 0.5114 - val_loss: 1.1613 - val_accuracy: 0.5340\n",
            "Epoch 66/100\n",
            "107/107 [==============================] - 1s 5ms/step - loss: 1.1812 - accuracy: 0.5177 - val_loss: 1.1593 - val_accuracy: 0.5358\n",
            "Epoch 67/100\n",
            "107/107 [==============================] - 1s 6ms/step - loss: 1.1706 - accuracy: 0.5259 - val_loss: 1.1585 - val_accuracy: 0.5362\n",
            "Epoch 68/100\n",
            "107/107 [==============================] - 1s 5ms/step - loss: 1.1939 - accuracy: 0.5161 - val_loss: 1.1602 - val_accuracy: 0.5367\n",
            "Epoch 69/100\n",
            "107/107 [==============================] - 1s 5ms/step - loss: 1.1813 - accuracy: 0.5176 - val_loss: 1.1600 - val_accuracy: 0.5353\n",
            "Epoch 70/100\n",
            "107/107 [==============================] - 1s 5ms/step - loss: 1.1728 - accuracy: 0.5192 - val_loss: 1.1566 - val_accuracy: 0.5375\n",
            "Epoch 71/100\n",
            "107/107 [==============================] - 1s 5ms/step - loss: 1.1732 - accuracy: 0.5298 - val_loss: 1.1544 - val_accuracy: 0.5327\n",
            "Epoch 72/100\n",
            "107/107 [==============================] - 1s 5ms/step - loss: 1.1690 - accuracy: 0.5303 - val_loss: 1.1549 - val_accuracy: 0.5353\n",
            "Epoch 73/100\n",
            "107/107 [==============================] - 1s 5ms/step - loss: 1.1779 - accuracy: 0.5201 - val_loss: 1.1516 - val_accuracy: 0.5345\n",
            "Epoch 74/100\n",
            "107/107 [==============================] - 1s 5ms/step - loss: 1.1653 - accuracy: 0.5312 - val_loss: 1.1519 - val_accuracy: 0.5362\n",
            "Epoch 75/100\n",
            "107/107 [==============================] - 1s 5ms/step - loss: 1.1618 - accuracy: 0.5340 - val_loss: 1.1496 - val_accuracy: 0.5358\n",
            "Epoch 76/100\n",
            "107/107 [==============================] - 1s 6ms/step - loss: 1.1591 - accuracy: 0.5270 - val_loss: 1.1460 - val_accuracy: 0.5340\n",
            "Epoch 77/100\n",
            "107/107 [==============================] - 1s 5ms/step - loss: 1.1671 - accuracy: 0.5310 - val_loss: 1.1456 - val_accuracy: 0.5305\n",
            "Epoch 78/100\n",
            "107/107 [==============================] - 1s 5ms/step - loss: 1.1686 - accuracy: 0.5241 - val_loss: 1.1468 - val_accuracy: 0.5349\n",
            "Epoch 79/100\n",
            "107/107 [==============================] - 1s 5ms/step - loss: 1.1583 - accuracy: 0.5266 - val_loss: 1.1464 - val_accuracy: 0.5358\n",
            "Epoch 80/100\n",
            "107/107 [==============================] - 1s 5ms/step - loss: 1.1551 - accuracy: 0.5313 - val_loss: 1.1453 - val_accuracy: 0.5345\n",
            "Epoch 81/100\n",
            "107/107 [==============================] - 1s 5ms/step - loss: 1.1614 - accuracy: 0.5292 - val_loss: 1.1430 - val_accuracy: 0.5345\n",
            "Epoch 82/100\n",
            "107/107 [==============================] - 1s 5ms/step - loss: 1.1499 - accuracy: 0.5341 - val_loss: 1.1424 - val_accuracy: 0.5362\n",
            "Epoch 83/100\n",
            "107/107 [==============================] - 1s 5ms/step - loss: 1.1448 - accuracy: 0.5376 - val_loss: 1.1413 - val_accuracy: 0.5398\n",
            "Epoch 84/100\n",
            "107/107 [==============================] - 1s 5ms/step - loss: 1.1547 - accuracy: 0.5276 - val_loss: 1.1401 - val_accuracy: 0.5322\n",
            "Epoch 85/100\n",
            "107/107 [==============================] - 1s 5ms/step - loss: 1.1383 - accuracy: 0.5419 - val_loss: 1.1377 - val_accuracy: 0.5367\n",
            "Epoch 86/100\n",
            "107/107 [==============================] - 1s 5ms/step - loss: 1.1481 - accuracy: 0.5391 - val_loss: 1.1381 - val_accuracy: 0.5375\n",
            "Epoch 87/100\n",
            "107/107 [==============================] - 1s 5ms/step - loss: 1.1457 - accuracy: 0.5275 - val_loss: 1.1373 - val_accuracy: 0.5384\n",
            "Epoch 88/100\n",
            "107/107 [==============================] - 1s 5ms/step - loss: 1.1518 - accuracy: 0.5404 - val_loss: 1.1358 - val_accuracy: 0.5402\n",
            "Epoch 89/100\n",
            "107/107 [==============================] - 1s 5ms/step - loss: 1.1449 - accuracy: 0.5395 - val_loss: 1.1375 - val_accuracy: 0.5371\n",
            "Epoch 90/100\n",
            "107/107 [==============================] - 1s 5ms/step - loss: 1.1385 - accuracy: 0.5385 - val_loss: 1.1380 - val_accuracy: 0.5428\n",
            "Epoch 91/100\n",
            "107/107 [==============================] - 1s 5ms/step - loss: 1.1375 - accuracy: 0.5485 - val_loss: 1.1384 - val_accuracy: 0.5380\n",
            "Epoch 92/100\n",
            "107/107 [==============================] - 1s 5ms/step - loss: 1.1373 - accuracy: 0.5431 - val_loss: 1.1360 - val_accuracy: 0.5424\n",
            "Epoch 93/100\n",
            "107/107 [==============================] - 1s 5ms/step - loss: 1.1350 - accuracy: 0.5472 - val_loss: 1.1354 - val_accuracy: 0.5411\n",
            "Epoch 94/100\n",
            "107/107 [==============================] - 1s 5ms/step - loss: 1.1431 - accuracy: 0.5401 - val_loss: 1.1348 - val_accuracy: 0.5420\n",
            "Epoch 95/100\n",
            "107/107 [==============================] - 1s 5ms/step - loss: 1.1415 - accuracy: 0.5373 - val_loss: 1.1339 - val_accuracy: 0.5451\n",
            "Epoch 96/100\n",
            "107/107 [==============================] - 1s 5ms/step - loss: 1.1288 - accuracy: 0.5413 - val_loss: 1.1339 - val_accuracy: 0.5455\n",
            "Epoch 97/100\n",
            "107/107 [==============================] - 1s 5ms/step - loss: 1.1379 - accuracy: 0.5460 - val_loss: 1.1322 - val_accuracy: 0.5459\n",
            "Epoch 98/100\n",
            "107/107 [==============================] - 1s 5ms/step - loss: 1.1342 - accuracy: 0.5416 - val_loss: 1.1314 - val_accuracy: 0.5468\n",
            "Epoch 99/100\n",
            "107/107 [==============================] - 1s 5ms/step - loss: 1.1354 - accuracy: 0.5446 - val_loss: 1.1305 - val_accuracy: 0.5490\n",
            "Epoch 100/100\n",
            "107/107 [==============================] - 1s 5ms/step - loss: 1.1128 - accuracy: 0.5574 - val_loss: 1.1305 - val_accuracy: 0.5495\n"
          ]
        },
        {
          "output_type": "execute_result",
          "data": {
            "text/plain": [
              "<keras.callbacks.History at 0x7fe3bc6a0c50>"
            ]
          },
          "metadata": {},
          "execution_count": 11
        }
      ]
    },
    {
      "cell_type": "code",
      "source": [
        "# Create a base model -- sequential, functional, or subclass.\n",
        "model2 = tf.keras.Sequential([\n",
        "    tf.keras.layers.Dense(128, input_dim=X.shape[1], activation='relu'),\n",
        "    tf.keras.layers.BatchNormalization(),\n",
        "    tf.keras.layers.Dropout(0.4),\n",
        "    tf.keras.layers.Dense(128, activation='relu'),\n",
        "    tf.keras.layers.BatchNormalization(),\n",
        "    tf.keras.layers.Dropout(0.4),    \n",
        "    tf.keras.layers.Dense(64, activation='relu'),\n",
        "    tf.keras.layers.Dropout(0.4),\n",
        "    tf.keras.layers.Dense(6, activation=tf.nn.softmax)\n",
        "])\n",
        "\n",
        "modelx = tf.keras.Sequential([\n",
        "    tf.keras.layers.Dense(128, input_dim=X.shape[1], activation='relu'),\n",
        "    tf.keras.layers.BatchNormalization(),\n",
        "    tf.keras.layers.Dropout(0.4),\n",
        "    tf.keras.layers.Dense(128, activation='relu'),\n",
        "    tf.keras.layers.BatchNormalization(),\n",
        "    tf.keras.layers.Dropout(0.4),    \n",
        "    tf.keras.layers.Dense(64, activation='relu'),\n",
        "    tf.keras.layers.Dropout(0.4),\n",
        "    tf.keras.layers.Dense(6, activation=tf.nn.softmax)\n",
        "])\n",
        "\n",
        "# # Wrap the model with adversarial regularization.\n",
        "# adv_config = nsl.configs.make_adv_reg_config(multiplier=0.2, adv_step_size=0.05)\n",
        "# adv_model = nsl.keras.AdversarialRegularization(model, adv_config=adv_config)\n",
        "\n",
        "adam = tf.keras.optimizers.Adam()\n",
        "\n",
        "# Compile, train, and evaluate.\n",
        "modelx.compile(optimizer=adam,\n",
        "                  loss='sparse_categorical_crossentropy',\n",
        "                  metrics=['accuracy'])\n",
        "modelx.fit(X_train, y_train, batch_size=32, epochs=200, validation_data=(X_val, y_val))\n",
        "# model.evaluate(x_test, y_test)"
      ],
      "metadata": {
        "id": "JZJ5_s40gIdR"
      },
      "execution_count": null,
      "outputs": []
    },
    {
      "cell_type": "code",
      "source": [
        "!pip install neural-structured-learning"
      ],
      "metadata": {
        "colab": {
          "base_uri": "https://localhost:8080/"
        },
        "id": "1_wgeIcAhAAY",
        "outputId": "12c727a5-3b6d-447a-d473-2598478191eb"
      },
      "execution_count": 12,
      "outputs": [
        {
          "output_type": "stream",
          "name": "stdout",
          "text": [
            "Requirement already satisfied: neural-structured-learning in /usr/local/lib/python3.7/dist-packages (1.3.1)\n",
            "Requirement already satisfied: absl-py in /usr/local/lib/python3.7/dist-packages (from neural-structured-learning) (1.0.0)\n",
            "Requirement already satisfied: attrs in /usr/local/lib/python3.7/dist-packages (from neural-structured-learning) (21.4.0)\n",
            "Requirement already satisfied: scipy in /usr/local/lib/python3.7/dist-packages (from neural-structured-learning) (1.4.1)\n",
            "Requirement already satisfied: six in /usr/local/lib/python3.7/dist-packages (from neural-structured-learning) (1.15.0)\n",
            "Requirement already satisfied: numpy>=1.13.3 in /usr/local/lib/python3.7/dist-packages (from scipy->neural-structured-learning) (1.21.5)\n"
          ]
        }
      ]
    },
    {
      "cell_type": "code",
      "source": [
        "import neural_structured_learning as nsl\n",
        "\n",
        "tf.keras.backend.clear_session()\n",
        "\n",
        "a_model = tf.keras.Sequential([\n",
        "    tf.keras.layers.Dense(64, input_dim=X.shape[1], activation='relu'),\n",
        "    tf.keras.layers.BatchNormalization(),\n",
        "    tf.keras.layers.Dropout(0.4),\n",
        "    tf.keras.layers.Dense(128, activation='relu'),\n",
        "    tf.keras.layers.BatchNormalization(),\n",
        "    tf.keras.layers.Dropout(0.4),    \n",
        "    tf.keras.layers.Dense(256, activation='relu'),\n",
        "    tf.keras.layers.Dropout(0.4),\n",
        "    tf.keras.layers.Dense(6, activation=tf.nn.softmax)\n",
        "])\n",
        "\n",
        "b_model = tf.keras.Sequential([\n",
        "    tf.keras.layers.Dense(128, input_dim=X.shape[1], activation='relu'),\n",
        "    tf.keras.layers.BatchNormalization(),\n",
        "    tf.keras.layers.Dropout(0.4),\n",
        "    tf.keras.layers.Dense(128, activation='relu'),\n",
        "    tf.keras.layers.BatchNormalization(),\n",
        "    tf.keras.layers.Dropout(0.4),    \n",
        "    tf.keras.layers.Dense(64, activation='relu'),\n",
        "    tf.keras.layers.BatchNormalization(),\n",
        "    tf.keras.layers.Dropout(0.4),    \n",
        "    tf.keras.layers.Dense(64, activation='relu'),\n",
        "    tf.keras.layers.Dense(6, activation=tf.nn.softmax)\n",
        "])\n",
        "\n",
        "# # Wrap the model with adversarial regularization.\n",
        "adv_config = nsl.configs.make_adv_reg_config(multiplier=0.2, adv_step_size=0.05)\n",
        "adv_model = nsl.keras.AdversarialRegularization(b_model, adv_config=adv_config)\n",
        "\n",
        "adam = tf.keras.optimizers.Adam(learning_rate=0.0001)\n",
        "rms = tf.keras.optimizers.RMSprop(learning_rate=0.0001)\n",
        "\n",
        "# Compile, train, and evaluate.\n",
        "adv_model.compile(loss='sparse_categorical_crossentropy', \n",
        "                optimizer=rms, \n",
        "                metrics=['accuracy'])\n",
        "\n",
        "batch_size = 32\n",
        "\n",
        "X_train_tensor = tf.convert_to_tensor(X_scaled, dtype=tf.float64)\n",
        "y_train_tensor = tf.convert_to_tensor(y_train, dtype=tf.float64)\n",
        "X_val_tensor = tf.convert_to_tensor(X_val_scaled, dtype=tf.float64)\n",
        "y_val_tensor = tf.convert_to_tensor(y_val, dtype=tf.float64)\n",
        "\n",
        "train_data = tf.data.Dataset.from_tensor_slices(\n",
        "    {'input': X_train_tensor, 'label': y_train_tensor}).batch(batch_size)\n",
        "val_data = tf.data.Dataset.from_tensor_slices(\n",
        "    {'input': X_val_tensor, 'label': y_val_tensor}).batch(batch_size)\n",
        "val_steps = X_val.shape[0] / batch_size\n",
        "\n",
        "history = adv_model.fit(train_data, batch_size=batch_size, epochs=100, validation_data=val_data)\n",
        "#model.evaluate(X_test, y_test)"
      ],
      "metadata": {
        "colab": {
          "base_uri": "https://localhost:8080/"
        },
        "id": "ACXehHf6hC2U",
        "outputId": "9014af54-06b1-436b-bd6d-5e40db6923b6"
      },
      "execution_count": 13,
      "outputs": [
        {
          "output_type": "stream",
          "name": "stdout",
          "text": [
            "Epoch 1/100\n",
            "WARNING:tensorflow:AutoGraph could not transform <bound method Socket.send of <zmq.Socket(zmq.PUSH) at 0x7fe444f05bb0>> and will run it as-is.\n",
            "Please report this to the TensorFlow team. When filing the bug, set the verbosity to 10 (on Linux, `export AUTOGRAPH_VERBOSITY=10`) and attach the full output.\n",
            "Cause: module, class, method, function, traceback, frame, or code object was expected, got cython_function_or_method\n",
            "To silence this warning, decorate the function with @tf.autograph.experimental.do_not_convert\n"
          ]
        },
        {
          "output_type": "stream",
          "name": "stderr",
          "text": [
            "WARNING:absl:Cannot perturb features dict_keys(['label'])\n",
            "WARNING:tensorflow:AutoGraph could not transform <bound method Socket.send of <zmq.Socket(zmq.PUSH) at 0x7fe444f05bb0>> and will run it as-is.\n",
            "Please report this to the TensorFlow team. When filing the bug, set the verbosity to 10 (on Linux, `export AUTOGRAPH_VERBOSITY=10`) and attach the full output.\n",
            "Cause: module, class, method, function, traceback, frame, or code object was expected, got cython_function_or_method\n",
            "To silence this warning, decorate the function with @tf.autograph.experimental.do_not_convert\n"
          ]
        },
        {
          "output_type": "stream",
          "name": "stdout",
          "text": [
            "WARNING: AutoGraph could not transform <bound method Socket.send of <zmq.Socket(zmq.PUSH) at 0x7fe444f05bb0>> and will run it as-is.\n",
            "Please report this to the TensorFlow team. When filing the bug, set the verbosity to 10 (on Linux, `export AUTOGRAPH_VERBOSITY=10`) and attach the full output.\n",
            "Cause: module, class, method, function, traceback, frame, or code object was expected, got cython_function_or_method\n",
            "To silence this warning, decorate the function with @tf.autograph.experimental.do_not_convert\n",
            "WARNING:tensorflow:AutoGraph could not transform <function wrap at 0x7fe4533abd40> and will run it as-is.\n",
            "Cause: while/else statement not yet supported\n",
            "To silence this warning, decorate the function with @tf.autograph.experimental.do_not_convert\n"
          ]
        },
        {
          "output_type": "stream",
          "name": "stderr",
          "text": [
            "WARNING:tensorflow:AutoGraph could not transform <function wrap at 0x7fe4533abd40> and will run it as-is.\n",
            "Cause: while/else statement not yet supported\n",
            "To silence this warning, decorate the function with @tf.autograph.experimental.do_not_convert\n"
          ]
        },
        {
          "output_type": "stream",
          "name": "stdout",
          "text": [
            "\r  1/213 [..............................] - ETA: 1:40:36 - loss: 2.7795 - sparse_categorical_crossentropy: 2.3695 - sparse_categorical_accuracy: 0.0625 - scaled_adversarial_loss: 0.4099WARNING: AutoGraph could not transform <function wrap at 0x7fe4533abd40> and will run it as-is.\n",
            "Cause: while/else statement not yet supported\n",
            "To silence this warning, decorate the function with @tf.autograph.experimental.do_not_convert\n",
            "213/213 [==============================] - 48s 93ms/step - loss: 2.6020 - sparse_categorical_crossentropy: 2.1695 - sparse_categorical_accuracy: 0.1760 - scaled_adversarial_loss: 0.4325 - val_loss: 2.1241 - val_sparse_categorical_crossentropy: 1.7620 - val_sparse_categorical_accuracy: 0.2367 - val_scaled_adversarial_loss: 0.3621\n",
            "Epoch 2/100\n",
            "213/213 [==============================] - 2s 7ms/step - loss: 2.2874 - sparse_categorical_crossentropy: 1.9071 - sparse_categorical_accuracy: 0.2299 - scaled_adversarial_loss: 0.3803 - val_loss: 1.9915 - val_sparse_categorical_crossentropy: 1.6522 - val_sparse_categorical_accuracy: 0.3229 - val_scaled_adversarial_loss: 0.3393\n",
            "Epoch 3/100\n",
            "213/213 [==============================] - 1s 6ms/step - loss: 2.1360 - sparse_categorical_crossentropy: 1.7784 - sparse_categorical_accuracy: 0.2637 - scaled_adversarial_loss: 0.3576 - val_loss: 1.9246 - val_sparse_categorical_crossentropy: 1.5973 - val_sparse_categorical_accuracy: 0.3564 - val_scaled_adversarial_loss: 0.3274\n",
            "Epoch 4/100\n",
            "213/213 [==============================] - 2s 8ms/step - loss: 2.0468 - sparse_categorical_crossentropy: 1.7061 - sparse_categorical_accuracy: 0.2975 - scaled_adversarial_loss: 0.3407 - val_loss: 1.8702 - val_sparse_categorical_crossentropy: 1.5523 - val_sparse_categorical_accuracy: 0.3728 - val_scaled_adversarial_loss: 0.3179\n",
            "Epoch 5/100\n",
            "213/213 [==============================] - 1s 7ms/step - loss: 1.9839 - sparse_categorical_crossentropy: 1.6522 - sparse_categorical_accuracy: 0.3058 - scaled_adversarial_loss: 0.3317 - val_loss: 1.8268 - val_sparse_categorical_crossentropy: 1.5166 - val_sparse_categorical_accuracy: 0.3869 - val_scaled_adversarial_loss: 0.3102\n",
            "Epoch 6/100\n",
            "213/213 [==============================] - 2s 8ms/step - loss: 1.9230 - sparse_categorical_crossentropy: 1.6019 - sparse_categorical_accuracy: 0.3445 - scaled_adversarial_loss: 0.3211 - val_loss: 1.7871 - val_sparse_categorical_crossentropy: 1.4837 - val_sparse_categorical_accuracy: 0.3997 - val_scaled_adversarial_loss: 0.3034\n",
            "Epoch 7/100\n",
            "213/213 [==============================] - 1s 7ms/step - loss: 1.8648 - sparse_categorical_crossentropy: 1.5526 - sparse_categorical_accuracy: 0.3603 - scaled_adversarial_loss: 0.3122 - val_loss: 1.7453 - val_sparse_categorical_crossentropy: 1.4490 - val_sparse_categorical_accuracy: 0.4148 - val_scaled_adversarial_loss: 0.2963\n",
            "Epoch 8/100\n",
            "213/213 [==============================] - 2s 8ms/step - loss: 1.8387 - sparse_categorical_crossentropy: 1.5308 - sparse_categorical_accuracy: 0.3687 - scaled_adversarial_loss: 0.3078 - val_loss: 1.7118 - val_sparse_categorical_crossentropy: 1.4212 - val_sparse_categorical_accuracy: 0.4302 - val_scaled_adversarial_loss: 0.2906\n",
            "Epoch 9/100\n",
            "213/213 [==============================] - 1s 7ms/step - loss: 1.8048 - sparse_categorical_crossentropy: 1.5015 - sparse_categorical_accuracy: 0.3793 - scaled_adversarial_loss: 0.3033 - val_loss: 1.6813 - val_sparse_categorical_crossentropy: 1.3957 - val_sparse_categorical_accuracy: 0.4426 - val_scaled_adversarial_loss: 0.2855\n",
            "Epoch 10/100\n",
            "213/213 [==============================] - 1s 6ms/step - loss: 1.7794 - sparse_categorical_crossentropy: 1.4828 - sparse_categorical_accuracy: 0.3915 - scaled_adversarial_loss: 0.2965 - val_loss: 1.6563 - val_sparse_categorical_crossentropy: 1.3749 - val_sparse_categorical_accuracy: 0.4510 - val_scaled_adversarial_loss: 0.2814\n",
            "Epoch 11/100\n",
            "213/213 [==============================] - 1s 7ms/step - loss: 1.7422 - sparse_categorical_crossentropy: 1.4501 - sparse_categorical_accuracy: 0.4070 - scaled_adversarial_loss: 0.2921 - val_loss: 1.6307 - val_sparse_categorical_crossentropy: 1.3535 - val_sparse_categorical_accuracy: 0.4633 - val_scaled_adversarial_loss: 0.2772\n",
            "Epoch 12/100\n",
            "213/213 [==============================] - 1s 6ms/step - loss: 1.7291 - sparse_categorical_crossentropy: 1.4375 - sparse_categorical_accuracy: 0.4169 - scaled_adversarial_loss: 0.2915 - val_loss: 1.6142 - val_sparse_categorical_crossentropy: 1.3398 - val_sparse_categorical_accuracy: 0.4629 - val_scaled_adversarial_loss: 0.2744\n",
            "Epoch 13/100\n",
            "213/213 [==============================] - 1s 7ms/step - loss: 1.6949 - sparse_categorical_crossentropy: 1.4102 - sparse_categorical_accuracy: 0.4226 - scaled_adversarial_loss: 0.2847 - val_loss: 1.5960 - val_sparse_categorical_crossentropy: 1.3245 - val_sparse_categorical_accuracy: 0.4669 - val_scaled_adversarial_loss: 0.2715\n",
            "Epoch 14/100\n",
            "213/213 [==============================] - 1s 6ms/step - loss: 1.6875 - sparse_categorical_crossentropy: 1.4032 - sparse_categorical_accuracy: 0.4210 - scaled_adversarial_loss: 0.2843 - val_loss: 1.5824 - val_sparse_categorical_crossentropy: 1.3131 - val_sparse_categorical_accuracy: 0.4722 - val_scaled_adversarial_loss: 0.2692\n",
            "Epoch 15/100\n",
            "213/213 [==============================] - 2s 7ms/step - loss: 1.6689 - sparse_categorical_crossentropy: 1.3893 - sparse_categorical_accuracy: 0.4381 - scaled_adversarial_loss: 0.2796 - val_loss: 1.5675 - val_sparse_categorical_crossentropy: 1.3007 - val_sparse_categorical_accuracy: 0.4823 - val_scaled_adversarial_loss: 0.2668\n",
            "Epoch 16/100\n",
            "213/213 [==============================] - 2s 7ms/step - loss: 1.6475 - sparse_categorical_crossentropy: 1.3675 - sparse_categorical_accuracy: 0.4493 - scaled_adversarial_loss: 0.2800 - val_loss: 1.5539 - val_sparse_categorical_crossentropy: 1.2893 - val_sparse_categorical_accuracy: 0.4775 - val_scaled_adversarial_loss: 0.2646\n",
            "Epoch 17/100\n",
            "213/213 [==============================] - 2s 7ms/step - loss: 1.6283 - sparse_categorical_crossentropy: 1.3529 - sparse_categorical_accuracy: 0.4494 - scaled_adversarial_loss: 0.2754 - val_loss: 1.5426 - val_sparse_categorical_crossentropy: 1.2799 - val_sparse_categorical_accuracy: 0.4814 - val_scaled_adversarial_loss: 0.2628\n",
            "Epoch 18/100\n",
            "213/213 [==============================] - 2s 8ms/step - loss: 1.6080 - sparse_categorical_crossentropy: 1.3341 - sparse_categorical_accuracy: 0.4609 - scaled_adversarial_loss: 0.2740 - val_loss: 1.5336 - val_sparse_categorical_crossentropy: 1.2723 - val_sparse_categorical_accuracy: 0.4903 - val_scaled_adversarial_loss: 0.2613\n",
            "Epoch 19/100\n",
            "213/213 [==============================] - 1s 7ms/step - loss: 1.6163 - sparse_categorical_crossentropy: 1.3447 - sparse_categorical_accuracy: 0.4522 - scaled_adversarial_loss: 0.2716 - val_loss: 1.5260 - val_sparse_categorical_crossentropy: 1.2660 - val_sparse_categorical_accuracy: 0.4916 - val_scaled_adversarial_loss: 0.2600\n",
            "Epoch 20/100\n",
            "213/213 [==============================] - 2s 7ms/step - loss: 1.6053 - sparse_categorical_crossentropy: 1.3359 - sparse_categorical_accuracy: 0.4609 - scaled_adversarial_loss: 0.2694 - val_loss: 1.5184 - val_sparse_categorical_crossentropy: 1.2596 - val_sparse_categorical_accuracy: 0.4934 - val_scaled_adversarial_loss: 0.2588\n",
            "Epoch 21/100\n",
            "213/213 [==============================] - 2s 7ms/step - loss: 1.5939 - sparse_categorical_crossentropy: 1.3253 - sparse_categorical_accuracy: 0.4672 - scaled_adversarial_loss: 0.2686 - val_loss: 1.5105 - val_sparse_categorical_crossentropy: 1.2530 - val_sparse_categorical_accuracy: 0.4943 - val_scaled_adversarial_loss: 0.2575\n",
            "Epoch 22/100\n",
            "213/213 [==============================] - 2s 7ms/step - loss: 1.5705 - sparse_categorical_crossentropy: 1.3042 - sparse_categorical_accuracy: 0.4803 - scaled_adversarial_loss: 0.2663 - val_loss: 1.5047 - val_sparse_categorical_crossentropy: 1.2481 - val_sparse_categorical_accuracy: 0.4934 - val_scaled_adversarial_loss: 0.2565\n",
            "Epoch 23/100\n",
            "213/213 [==============================] - 2s 7ms/step - loss: 1.5614 - sparse_categorical_crossentropy: 1.2975 - sparse_categorical_accuracy: 0.4759 - scaled_adversarial_loss: 0.2639 - val_loss: 1.4973 - val_sparse_categorical_crossentropy: 1.2419 - val_sparse_categorical_accuracy: 0.4969 - val_scaled_adversarial_loss: 0.2554\n",
            "Epoch 24/100\n",
            "213/213 [==============================] - 2s 7ms/step - loss: 1.5655 - sparse_categorical_crossentropy: 1.3027 - sparse_categorical_accuracy: 0.4772 - scaled_adversarial_loss: 0.2628 - val_loss: 1.4929 - val_sparse_categorical_crossentropy: 1.2383 - val_sparse_categorical_accuracy: 0.4996 - val_scaled_adversarial_loss: 0.2546\n",
            "Epoch 25/100\n",
            "213/213 [==============================] - 1s 7ms/step - loss: 1.5521 - sparse_categorical_crossentropy: 1.2907 - sparse_categorical_accuracy: 0.4827 - scaled_adversarial_loss: 0.2614 - val_loss: 1.4850 - val_sparse_categorical_crossentropy: 1.2316 - val_sparse_categorical_accuracy: 0.5049 - val_scaled_adversarial_loss: 0.2534\n",
            "Epoch 26/100\n",
            "213/213 [==============================] - 1s 7ms/step - loss: 1.5400 - sparse_categorical_crossentropy: 1.2805 - sparse_categorical_accuracy: 0.4837 - scaled_adversarial_loss: 0.2595 - val_loss: 1.4808 - val_sparse_categorical_crossentropy: 1.2281 - val_sparse_categorical_accuracy: 0.5057 - val_scaled_adversarial_loss: 0.2527\n",
            "Epoch 27/100\n",
            "213/213 [==============================] - 1s 7ms/step - loss: 1.5288 - sparse_categorical_crossentropy: 1.2700 - sparse_categorical_accuracy: 0.4886 - scaled_adversarial_loss: 0.2588 - val_loss: 1.4750 - val_sparse_categorical_crossentropy: 1.2233 - val_sparse_categorical_accuracy: 0.5035 - val_scaled_adversarial_loss: 0.2517\n",
            "Epoch 28/100\n",
            "213/213 [==============================] - 2s 7ms/step - loss: 1.5339 - sparse_categorical_crossentropy: 1.2777 - sparse_categorical_accuracy: 0.4874 - scaled_adversarial_loss: 0.2562 - val_loss: 1.4691 - val_sparse_categorical_crossentropy: 1.2182 - val_sparse_categorical_accuracy: 0.5075 - val_scaled_adversarial_loss: 0.2508\n",
            "Epoch 29/100\n",
            "213/213 [==============================] - 1s 6ms/step - loss: 1.5207 - sparse_categorical_crossentropy: 1.2647 - sparse_categorical_accuracy: 0.4909 - scaled_adversarial_loss: 0.2560 - val_loss: 1.4643 - val_sparse_categorical_crossentropy: 1.2143 - val_sparse_categorical_accuracy: 0.5093 - val_scaled_adversarial_loss: 0.2500\n",
            "Epoch 30/100\n",
            "213/213 [==============================] - 2s 7ms/step - loss: 1.5078 - sparse_categorical_crossentropy: 1.2527 - sparse_categorical_accuracy: 0.4921 - scaled_adversarial_loss: 0.2551 - val_loss: 1.4585 - val_sparse_categorical_crossentropy: 1.2096 - val_sparse_categorical_accuracy: 0.5128 - val_scaled_adversarial_loss: 0.2490\n",
            "Epoch 31/100\n",
            "213/213 [==============================] - 1s 7ms/step - loss: 1.5065 - sparse_categorical_crossentropy: 1.2507 - sparse_categorical_accuracy: 0.4952 - scaled_adversarial_loss: 0.2558 - val_loss: 1.4566 - val_sparse_categorical_crossentropy: 1.2079 - val_sparse_categorical_accuracy: 0.5119 - val_scaled_adversarial_loss: 0.2487\n",
            "Epoch 32/100\n",
            "213/213 [==============================] - 2s 7ms/step - loss: 1.4958 - sparse_categorical_crossentropy: 1.2426 - sparse_categorical_accuracy: 0.4959 - scaled_adversarial_loss: 0.2533 - val_loss: 1.4510 - val_sparse_categorical_crossentropy: 1.2033 - val_sparse_categorical_accuracy: 0.5155 - val_scaled_adversarial_loss: 0.2477\n",
            "Epoch 33/100\n",
            "213/213 [==============================] - 1s 6ms/step - loss: 1.5026 - sparse_categorical_crossentropy: 1.2494 - sparse_categorical_accuracy: 0.4946 - scaled_adversarial_loss: 0.2532 - val_loss: 1.4497 - val_sparse_categorical_crossentropy: 1.2022 - val_sparse_categorical_accuracy: 0.5163 - val_scaled_adversarial_loss: 0.2475\n",
            "Epoch 34/100\n",
            "213/213 [==============================] - 2s 8ms/step - loss: 1.4806 - sparse_categorical_crossentropy: 1.2288 - sparse_categorical_accuracy: 0.5021 - scaled_adversarial_loss: 0.2518 - val_loss: 1.4466 - val_sparse_categorical_crossentropy: 1.1995 - val_sparse_categorical_accuracy: 0.5199 - val_scaled_adversarial_loss: 0.2471\n",
            "Epoch 35/100\n",
            "213/213 [==============================] - 2s 8ms/step - loss: 1.4869 - sparse_categorical_crossentropy: 1.2369 - sparse_categorical_accuracy: 0.5027 - scaled_adversarial_loss: 0.2500 - val_loss: 1.4427 - val_sparse_categorical_crossentropy: 1.1963 - val_sparse_categorical_accuracy: 0.5239 - val_scaled_adversarial_loss: 0.2464\n",
            "Epoch 36/100\n",
            "213/213 [==============================] - 2s 7ms/step - loss: 1.4738 - sparse_categorical_crossentropy: 1.2248 - sparse_categorical_accuracy: 0.4995 - scaled_adversarial_loss: 0.2490 - val_loss: 1.4389 - val_sparse_categorical_crossentropy: 1.1930 - val_sparse_categorical_accuracy: 0.5172 - val_scaled_adversarial_loss: 0.2458\n",
            "Epoch 37/100\n",
            "213/213 [==============================] - 2s 7ms/step - loss: 1.4618 - sparse_categorical_crossentropy: 1.2144 - sparse_categorical_accuracy: 0.5102 - scaled_adversarial_loss: 0.2474 - val_loss: 1.4364 - val_sparse_categorical_crossentropy: 1.1909 - val_sparse_categorical_accuracy: 0.5199 - val_scaled_adversarial_loss: 0.2455\n",
            "Epoch 38/100\n",
            "213/213 [==============================] - 2s 10ms/step - loss: 1.4615 - sparse_categorical_crossentropy: 1.2141 - sparse_categorical_accuracy: 0.5096 - scaled_adversarial_loss: 0.2475 - val_loss: 1.4356 - val_sparse_categorical_crossentropy: 1.1903 - val_sparse_categorical_accuracy: 0.5221 - val_scaled_adversarial_loss: 0.2454\n",
            "Epoch 39/100\n",
            "213/213 [==============================] - 2s 8ms/step - loss: 1.4557 - sparse_categorical_crossentropy: 1.2097 - sparse_categorical_accuracy: 0.5074 - scaled_adversarial_loss: 0.2461 - val_loss: 1.4318 - val_sparse_categorical_crossentropy: 1.1871 - val_sparse_categorical_accuracy: 0.5234 - val_scaled_adversarial_loss: 0.2447\n",
            "Epoch 40/100\n",
            "213/213 [==============================] - 1s 7ms/step - loss: 1.4456 - sparse_categorical_crossentropy: 1.2010 - sparse_categorical_accuracy: 0.5170 - scaled_adversarial_loss: 0.2446 - val_loss: 1.4286 - val_sparse_categorical_crossentropy: 1.1844 - val_sparse_categorical_accuracy: 0.5261 - val_scaled_adversarial_loss: 0.2442\n",
            "Epoch 41/100\n",
            "213/213 [==============================] - 2s 7ms/step - loss: 1.4357 - sparse_categorical_crossentropy: 1.1924 - sparse_categorical_accuracy: 0.5216 - scaled_adversarial_loss: 0.2434 - val_loss: 1.4258 - val_sparse_categorical_crossentropy: 1.1820 - val_sparse_categorical_accuracy: 0.5278 - val_scaled_adversarial_loss: 0.2438\n",
            "Epoch 42/100\n",
            "213/213 [==============================] - 2s 7ms/step - loss: 1.4462 - sparse_categorical_crossentropy: 1.2027 - sparse_categorical_accuracy: 0.5127 - scaled_adversarial_loss: 0.2436 - val_loss: 1.4235 - val_sparse_categorical_crossentropy: 1.1800 - val_sparse_categorical_accuracy: 0.5274 - val_scaled_adversarial_loss: 0.2434\n",
            "Epoch 43/100\n",
            "213/213 [==============================] - 1s 7ms/step - loss: 1.4316 - sparse_categorical_crossentropy: 1.1879 - sparse_categorical_accuracy: 0.5286 - scaled_adversarial_loss: 0.2436 - val_loss: 1.4195 - val_sparse_categorical_crossentropy: 1.1767 - val_sparse_categorical_accuracy: 0.5274 - val_scaled_adversarial_loss: 0.2428\n",
            "Epoch 44/100\n",
            "213/213 [==============================] - 2s 7ms/step - loss: 1.4226 - sparse_categorical_crossentropy: 1.1802 - sparse_categorical_accuracy: 0.5222 - scaled_adversarial_loss: 0.2424 - val_loss: 1.4195 - val_sparse_categorical_crossentropy: 1.1765 - val_sparse_categorical_accuracy: 0.5300 - val_scaled_adversarial_loss: 0.2429\n",
            "Epoch 45/100\n",
            "213/213 [==============================] - 1s 7ms/step - loss: 1.4253 - sparse_categorical_crossentropy: 1.1829 - sparse_categorical_accuracy: 0.5279 - scaled_adversarial_loss: 0.2425 - val_loss: 1.4165 - val_sparse_categorical_crossentropy: 1.1741 - val_sparse_categorical_accuracy: 0.5345 - val_scaled_adversarial_loss: 0.2424\n",
            "Epoch 46/100\n",
            "213/213 [==============================] - 1s 6ms/step - loss: 1.4193 - sparse_categorical_crossentropy: 1.1776 - sparse_categorical_accuracy: 0.5244 - scaled_adversarial_loss: 0.2417 - val_loss: 1.4140 - val_sparse_categorical_crossentropy: 1.1720 - val_sparse_categorical_accuracy: 0.5318 - val_scaled_adversarial_loss: 0.2420\n",
            "Epoch 47/100\n",
            "213/213 [==============================] - 1s 7ms/step - loss: 1.4140 - sparse_categorical_crossentropy: 1.1724 - sparse_categorical_accuracy: 0.5291 - scaled_adversarial_loss: 0.2416 - val_loss: 1.4133 - val_sparse_categorical_crossentropy: 1.1715 - val_sparse_categorical_accuracy: 0.5309 - val_scaled_adversarial_loss: 0.2418\n",
            "Epoch 48/100\n",
            "213/213 [==============================] - 1s 7ms/step - loss: 1.4087 - sparse_categorical_crossentropy: 1.1702 - sparse_categorical_accuracy: 0.5301 - scaled_adversarial_loss: 0.2385 - val_loss: 1.4135 - val_sparse_categorical_crossentropy: 1.1716 - val_sparse_categorical_accuracy: 0.5314 - val_scaled_adversarial_loss: 0.2419\n",
            "Epoch 49/100\n",
            "213/213 [==============================] - 2s 8ms/step - loss: 1.4203 - sparse_categorical_crossentropy: 1.1792 - sparse_categorical_accuracy: 0.5235 - scaled_adversarial_loss: 0.2411 - val_loss: 1.4116 - val_sparse_categorical_crossentropy: 1.1701 - val_sparse_categorical_accuracy: 0.5314 - val_scaled_adversarial_loss: 0.2416\n",
            "Epoch 50/100\n",
            "213/213 [==============================] - 1s 6ms/step - loss: 1.4091 - sparse_categorical_crossentropy: 1.1683 - sparse_categorical_accuracy: 0.5284 - scaled_adversarial_loss: 0.2408 - val_loss: 1.4095 - val_sparse_categorical_crossentropy: 1.1682 - val_sparse_categorical_accuracy: 0.5305 - val_scaled_adversarial_loss: 0.2413\n",
            "Epoch 51/100\n",
            "213/213 [==============================] - 1s 7ms/step - loss: 1.3982 - sparse_categorical_crossentropy: 1.1617 - sparse_categorical_accuracy: 0.5288 - scaled_adversarial_loss: 0.2365 - val_loss: 1.4097 - val_sparse_categorical_crossentropy: 1.1684 - val_sparse_categorical_accuracy: 0.5384 - val_scaled_adversarial_loss: 0.2413\n",
            "Epoch 52/100\n",
            "213/213 [==============================] - 1s 7ms/step - loss: 1.4058 - sparse_categorical_crossentropy: 1.1670 - sparse_categorical_accuracy: 0.5331 - scaled_adversarial_loss: 0.2388 - val_loss: 1.4085 - val_sparse_categorical_crossentropy: 1.1673 - val_sparse_categorical_accuracy: 0.5362 - val_scaled_adversarial_loss: 0.2411\n",
            "Epoch 53/100\n",
            "213/213 [==============================] - 1s 7ms/step - loss: 1.3913 - sparse_categorical_crossentropy: 1.1560 - sparse_categorical_accuracy: 0.5326 - scaled_adversarial_loss: 0.2353 - val_loss: 1.4069 - val_sparse_categorical_crossentropy: 1.1660 - val_sparse_categorical_accuracy: 0.5362 - val_scaled_adversarial_loss: 0.2409\n",
            "Epoch 54/100\n",
            "213/213 [==============================] - 2s 7ms/step - loss: 1.3872 - sparse_categorical_crossentropy: 1.1500 - sparse_categorical_accuracy: 0.5382 - scaled_adversarial_loss: 0.2372 - val_loss: 1.4039 - val_sparse_categorical_crossentropy: 1.1633 - val_sparse_categorical_accuracy: 0.5345 - val_scaled_adversarial_loss: 0.2405\n",
            "Epoch 55/100\n",
            "213/213 [==============================] - 1s 7ms/step - loss: 1.3804 - sparse_categorical_crossentropy: 1.1440 - sparse_categorical_accuracy: 0.5421 - scaled_adversarial_loss: 0.2364 - val_loss: 1.4015 - val_sparse_categorical_crossentropy: 1.1613 - val_sparse_categorical_accuracy: 0.5380 - val_scaled_adversarial_loss: 0.2403\n",
            "Epoch 56/100\n",
            "213/213 [==============================] - 1s 7ms/step - loss: 1.3793 - sparse_categorical_crossentropy: 1.1439 - sparse_categorical_accuracy: 0.5419 - scaled_adversarial_loss: 0.2354 - val_loss: 1.4001 - val_sparse_categorical_crossentropy: 1.1601 - val_sparse_categorical_accuracy: 0.5433 - val_scaled_adversarial_loss: 0.2400\n",
            "Epoch 57/100\n",
            "213/213 [==============================] - 2s 7ms/step - loss: 1.3892 - sparse_categorical_crossentropy: 1.1557 - sparse_categorical_accuracy: 0.5340 - scaled_adversarial_loss: 0.2335 - val_loss: 1.3976 - val_sparse_categorical_crossentropy: 1.1580 - val_sparse_categorical_accuracy: 0.5406 - val_scaled_adversarial_loss: 0.2395\n",
            "Epoch 58/100\n",
            "213/213 [==============================] - 2s 7ms/step - loss: 1.3792 - sparse_categorical_crossentropy: 1.1466 - sparse_categorical_accuracy: 0.5360 - scaled_adversarial_loss: 0.2327 - val_loss: 1.3976 - val_sparse_categorical_crossentropy: 1.1581 - val_sparse_categorical_accuracy: 0.5428 - val_scaled_adversarial_loss: 0.2395\n",
            "Epoch 59/100\n",
            "213/213 [==============================] - 1s 7ms/step - loss: 1.3684 - sparse_categorical_crossentropy: 1.1349 - sparse_categorical_accuracy: 0.5474 - scaled_adversarial_loss: 0.2336 - val_loss: 1.3949 - val_sparse_categorical_crossentropy: 1.1557 - val_sparse_categorical_accuracy: 0.5473 - val_scaled_adversarial_loss: 0.2392\n",
            "Epoch 60/100\n",
            "213/213 [==============================] - 2s 8ms/step - loss: 1.3783 - sparse_categorical_crossentropy: 1.1438 - sparse_categorical_accuracy: 0.5394 - scaled_adversarial_loss: 0.2345 - val_loss: 1.3926 - val_sparse_categorical_crossentropy: 1.1537 - val_sparse_categorical_accuracy: 0.5468 - val_scaled_adversarial_loss: 0.2388\n",
            "Epoch 61/100\n",
            "213/213 [==============================] - 2s 7ms/step - loss: 1.3658 - sparse_categorical_crossentropy: 1.1334 - sparse_categorical_accuracy: 0.5565 - scaled_adversarial_loss: 0.2324 - val_loss: 1.3924 - val_sparse_categorical_crossentropy: 1.1536 - val_sparse_categorical_accuracy: 0.5451 - val_scaled_adversarial_loss: 0.2388\n",
            "Epoch 62/100\n",
            "213/213 [==============================] - 1s 7ms/step - loss: 1.3599 - sparse_categorical_crossentropy: 1.1290 - sparse_categorical_accuracy: 0.5425 - scaled_adversarial_loss: 0.2309 - val_loss: 1.3876 - val_sparse_categorical_crossentropy: 1.1494 - val_sparse_categorical_accuracy: 0.5495 - val_scaled_adversarial_loss: 0.2381\n",
            "Epoch 63/100\n",
            "213/213 [==============================] - 1s 7ms/step - loss: 1.3559 - sparse_categorical_crossentropy: 1.1245 - sparse_categorical_accuracy: 0.5432 - scaled_adversarial_loss: 0.2314 - val_loss: 1.3877 - val_sparse_categorical_crossentropy: 1.1496 - val_sparse_categorical_accuracy: 0.5499 - val_scaled_adversarial_loss: 0.2382\n",
            "Epoch 64/100\n",
            "213/213 [==============================] - 2s 7ms/step - loss: 1.3533 - sparse_categorical_crossentropy: 1.1232 - sparse_categorical_accuracy: 0.5453 - scaled_adversarial_loss: 0.2300 - val_loss: 1.3886 - val_sparse_categorical_crossentropy: 1.1502 - val_sparse_categorical_accuracy: 0.5517 - val_scaled_adversarial_loss: 0.2384\n",
            "Epoch 65/100\n",
            "213/213 [==============================] - 2s 7ms/step - loss: 1.3462 - sparse_categorical_crossentropy: 1.1173 - sparse_categorical_accuracy: 0.5507 - scaled_adversarial_loss: 0.2290 - val_loss: 1.3865 - val_sparse_categorical_crossentropy: 1.1484 - val_sparse_categorical_accuracy: 0.5490 - val_scaled_adversarial_loss: 0.2381\n",
            "Epoch 66/100\n",
            "213/213 [==============================] - 2s 7ms/step - loss: 1.3503 - sparse_categorical_crossentropy: 1.1220 - sparse_categorical_accuracy: 0.5440 - scaled_adversarial_loss: 0.2283 - val_loss: 1.3859 - val_sparse_categorical_crossentropy: 1.1479 - val_sparse_categorical_accuracy: 0.5517 - val_scaled_adversarial_loss: 0.2381\n",
            "Epoch 67/100\n",
            "213/213 [==============================] - 2s 8ms/step - loss: 1.3339 - sparse_categorical_crossentropy: 1.1062 - sparse_categorical_accuracy: 0.5593 - scaled_adversarial_loss: 0.2276 - val_loss: 1.3844 - val_sparse_categorical_crossentropy: 1.1466 - val_sparse_categorical_accuracy: 0.5512 - val_scaled_adversarial_loss: 0.2377\n",
            "Epoch 68/100\n",
            "213/213 [==============================] - 1s 7ms/step - loss: 1.3427 - sparse_categorical_crossentropy: 1.1138 - sparse_categorical_accuracy: 0.5507 - scaled_adversarial_loss: 0.2289 - val_loss: 1.3850 - val_sparse_categorical_crossentropy: 1.1472 - val_sparse_categorical_accuracy: 0.5512 - val_scaled_adversarial_loss: 0.2378\n",
            "Epoch 69/100\n",
            "213/213 [==============================] - 1s 7ms/step - loss: 1.3410 - sparse_categorical_crossentropy: 1.1129 - sparse_categorical_accuracy: 0.5528 - scaled_adversarial_loss: 0.2281 - val_loss: 1.3825 - val_sparse_categorical_crossentropy: 1.1448 - val_sparse_categorical_accuracy: 0.5530 - val_scaled_adversarial_loss: 0.2376\n",
            "Epoch 70/100\n",
            "213/213 [==============================] - 2s 7ms/step - loss: 1.3274 - sparse_categorical_crossentropy: 1.0997 - sparse_categorical_accuracy: 0.5575 - scaled_adversarial_loss: 0.2276 - val_loss: 1.3848 - val_sparse_categorical_crossentropy: 1.1468 - val_sparse_categorical_accuracy: 0.5512 - val_scaled_adversarial_loss: 0.2380\n",
            "Epoch 71/100\n",
            "213/213 [==============================] - 2s 8ms/step - loss: 1.3263 - sparse_categorical_crossentropy: 1.1001 - sparse_categorical_accuracy: 0.5586 - scaled_adversarial_loss: 0.2262 - val_loss: 1.3833 - val_sparse_categorical_crossentropy: 1.1455 - val_sparse_categorical_accuracy: 0.5517 - val_scaled_adversarial_loss: 0.2378\n",
            "Epoch 72/100\n",
            "213/213 [==============================] - 2s 7ms/step - loss: 1.3375 - sparse_categorical_crossentropy: 1.1107 - sparse_categorical_accuracy: 0.5522 - scaled_adversarial_loss: 0.2267 - val_loss: 1.3820 - val_sparse_categorical_crossentropy: 1.1445 - val_sparse_categorical_accuracy: 0.5543 - val_scaled_adversarial_loss: 0.2375\n",
            "Epoch 73/100\n",
            "213/213 [==============================] - 1s 7ms/step - loss: 1.3325 - sparse_categorical_crossentropy: 1.1051 - sparse_categorical_accuracy: 0.5575 - scaled_adversarial_loss: 0.2274 - val_loss: 1.3806 - val_sparse_categorical_crossentropy: 1.1432 - val_sparse_categorical_accuracy: 0.5552 - val_scaled_adversarial_loss: 0.2374\n",
            "Epoch 74/100\n",
            "213/213 [==============================] - 1s 7ms/step - loss: 1.3191 - sparse_categorical_crossentropy: 1.0955 - sparse_categorical_accuracy: 0.5612 - scaled_adversarial_loss: 0.2235 - val_loss: 1.3814 - val_sparse_categorical_crossentropy: 1.1438 - val_sparse_categorical_accuracy: 0.5614 - val_scaled_adversarial_loss: 0.2376\n",
            "Epoch 75/100\n",
            "213/213 [==============================] - 1s 7ms/step - loss: 1.3164 - sparse_categorical_crossentropy: 1.0904 - sparse_categorical_accuracy: 0.5636 - scaled_adversarial_loss: 0.2260 - val_loss: 1.3781 - val_sparse_categorical_crossentropy: 1.1410 - val_sparse_categorical_accuracy: 0.5561 - val_scaled_adversarial_loss: 0.2371\n",
            "Epoch 76/100\n",
            "213/213 [==============================] - 1s 6ms/step - loss: 1.3211 - sparse_categorical_crossentropy: 1.0955 - sparse_categorical_accuracy: 0.5613 - scaled_adversarial_loss: 0.2256 - val_loss: 1.3762 - val_sparse_categorical_crossentropy: 1.1395 - val_sparse_categorical_accuracy: 0.5592 - val_scaled_adversarial_loss: 0.2367\n",
            "Epoch 77/100\n",
            "213/213 [==============================] - 2s 7ms/step - loss: 1.3093 - sparse_categorical_crossentropy: 1.0843 - sparse_categorical_accuracy: 0.5624 - scaled_adversarial_loss: 0.2250 - val_loss: 1.3772 - val_sparse_categorical_crossentropy: 1.1401 - val_sparse_categorical_accuracy: 0.5548 - val_scaled_adversarial_loss: 0.2371\n",
            "Epoch 78/100\n",
            "213/213 [==============================] - 1s 7ms/step - loss: 1.3089 - sparse_categorical_crossentropy: 1.0851 - sparse_categorical_accuracy: 0.5675 - scaled_adversarial_loss: 0.2238 - val_loss: 1.3766 - val_sparse_categorical_crossentropy: 1.1396 - val_sparse_categorical_accuracy: 0.5610 - val_scaled_adversarial_loss: 0.2370\n",
            "Epoch 79/100\n",
            "213/213 [==============================] - 2s 7ms/step - loss: 1.3111 - sparse_categorical_crossentropy: 1.0883 - sparse_categorical_accuracy: 0.5683 - scaled_adversarial_loss: 0.2228 - val_loss: 1.3763 - val_sparse_categorical_crossentropy: 1.1394 - val_sparse_categorical_accuracy: 0.5610 - val_scaled_adversarial_loss: 0.2369\n",
            "Epoch 80/100\n",
            "213/213 [==============================] - 1s 7ms/step - loss: 1.3110 - sparse_categorical_crossentropy: 1.0873 - sparse_categorical_accuracy: 0.5588 - scaled_adversarial_loss: 0.2237 - val_loss: 1.3785 - val_sparse_categorical_crossentropy: 1.1412 - val_sparse_categorical_accuracy: 0.5596 - val_scaled_adversarial_loss: 0.2373\n",
            "Epoch 81/100\n",
            "213/213 [==============================] - 2s 7ms/step - loss: 1.3162 - sparse_categorical_crossentropy: 1.0935 - sparse_categorical_accuracy: 0.5686 - scaled_adversarial_loss: 0.2227 - val_loss: 1.3748 - val_sparse_categorical_crossentropy: 1.1380 - val_sparse_categorical_accuracy: 0.5627 - val_scaled_adversarial_loss: 0.2368\n",
            "Epoch 82/100\n",
            "213/213 [==============================] - 2s 7ms/step - loss: 1.3061 - sparse_categorical_crossentropy: 1.0832 - sparse_categorical_accuracy: 0.5668 - scaled_adversarial_loss: 0.2228 - val_loss: 1.3730 - val_sparse_categorical_crossentropy: 1.1366 - val_sparse_categorical_accuracy: 0.5636 - val_scaled_adversarial_loss: 0.2364\n",
            "Epoch 83/100\n",
            "213/213 [==============================] - 1s 7ms/step - loss: 1.3035 - sparse_categorical_crossentropy: 1.0803 - sparse_categorical_accuracy: 0.5671 - scaled_adversarial_loss: 0.2232 - val_loss: 1.3725 - val_sparse_categorical_crossentropy: 1.1361 - val_sparse_categorical_accuracy: 0.5579 - val_scaled_adversarial_loss: 0.2364\n",
            "Epoch 84/100\n",
            "213/213 [==============================] - 2s 7ms/step - loss: 1.3129 - sparse_categorical_crossentropy: 1.0902 - sparse_categorical_accuracy: 0.5633 - scaled_adversarial_loss: 0.2228 - val_loss: 1.3694 - val_sparse_categorical_crossentropy: 1.1335 - val_sparse_categorical_accuracy: 0.5601 - val_scaled_adversarial_loss: 0.2360\n",
            "Epoch 85/100\n",
            "213/213 [==============================] - 1s 6ms/step - loss: 1.3041 - sparse_categorical_crossentropy: 1.0817 - sparse_categorical_accuracy: 0.5640 - scaled_adversarial_loss: 0.2224 - val_loss: 1.3652 - val_sparse_categorical_crossentropy: 1.1299 - val_sparse_categorical_accuracy: 0.5596 - val_scaled_adversarial_loss: 0.2353\n",
            "Epoch 86/100\n",
            "213/213 [==============================] - 1s 7ms/step - loss: 1.2843 - sparse_categorical_crossentropy: 1.0633 - sparse_categorical_accuracy: 0.5745 - scaled_adversarial_loss: 0.2210 - val_loss: 1.3660 - val_sparse_categorical_crossentropy: 1.1304 - val_sparse_categorical_accuracy: 0.5574 - val_scaled_adversarial_loss: 0.2356\n",
            "Epoch 87/100\n",
            "213/213 [==============================] - 1s 7ms/step - loss: 1.2804 - sparse_categorical_crossentropy: 1.0601 - sparse_categorical_accuracy: 0.5702 - scaled_adversarial_loss: 0.2203 - val_loss: 1.3720 - val_sparse_categorical_crossentropy: 1.1353 - val_sparse_categorical_accuracy: 0.5605 - val_scaled_adversarial_loss: 0.2366\n",
            "Epoch 88/100\n",
            "213/213 [==============================] - 2s 8ms/step - loss: 1.2803 - sparse_categorical_crossentropy: 1.0618 - sparse_categorical_accuracy: 0.5756 - scaled_adversarial_loss: 0.2186 - val_loss: 1.3708 - val_sparse_categorical_crossentropy: 1.1343 - val_sparse_categorical_accuracy: 0.5561 - val_scaled_adversarial_loss: 0.2365\n",
            "Epoch 89/100\n",
            "213/213 [==============================] - 2s 7ms/step - loss: 1.2866 - sparse_categorical_crossentropy: 1.0672 - sparse_categorical_accuracy: 0.5690 - scaled_adversarial_loss: 0.2194 - val_loss: 1.3715 - val_sparse_categorical_crossentropy: 1.1348 - val_sparse_categorical_accuracy: 0.5583 - val_scaled_adversarial_loss: 0.2367\n",
            "Epoch 90/100\n",
            "213/213 [==============================] - 1s 7ms/step - loss: 1.2865 - sparse_categorical_crossentropy: 1.0663 - sparse_categorical_accuracy: 0.5748 - scaled_adversarial_loss: 0.2202 - val_loss: 1.3712 - val_sparse_categorical_crossentropy: 1.1347 - val_sparse_categorical_accuracy: 0.5579 - val_scaled_adversarial_loss: 0.2365\n",
            "Epoch 91/100\n",
            "213/213 [==============================] - 2s 7ms/step - loss: 1.2884 - sparse_categorical_crossentropy: 1.0706 - sparse_categorical_accuracy: 0.5665 - scaled_adversarial_loss: 0.2178 - val_loss: 1.3684 - val_sparse_categorical_crossentropy: 1.1324 - val_sparse_categorical_accuracy: 0.5623 - val_scaled_adversarial_loss: 0.2361\n",
            "Epoch 92/100\n",
            "213/213 [==============================] - 1s 7ms/step - loss: 1.2761 - sparse_categorical_crossentropy: 1.0587 - sparse_categorical_accuracy: 0.5725 - scaled_adversarial_loss: 0.2175 - val_loss: 1.3669 - val_sparse_categorical_crossentropy: 1.1309 - val_sparse_categorical_accuracy: 0.5632 - val_scaled_adversarial_loss: 0.2360\n",
            "Epoch 93/100\n",
            "213/213 [==============================] - 2s 7ms/step - loss: 1.2830 - sparse_categorical_crossentropy: 1.0657 - sparse_categorical_accuracy: 0.5731 - scaled_adversarial_loss: 0.2172 - val_loss: 1.3640 - val_sparse_categorical_crossentropy: 1.1285 - val_sparse_categorical_accuracy: 0.5623 - val_scaled_adversarial_loss: 0.2355\n",
            "Epoch 94/100\n",
            "213/213 [==============================] - 1s 7ms/step - loss: 1.2744 - sparse_categorical_crossentropy: 1.0551 - sparse_categorical_accuracy: 0.5742 - scaled_adversarial_loss: 0.2193 - val_loss: 1.3637 - val_sparse_categorical_crossentropy: 1.1283 - val_sparse_categorical_accuracy: 0.5632 - val_scaled_adversarial_loss: 0.2354\n",
            "Epoch 95/100\n",
            "213/213 [==============================] - 2s 7ms/step - loss: 1.2767 - sparse_categorical_crossentropy: 1.0593 - sparse_categorical_accuracy: 0.5805 - scaled_adversarial_loss: 0.2174 - val_loss: 1.3648 - val_sparse_categorical_crossentropy: 1.1292 - val_sparse_categorical_accuracy: 0.5640 - val_scaled_adversarial_loss: 0.2356\n",
            "Epoch 96/100\n",
            "213/213 [==============================] - 1s 7ms/step - loss: 1.2714 - sparse_categorical_crossentropy: 1.0554 - sparse_categorical_accuracy: 0.5778 - scaled_adversarial_loss: 0.2160 - val_loss: 1.3648 - val_sparse_categorical_crossentropy: 1.1292 - val_sparse_categorical_accuracy: 0.5645 - val_scaled_adversarial_loss: 0.2356\n",
            "Epoch 97/100\n",
            "213/213 [==============================] - 2s 8ms/step - loss: 1.2673 - sparse_categorical_crossentropy: 1.0510 - sparse_categorical_accuracy: 0.5812 - scaled_adversarial_loss: 0.2162 - val_loss: 1.3696 - val_sparse_categorical_crossentropy: 1.1331 - val_sparse_categorical_accuracy: 0.5592 - val_scaled_adversarial_loss: 0.2366\n",
            "Epoch 98/100\n",
            "213/213 [==============================] - 2s 8ms/step - loss: 1.2638 - sparse_categorical_crossentropy: 1.0463 - sparse_categorical_accuracy: 0.5854 - scaled_adversarial_loss: 0.2174 - val_loss: 1.3654 - val_sparse_categorical_crossentropy: 1.1295 - val_sparse_categorical_accuracy: 0.5645 - val_scaled_adversarial_loss: 0.2358\n",
            "Epoch 99/100\n",
            "213/213 [==============================] - 2s 8ms/step - loss: 1.2641 - sparse_categorical_crossentropy: 1.0461 - sparse_categorical_accuracy: 0.5854 - scaled_adversarial_loss: 0.2180 - val_loss: 1.3683 - val_sparse_categorical_crossentropy: 1.1319 - val_sparse_categorical_accuracy: 0.5632 - val_scaled_adversarial_loss: 0.2364\n",
            "Epoch 100/100\n",
            "213/213 [==============================] - 3s 13ms/step - loss: 1.2540 - sparse_categorical_crossentropy: 1.0375 - sparse_categorical_accuracy: 0.5911 - scaled_adversarial_loss: 0.2165 - val_loss: 1.3663 - val_sparse_categorical_crossentropy: 1.1302 - val_sparse_categorical_accuracy: 0.5636 - val_scaled_adversarial_loss: 0.2362\n"
          ]
        }
      ]
    },
    {
      "cell_type": "code",
      "source": [
        "plt.plot(history.history['sparse_categorical_accuracy'])\n",
        "plt.plot(history.history['val_sparse_categorical_accuracy'])\n",
        "plt.title('model accuracy')\n",
        "plt.ylabel('accuracy')\n",
        "plt.xlabel('epoch')\n",
        "plt.legend(['train', 'val'], loc='upper left')\n",
        "plt.show()"
      ],
      "metadata": {
        "id": "yqpMP3cAWbmu",
        "colab": {
          "base_uri": "https://localhost:8080/",
          "height": 295
        },
        "outputId": "1ec3b09c-1755-49f2-fa44-7c29554bf819"
      },
      "execution_count": 15,
      "outputs": [
        {
          "output_type": "display_data",
          "data": {
            "text/plain": [
              "<Figure size 432x288 with 1 Axes>"
            ],
            "image/png": "[encoded data removed]"
          },
          "metadata": {
            "needs_background": "light"
          }
        }
      ]
    },
    {
      "cell_type": "code",
      "source": [
        "plt.plot(history.history['loss'])\n",
        "plt.plot(history.history['val_loss'])\n",
        "plt.title('model loss')\n",
        "plt.ylabel('loss')\n",
        "plt.xlabel('epoch')\n",
        "plt.legend(['train', 'val'], loc='upper left')\n",
        "plt.show()"
      ],
      "metadata": {
        "id": "WNZkd9XgWeWd",
        "colab": {
          "base_uri": "https://localhost:8080/",
          "height": 295
        },
        "outputId": "e0191ef5-757c-42a6-e206-7f0ec77040e9"
      },
      "execution_count": 16,
      "outputs": [
        {
          "output_type": "display_data",
          "data": {
            "text/plain": [
              "<Figure size 432x288 with 1 Axes>"
            ],
            "image/png": "[encoded data removed]"
          },
          "metadata": {
            "needs_background": "light"
          }
        }
      ]
    },
    {
      "cell_type": "code",
      "source": [
        "#Create a Gaussian Classifier\n",
        "clf=RandomForestClassifier(criterion='entropy')\n",
        "\n",
        "#Train the model using the training sets y_pred=clf.predict(X_test)\n",
        "# Flatten X to a 2d array for random forest\n",
        "clf.fit(X_scaled, y_train)"
      ],
      "metadata": {
        "colab": {
          "base_uri": "https://localhost:8080/"
        },
        "id": "raRoY8sVzn9C",
        "outputId": "5a416c60-24c7-4fec-9077-fbe2757f5c1a"
      },
      "execution_count": null,
      "outputs": [
        {
          "output_type": "execute_result",
          "data": {
            "text/plain": [
              "RandomForestClassifier(criterion='entropy')"
            ]
          },
          "metadata": {},
          "execution_count": 20
        }
      ]
    },
    {
      "cell_type": "code",
      "source": [
        "y_pred=clf.predict(X_val_scaled)"
      ],
      "metadata": {
        "id": "aAoD7r7Jz1l9"
      },
      "execution_count": null,
      "outputs": []
    },
    {
      "cell_type": "code",
      "source": [
        "ascore = sklearn.metrics.accuracy_score(y_val, y_pred)"
      ],
      "metadata": {
        "id": "mgow6rVKz9NW"
      },
      "execution_count": null,
      "outputs": []
    },
    {
      "cell_type": "code",
      "source": [
        "print(ascore)"
      ],
      "metadata": {
        "colab": {
          "base_uri": "https://localhost:8080/"
        },
        "id": "4sHd2oYZ0ATY",
        "outputId": "e8cccd54-1001-4ab0-d04c-922f8bcfcdd9"
      },
      "execution_count": null,
      "outputs": [
        {
          "output_type": "stream",
          "name": "stdout",
          "text": [
            "0.4787985865724382\n"
          ]
        }
      ]
    },
    {
      "cell_type": "code",
      "source": [
        "# Create a base model -- sequential, functional, or subclass.\n",
        "model_rnn = tf.keras.Sequential([\n",
        "    tf.keras.layers.LSTM(64, return_sequences = True, input_shape=(X_train.shape[1],1)),\n",
        "    tf.keras.layers.LSTM(64),\n",
        "    tf.keras.layers.Dense(6, activation=tf.nn.softmax)\n",
        "])\n",
        "\n",
        "\n",
        "# # Wrap the model with adversarial regularization.\n",
        "# adv_config = nsl.configs.make_adv_reg_config(multiplier=0.2, adv_step_size=0.05)\n",
        "# adv_model = nsl.keras.AdversarialRegularization(model, adv_config=adv_config)\n",
        "\n",
        "rms = tf.keras.optimizers.RMSprop(learning_rate=0.001)\n",
        "\n",
        "# Compile, train, and evaluate.\n",
        "model_rnn.compile(optimizer=rms,\n",
        "                  loss='sparse_categorical_crossentropy',\n",
        "                  metrics=['accuracy'])\n",
        "model_rnn.fit(X_scaled, y_train, batch_size=64, epochs=200, validation_data=(X_val_scaled, y_val))\n",
        "# model.evaluate(x_test, y_test)"
      ],
      "metadata": {
        "colab": {
          "base_uri": "https://localhost:8080/",
          "height": 979
        },
        "id": "hCxGQ6pz_ssS",
        "outputId": "afc3046b-0925-42d4-faec-bc8c34100795"
      },
      "execution_count": null,
      "outputs": [
        {
          "output_type": "stream",
          "name": "stdout",
          "text": [
            "Epoch 1/200\n",
            "107/107 [==============================] - 23s 95ms/step - loss: 1.6632 - accuracy: 0.2657 - val_loss: 1.6341 - val_accuracy: 0.2703\n",
            "Epoch 2/200\n",
            "107/107 [==============================] - 9s 86ms/step - loss: 1.6242 - accuracy: 0.2868 - val_loss: 1.6089 - val_accuracy: 0.2951\n",
            "Epoch 3/200\n",
            "107/107 [==============================] - 10s 89ms/step - loss: 1.6019 - accuracy: 0.2922 - val_loss: 1.7729 - val_accuracy: 0.2314\n",
            "Epoch 4/200\n",
            "107/107 [==============================] - 9s 87ms/step - loss: 1.5845 - accuracy: 0.3065 - val_loss: 1.6129 - val_accuracy: 0.2959\n",
            "Epoch 5/200\n",
            "107/107 [==============================] - 9s 86ms/step - loss: 1.5700 - accuracy: 0.3190 - val_loss: 1.6069 - val_accuracy: 0.2867\n",
            "Epoch 6/200\n",
            "107/107 [==============================] - 9s 87ms/step - loss: 1.5582 - accuracy: 0.3257 - val_loss: 1.5763 - val_accuracy: 0.3405\n",
            "Epoch 7/200\n",
            "107/107 [==============================] - 9s 87ms/step - loss: 1.5532 - accuracy: 0.3392 - val_loss: 1.7685 - val_accuracy: 0.2323\n",
            "Epoch 8/200\n",
            "107/107 [==============================] - 9s 87ms/step - loss: 1.5381 - accuracy: 0.3476 - val_loss: 1.5840 - val_accuracy: 0.2915\n",
            "Epoch 9/200\n",
            "107/107 [==============================] - 10s 89ms/step - loss: 1.5236 - accuracy: 0.3519 - val_loss: 1.6135 - val_accuracy: 0.3485\n",
            "Epoch 10/200\n",
            "107/107 [==============================] - 9s 87ms/step - loss: 1.5183 - accuracy: 0.3619 - val_loss: 1.5749 - val_accuracy: 0.3379\n",
            "Epoch 11/200\n",
            "107/107 [==============================] - 9s 87ms/step - loss: 1.5127 - accuracy: 0.3644 - val_loss: 1.6688 - val_accuracy: 0.2394\n",
            "Epoch 12/200\n",
            "107/107 [==============================] - 9s 87ms/step - loss: 1.4884 - accuracy: 0.3749 - val_loss: 1.5572 - val_accuracy: 0.3127\n",
            "Epoch 13/200\n",
            "107/107 [==============================] - 9s 87ms/step - loss: 1.4898 - accuracy: 0.3759 - val_loss: 1.6236 - val_accuracy: 0.3317\n",
            "Epoch 14/200\n",
            "107/107 [==============================] - 9s 86ms/step - loss: 1.4900 - accuracy: 0.3730 - val_loss: 1.6145 - val_accuracy: 0.3061\n",
            "Epoch 15/200\n",
            "107/107 [==============================] - 9s 87ms/step - loss: 1.5085 - accuracy: 0.3538 - val_loss: 2.0457 - val_accuracy: 0.2363\n",
            "Epoch 16/200\n",
            " 67/107 [=================>............] - ETA: 3s - loss: 1.4494 - accuracy: 0.3953"
          ]
        },
        {
          "output_type": "error",
          "ename": "KeyboardInterrupt",
          "evalue": "ignored",
          "traceback": [
            "\u001b[0;31m---------------------------------------------------------------------------\u001b[0m",
            "\u001b[0;31mKeyboardInterrupt\u001b[0m                         Traceback (most recent call last)",
            "\u001b[0;32m<ipython-input-13-642fbb1c3176>\u001b[0m in \u001b[0;36m<module>\u001b[0;34m()\u001b[0m\n\u001b[1;32m     17\u001b[0m                   \u001b[0mloss\u001b[0m\u001b[0;34m=\u001b[0m\u001b[0;34m'sparse_categorical_crossentropy'\u001b[0m\u001b[0;34m,\u001b[0m\u001b[0;34m\u001b[0m\u001b[0;34m\u001b[0m\u001b[0m\n\u001b[1;32m     18\u001b[0m                   metrics=['accuracy'])\n\u001b[0;32m---> 19\u001b[0;31m \u001b[0mmodel_rnn\u001b[0m\u001b[0;34m.\u001b[0m\u001b[0mfit\u001b[0m\u001b[0;34m(\u001b[0m\u001b[0mX_scaled\u001b[0m\u001b[0;34m,\u001b[0m \u001b[0my_train\u001b[0m\u001b[0;34m,\u001b[0m \u001b[0mbatch_size\u001b[0m\u001b[0;34m=\u001b[0m\u001b[0;36m64\u001b[0m\u001b[0;34m,\u001b[0m \u001b[0mepochs\u001b[0m\u001b[0;34m=\u001b[0m\u001b[0;36m200\u001b[0m\u001b[0;34m,\u001b[0m \u001b[0mvalidation_data\u001b[0m\u001b[0;34m=\u001b[0m\u001b[0;34m(\u001b[0m\u001b[0mX_val_scaled\u001b[0m\u001b[0;34m,\u001b[0m \u001b[0my_val\u001b[0m\u001b[0;34m)\u001b[0m\u001b[0;34m)\u001b[0m\u001b[0;34m\u001b[0m\u001b[0;34m\u001b[0m\u001b[0m\n\u001b[0m\u001b[1;32m     20\u001b[0m \u001b[0;31m# model.evaluate(x_test, y_test)\u001b[0m\u001b[0;34m\u001b[0m\u001b[0;34m\u001b[0m\u001b[0;34m\u001b[0m\u001b[0m\n",
            "\u001b[0;32m/usr/local/lib/python3.7/dist-packages/keras/utils/traceback_utils.py\u001b[0m in \u001b[0;36merror_handler\u001b[0;34m(*args, **kwargs)\u001b[0m\n\u001b[1;32m     62\u001b[0m     \u001b[0mfiltered_tb\u001b[0m \u001b[0;34m=\u001b[0m \u001b[0;32mNone\u001b[0m\u001b[0;34m\u001b[0m\u001b[0;34m\u001b[0m\u001b[0m\n\u001b[1;32m     63\u001b[0m     \u001b[0;32mtry\u001b[0m\u001b[0;34m:\u001b[0m\u001b[0;34m\u001b[0m\u001b[0;34m\u001b[0m\u001b[0m\n\u001b[0;32m---> 64\u001b[0;31m       \u001b[0;32mreturn\u001b[0m \u001b[0mfn\u001b[0m\u001b[0;34m(\u001b[0m\u001b[0;34m*\u001b[0m\u001b[0margs\u001b[0m\u001b[0;34m,\u001b[0m \u001b[0;34m**\u001b[0m\u001b[0mkwargs\u001b[0m\u001b[0;34m)\u001b[0m\u001b[0;34m\u001b[0m\u001b[0;34m\u001b[0m\u001b[0m\n\u001b[0m\u001b[1;32m     65\u001b[0m     \u001b[0;32mexcept\u001b[0m \u001b[0mException\u001b[0m \u001b[0;32mas\u001b[0m \u001b[0me\u001b[0m\u001b[0;34m:\u001b[0m  \u001b[0;31m# pylint: disable=broad-except\u001b[0m\u001b[0;34m\u001b[0m\u001b[0;34m\u001b[0m\u001b[0m\n\u001b[1;32m     66\u001b[0m       \u001b[0mfiltered_tb\u001b[0m \u001b[0;34m=\u001b[0m \u001b[0m_process_traceback_frames\u001b[0m\u001b[0;34m(\u001b[0m\u001b[0me\u001b[0m\u001b[0;34m.\u001b[0m\u001b[0m__traceback__\u001b[0m\u001b[0;34m)\u001b[0m\u001b[0;34m\u001b[0m\u001b[0;34m\u001b[0m\u001b[0m\n",
            "\u001b[0;32m/usr/local/lib/python3.7/dist-packages/keras/engine/training.py\u001b[0m in \u001b[0;36mfit\u001b[0;34m(self, x, y, batch_size, epochs, verbose, callbacks, validation_split, validation_data, shuffle, class_weight, sample_weight, initial_epoch, steps_per_epoch, validation_steps, validation_batch_size, validation_freq, max_queue_size, workers, use_multiprocessing)\u001b[0m\n\u001b[1;32m   1387\u001b[0m               \u001b[0mlogs\u001b[0m \u001b[0;34m=\u001b[0m \u001b[0mtmp_logs\u001b[0m  \u001b[0;31m# No error, now safe to assign to logs.\u001b[0m\u001b[0;34m\u001b[0m\u001b[0;34m\u001b[0m\u001b[0m\n\u001b[1;32m   1388\u001b[0m               \u001b[0mend_step\u001b[0m \u001b[0;34m=\u001b[0m \u001b[0mstep\u001b[0m \u001b[0;34m+\u001b[0m \u001b[0mdata_handler\u001b[0m\u001b[0;34m.\u001b[0m\u001b[0mstep_increment\u001b[0m\u001b[0;34m\u001b[0m\u001b[0;34m\u001b[0m\u001b[0m\n\u001b[0;32m-> 1389\u001b[0;31m               \u001b[0mcallbacks\u001b[0m\u001b[0;34m.\u001b[0m\u001b[0mon_train_batch_end\u001b[0m\u001b[0;34m(\u001b[0m\u001b[0mend_step\u001b[0m\u001b[0;34m,\u001b[0m \u001b[0mlogs\u001b[0m\u001b[0;34m)\u001b[0m\u001b[0;34m\u001b[0m\u001b[0;34m\u001b[0m\u001b[0m\n\u001b[0m\u001b[1;32m   1390\u001b[0m               \u001b[0;32mif\u001b[0m \u001b[0mself\u001b[0m\u001b[0;34m.\u001b[0m\u001b[0mstop_training\u001b[0m\u001b[0;34m:\u001b[0m\u001b[0;34m\u001b[0m\u001b[0;34m\u001b[0m\u001b[0m\n\u001b[1;32m   1391\u001b[0m                 \u001b[0;32mbreak\u001b[0m\u001b[0;34m\u001b[0m\u001b[0;34m\u001b[0m\u001b[0m\n",
            "\u001b[0;32m/usr/local/lib/python3.7/dist-packages/keras/callbacks.py\u001b[0m in \u001b[0;36mon_train_batch_end\u001b[0;34m(self, batch, logs)\u001b[0m\n\u001b[1;32m    436\u001b[0m     \"\"\"\n\u001b[1;32m    437\u001b[0m     \u001b[0;32mif\u001b[0m \u001b[0mself\u001b[0m\u001b[0;34m.\u001b[0m\u001b[0m_should_call_train_batch_hooks\u001b[0m\u001b[0;34m:\u001b[0m\u001b[0;34m\u001b[0m\u001b[0;34m\u001b[0m\u001b[0m\n\u001b[0;32m--> 438\u001b[0;31m       \u001b[0mself\u001b[0m\u001b[0;34m.\u001b[0m\u001b[0m_call_batch_hook\u001b[0m\u001b[0;34m(\u001b[0m\u001b[0mModeKeys\u001b[0m\u001b[0;34m.\u001b[0m\u001b[0mTRAIN\u001b[0m\u001b[0;34m,\u001b[0m \u001b[0;34m'end'\u001b[0m\u001b[0;34m,\u001b[0m \u001b[0mbatch\u001b[0m\u001b[0;34m,\u001b[0m \u001b[0mlogs\u001b[0m\u001b[0;34m=\u001b[0m\u001b[0mlogs\u001b[0m\u001b[0;34m)\u001b[0m\u001b[0;34m\u001b[0m\u001b[0;34m\u001b[0m\u001b[0m\n\u001b[0m\u001b[1;32m    439\u001b[0m \u001b[0;34m\u001b[0m\u001b[0m\n\u001b[1;32m    440\u001b[0m   \u001b[0;32mdef\u001b[0m \u001b[0mon_test_batch_begin\u001b[0m\u001b[0;34m(\u001b[0m\u001b[0mself\u001b[0m\u001b[0;34m,\u001b[0m \u001b[0mbatch\u001b[0m\u001b[0;34m,\u001b[0m \u001b[0mlogs\u001b[0m\u001b[0;34m=\u001b[0m\u001b[0;32mNone\u001b[0m\u001b[0;34m)\u001b[0m\u001b[0;34m:\u001b[0m\u001b[0;34m\u001b[0m\u001b[0;34m\u001b[0m\u001b[0m\n",
            "\u001b[0;32m/usr/local/lib/python3.7/dist-packages/keras/callbacks.py\u001b[0m in \u001b[0;36m_call_batch_hook\u001b[0;34m(self, mode, hook, batch, logs)\u001b[0m\n\u001b[1;32m    295\u001b[0m       \u001b[0mself\u001b[0m\u001b[0;34m.\u001b[0m\u001b[0m_call_batch_begin_hook\u001b[0m\u001b[0;34m(\u001b[0m\u001b[0mmode\u001b[0m\u001b[0;34m,\u001b[0m \u001b[0mbatch\u001b[0m\u001b[0;34m,\u001b[0m \u001b[0mlogs\u001b[0m\u001b[0;34m)\u001b[0m\u001b[0;34m\u001b[0m\u001b[0;34m\u001b[0m\u001b[0m\n\u001b[1;32m    296\u001b[0m     \u001b[0;32melif\u001b[0m \u001b[0mhook\u001b[0m \u001b[0;34m==\u001b[0m \u001b[0;34m'end'\u001b[0m\u001b[0;34m:\u001b[0m\u001b[0;34m\u001b[0m\u001b[0;34m\u001b[0m\u001b[0m\n\u001b[0;32m--> 297\u001b[0;31m       \u001b[0mself\u001b[0m\u001b[0;34m.\u001b[0m\u001b[0m_call_batch_end_hook\u001b[0m\u001b[0;34m(\u001b[0m\u001b[0mmode\u001b[0m\u001b[0;34m,\u001b[0m \u001b[0mbatch\u001b[0m\u001b[0;34m,\u001b[0m \u001b[0mlogs\u001b[0m\u001b[0;34m)\u001b[0m\u001b[0;34m\u001b[0m\u001b[0;34m\u001b[0m\u001b[0m\n\u001b[0m\u001b[1;32m    298\u001b[0m     \u001b[0;32melse\u001b[0m\u001b[0;34m:\u001b[0m\u001b[0;34m\u001b[0m\u001b[0;34m\u001b[0m\u001b[0m\n\u001b[1;32m    299\u001b[0m       raise ValueError(\n",
            "\u001b[0;32m/usr/local/lib/python3.7/dist-packages/keras/callbacks.py\u001b[0m in \u001b[0;36m_call_batch_end_hook\u001b[0;34m(self, mode, batch, logs)\u001b[0m\n\u001b[1;32m    316\u001b[0m       \u001b[0mself\u001b[0m\u001b[0;34m.\u001b[0m\u001b[0m_batch_times\u001b[0m\u001b[0;34m.\u001b[0m\u001b[0mappend\u001b[0m\u001b[0;34m(\u001b[0m\u001b[0mbatch_time\u001b[0m\u001b[0;34m)\u001b[0m\u001b[0;34m\u001b[0m\u001b[0;34m\u001b[0m\u001b[0m\n\u001b[1;32m    317\u001b[0m \u001b[0;34m\u001b[0m\u001b[0m\n\u001b[0;32m--> 318\u001b[0;31m     \u001b[0mself\u001b[0m\u001b[0;34m.\u001b[0m\u001b[0m_call_batch_hook_helper\u001b[0m\u001b[0;34m(\u001b[0m\u001b[0mhook_name\u001b[0m\u001b[0;34m,\u001b[0m \u001b[0mbatch\u001b[0m\u001b[0;34m,\u001b[0m \u001b[0mlogs\u001b[0m\u001b[0;34m)\u001b[0m\u001b[0;34m\u001b[0m\u001b[0;34m\u001b[0m\u001b[0m\n\u001b[0m\u001b[1;32m    319\u001b[0m \u001b[0;34m\u001b[0m\u001b[0m\n\u001b[1;32m    320\u001b[0m     \u001b[0;32mif\u001b[0m \u001b[0mlen\u001b[0m\u001b[0;34m(\u001b[0m\u001b[0mself\u001b[0m\u001b[0;34m.\u001b[0m\u001b[0m_batch_times\u001b[0m\u001b[0;34m)\u001b[0m \u001b[0;34m>=\u001b[0m \u001b[0mself\u001b[0m\u001b[0;34m.\u001b[0m\u001b[0m_num_batches_for_timing_check\u001b[0m\u001b[0;34m:\u001b[0m\u001b[0;34m\u001b[0m\u001b[0;34m\u001b[0m\u001b[0m\n",
            "\u001b[0;32m/usr/local/lib/python3.7/dist-packages/keras/callbacks.py\u001b[0m in \u001b[0;36m_call_batch_hook_helper\u001b[0;34m(self, hook_name, batch, logs)\u001b[0m\n\u001b[1;32m    354\u001b[0m     \u001b[0;32mfor\u001b[0m \u001b[0mcallback\u001b[0m \u001b[0;32min\u001b[0m \u001b[0mself\u001b[0m\u001b[0;34m.\u001b[0m\u001b[0mcallbacks\u001b[0m\u001b[0;34m:\u001b[0m\u001b[0;34m\u001b[0m\u001b[0;34m\u001b[0m\u001b[0m\n\u001b[1;32m    355\u001b[0m       \u001b[0mhook\u001b[0m \u001b[0;34m=\u001b[0m \u001b[0mgetattr\u001b[0m\u001b[0;34m(\u001b[0m\u001b[0mcallback\u001b[0m\u001b[0;34m,\u001b[0m \u001b[0mhook_name\u001b[0m\u001b[0;34m)\u001b[0m\u001b[0;34m\u001b[0m\u001b[0;34m\u001b[0m\u001b[0m\n\u001b[0;32m--> 356\u001b[0;31m       \u001b[0mhook\u001b[0m\u001b[0;34m(\u001b[0m\u001b[0mbatch\u001b[0m\u001b[0;34m,\u001b[0m \u001b[0mlogs\u001b[0m\u001b[0;34m)\u001b[0m\u001b[0;34m\u001b[0m\u001b[0;34m\u001b[0m\u001b[0m\n\u001b[0m\u001b[1;32m    357\u001b[0m \u001b[0;34m\u001b[0m\u001b[0m\n\u001b[1;32m    358\u001b[0m     \u001b[0;32mif\u001b[0m \u001b[0mself\u001b[0m\u001b[0;34m.\u001b[0m\u001b[0m_check_timing\u001b[0m\u001b[0;34m:\u001b[0m\u001b[0;34m\u001b[0m\u001b[0;34m\u001b[0m\u001b[0m\n",
            "\u001b[0;32m/usr/local/lib/python3.7/dist-packages/keras/callbacks.py\u001b[0m in \u001b[0;36mon_train_batch_end\u001b[0;34m(self, batch, logs)\u001b[0m\n\u001b[1;32m   1032\u001b[0m \u001b[0;34m\u001b[0m\u001b[0m\n\u001b[1;32m   1033\u001b[0m   \u001b[0;32mdef\u001b[0m \u001b[0mon_train_batch_end\u001b[0m\u001b[0;34m(\u001b[0m\u001b[0mself\u001b[0m\u001b[0;34m,\u001b[0m \u001b[0mbatch\u001b[0m\u001b[0;34m,\u001b[0m \u001b[0mlogs\u001b[0m\u001b[0;34m=\u001b[0m\u001b[0;32mNone\u001b[0m\u001b[0;34m)\u001b[0m\u001b[0;34m:\u001b[0m\u001b[0;34m\u001b[0m\u001b[0;34m\u001b[0m\u001b[0m\n\u001b[0;32m-> 1034\u001b[0;31m     \u001b[0mself\u001b[0m\u001b[0;34m.\u001b[0m\u001b[0m_batch_update_progbar\u001b[0m\u001b[0;34m(\u001b[0m\u001b[0mbatch\u001b[0m\u001b[0;34m,\u001b[0m \u001b[0mlogs\u001b[0m\u001b[0;34m)\u001b[0m\u001b[0;34m\u001b[0m\u001b[0;34m\u001b[0m\u001b[0m\n\u001b[0m\u001b[1;32m   1035\u001b[0m \u001b[0;34m\u001b[0m\u001b[0m\n\u001b[1;32m   1036\u001b[0m   \u001b[0;32mdef\u001b[0m \u001b[0mon_test_batch_end\u001b[0m\u001b[0;34m(\u001b[0m\u001b[0mself\u001b[0m\u001b[0;34m,\u001b[0m \u001b[0mbatch\u001b[0m\u001b[0;34m,\u001b[0m \u001b[0mlogs\u001b[0m\u001b[0;34m=\u001b[0m\u001b[0;32mNone\u001b[0m\u001b[0;34m)\u001b[0m\u001b[0;34m:\u001b[0m\u001b[0;34m\u001b[0m\u001b[0;34m\u001b[0m\u001b[0m\n",
            "\u001b[0;32m/usr/local/lib/python3.7/dist-packages/keras/callbacks.py\u001b[0m in \u001b[0;36m_batch_update_progbar\u001b[0;34m(self, batch, logs)\u001b[0m\n\u001b[1;32m   1105\u001b[0m       \u001b[0;31m# Only block async when verbose = 1.\u001b[0m\u001b[0;34m\u001b[0m\u001b[0;34m\u001b[0m\u001b[0;34m\u001b[0m\u001b[0m\n\u001b[1;32m   1106\u001b[0m       \u001b[0mlogs\u001b[0m \u001b[0;34m=\u001b[0m \u001b[0mtf_utils\u001b[0m\u001b[0;34m.\u001b[0m\u001b[0msync_to_numpy_or_python_type\u001b[0m\u001b[0;34m(\u001b[0m\u001b[0mlogs\u001b[0m\u001b[0;34m)\u001b[0m\u001b[0;34m\u001b[0m\u001b[0;34m\u001b[0m\u001b[0m\n\u001b[0;32m-> 1107\u001b[0;31m       \u001b[0mself\u001b[0m\u001b[0;34m.\u001b[0m\u001b[0mprogbar\u001b[0m\u001b[0;34m.\u001b[0m\u001b[0mupdate\u001b[0m\u001b[0;34m(\u001b[0m\u001b[0mself\u001b[0m\u001b[0;34m.\u001b[0m\u001b[0mseen\u001b[0m\u001b[0;34m,\u001b[0m \u001b[0mlist\u001b[0m\u001b[0;34m(\u001b[0m\u001b[0mlogs\u001b[0m\u001b[0;34m.\u001b[0m\u001b[0mitems\u001b[0m\u001b[0;34m(\u001b[0m\u001b[0;34m)\u001b[0m\u001b[0;34m)\u001b[0m\u001b[0;34m,\u001b[0m \u001b[0mfinalize\u001b[0m\u001b[0;34m=\u001b[0m\u001b[0;32mFalse\u001b[0m\u001b[0;34m)\u001b[0m\u001b[0;34m\u001b[0m\u001b[0;34m\u001b[0m\u001b[0m\n\u001b[0m\u001b[1;32m   1108\u001b[0m \u001b[0;34m\u001b[0m\u001b[0m\n\u001b[1;32m   1109\u001b[0m   \u001b[0;32mdef\u001b[0m \u001b[0m_finalize_progbar\u001b[0m\u001b[0;34m(\u001b[0m\u001b[0mself\u001b[0m\u001b[0;34m,\u001b[0m \u001b[0mlogs\u001b[0m\u001b[0;34m,\u001b[0m \u001b[0mcounter\u001b[0m\u001b[0;34m)\u001b[0m\u001b[0;34m:\u001b[0m\u001b[0;34m\u001b[0m\u001b[0;34m\u001b[0m\u001b[0m\n",
            "\u001b[0;32m/usr/local/lib/python3.7/dist-packages/keras/utils/generic_utils.py\u001b[0m in \u001b[0;36mupdate\u001b[0;34m(self, current, values, finalize)\u001b[0m\n\u001b[1;32m    974\u001b[0m \u001b[0;34m\u001b[0m\u001b[0m\n\u001b[1;32m    975\u001b[0m       \u001b[0mmessage\u001b[0m \u001b[0;34m+=\u001b[0m \u001b[0minfo\u001b[0m\u001b[0;34m\u001b[0m\u001b[0;34m\u001b[0m\u001b[0m\n\u001b[0;32m--> 976\u001b[0;31m       \u001b[0mio_utils\u001b[0m\u001b[0;34m.\u001b[0m\u001b[0mprint_msg\u001b[0m\u001b[0;34m(\u001b[0m\u001b[0mmessage\u001b[0m\u001b[0;34m,\u001b[0m \u001b[0mline_break\u001b[0m\u001b[0;34m=\u001b[0m\u001b[0;32mFalse\u001b[0m\u001b[0;34m)\u001b[0m\u001b[0;34m\u001b[0m\u001b[0;34m\u001b[0m\u001b[0m\n\u001b[0m\u001b[1;32m    977\u001b[0m       \u001b[0mmessage\u001b[0m \u001b[0;34m=\u001b[0m \u001b[0;34m''\u001b[0m\u001b[0;34m\u001b[0m\u001b[0;34m\u001b[0m\u001b[0m\n\u001b[1;32m    978\u001b[0m \u001b[0;34m\u001b[0m\u001b[0m\n",
            "\u001b[0;32m/usr/local/lib/python3.7/dist-packages/keras/utils/io_utils.py\u001b[0m in \u001b[0;36mprint_msg\u001b[0;34m(message, line_break)\u001b[0m\n\u001b[1;32m     35\u001b[0m       \u001b[0msys\u001b[0m\u001b[0;34m.\u001b[0m\u001b[0mstdout\u001b[0m\u001b[0;34m.\u001b[0m\u001b[0mwrite\u001b[0m\u001b[0;34m(\u001b[0m\u001b[0mmessage\u001b[0m \u001b[0;34m+\u001b[0m \u001b[0;34m'\\n'\u001b[0m\u001b[0;34m)\u001b[0m\u001b[0;34m\u001b[0m\u001b[0;34m\u001b[0m\u001b[0m\n\u001b[1;32m     36\u001b[0m     \u001b[0;32melse\u001b[0m\u001b[0;34m:\u001b[0m\u001b[0;34m\u001b[0m\u001b[0;34m\u001b[0m\u001b[0m\n\u001b[0;32m---> 37\u001b[0;31m       \u001b[0msys\u001b[0m\u001b[0;34m.\u001b[0m\u001b[0mstdout\u001b[0m\u001b[0;34m.\u001b[0m\u001b[0mwrite\u001b[0m\u001b[0;34m(\u001b[0m\u001b[0mmessage\u001b[0m\u001b[0;34m)\u001b[0m\u001b[0;34m\u001b[0m\u001b[0;34m\u001b[0m\u001b[0m\n\u001b[0m\u001b[1;32m     38\u001b[0m     \u001b[0msys\u001b[0m\u001b[0;34m.\u001b[0m\u001b[0mstdout\u001b[0m\u001b[0;34m.\u001b[0m\u001b[0mflush\u001b[0m\u001b[0;34m(\u001b[0m\u001b[0;34m)\u001b[0m\u001b[0;34m\u001b[0m\u001b[0;34m\u001b[0m\u001b[0m\n\u001b[1;32m     39\u001b[0m \u001b[0;34m\u001b[0m\u001b[0m\n",
            "\u001b[0;32m/usr/local/lib/python3.7/dist-packages/ipykernel/iostream.py\u001b[0m in \u001b[0;36mwrite\u001b[0;34m(self, string)\u001b[0m\n\u001b[1;32m    398\u001b[0m             \u001b[0mis_child\u001b[0m \u001b[0;34m=\u001b[0m \u001b[0;34m(\u001b[0m\u001b[0;32mnot\u001b[0m \u001b[0mself\u001b[0m\u001b[0;34m.\u001b[0m\u001b[0m_is_master_process\u001b[0m\u001b[0;34m(\u001b[0m\u001b[0;34m)\u001b[0m\u001b[0;34m)\u001b[0m\u001b[0;34m\u001b[0m\u001b[0;34m\u001b[0m\u001b[0m\n\u001b[1;32m    399\u001b[0m             \u001b[0;31m# only touch the buffer in the IO thread to avoid races\u001b[0m\u001b[0;34m\u001b[0m\u001b[0;34m\u001b[0m\u001b[0;34m\u001b[0m\u001b[0m\n\u001b[0;32m--> 400\u001b[0;31m             \u001b[0mself\u001b[0m\u001b[0;34m.\u001b[0m\u001b[0mpub_thread\u001b[0m\u001b[0;34m.\u001b[0m\u001b[0mschedule\u001b[0m\u001b[0;34m(\u001b[0m\u001b[0;32mlambda\u001b[0m \u001b[0;34m:\u001b[0m \u001b[0mself\u001b[0m\u001b[0;34m.\u001b[0m\u001b[0m_buffer\u001b[0m\u001b[0;34m.\u001b[0m\u001b[0mwrite\u001b[0m\u001b[0;34m(\u001b[0m\u001b[0mstring\u001b[0m\u001b[0;34m)\u001b[0m\u001b[0;34m)\u001b[0m\u001b[0;34m\u001b[0m\u001b[0;34m\u001b[0m\u001b[0m\n\u001b[0m\u001b[1;32m    401\u001b[0m             \u001b[0;32mif\u001b[0m \u001b[0mis_child\u001b[0m\u001b[0;34m:\u001b[0m\u001b[0;34m\u001b[0m\u001b[0;34m\u001b[0m\u001b[0m\n\u001b[1;32m    402\u001b[0m                 \u001b[0;31m# newlines imply flush in subprocesses\u001b[0m\u001b[0;34m\u001b[0m\u001b[0;34m\u001b[0m\u001b[0;34m\u001b[0m\u001b[0m\n",
            "\u001b[0;32m/usr/local/lib/python3.7/dist-packages/ipykernel/iostream.py\u001b[0m in \u001b[0;36mschedule\u001b[0;34m(self, f)\u001b[0m\n\u001b[1;32m    201\u001b[0m             \u001b[0mself\u001b[0m\u001b[0;34m.\u001b[0m\u001b[0m_events\u001b[0m\u001b[0;34m.\u001b[0m\u001b[0mappend\u001b[0m\u001b[0;34m(\u001b[0m\u001b[0mf\u001b[0m\u001b[0;34m)\u001b[0m\u001b[0;34m\u001b[0m\u001b[0;34m\u001b[0m\u001b[0m\n\u001b[1;32m    202\u001b[0m             \u001b[0;31m# wake event thread (message content is ignored)\u001b[0m\u001b[0;34m\u001b[0m\u001b[0;34m\u001b[0m\u001b[0;34m\u001b[0m\u001b[0m\n\u001b[0;32m--> 203\u001b[0;31m             \u001b[0mself\u001b[0m\u001b[0;34m.\u001b[0m\u001b[0m_event_pipe\u001b[0m\u001b[0;34m.\u001b[0m\u001b[0msend\u001b[0m\u001b[0;34m(\u001b[0m\u001b[0;34mb''\u001b[0m\u001b[0;34m)\u001b[0m\u001b[0;34m\u001b[0m\u001b[0;34m\u001b[0m\u001b[0m\n\u001b[0m\u001b[1;32m    204\u001b[0m         \u001b[0;32melse\u001b[0m\u001b[0;34m:\u001b[0m\u001b[0;34m\u001b[0m\u001b[0;34m\u001b[0m\u001b[0m\n\u001b[1;32m    205\u001b[0m             \u001b[0mf\u001b[0m\u001b[0;34m(\u001b[0m\u001b[0;34m)\u001b[0m\u001b[0;34m\u001b[0m\u001b[0;34m\u001b[0m\u001b[0m\n",
            "\u001b[0;32m/usr/local/lib/python3.7/dist-packages/zmq/sugar/socket.py\u001b[0m in \u001b[0;36msend\u001b[0;34m(self, data, flags, copy, track, routing_id, group)\u001b[0m\n\u001b[1;32m    545\u001b[0m                 )\n\u001b[1;32m    546\u001b[0m             \u001b[0mdata\u001b[0m\u001b[0;34m.\u001b[0m\u001b[0mgroup\u001b[0m \u001b[0;34m=\u001b[0m \u001b[0mgroup\u001b[0m\u001b[0;34m\u001b[0m\u001b[0;34m\u001b[0m\u001b[0m\n\u001b[0;32m--> 547\u001b[0;31m         \u001b[0;32mreturn\u001b[0m \u001b[0msuper\u001b[0m\u001b[0;34m(\u001b[0m\u001b[0mSocket\u001b[0m\u001b[0;34m,\u001b[0m \u001b[0mself\u001b[0m\u001b[0;34m)\u001b[0m\u001b[0;34m.\u001b[0m\u001b[0msend\u001b[0m\u001b[0;34m(\u001b[0m\u001b[0mdata\u001b[0m\u001b[0;34m,\u001b[0m \u001b[0mflags\u001b[0m\u001b[0;34m=\u001b[0m\u001b[0mflags\u001b[0m\u001b[0;34m,\u001b[0m \u001b[0mcopy\u001b[0m\u001b[0;34m=\u001b[0m\u001b[0mcopy\u001b[0m\u001b[0;34m,\u001b[0m \u001b[0mtrack\u001b[0m\u001b[0;34m=\u001b[0m\u001b[0mtrack\u001b[0m\u001b[0;34m)\u001b[0m\u001b[0;34m\u001b[0m\u001b[0;34m\u001b[0m\u001b[0m\n\u001b[0m\u001b[1;32m    548\u001b[0m \u001b[0;34m\u001b[0m\u001b[0m\n\u001b[1;32m    549\u001b[0m     \u001b[0;32mdef\u001b[0m \u001b[0msend_multipart\u001b[0m\u001b[0;34m(\u001b[0m\u001b[0mself\u001b[0m\u001b[0;34m,\u001b[0m \u001b[0mmsg_parts\u001b[0m\u001b[0;34m,\u001b[0m \u001b[0mflags\u001b[0m\u001b[0;34m=\u001b[0m\u001b[0;36m0\u001b[0m\u001b[0;34m,\u001b[0m \u001b[0mcopy\u001b[0m\u001b[0;34m=\u001b[0m\u001b[0;32mTrue\u001b[0m\u001b[0;34m,\u001b[0m \u001b[0mtrack\u001b[0m\u001b[0;34m=\u001b[0m\u001b[0;32mFalse\u001b[0m\u001b[0;34m,\u001b[0m \u001b[0;34m**\u001b[0m\u001b[0mkwargs\u001b[0m\u001b[0;34m)\u001b[0m\u001b[0;34m:\u001b[0m\u001b[0;34m\u001b[0m\u001b[0;34m\u001b[0m\u001b[0m\n",
            "\u001b[0;32mzmq/backend/cython/socket.pyx\u001b[0m in \u001b[0;36mzmq.backend.cython.socket.Socket.send\u001b[0;34m()\u001b[0m\n",
            "\u001b[0;32mzmq/backend/cython/socket.pyx\u001b[0m in \u001b[0;36mzmq.backend.cython.socket.Socket.send\u001b[0;34m()\u001b[0m\n",
            "\u001b[0;32mzmq/backend/cython/socket.pyx\u001b[0m in \u001b[0;36mzmq.backend.cython.socket._send_copy\u001b[0;34m()\u001b[0m\n",
            "\u001b[0;32m/usr/local/lib/python3.7/dist-packages/zmq/backend/cython/checkrc.pxd\u001b[0m in \u001b[0;36mzmq.backend.cython.checkrc._check_rc\u001b[0;34m()\u001b[0m\n",
            "\u001b[0;31mKeyboardInterrupt\u001b[0m: "
          ]
        }
      ]
    },
    {
      "cell_type": "code",
      "source": [
        "from sklearn.neural_network import MLPClassifier\n",
        "from sklearn.metrics import accuracy_score"
      ],
      "metadata": {
        "id": "5L2N0GxPR1Sw"
      },
      "execution_count": null,
      "outputs": []
    },
    {
      "cell_type": "code",
      "source": [
        "modl=MLPClassifier(alpha=0.01, batch_size=256, epsilon=1e-08, hidden_layer_sizes=(300,), learning_rate='adaptive', max_iter=500)"
      ],
      "metadata": {
        "id": "N3efdQSdRMH3"
      },
      "execution_count": null,
      "outputs": []
    },
    {
      "cell_type": "code",
      "source": [
        "modl.fit(X_scaled,y_train)"
      ],
      "metadata": {
        "colab": {
          "base_uri": "https://localhost:8080/"
        },
        "id": "EuNH7l3gRe46",
        "outputId": "70232f06-a18f-416e-c962-3c51b52cad6a"
      },
      "execution_count": null,
      "outputs": [
        {
          "output_type": "execute_result",
          "data": {
            "text/plain": [
              "MLPClassifier(alpha=0.01, batch_size=256, hidden_layer_sizes=(300,),\n",
              "              learning_rate='adaptive', max_iter=500)"
            ]
          },
          "metadata": {},
          "execution_count": 10
        }
      ]
    },
    {
      "cell_type": "code",
      "source": [
        "y_pr = modl.predict(X_val_scaled)"
      ],
      "metadata": {
        "id": "-WQ0QHu8Rnll"
      },
      "execution_count": null,
      "outputs": []
    },
    {
      "cell_type": "code",
      "source": [
        "accuracy=accuracy_score(y_true=y_val, y_pred=y_pr)\n",
        "#DataFlair - Print the accuracy\n",
        "print(\"Accuracy: {:.2f}%\".format(accuracy*100))"
      ],
      "metadata": {
        "colab": {
          "base_uri": "https://localhost:8080/"
        },
        "id": "dyUyGVA1Rtpa",
        "outputId": "1b8008b1-214b-4ae5-8e0a-a8f493801cb0"
      },
      "execution_count": null,
      "outputs": [
        {
          "output_type": "stream",
          "name": "stdout",
          "text": [
            "Accuracy: 56.89%\n"
          ]
        }
      ]
    }
  ],
  "metadata": {
    "colab": {
      "collapsed_sections": [],
      "name": "model_using_mean.ipynb",
      "provenance": [],
      "authorship_tag": "ABX9TyNUJW06zUrzD45IiyE+Oj7W",
      "include_colab_link": true
    },
    "kernelspec": {
      "display_name": "Python 3",
      "name": "python3"
    },
    "language_info": {
      "name": "python"
    }
  },
  "nbformat": 4,
  "nbformat_minor": 0
}