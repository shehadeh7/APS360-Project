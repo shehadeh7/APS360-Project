{
  "cells": [
    {
      "cell_type": "code",
      "source": [
        "import numpy as np\n",
        "import os\n",
        "import sklearn\n",
        "from sklearn.ensemble import RandomForestClassifier\n",
        "from sklearn.utils import shuffle\n",
        "import tensorflow as tf\n",
        "from sklearn.model_selection import train_test_split\n",
        "import matplotlib.pyplot as plt"
      ],
      "metadata": {
        "id": "oXDirr09eM4P"
      },
      "execution_count": 1,
      "outputs": []
    },
    {
      "cell_type": "code",
      "source": [
        "!unzip raw_processed_data.zip\n",
        "# !unzip crema_raw_data.zip"
      ],
      "metadata": {
        "colab": {
          "base_uri": "https://localhost:8080/"
        },
        "id": "RJxCQ07oezQ5",
        "outputId": "2ae29f57-71b0-4050-be54-29b69293bc5e"
      },
      "execution_count": 3,
      "outputs": [
        {
          "output_type": "stream",
          "name": "stdout",
          "text": [
            "Archive:  raw_processed_data.zip\n",
            "  inflating: x_data.npy              \n",
            "  inflating: y_data.npy              \n"
          ]
        }
      ]
    },
    {
      "cell_type": "code",
      "execution_count": 4,
      "metadata": {
        "id": "BDSOjJj3ntwq"
      },
      "outputs": [],
      "source": [
        "# load X and Y from npy files\n",
        "x_path = './x_data.npy'\n",
        "y_path = './y_data.npy'\n",
        "X = np.load(x_path)\n",
        "Y = np.load(y_path)"
      ]
    },
    {
      "cell_type": "code",
      "source": [
        "print(X.shape)\n",
        "print(Y.shape)"
      ],
      "metadata": {
        "colab": {
          "base_uri": "https://localhost:8080/"
        },
        "id": "W18XOwWDgNc6",
        "outputId": "998d0b01-54af-4d96-d750-b2ee659fe277"
      },
      "execution_count": 5,
      "outputs": [
        {
          "output_type": "stream",
          "name": "stdout",
          "text": [
            "(11317, 180)\n",
            "(11317,)\n"
          ]
        }
      ]
    },
    {
      "cell_type": "code",
      "source": [
        "# shuffle X and Y same way\n",
        "# random_state to seed the shuffle\n",
        "from sklearn.model_selection import train_test_split\n",
        "\n",
        "X_train_0, X_test, y_train_0, y_test = train_test_split(X, Y, test_size=0.2, random_state=4)\n",
        "X_train, X_val, y_train, y_val = train_test_split(X_train_0, y_train_0, test_size=0.25, random_state=4) # 0.25 x 0.8 = 0.2"
      ],
      "metadata": {
        "id": "zKJXqcmcho67"
      },
      "execution_count": 6,
      "outputs": []
    },
    {
      "cell_type": "code",
      "source": [
        "from sklearn import svm\n",
        "from sklearn import preprocessing"
      ],
      "metadata": {
        "id": "0nTl12gqzSdJ"
      },
      "execution_count": 7,
      "outputs": []
    },
    {
      "cell_type": "code",
      "source": [
        "scaler = preprocessing.StandardScaler().fit(X_train)\n",
        "X_scaled = scaler.transform(X_train)\n",
        "\n",
        "sc = preprocessing.StandardScaler().fit(X_val)\n",
        "X_val_scaled = sc.transform(X_val)"
      ],
      "metadata": {
        "id": "2ze0qGj_zTpn"
      },
      "execution_count": 8,
      "outputs": []
    },
    {
      "cell_type": "code",
      "source": [
        "# Create a base model -- sequential, functional, or subclass.\n",
        "model = tf.keras.Sequential([\n",
        "    tf.keras.layers.Dense(128, input_dim=X.shape[1], activation='relu'),\n",
        "    tf.keras.layers.BatchNormalization(),\n",
        "    tf.keras.layers.Dropout(0.4),\n",
        "    tf.keras.layers.Dense(128, activation='relu'),\n",
        "    tf.keras.layers.BatchNormalization(),\n",
        "    tf.keras.layers.Dropout(0.4),    \n",
        "    tf.keras.layers.Dense(64, activation='relu'),\n",
        "    tf.keras.layers.BatchNormalization(),\n",
        "    tf.keras.layers.Dropout(0.4),    \n",
        "    tf.keras.layers.Dense(64, activation='relu'),\n",
        "    tf.keras.layers.Dense(6, activation=tf.nn.softmax)\n",
        "])\n",
        "\n",
        "b_model = tf.keras.Sequential([\n",
        "    tf.keras.layers.Dense(200, input_dim=X.shape[1], activation='relu'),\n",
        "    tf.keras.layers.BatchNormalization(),\n",
        "    tf.keras.layers.Dropout(0.5),\n",
        "    tf.keras.layers.Dense(250, activation='relu'),\n",
        "    tf.keras.layers.BatchNormalization(),\n",
        "    tf.keras.layers.Dropout(0.5),    \n",
        "    # tf.keras.layers.Dense(, activation='relu'),\n",
        "    # tf.keras.layers.BatchNormalization(),\n",
        "    # tf.keras.layers.Dropout(0.4),    \n",
        "    tf.keras.layers.Dense(300, activation='relu'),\n",
        "    tf.keras.layers.Dropout(0.5),\n",
        "    tf.keras.layers.Dense(6, activation=tf.nn.softmax)\n",
        "])\n",
        "\n",
        "# # Wrap the model with adversarial regularization.\n",
        "# adv_config = nsl.configs.make_adv_reg_config(multiplier=0.2, adv_step_size=0.05)\n",
        "# adv_model = nsl.keras.AdversarialRegularization(model, adv_config=adv_config)\n",
        "\n",
        "# adam = tf.keras.optimizers.RMSprop(learning_rate=0.0001)\n",
        "adam = tf.keras.optimizers.Adam()\n",
        "\n",
        "# Compile, train, and evaluate.\n",
        "b_model.compile(optimizer=adam,\n",
        "                  loss='sparse_categorical_crossentropy',\n",
        "                  metrics=['accuracy'])\n",
        "b_model.fit(X_scaled, y_train, batch_size=64, epochs=200, validation_data=(X_val_scaled, y_val))\n",
        "# model.evaluate(x_test, y_test)"
      ],
      "metadata": {
        "colab": {
          "base_uri": "https://localhost:8080/"
        },
        "id": "PsWi3gRRmFoV",
        "outputId": "349c6421-52a5-4569-ff70-ef9adbcecbfb"
      },
      "execution_count": 9,
      "outputs": [
        {
          "output_type": "stream",
          "name": "stdout",
          "text": [
            "Epoch 1/200\n",
            "107/107 [==============================] - 4s 11ms/step - loss: 1.9372 - accuracy: 0.3173 - val_loss: 1.3527 - val_accuracy: 0.4920\n",
            "Epoch 2/200\n",
            "107/107 [==============================] - 1s 7ms/step - loss: 1.5644 - accuracy: 0.4033 - val_loss: 1.2765 - val_accuracy: 0.5172\n",
            "Epoch 3/200\n",
            "107/107 [==============================] - 1s 8ms/step - loss: 1.4505 - accuracy: 0.4363 - val_loss: 1.2216 - val_accuracy: 0.5345\n",
            "Epoch 4/200\n",
            "107/107 [==============================] - 1s 8ms/step - loss: 1.3782 - accuracy: 0.4503 - val_loss: 1.1978 - val_accuracy: 0.5292\n",
            "Epoch 5/200\n",
            "107/107 [==============================] - 1s 8ms/step - loss: 1.3209 - accuracy: 0.4658 - val_loss: 1.1804 - val_accuracy: 0.5296\n",
            "Epoch 6/200\n",
            "107/107 [==============================] - 1s 7ms/step - loss: 1.2697 - accuracy: 0.4820 - val_loss: 1.1506 - val_accuracy: 0.5411\n",
            "Epoch 7/200\n",
            "107/107 [==============================] - 1s 8ms/step - loss: 1.2476 - accuracy: 0.4946 - val_loss: 1.1457 - val_accuracy: 0.5375\n",
            "Epoch 8/200\n",
            "107/107 [==============================] - 1s 7ms/step - loss: 1.2293 - accuracy: 0.5082 - val_loss: 1.1276 - val_accuracy: 0.5561\n",
            "Epoch 9/200\n",
            "107/107 [==============================] - 1s 8ms/step - loss: 1.2165 - accuracy: 0.5095 - val_loss: 1.1345 - val_accuracy: 0.5565\n",
            "Epoch 10/200\n",
            "107/107 [==============================] - 1s 7ms/step - loss: 1.1988 - accuracy: 0.5148 - val_loss: 1.1265 - val_accuracy: 0.5428\n",
            "Epoch 11/200\n",
            "107/107 [==============================] - 1s 7ms/step - loss: 1.1755 - accuracy: 0.5267 - val_loss: 1.1146 - val_accuracy: 0.5557\n",
            "Epoch 12/200\n",
            "107/107 [==============================] - 1s 7ms/step - loss: 1.1646 - accuracy: 0.5335 - val_loss: 1.1132 - val_accuracy: 0.5570\n",
            "Epoch 13/200\n",
            "107/107 [==============================] - 1s 7ms/step - loss: 1.1452 - accuracy: 0.5338 - val_loss: 1.1060 - val_accuracy: 0.5649\n",
            "Epoch 14/200\n",
            "107/107 [==============================] - 1s 8ms/step - loss: 1.1265 - accuracy: 0.5484 - val_loss: 1.0986 - val_accuracy: 0.5610\n",
            "Epoch 15/200\n",
            "107/107 [==============================] - 1s 7ms/step - loss: 1.1256 - accuracy: 0.5406 - val_loss: 1.1031 - val_accuracy: 0.5627\n",
            "Epoch 16/200\n",
            "107/107 [==============================] - 1s 7ms/step - loss: 1.1284 - accuracy: 0.5413 - val_loss: 1.1020 - val_accuracy: 0.5579\n",
            "Epoch 17/200\n",
            "107/107 [==============================] - 1s 7ms/step - loss: 1.1068 - accuracy: 0.5527 - val_loss: 1.1025 - val_accuracy: 0.5671\n",
            "Epoch 18/200\n",
            "107/107 [==============================] - 1s 8ms/step - loss: 1.1082 - accuracy: 0.5482 - val_loss: 1.0828 - val_accuracy: 0.5760\n",
            "Epoch 19/200\n",
            "107/107 [==============================] - 1s 8ms/step - loss: 1.0985 - accuracy: 0.5581 - val_loss: 1.0793 - val_accuracy: 0.5786\n",
            "Epoch 20/200\n",
            "107/107 [==============================] - 1s 7ms/step - loss: 1.1049 - accuracy: 0.5558 - val_loss: 1.0826 - val_accuracy: 0.5720\n",
            "Epoch 21/200\n",
            "107/107 [==============================] - 1s 7ms/step - loss: 1.0868 - accuracy: 0.5537 - val_loss: 1.0656 - val_accuracy: 0.5720\n",
            "Epoch 22/200\n",
            "107/107 [==============================] - 1s 8ms/step - loss: 1.0853 - accuracy: 0.5634 - val_loss: 1.0778 - val_accuracy: 0.5733\n",
            "Epoch 23/200\n",
            "107/107 [==============================] - 1s 7ms/step - loss: 1.0881 - accuracy: 0.5624 - val_loss: 1.0764 - val_accuracy: 0.5729\n",
            "Epoch 24/200\n",
            "107/107 [==============================] - 1s 8ms/step - loss: 1.0701 - accuracy: 0.5659 - val_loss: 1.0781 - val_accuracy: 0.5742\n",
            "Epoch 25/200\n",
            "107/107 [==============================] - 1s 7ms/step - loss: 1.0632 - accuracy: 0.5705 - val_loss: 1.0701 - val_accuracy: 0.5729\n",
            "Epoch 26/200\n",
            "107/107 [==============================] - 1s 8ms/step - loss: 1.0769 - accuracy: 0.5675 - val_loss: 1.0785 - val_accuracy: 0.5689\n",
            "Epoch 27/200\n",
            "107/107 [==============================] - 1s 7ms/step - loss: 1.0643 - accuracy: 0.5745 - val_loss: 1.0651 - val_accuracy: 0.5702\n",
            "Epoch 28/200\n",
            "107/107 [==============================] - 1s 7ms/step - loss: 1.0476 - accuracy: 0.5806 - val_loss: 1.0583 - val_accuracy: 0.5773\n",
            "Epoch 29/200\n",
            "107/107 [==============================] - 1s 8ms/step - loss: 1.0494 - accuracy: 0.5733 - val_loss: 1.0617 - val_accuracy: 0.5782\n",
            "Epoch 30/200\n",
            "107/107 [==============================] - 1s 7ms/step - loss: 1.0527 - accuracy: 0.5718 - val_loss: 1.0642 - val_accuracy: 0.5791\n",
            "Epoch 31/200\n",
            "107/107 [==============================] - 1s 8ms/step - loss: 1.0356 - accuracy: 0.5864 - val_loss: 1.0583 - val_accuracy: 0.5733\n",
            "Epoch 32/200\n",
            "107/107 [==============================] - 1s 7ms/step - loss: 1.0427 - accuracy: 0.5806 - val_loss: 1.0883 - val_accuracy: 0.5773\n",
            "Epoch 33/200\n",
            "107/107 [==============================] - 1s 7ms/step - loss: 1.0250 - accuracy: 0.5901 - val_loss: 1.0616 - val_accuracy: 0.5941\n",
            "Epoch 34/200\n",
            "107/107 [==============================] - 1s 7ms/step - loss: 1.0268 - accuracy: 0.5821 - val_loss: 1.0701 - val_accuracy: 0.5857\n",
            "Epoch 35/200\n",
            "107/107 [==============================] - 1s 8ms/step - loss: 1.0250 - accuracy: 0.5936 - val_loss: 1.0656 - val_accuracy: 0.5707\n",
            "Epoch 36/200\n",
            "107/107 [==============================] - 1s 8ms/step - loss: 1.0186 - accuracy: 0.5876 - val_loss: 1.0538 - val_accuracy: 0.5755\n",
            "Epoch 37/200\n",
            "107/107 [==============================] - 1s 8ms/step - loss: 1.0291 - accuracy: 0.5885 - val_loss: 1.0616 - val_accuracy: 0.5791\n",
            "Epoch 38/200\n",
            "107/107 [==============================] - 1s 8ms/step - loss: 1.0062 - accuracy: 0.5980 - val_loss: 1.0604 - val_accuracy: 0.5813\n",
            "Epoch 39/200\n",
            "107/107 [==============================] - 1s 7ms/step - loss: 1.0188 - accuracy: 0.5930 - val_loss: 1.0605 - val_accuracy: 0.5861\n",
            "Epoch 40/200\n",
            "107/107 [==============================] - 1s 8ms/step - loss: 0.9914 - accuracy: 0.6073 - val_loss: 1.0498 - val_accuracy: 0.5839\n",
            "Epoch 41/200\n",
            "107/107 [==============================] - 1s 8ms/step - loss: 0.9995 - accuracy: 0.5986 - val_loss: 1.0644 - val_accuracy: 0.5786\n",
            "Epoch 42/200\n",
            "107/107 [==============================] - 1s 8ms/step - loss: 0.9926 - accuracy: 0.6020 - val_loss: 1.0517 - val_accuracy: 0.5786\n",
            "Epoch 43/200\n",
            "107/107 [==============================] - 1s 8ms/step - loss: 1.0008 - accuracy: 0.5948 - val_loss: 1.0542 - val_accuracy: 0.5861\n",
            "Epoch 44/200\n",
            "107/107 [==============================] - 1s 8ms/step - loss: 0.9857 - accuracy: 0.6020 - val_loss: 1.0724 - val_accuracy: 0.5963\n",
            "Epoch 45/200\n",
            "107/107 [==============================] - 1s 7ms/step - loss: 0.9868 - accuracy: 0.6058 - val_loss: 1.0533 - val_accuracy: 0.5981\n",
            "Epoch 46/200\n",
            "107/107 [==============================] - 1s 8ms/step - loss: 0.9851 - accuracy: 0.6023 - val_loss: 1.0625 - val_accuracy: 0.5875\n",
            "Epoch 47/200\n",
            "107/107 [==============================] - 1s 7ms/step - loss: 0.9703 - accuracy: 0.6119 - val_loss: 1.0508 - val_accuracy: 0.5879\n",
            "Epoch 48/200\n",
            "107/107 [==============================] - 1s 7ms/step - loss: 0.9631 - accuracy: 0.6192 - val_loss: 1.0545 - val_accuracy: 0.5857\n",
            "Epoch 49/200\n",
            "107/107 [==============================] - 1s 7ms/step - loss: 0.9767 - accuracy: 0.6123 - val_loss: 1.0580 - val_accuracy: 0.5963\n",
            "Epoch 50/200\n",
            "107/107 [==============================] - 1s 8ms/step - loss: 0.9590 - accuracy: 0.6178 - val_loss: 1.0517 - val_accuracy: 0.5883\n",
            "Epoch 51/200\n",
            "107/107 [==============================] - 1s 7ms/step - loss: 0.9738 - accuracy: 0.6119 - val_loss: 1.0593 - val_accuracy: 0.5954\n",
            "Epoch 52/200\n",
            "107/107 [==============================] - 1s 8ms/step - loss: 0.9632 - accuracy: 0.6131 - val_loss: 1.0448 - val_accuracy: 0.5897\n",
            "Epoch 53/200\n",
            "107/107 [==============================] - 1s 8ms/step - loss: 0.9694 - accuracy: 0.6113 - val_loss: 1.0559 - val_accuracy: 0.5848\n",
            "Epoch 54/200\n",
            "107/107 [==============================] - 1s 8ms/step - loss: 0.9496 - accuracy: 0.6206 - val_loss: 1.0327 - val_accuracy: 0.5985\n",
            "Epoch 55/200\n",
            "107/107 [==============================] - 1s 8ms/step - loss: 0.9751 - accuracy: 0.6151 - val_loss: 1.0437 - val_accuracy: 0.5822\n",
            "Epoch 56/200\n",
            "107/107 [==============================] - 1s 8ms/step - loss: 0.9564 - accuracy: 0.6238 - val_loss: 1.0505 - val_accuracy: 0.5963\n",
            "Epoch 57/200\n",
            "107/107 [==============================] - 1s 8ms/step - loss: 0.9527 - accuracy: 0.6242 - val_loss: 1.0398 - val_accuracy: 0.5861\n",
            "Epoch 58/200\n",
            "107/107 [==============================] - 1s 7ms/step - loss: 0.9429 - accuracy: 0.6242 - val_loss: 1.0351 - val_accuracy: 0.5910\n",
            "Epoch 59/200\n",
            "107/107 [==============================] - 1s 7ms/step - loss: 0.9302 - accuracy: 0.6223 - val_loss: 1.0510 - val_accuracy: 0.5945\n",
            "Epoch 60/200\n",
            "107/107 [==============================] - 1s 7ms/step - loss: 0.9465 - accuracy: 0.6257 - val_loss: 1.0431 - val_accuracy: 0.5879\n",
            "Epoch 61/200\n",
            "107/107 [==============================] - 1s 8ms/step - loss: 0.9548 - accuracy: 0.6210 - val_loss: 1.0245 - val_accuracy: 0.5963\n",
            "Epoch 62/200\n",
            "107/107 [==============================] - 1s 8ms/step - loss: 0.9376 - accuracy: 0.6312 - val_loss: 1.0355 - val_accuracy: 0.5910\n",
            "Epoch 63/200\n",
            "107/107 [==============================] - 1s 7ms/step - loss: 0.9270 - accuracy: 0.6310 - val_loss: 1.0332 - val_accuracy: 0.6034\n",
            "Epoch 64/200\n",
            "107/107 [==============================] - 1s 7ms/step - loss: 0.9330 - accuracy: 0.6291 - val_loss: 1.0391 - val_accuracy: 0.5972\n",
            "Epoch 65/200\n",
            "107/107 [==============================] - 1s 7ms/step - loss: 0.9364 - accuracy: 0.6341 - val_loss: 1.0387 - val_accuracy: 0.6042\n",
            "Epoch 66/200\n",
            "107/107 [==============================] - 1s 7ms/step - loss: 0.9521 - accuracy: 0.6242 - val_loss: 1.0576 - val_accuracy: 0.5875\n",
            "Epoch 67/200\n",
            "107/107 [==============================] - 1s 8ms/step - loss: 0.9487 - accuracy: 0.6223 - val_loss: 1.0398 - val_accuracy: 0.5994\n",
            "Epoch 68/200\n",
            "107/107 [==============================] - 1s 8ms/step - loss: 0.9264 - accuracy: 0.6298 - val_loss: 1.0364 - val_accuracy: 0.5923\n",
            "Epoch 69/200\n",
            "107/107 [==============================] - 1s 8ms/step - loss: 0.9352 - accuracy: 0.6374 - val_loss: 1.0478 - val_accuracy: 0.5879\n",
            "Epoch 70/200\n",
            "107/107 [==============================] - 1s 8ms/step - loss: 0.9137 - accuracy: 0.6379 - val_loss: 1.0409 - val_accuracy: 0.5954\n",
            "Epoch 71/200\n",
            "107/107 [==============================] - 1s 8ms/step - loss: 0.9302 - accuracy: 0.6288 - val_loss: 1.0593 - val_accuracy: 0.5901\n",
            "Epoch 72/200\n",
            "107/107 [==============================] - 1s 7ms/step - loss: 0.9200 - accuracy: 0.6407 - val_loss: 1.0378 - val_accuracy: 0.5923\n",
            "Epoch 73/200\n",
            "107/107 [==============================] - 1s 8ms/step - loss: 0.9153 - accuracy: 0.6422 - val_loss: 1.0178 - val_accuracy: 0.5936\n",
            "Epoch 74/200\n",
            "107/107 [==============================] - 1s 8ms/step - loss: 0.9030 - accuracy: 0.6460 - val_loss: 1.0305 - val_accuracy: 0.6025\n",
            "Epoch 75/200\n",
            "107/107 [==============================] - 1s 8ms/step - loss: 0.9112 - accuracy: 0.6419 - val_loss: 1.0419 - val_accuracy: 0.6029\n",
            "Epoch 76/200\n",
            "107/107 [==============================] - 1s 8ms/step - loss: 0.9042 - accuracy: 0.6494 - val_loss: 1.0422 - val_accuracy: 0.5972\n",
            "Epoch 77/200\n",
            "107/107 [==============================] - 1s 8ms/step - loss: 0.9012 - accuracy: 0.6466 - val_loss: 1.0381 - val_accuracy: 0.6038\n",
            "Epoch 78/200\n",
            "107/107 [==============================] - 1s 7ms/step - loss: 0.8954 - accuracy: 0.6437 - val_loss: 1.0522 - val_accuracy: 0.5923\n",
            "Epoch 79/200\n",
            "107/107 [==============================] - 1s 8ms/step - loss: 0.8930 - accuracy: 0.6490 - val_loss: 1.0435 - val_accuracy: 0.5958\n",
            "Epoch 80/200\n",
            "107/107 [==============================] - 1s 7ms/step - loss: 0.8978 - accuracy: 0.6407 - val_loss: 1.0542 - val_accuracy: 0.5958\n",
            "Epoch 81/200\n",
            "107/107 [==============================] - 1s 8ms/step - loss: 0.9014 - accuracy: 0.6458 - val_loss: 1.0342 - val_accuracy: 0.6047\n",
            "Epoch 82/200\n",
            "107/107 [==============================] - 1s 7ms/step - loss: 0.8902 - accuracy: 0.6488 - val_loss: 1.0467 - val_accuracy: 0.5919\n",
            "Epoch 83/200\n",
            "107/107 [==============================] - 1s 7ms/step - loss: 0.8900 - accuracy: 0.6497 - val_loss: 1.0444 - val_accuracy: 0.5976\n",
            "Epoch 84/200\n",
            "107/107 [==============================] - 1s 7ms/step - loss: 0.8799 - accuracy: 0.6530 - val_loss: 1.0288 - val_accuracy: 0.6051\n",
            "Epoch 85/200\n",
            "107/107 [==============================] - 1s 7ms/step - loss: 0.8920 - accuracy: 0.6472 - val_loss: 1.0411 - val_accuracy: 0.5919\n",
            "Epoch 86/200\n",
            "107/107 [==============================] - 1s 8ms/step - loss: 0.8927 - accuracy: 0.6480 - val_loss: 1.0364 - val_accuracy: 0.6011\n",
            "Epoch 87/200\n",
            "107/107 [==============================] - 1s 8ms/step - loss: 0.8911 - accuracy: 0.6553 - val_loss: 1.0425 - val_accuracy: 0.5941\n",
            "Epoch 88/200\n",
            "107/107 [==============================] - 1s 7ms/step - loss: 0.8990 - accuracy: 0.6402 - val_loss: 1.0323 - val_accuracy: 0.6007\n",
            "Epoch 89/200\n",
            "107/107 [==============================] - 1s 7ms/step - loss: 0.8862 - accuracy: 0.6497 - val_loss: 1.0374 - val_accuracy: 0.6104\n",
            "Epoch 90/200\n",
            "107/107 [==============================] - 1s 8ms/step - loss: 0.8739 - accuracy: 0.6559 - val_loss: 1.0522 - val_accuracy: 0.5923\n",
            "Epoch 91/200\n",
            "107/107 [==============================] - 1s 8ms/step - loss: 0.8796 - accuracy: 0.6568 - val_loss: 1.0438 - val_accuracy: 0.6025\n",
            "Epoch 92/200\n",
            "107/107 [==============================] - 1s 8ms/step - loss: 0.8804 - accuracy: 0.6518 - val_loss: 1.0342 - val_accuracy: 0.5989\n",
            "Epoch 93/200\n",
            "107/107 [==============================] - 1s 8ms/step - loss: 0.8975 - accuracy: 0.6506 - val_loss: 1.0264 - val_accuracy: 0.6060\n",
            "Epoch 94/200\n",
            "107/107 [==============================] - 1s 7ms/step - loss: 0.8910 - accuracy: 0.6533 - val_loss: 1.0119 - val_accuracy: 0.6025\n",
            "Epoch 95/200\n",
            "107/107 [==============================] - 1s 8ms/step - loss: 0.8738 - accuracy: 0.6599 - val_loss: 1.0343 - val_accuracy: 0.6007\n",
            "Epoch 96/200\n",
            "107/107 [==============================] - 1s 8ms/step - loss: 0.8795 - accuracy: 0.6546 - val_loss: 1.0449 - val_accuracy: 0.6047\n",
            "Epoch 97/200\n",
            "107/107 [==============================] - 1s 8ms/step - loss: 0.8891 - accuracy: 0.6488 - val_loss: 1.0312 - val_accuracy: 0.6029\n",
            "Epoch 98/200\n",
            "107/107 [==============================] - 1s 10ms/step - loss: 0.8679 - accuracy: 0.6603 - val_loss: 1.0234 - val_accuracy: 0.6095\n",
            "Epoch 99/200\n",
            "107/107 [==============================] - 1s 9ms/step - loss: 0.8686 - accuracy: 0.6639 - val_loss: 1.0465 - val_accuracy: 0.6034\n",
            "Epoch 100/200\n",
            "107/107 [==============================] - 1s 8ms/step - loss: 0.8624 - accuracy: 0.6668 - val_loss: 1.0373 - val_accuracy: 0.6047\n",
            "Epoch 101/200\n",
            "107/107 [==============================] - 1s 8ms/step - loss: 0.8721 - accuracy: 0.6512 - val_loss: 1.0365 - val_accuracy: 0.6025\n",
            "Epoch 102/200\n",
            "107/107 [==============================] - 1s 7ms/step - loss: 0.8683 - accuracy: 0.6602 - val_loss: 1.0345 - val_accuracy: 0.6078\n",
            "Epoch 103/200\n",
            "107/107 [==============================] - 1s 7ms/step - loss: 0.8494 - accuracy: 0.6608 - val_loss: 1.0505 - val_accuracy: 0.5950\n",
            "Epoch 104/200\n",
            "107/107 [==============================] - 1s 8ms/step - loss: 0.8639 - accuracy: 0.6643 - val_loss: 1.0401 - val_accuracy: 0.6034\n",
            "Epoch 105/200\n",
            "107/107 [==============================] - 1s 8ms/step - loss: 0.8572 - accuracy: 0.6639 - val_loss: 1.0336 - val_accuracy: 0.6011\n",
            "Epoch 106/200\n",
            "107/107 [==============================] - 1s 8ms/step - loss: 0.8639 - accuracy: 0.6609 - val_loss: 1.0390 - val_accuracy: 0.6131\n",
            "Epoch 107/200\n",
            "107/107 [==============================] - 1s 8ms/step - loss: 0.8365 - accuracy: 0.6687 - val_loss: 1.0346 - val_accuracy: 0.6100\n",
            "Epoch 108/200\n",
            "107/107 [==============================] - 1s 7ms/step - loss: 0.8395 - accuracy: 0.6701 - val_loss: 1.0435 - val_accuracy: 0.6082\n",
            "Epoch 109/200\n",
            "107/107 [==============================] - 1s 8ms/step - loss: 0.8499 - accuracy: 0.6648 - val_loss: 1.0668 - val_accuracy: 0.6042\n",
            "Epoch 110/200\n",
            "107/107 [==============================] - 1s 8ms/step - loss: 0.8379 - accuracy: 0.6692 - val_loss: 1.0677 - val_accuracy: 0.6104\n",
            "Epoch 111/200\n",
            "107/107 [==============================] - 1s 7ms/step - loss: 0.8455 - accuracy: 0.6650 - val_loss: 1.0573 - val_accuracy: 0.5976\n",
            "Epoch 112/200\n",
            "107/107 [==============================] - 1s 8ms/step - loss: 0.8509 - accuracy: 0.6690 - val_loss: 1.0537 - val_accuracy: 0.6073\n",
            "Epoch 113/200\n",
            "107/107 [==============================] - 1s 8ms/step - loss: 0.8461 - accuracy: 0.6642 - val_loss: 1.0513 - val_accuracy: 0.6131\n",
            "Epoch 114/200\n",
            "107/107 [==============================] - 1s 13ms/step - loss: 0.8334 - accuracy: 0.6714 - val_loss: 1.0537 - val_accuracy: 0.6007\n",
            "Epoch 115/200\n",
            "107/107 [==============================] - 1s 9ms/step - loss: 0.8305 - accuracy: 0.6790 - val_loss: 1.0715 - val_accuracy: 0.6029\n",
            "Epoch 116/200\n",
            "107/107 [==============================] - 1s 8ms/step - loss: 0.8486 - accuracy: 0.6721 - val_loss: 1.0625 - val_accuracy: 0.5998\n",
            "Epoch 117/200\n",
            "107/107 [==============================] - 1s 8ms/step - loss: 0.8698 - accuracy: 0.6614 - val_loss: 1.0465 - val_accuracy: 0.5950\n",
            "Epoch 118/200\n",
            "107/107 [==============================] - 1s 8ms/step - loss: 0.8404 - accuracy: 0.6768 - val_loss: 1.0453 - val_accuracy: 0.6082\n",
            "Epoch 119/200\n",
            "107/107 [==============================] - 1s 8ms/step - loss: 0.8430 - accuracy: 0.6689 - val_loss: 1.0429 - val_accuracy: 0.6038\n",
            "Epoch 120/200\n",
            "107/107 [==============================] - 1s 7ms/step - loss: 0.8332 - accuracy: 0.6729 - val_loss: 1.0427 - val_accuracy: 0.6056\n",
            "Epoch 121/200\n",
            "107/107 [==============================] - 1s 7ms/step - loss: 0.8489 - accuracy: 0.6705 - val_loss: 1.0457 - val_accuracy: 0.6060\n",
            "Epoch 122/200\n",
            "107/107 [==============================] - 1s 8ms/step - loss: 0.8398 - accuracy: 0.6680 - val_loss: 1.0400 - val_accuracy: 0.6025\n",
            "Epoch 123/200\n",
            "107/107 [==============================] - 1s 7ms/step - loss: 0.8392 - accuracy: 0.6656 - val_loss: 1.0523 - val_accuracy: 0.6064\n",
            "Epoch 124/200\n",
            "107/107 [==============================] - 1s 8ms/step - loss: 0.8445 - accuracy: 0.6702 - val_loss: 1.0586 - val_accuracy: 0.6126\n",
            "Epoch 125/200\n",
            "107/107 [==============================] - 1s 8ms/step - loss: 0.8206 - accuracy: 0.6826 - val_loss: 1.0541 - val_accuracy: 0.6082\n",
            "Epoch 126/200\n",
            "107/107 [==============================] - 1s 7ms/step - loss: 0.8211 - accuracy: 0.6787 - val_loss: 1.0549 - val_accuracy: 0.6100\n",
            "Epoch 127/200\n",
            "107/107 [==============================] - 1s 8ms/step - loss: 0.8270 - accuracy: 0.6759 - val_loss: 1.0473 - val_accuracy: 0.6038\n",
            "Epoch 128/200\n",
            "107/107 [==============================] - 1s 8ms/step - loss: 0.8167 - accuracy: 0.6849 - val_loss: 1.0469 - val_accuracy: 0.6100\n",
            "Epoch 129/200\n",
            "107/107 [==============================] - 1s 8ms/step - loss: 0.8146 - accuracy: 0.6855 - val_loss: 1.0754 - val_accuracy: 0.6029\n",
            "Epoch 130/200\n",
            "107/107 [==============================] - 1s 8ms/step - loss: 0.8175 - accuracy: 0.6782 - val_loss: 1.0467 - val_accuracy: 0.6095\n",
            "Epoch 131/200\n",
            "107/107 [==============================] - 1s 8ms/step - loss: 0.8199 - accuracy: 0.6802 - val_loss: 1.0556 - val_accuracy: 0.6056\n",
            "Epoch 132/200\n",
            "107/107 [==============================] - 1s 7ms/step - loss: 0.7984 - accuracy: 0.6914 - val_loss: 1.0697 - val_accuracy: 0.6087\n",
            "Epoch 133/200\n",
            "107/107 [==============================] - 1s 8ms/step - loss: 0.8030 - accuracy: 0.6891 - val_loss: 1.0660 - val_accuracy: 0.6140\n",
            "Epoch 134/200\n",
            "107/107 [==============================] - 1s 8ms/step - loss: 0.8190 - accuracy: 0.6876 - val_loss: 1.0544 - val_accuracy: 0.6029\n",
            "Epoch 135/200\n",
            "107/107 [==============================] - 1s 8ms/step - loss: 0.8228 - accuracy: 0.6832 - val_loss: 1.0610 - val_accuracy: 0.6042\n",
            "Epoch 136/200\n",
            "107/107 [==============================] - 1s 8ms/step - loss: 0.8196 - accuracy: 0.6799 - val_loss: 1.0520 - val_accuracy: 0.6091\n",
            "Epoch 137/200\n",
            "107/107 [==============================] - 1s 8ms/step - loss: 0.8152 - accuracy: 0.6782 - val_loss: 1.0507 - val_accuracy: 0.6166\n",
            "Epoch 138/200\n",
            "107/107 [==============================] - 1s 8ms/step - loss: 0.8049 - accuracy: 0.6845 - val_loss: 1.0434 - val_accuracy: 0.6109\n",
            "Epoch 139/200\n",
            "107/107 [==============================] - 1s 8ms/step - loss: 0.8089 - accuracy: 0.6826 - val_loss: 1.0540 - val_accuracy: 0.6100\n",
            "Epoch 140/200\n",
            "107/107 [==============================] - 1s 8ms/step - loss: 0.8058 - accuracy: 0.6854 - val_loss: 1.0541 - val_accuracy: 0.6179\n",
            "Epoch 141/200\n",
            "107/107 [==============================] - 1s 8ms/step - loss: 0.8272 - accuracy: 0.6808 - val_loss: 1.0396 - val_accuracy: 0.6131\n",
            "Epoch 142/200\n",
            "107/107 [==============================] - 1s 8ms/step - loss: 0.8072 - accuracy: 0.6863 - val_loss: 1.0521 - val_accuracy: 0.6117\n",
            "Epoch 143/200\n",
            "107/107 [==============================] - 1s 8ms/step - loss: 0.8178 - accuracy: 0.6827 - val_loss: 1.0451 - val_accuracy: 0.6135\n",
            "Epoch 144/200\n",
            "107/107 [==============================] - 1s 8ms/step - loss: 0.8033 - accuracy: 0.6848 - val_loss: 1.0630 - val_accuracy: 0.6082\n",
            "Epoch 145/200\n",
            "107/107 [==============================] - 1s 7ms/step - loss: 0.8067 - accuracy: 0.6868 - val_loss: 1.0507 - val_accuracy: 0.6109\n",
            "Epoch 146/200\n",
            "107/107 [==============================] - 1s 8ms/step - loss: 0.8127 - accuracy: 0.6848 - val_loss: 1.0654 - val_accuracy: 0.6135\n",
            "Epoch 147/200\n",
            "107/107 [==============================] - 1s 8ms/step - loss: 0.7930 - accuracy: 0.6920 - val_loss: 1.0633 - val_accuracy: 0.6038\n",
            "Epoch 148/200\n",
            "107/107 [==============================] - 1s 8ms/step - loss: 0.7844 - accuracy: 0.6932 - val_loss: 1.0702 - val_accuracy: 0.6064\n",
            "Epoch 149/200\n",
            "107/107 [==============================] - 1s 8ms/step - loss: 0.8001 - accuracy: 0.6860 - val_loss: 1.0585 - val_accuracy: 0.6087\n",
            "Epoch 150/200\n",
            "107/107 [==============================] - 1s 8ms/step - loss: 0.7933 - accuracy: 0.6916 - val_loss: 1.0674 - val_accuracy: 0.6064\n",
            "Epoch 151/200\n",
            "107/107 [==============================] - 1s 8ms/step - loss: 0.7819 - accuracy: 0.6901 - val_loss: 1.0650 - val_accuracy: 0.6034\n",
            "Epoch 152/200\n",
            "107/107 [==============================] - 1s 8ms/step - loss: 0.7896 - accuracy: 0.6982 - val_loss: 1.0687 - val_accuracy: 0.6034\n",
            "Epoch 153/200\n",
            "107/107 [==============================] - 1s 8ms/step - loss: 0.8114 - accuracy: 0.6864 - val_loss: 1.0691 - val_accuracy: 0.6051\n",
            "Epoch 154/200\n",
            "107/107 [==============================] - 1s 8ms/step - loss: 0.8100 - accuracy: 0.6874 - val_loss: 1.0602 - val_accuracy: 0.6140\n",
            "Epoch 155/200\n",
            "107/107 [==============================] - 1s 8ms/step - loss: 0.7988 - accuracy: 0.6835 - val_loss: 1.0718 - val_accuracy: 0.6122\n",
            "Epoch 156/200\n",
            "107/107 [==============================] - 1s 8ms/step - loss: 0.7856 - accuracy: 0.6944 - val_loss: 1.0721 - val_accuracy: 0.6131\n",
            "Epoch 157/200\n",
            "107/107 [==============================] - 1s 8ms/step - loss: 0.7935 - accuracy: 0.6877 - val_loss: 1.0494 - val_accuracy: 0.6122\n",
            "Epoch 158/200\n",
            "107/107 [==============================] - 1s 8ms/step - loss: 0.8085 - accuracy: 0.6870 - val_loss: 1.0599 - val_accuracy: 0.6073\n",
            "Epoch 159/200\n",
            "107/107 [==============================] - 1s 7ms/step - loss: 0.7961 - accuracy: 0.6885 - val_loss: 1.0711 - val_accuracy: 0.6175\n",
            "Epoch 160/200\n",
            "107/107 [==============================] - 1s 7ms/step - loss: 0.7800 - accuracy: 0.6904 - val_loss: 1.0637 - val_accuracy: 0.6197\n",
            "Epoch 161/200\n",
            "107/107 [==============================] - 1s 8ms/step - loss: 0.7953 - accuracy: 0.6923 - val_loss: 1.0703 - val_accuracy: 0.6126\n",
            "Epoch 162/200\n",
            "107/107 [==============================] - 1s 8ms/step - loss: 0.8031 - accuracy: 0.6818 - val_loss: 1.0550 - val_accuracy: 0.6166\n",
            "Epoch 163/200\n",
            "107/107 [==============================] - 1s 8ms/step - loss: 0.7710 - accuracy: 0.6942 - val_loss: 1.0595 - val_accuracy: 0.6162\n",
            "Epoch 164/200\n",
            "107/107 [==============================] - 1s 8ms/step - loss: 0.7830 - accuracy: 0.6938 - val_loss: 1.0559 - val_accuracy: 0.6122\n",
            "Epoch 165/200\n",
            "107/107 [==============================] - 1s 8ms/step - loss: 0.8000 - accuracy: 0.6835 - val_loss: 1.0497 - val_accuracy: 0.6188\n",
            "Epoch 166/200\n",
            "107/107 [==============================] - 1s 8ms/step - loss: 0.8020 - accuracy: 0.6917 - val_loss: 1.0513 - val_accuracy: 0.6148\n",
            "Epoch 167/200\n",
            "107/107 [==============================] - 1s 7ms/step - loss: 0.7867 - accuracy: 0.6910 - val_loss: 1.0486 - val_accuracy: 0.6117\n",
            "Epoch 168/200\n",
            "107/107 [==============================] - 1s 7ms/step - loss: 0.7935 - accuracy: 0.6886 - val_loss: 1.0443 - val_accuracy: 0.6223\n",
            "Epoch 169/200\n",
            "107/107 [==============================] - 1s 8ms/step - loss: 0.7727 - accuracy: 0.7050 - val_loss: 1.0524 - val_accuracy: 0.6148\n",
            "Epoch 170/200\n",
            "107/107 [==============================] - 1s 8ms/step - loss: 0.7700 - accuracy: 0.6985 - val_loss: 1.0738 - val_accuracy: 0.6078\n",
            "Epoch 171/200\n",
            "107/107 [==============================] - 1s 8ms/step - loss: 0.7736 - accuracy: 0.6979 - val_loss: 1.0678 - val_accuracy: 0.6117\n",
            "Epoch 172/200\n",
            "107/107 [==============================] - 1s 8ms/step - loss: 0.7666 - accuracy: 0.7025 - val_loss: 1.0565 - val_accuracy: 0.6091\n",
            "Epoch 173/200\n",
            "107/107 [==============================] - 1s 8ms/step - loss: 0.7700 - accuracy: 0.7066 - val_loss: 1.0848 - val_accuracy: 0.6095\n",
            "Epoch 174/200\n",
            "107/107 [==============================] - 1s 8ms/step - loss: 0.7658 - accuracy: 0.7048 - val_loss: 1.0559 - val_accuracy: 0.6069\n",
            "Epoch 175/200\n",
            "107/107 [==============================] - 1s 8ms/step - loss: 0.7801 - accuracy: 0.7014 - val_loss: 1.0645 - val_accuracy: 0.6109\n",
            "Epoch 176/200\n",
            "107/107 [==============================] - 1s 8ms/step - loss: 0.7724 - accuracy: 0.6964 - val_loss: 1.0661 - val_accuracy: 0.6126\n",
            "Epoch 177/200\n",
            "107/107 [==============================] - 1s 8ms/step - loss: 0.7733 - accuracy: 0.7005 - val_loss: 1.0648 - val_accuracy: 0.6100\n",
            "Epoch 178/200\n",
            "107/107 [==============================] - 1s 8ms/step - loss: 0.7509 - accuracy: 0.6994 - val_loss: 1.0574 - val_accuracy: 0.6170\n",
            "Epoch 179/200\n",
            "107/107 [==============================] - 1s 8ms/step - loss: 0.7760 - accuracy: 0.6896 - val_loss: 1.0515 - val_accuracy: 0.6201\n",
            "Epoch 180/200\n",
            "107/107 [==============================] - 1s 8ms/step - loss: 0.7824 - accuracy: 0.6991 - val_loss: 1.0684 - val_accuracy: 0.6113\n",
            "Epoch 181/200\n",
            "107/107 [==============================] - 1s 8ms/step - loss: 0.7880 - accuracy: 0.6895 - val_loss: 1.0515 - val_accuracy: 0.6148\n",
            "Epoch 182/200\n",
            "107/107 [==============================] - 1s 8ms/step - loss: 0.7897 - accuracy: 0.6849 - val_loss: 1.0651 - val_accuracy: 0.6109\n",
            "Epoch 183/200\n",
            "107/107 [==============================] - 1s 8ms/step - loss: 0.7919 - accuracy: 0.6948 - val_loss: 1.0514 - val_accuracy: 0.6078\n",
            "Epoch 184/200\n",
            "107/107 [==============================] - 1s 8ms/step - loss: 0.7928 - accuracy: 0.6947 - val_loss: 1.0404 - val_accuracy: 0.6148\n",
            "Epoch 185/200\n",
            "107/107 [==============================] - 1s 7ms/step - loss: 0.7865 - accuracy: 0.6994 - val_loss: 1.0455 - val_accuracy: 0.6131\n",
            "Epoch 186/200\n",
            "107/107 [==============================] - 1s 8ms/step - loss: 0.7743 - accuracy: 0.6989 - val_loss: 1.0453 - val_accuracy: 0.6087\n",
            "Epoch 187/200\n",
            "107/107 [==============================] - 1s 8ms/step - loss: 0.7627 - accuracy: 0.7001 - val_loss: 1.0588 - val_accuracy: 0.6166\n",
            "Epoch 188/200\n",
            "107/107 [==============================] - 1s 8ms/step - loss: 0.7783 - accuracy: 0.7026 - val_loss: 1.0541 - val_accuracy: 0.6126\n",
            "Epoch 189/200\n",
            "107/107 [==============================] - 1s 8ms/step - loss: 0.7759 - accuracy: 0.6961 - val_loss: 1.0678 - val_accuracy: 0.6170\n",
            "Epoch 190/200\n",
            "107/107 [==============================] - 1s 8ms/step - loss: 0.7650 - accuracy: 0.7033 - val_loss: 1.0773 - val_accuracy: 0.6113\n",
            "Epoch 191/200\n",
            "107/107 [==============================] - 1s 8ms/step - loss: 0.7712 - accuracy: 0.6983 - val_loss: 1.0576 - val_accuracy: 0.6170\n",
            "Epoch 192/200\n",
            "107/107 [==============================] - 1s 8ms/step - loss: 0.7528 - accuracy: 0.7088 - val_loss: 1.0690 - val_accuracy: 0.6122\n",
            "Epoch 193/200\n",
            "107/107 [==============================] - 1s 8ms/step - loss: 0.7589 - accuracy: 0.7082 - val_loss: 1.0569 - val_accuracy: 0.6109\n",
            "Epoch 194/200\n",
            "107/107 [==============================] - 1s 8ms/step - loss: 0.7583 - accuracy: 0.7047 - val_loss: 1.0591 - val_accuracy: 0.6135\n",
            "Epoch 195/200\n",
            "107/107 [==============================] - 1s 8ms/step - loss: 0.7591 - accuracy: 0.7101 - val_loss: 1.0565 - val_accuracy: 0.6109\n",
            "Epoch 196/200\n",
            "107/107 [==============================] - 1s 8ms/step - loss: 0.7517 - accuracy: 0.7089 - val_loss: 1.0636 - val_accuracy: 0.6140\n",
            "Epoch 197/200\n",
            "107/107 [==============================] - 1s 8ms/step - loss: 0.7619 - accuracy: 0.7056 - val_loss: 1.0702 - val_accuracy: 0.6170\n",
            "Epoch 198/200\n",
            "107/107 [==============================] - 1s 8ms/step - loss: 0.7586 - accuracy: 0.7067 - val_loss: 1.0637 - val_accuracy: 0.6201\n",
            "Epoch 199/200\n",
            "107/107 [==============================] - 1s 8ms/step - loss: 0.7525 - accuracy: 0.7053 - val_loss: 1.0727 - val_accuracy: 0.6170\n",
            "Epoch 200/200\n",
            "107/107 [==============================] - 1s 8ms/step - loss: 0.7442 - accuracy: 0.7176 - val_loss: 1.0761 - val_accuracy: 0.6197\n"
          ]
        },
        {
          "output_type": "execute_result",
          "data": {
            "text/plain": [
              "<keras.callbacks.History at 0x7f7402540190>"
            ]
          },
          "metadata": {},
          "execution_count": 9
        }
      ]
    },
    {
      "cell_type": "code",
      "source": [
        "# Create a base model -- sequential, functional, or subclass.\n",
        "model2 = tf.keras.Sequential([\n",
        "    tf.keras.layers.Dense(128, input_dim=X.shape[1], activation='relu'),\n",
        "    tf.keras.layers.BatchNormalization(),\n",
        "    tf.keras.layers.Dropout(0.4),\n",
        "    tf.keras.layers.Dense(128, activation='relu'),\n",
        "    tf.keras.layers.BatchNormalization(),\n",
        "    tf.keras.layers.Dropout(0.4),    \n",
        "    tf.keras.layers.Dense(64, activation='relu'),\n",
        "    tf.keras.layers.Dropout(0.4),\n",
        "    tf.keras.layers.Dense(6, activation=tf.nn.softmax)\n",
        "])\n",
        "\n",
        "modelx = tf.keras.Sequential([\n",
        "    tf.keras.layers.Dense(128, input_dim=X.shape[1], activation='relu'),\n",
        "    tf.keras.layers.BatchNormalization(),\n",
        "    tf.keras.layers.Dropout(0.4),\n",
        "    tf.keras.layers.Dense(128, activation='relu'),\n",
        "    tf.keras.layers.BatchNormalization(),\n",
        "    tf.keras.layers.Dropout(0.4),    \n",
        "    tf.keras.layers.Dense(64, activation='relu'),\n",
        "    tf.keras.layers.Dropout(0.4),\n",
        "    tf.keras.layers.Dense(6, activation=tf.nn.softmax)\n",
        "])\n",
        "\n",
        "# # Wrap the model with adversarial regularization.\n",
        "# adv_config = nsl.configs.make_adv_reg_config(multiplier=0.2, adv_step_size=0.05)\n",
        "# adv_model = nsl.keras.AdversarialRegularization(model, adv_config=adv_config)\n",
        "\n",
        "adam = tf.keras.optimizers.Adam()\n",
        "\n",
        "# Compile, train, and evaluate.\n",
        "modelx.compile(optimizer=adam,\n",
        "                  loss='sparse_categorical_crossentropy',\n",
        "                  metrics=['accuracy'])\n",
        "modelx.fit(X_train, y_train, batch_size=32, epochs=200, validation_data=(X_val, y_val))\n",
        "# model.evaluate(x_test, y_test)"
      ],
      "metadata": {
        "id": "JZJ5_s40gIdR",
        "colab": {
          "base_uri": "https://localhost:8080/",
          "height": 396
        },
        "outputId": "3454805b-8fa0-4c06-dabf-d00b4561546a"
      },
      "execution_count": 33,
      "outputs": [
        {
          "output_type": "stream",
          "name": "stdout",
          "text": [
            "Epoch 1/200\n"
          ]
        },
        {
          "output_type": "error",
          "ename": "KeyboardInterrupt",
          "evalue": "ignored",
          "traceback": [
            "\u001b[0;31m---------------------------------------------------------------------------\u001b[0m",
            "\u001b[0;31mKeyboardInterrupt\u001b[0m                         Traceback (most recent call last)",
            "\u001b[0;32m<ipython-input-33-83e5a29ca163>\u001b[0m in \u001b[0;36m<module>\u001b[0;34m()\u001b[0m\n\u001b[1;32m     34\u001b[0m                   \u001b[0mloss\u001b[0m\u001b[0;34m=\u001b[0m\u001b[0;34m'sparse_categorical_crossentropy'\u001b[0m\u001b[0;34m,\u001b[0m\u001b[0;34m\u001b[0m\u001b[0;34m\u001b[0m\u001b[0m\n\u001b[1;32m     35\u001b[0m                   metrics=['accuracy'])\n\u001b[0;32m---> 36\u001b[0;31m \u001b[0mb_model\u001b[0m\u001b[0;34m.\u001b[0m\u001b[0mfit\u001b[0m\u001b[0;34m(\u001b[0m\u001b[0mX_train\u001b[0m\u001b[0;34m,\u001b[0m \u001b[0my_train\u001b[0m\u001b[0;34m,\u001b[0m \u001b[0mbatch_size\u001b[0m\u001b[0;34m=\u001b[0m\u001b[0;36m32\u001b[0m\u001b[0;34m,\u001b[0m \u001b[0mepochs\u001b[0m\u001b[0;34m=\u001b[0m\u001b[0;36m200\u001b[0m\u001b[0;34m,\u001b[0m \u001b[0mvalidation_data\u001b[0m\u001b[0;34m=\u001b[0m\u001b[0;34m(\u001b[0m\u001b[0mX_val\u001b[0m\u001b[0;34m,\u001b[0m \u001b[0my_val\u001b[0m\u001b[0;34m)\u001b[0m\u001b[0;34m)\u001b[0m\u001b[0;34m\u001b[0m\u001b[0;34m\u001b[0m\u001b[0m\n\u001b[0m\u001b[1;32m     37\u001b[0m \u001b[0;31m# model.evaluate(x_test, y_test)\u001b[0m\u001b[0;34m\u001b[0m\u001b[0;34m\u001b[0m\u001b[0;34m\u001b[0m\u001b[0m\n",
            "\u001b[0;32m/usr/local/lib/python3.7/dist-packages/keras/utils/traceback_utils.py\u001b[0m in \u001b[0;36merror_handler\u001b[0;34m(*args, **kwargs)\u001b[0m\n\u001b[1;32m     62\u001b[0m     \u001b[0mfiltered_tb\u001b[0m \u001b[0;34m=\u001b[0m \u001b[0;32mNone\u001b[0m\u001b[0;34m\u001b[0m\u001b[0;34m\u001b[0m\u001b[0m\n\u001b[1;32m     63\u001b[0m     \u001b[0;32mtry\u001b[0m\u001b[0;34m:\u001b[0m\u001b[0;34m\u001b[0m\u001b[0;34m\u001b[0m\u001b[0m\n\u001b[0;32m---> 64\u001b[0;31m       \u001b[0;32mreturn\u001b[0m \u001b[0mfn\u001b[0m\u001b[0;34m(\u001b[0m\u001b[0;34m*\u001b[0m\u001b[0margs\u001b[0m\u001b[0;34m,\u001b[0m \u001b[0;34m**\u001b[0m\u001b[0mkwargs\u001b[0m\u001b[0;34m)\u001b[0m\u001b[0;34m\u001b[0m\u001b[0;34m\u001b[0m\u001b[0m\n\u001b[0m\u001b[1;32m     65\u001b[0m     \u001b[0;32mexcept\u001b[0m \u001b[0mException\u001b[0m \u001b[0;32mas\u001b[0m \u001b[0me\u001b[0m\u001b[0;34m:\u001b[0m  \u001b[0;31m# pylint: disable=broad-except\u001b[0m\u001b[0;34m\u001b[0m\u001b[0;34m\u001b[0m\u001b[0m\n\u001b[1;32m     66\u001b[0m       \u001b[0mfiltered_tb\u001b[0m \u001b[0;34m=\u001b[0m \u001b[0m_process_traceback_frames\u001b[0m\u001b[0;34m(\u001b[0m\u001b[0me\u001b[0m\u001b[0;34m.\u001b[0m\u001b[0m__traceback__\u001b[0m\u001b[0;34m)\u001b[0m\u001b[0;34m\u001b[0m\u001b[0;34m\u001b[0m\u001b[0m\n",
            "\u001b[0;32m/usr/local/lib/python3.7/dist-packages/keras/engine/training.py\u001b[0m in \u001b[0;36mfit\u001b[0;34m(self, x, y, batch_size, epochs, verbose, callbacks, validation_split, validation_data, shuffle, class_weight, sample_weight, initial_epoch, steps_per_epoch, validation_steps, validation_batch_size, validation_freq, max_queue_size, workers, use_multiprocessing)\u001b[0m\n\u001b[1;32m   1382\u001b[0m                 _r=1):\n\u001b[1;32m   1383\u001b[0m               \u001b[0mcallbacks\u001b[0m\u001b[0;34m.\u001b[0m\u001b[0mon_train_batch_begin\u001b[0m\u001b[0;34m(\u001b[0m\u001b[0mstep\u001b[0m\u001b[0;34m)\u001b[0m\u001b[0;34m\u001b[0m\u001b[0;34m\u001b[0m\u001b[0m\n\u001b[0;32m-> 1384\u001b[0;31m               \u001b[0mtmp_logs\u001b[0m \u001b[0;34m=\u001b[0m \u001b[0mself\u001b[0m\u001b[0;34m.\u001b[0m\u001b[0mtrain_function\u001b[0m\u001b[0;34m(\u001b[0m\u001b[0miterator\u001b[0m\u001b[0;34m)\u001b[0m\u001b[0;34m\u001b[0m\u001b[0;34m\u001b[0m\u001b[0m\n\u001b[0m\u001b[1;32m   1385\u001b[0m               \u001b[0;32mif\u001b[0m \u001b[0mdata_handler\u001b[0m\u001b[0;34m.\u001b[0m\u001b[0mshould_sync\u001b[0m\u001b[0;34m:\u001b[0m\u001b[0;34m\u001b[0m\u001b[0;34m\u001b[0m\u001b[0m\n\u001b[1;32m   1386\u001b[0m                 \u001b[0mcontext\u001b[0m\u001b[0;34m.\u001b[0m\u001b[0masync_wait\u001b[0m\u001b[0;34m(\u001b[0m\u001b[0;34m)\u001b[0m\u001b[0;34m\u001b[0m\u001b[0;34m\u001b[0m\u001b[0m\n",
            "\u001b[0;32m/usr/local/lib/python3.7/dist-packages/tensorflow/python/util/traceback_utils.py\u001b[0m in \u001b[0;36merror_handler\u001b[0;34m(*args, **kwargs)\u001b[0m\n\u001b[1;32m    148\u001b[0m     \u001b[0mfiltered_tb\u001b[0m \u001b[0;34m=\u001b[0m \u001b[0;32mNone\u001b[0m\u001b[0;34m\u001b[0m\u001b[0;34m\u001b[0m\u001b[0m\n\u001b[1;32m    149\u001b[0m     \u001b[0;32mtry\u001b[0m\u001b[0;34m:\u001b[0m\u001b[0;34m\u001b[0m\u001b[0;34m\u001b[0m\u001b[0m\n\u001b[0;32m--> 150\u001b[0;31m       \u001b[0;32mreturn\u001b[0m \u001b[0mfn\u001b[0m\u001b[0;34m(\u001b[0m\u001b[0;34m*\u001b[0m\u001b[0margs\u001b[0m\u001b[0;34m,\u001b[0m \u001b[0;34m**\u001b[0m\u001b[0mkwargs\u001b[0m\u001b[0;34m)\u001b[0m\u001b[0;34m\u001b[0m\u001b[0;34m\u001b[0m\u001b[0m\n\u001b[0m\u001b[1;32m    151\u001b[0m     \u001b[0;32mexcept\u001b[0m \u001b[0mException\u001b[0m \u001b[0;32mas\u001b[0m \u001b[0me\u001b[0m\u001b[0;34m:\u001b[0m\u001b[0;34m\u001b[0m\u001b[0;34m\u001b[0m\u001b[0m\n\u001b[1;32m    152\u001b[0m       \u001b[0mfiltered_tb\u001b[0m \u001b[0;34m=\u001b[0m \u001b[0m_process_traceback_frames\u001b[0m\u001b[0;34m(\u001b[0m\u001b[0me\u001b[0m\u001b[0;34m.\u001b[0m\u001b[0m__traceback__\u001b[0m\u001b[0;34m)\u001b[0m\u001b[0;34m\u001b[0m\u001b[0;34m\u001b[0m\u001b[0m\n",
            "\u001b[0;32m/usr/local/lib/python3.7/dist-packages/tensorflow/python/eager/def_function.py\u001b[0m in \u001b[0;36m__call__\u001b[0;34m(self, *args, **kwds)\u001b[0m\n\u001b[1;32m    913\u001b[0m \u001b[0;34m\u001b[0m\u001b[0m\n\u001b[1;32m    914\u001b[0m       \u001b[0;32mwith\u001b[0m \u001b[0mOptionalXlaContext\u001b[0m\u001b[0;34m(\u001b[0m\u001b[0mself\u001b[0m\u001b[0;34m.\u001b[0m\u001b[0m_jit_compile\u001b[0m\u001b[0;34m)\u001b[0m\u001b[0;34m:\u001b[0m\u001b[0;34m\u001b[0m\u001b[0;34m\u001b[0m\u001b[0m\n\u001b[0;32m--> 915\u001b[0;31m         \u001b[0mresult\u001b[0m \u001b[0;34m=\u001b[0m \u001b[0mself\u001b[0m\u001b[0;34m.\u001b[0m\u001b[0m_call\u001b[0m\u001b[0;34m(\u001b[0m\u001b[0;34m*\u001b[0m\u001b[0margs\u001b[0m\u001b[0;34m,\u001b[0m \u001b[0;34m**\u001b[0m\u001b[0mkwds\u001b[0m\u001b[0;34m)\u001b[0m\u001b[0;34m\u001b[0m\u001b[0;34m\u001b[0m\u001b[0m\n\u001b[0m\u001b[1;32m    916\u001b[0m \u001b[0;34m\u001b[0m\u001b[0m\n\u001b[1;32m    917\u001b[0m       \u001b[0mnew_tracing_count\u001b[0m \u001b[0;34m=\u001b[0m \u001b[0mself\u001b[0m\u001b[0;34m.\u001b[0m\u001b[0mexperimental_get_tracing_count\u001b[0m\u001b[0;34m(\u001b[0m\u001b[0;34m)\u001b[0m\u001b[0;34m\u001b[0m\u001b[0;34m\u001b[0m\u001b[0m\n",
            "\u001b[0;32m/usr/local/lib/python3.7/dist-packages/tensorflow/python/eager/def_function.py\u001b[0m in \u001b[0;36m_call\u001b[0;34m(self, *args, **kwds)\u001b[0m\n\u001b[1;32m    978\u001b[0m         \u001b[0;31m# Lifting succeeded, so variables are initialized and we can run the\u001b[0m\u001b[0;34m\u001b[0m\u001b[0;34m\u001b[0m\u001b[0;34m\u001b[0m\u001b[0m\n\u001b[1;32m    979\u001b[0m         \u001b[0;31m# stateless function.\u001b[0m\u001b[0;34m\u001b[0m\u001b[0;34m\u001b[0m\u001b[0;34m\u001b[0m\u001b[0m\n\u001b[0;32m--> 980\u001b[0;31m         \u001b[0;32mreturn\u001b[0m \u001b[0mself\u001b[0m\u001b[0;34m.\u001b[0m\u001b[0m_stateless_fn\u001b[0m\u001b[0;34m(\u001b[0m\u001b[0;34m*\u001b[0m\u001b[0margs\u001b[0m\u001b[0;34m,\u001b[0m \u001b[0;34m**\u001b[0m\u001b[0mkwds\u001b[0m\u001b[0;34m)\u001b[0m\u001b[0;34m\u001b[0m\u001b[0;34m\u001b[0m\u001b[0m\n\u001b[0m\u001b[1;32m    981\u001b[0m     \u001b[0;32melse\u001b[0m\u001b[0;34m:\u001b[0m\u001b[0;34m\u001b[0m\u001b[0;34m\u001b[0m\u001b[0m\n\u001b[1;32m    982\u001b[0m       \u001b[0m_\u001b[0m\u001b[0;34m,\u001b[0m \u001b[0m_\u001b[0m\u001b[0;34m,\u001b[0m \u001b[0m_\u001b[0m\u001b[0;34m,\u001b[0m \u001b[0mfiltered_flat_args\u001b[0m \u001b[0;34m=\u001b[0m\u001b[0;31m \u001b[0m\u001b[0;31m\\\u001b[0m\u001b[0;34m\u001b[0m\u001b[0;34m\u001b[0m\u001b[0m\n",
            "\u001b[0;32m/usr/local/lib/python3.7/dist-packages/tensorflow/python/eager/function.py\u001b[0m in \u001b[0;36m__call__\u001b[0;34m(self, *args, **kwargs)\u001b[0m\n\u001b[1;32m   2953\u001b[0m     \u001b[0;32mwith\u001b[0m \u001b[0mself\u001b[0m\u001b[0;34m.\u001b[0m\u001b[0m_lock\u001b[0m\u001b[0;34m:\u001b[0m\u001b[0;34m\u001b[0m\u001b[0;34m\u001b[0m\u001b[0m\n\u001b[1;32m   2954\u001b[0m       (graph_function,\n\u001b[0;32m-> 2955\u001b[0;31m        filtered_flat_args) = self._maybe_define_function(args, kwargs)\n\u001b[0m\u001b[1;32m   2956\u001b[0m     return graph_function._call_flat(\n\u001b[1;32m   2957\u001b[0m         filtered_flat_args, captured_inputs=graph_function.captured_inputs)  # pylint: disable=protected-access\n",
            "\u001b[0;32m/usr/local/lib/python3.7/dist-packages/tensorflow/python/eager/function.py\u001b[0m in \u001b[0;36m_maybe_define_function\u001b[0;34m(self, args, kwargs)\u001b[0m\n\u001b[1;32m   3290\u001b[0m \u001b[0;34m\u001b[0m\u001b[0m\n\u001b[1;32m   3291\u001b[0m           \u001b[0mself\u001b[0m\u001b[0;34m.\u001b[0m\u001b[0m_function_cache\u001b[0m\u001b[0;34m.\u001b[0m\u001b[0madd_call_context\u001b[0m\u001b[0;34m(\u001b[0m\u001b[0mcache_key\u001b[0m\u001b[0;34m.\u001b[0m\u001b[0mcall_context\u001b[0m\u001b[0;34m)\u001b[0m\u001b[0;34m\u001b[0m\u001b[0;34m\u001b[0m\u001b[0m\n\u001b[0;32m-> 3292\u001b[0;31m           \u001b[0mgraph_function\u001b[0m \u001b[0;34m=\u001b[0m \u001b[0mself\u001b[0m\u001b[0;34m.\u001b[0m\u001b[0m_create_graph_function\u001b[0m\u001b[0;34m(\u001b[0m\u001b[0margs\u001b[0m\u001b[0;34m,\u001b[0m \u001b[0mkwargs\u001b[0m\u001b[0;34m)\u001b[0m\u001b[0;34m\u001b[0m\u001b[0;34m\u001b[0m\u001b[0m\n\u001b[0m\u001b[1;32m   3293\u001b[0m           self._function_cache.add(cache_key, cache_key_deletion_observer,\n\u001b[1;32m   3294\u001b[0m                                    graph_function)\n",
            "\u001b[0;32m/usr/local/lib/python3.7/dist-packages/tensorflow/python/eager/function.py\u001b[0m in \u001b[0;36m_create_graph_function\u001b[0;34m(self, args, kwargs, override_flat_arg_shapes)\u001b[0m\n\u001b[1;32m   3138\u001b[0m             \u001b[0marg_names\u001b[0m\u001b[0;34m=\u001b[0m\u001b[0marg_names\u001b[0m\u001b[0;34m,\u001b[0m\u001b[0;34m\u001b[0m\u001b[0;34m\u001b[0m\u001b[0m\n\u001b[1;32m   3139\u001b[0m             \u001b[0moverride_flat_arg_shapes\u001b[0m\u001b[0;34m=\u001b[0m\u001b[0moverride_flat_arg_shapes\u001b[0m\u001b[0;34m,\u001b[0m\u001b[0;34m\u001b[0m\u001b[0;34m\u001b[0m\u001b[0m\n\u001b[0;32m-> 3140\u001b[0;31m             capture_by_value=self._capture_by_value),\n\u001b[0m\u001b[1;32m   3141\u001b[0m         \u001b[0mself\u001b[0m\u001b[0;34m.\u001b[0m\u001b[0m_function_attributes\u001b[0m\u001b[0;34m,\u001b[0m\u001b[0;34m\u001b[0m\u001b[0;34m\u001b[0m\u001b[0m\n\u001b[1;32m   3142\u001b[0m         \u001b[0mfunction_spec\u001b[0m\u001b[0;34m=\u001b[0m\u001b[0mself\u001b[0m\u001b[0;34m.\u001b[0m\u001b[0mfunction_spec\u001b[0m\u001b[0;34m,\u001b[0m\u001b[0;34m\u001b[0m\u001b[0;34m\u001b[0m\u001b[0m\n",
            "\u001b[0;32m/usr/local/lib/python3.7/dist-packages/tensorflow/python/framework/func_graph.py\u001b[0m in \u001b[0;36mfunc_graph_from_py_func\u001b[0;34m(name, python_func, args, kwargs, signature, func_graph, autograph, autograph_options, add_control_dependencies, arg_names, op_return_value, collections, capture_by_value, override_flat_arg_shapes, acd_record_initial_resource_uses)\u001b[0m\n\u001b[1;32m   1159\u001b[0m         \u001b[0m_\u001b[0m\u001b[0;34m,\u001b[0m \u001b[0moriginal_func\u001b[0m \u001b[0;34m=\u001b[0m \u001b[0mtf_decorator\u001b[0m\u001b[0;34m.\u001b[0m\u001b[0munwrap\u001b[0m\u001b[0;34m(\u001b[0m\u001b[0mpython_func\u001b[0m\u001b[0;34m)\u001b[0m\u001b[0;34m\u001b[0m\u001b[0;34m\u001b[0m\u001b[0m\n\u001b[1;32m   1160\u001b[0m \u001b[0;34m\u001b[0m\u001b[0m\n\u001b[0;32m-> 1161\u001b[0;31m       \u001b[0mfunc_outputs\u001b[0m \u001b[0;34m=\u001b[0m \u001b[0mpython_func\u001b[0m\u001b[0;34m(\u001b[0m\u001b[0;34m*\u001b[0m\u001b[0mfunc_args\u001b[0m\u001b[0;34m,\u001b[0m \u001b[0;34m**\u001b[0m\u001b[0mfunc_kwargs\u001b[0m\u001b[0;34m)\u001b[0m\u001b[0;34m\u001b[0m\u001b[0;34m\u001b[0m\u001b[0m\n\u001b[0m\u001b[1;32m   1162\u001b[0m \u001b[0;34m\u001b[0m\u001b[0m\n\u001b[1;32m   1163\u001b[0m       \u001b[0;31m# invariant: `func_outputs` contains only Tensors, CompositeTensors,\u001b[0m\u001b[0;34m\u001b[0m\u001b[0;34m\u001b[0m\u001b[0;34m\u001b[0m\u001b[0m\n",
            "\u001b[0;32m/usr/local/lib/python3.7/dist-packages/tensorflow/python/eager/def_function.py\u001b[0m in \u001b[0;36mwrapped_fn\u001b[0;34m(*args, **kwds)\u001b[0m\n\u001b[1;32m    675\u001b[0m         \u001b[0;31m# the function a weak reference to itself to avoid a reference cycle.\u001b[0m\u001b[0;34m\u001b[0m\u001b[0;34m\u001b[0m\u001b[0;34m\u001b[0m\u001b[0m\n\u001b[1;32m    676\u001b[0m         \u001b[0;32mwith\u001b[0m \u001b[0mOptionalXlaContext\u001b[0m\u001b[0;34m(\u001b[0m\u001b[0mcompile_with_xla\u001b[0m\u001b[0;34m)\u001b[0m\u001b[0;34m:\u001b[0m\u001b[0;34m\u001b[0m\u001b[0;34m\u001b[0m\u001b[0m\n\u001b[0;32m--> 677\u001b[0;31m           \u001b[0mout\u001b[0m \u001b[0;34m=\u001b[0m \u001b[0mweak_wrapped_fn\u001b[0m\u001b[0;34m(\u001b[0m\u001b[0;34m)\u001b[0m\u001b[0;34m.\u001b[0m\u001b[0m__wrapped__\u001b[0m\u001b[0;34m(\u001b[0m\u001b[0;34m*\u001b[0m\u001b[0margs\u001b[0m\u001b[0;34m,\u001b[0m \u001b[0;34m**\u001b[0m\u001b[0mkwds\u001b[0m\u001b[0;34m)\u001b[0m\u001b[0;34m\u001b[0m\u001b[0;34m\u001b[0m\u001b[0m\n\u001b[0m\u001b[1;32m    678\u001b[0m         \u001b[0;32mreturn\u001b[0m \u001b[0mout\u001b[0m\u001b[0;34m\u001b[0m\u001b[0;34m\u001b[0m\u001b[0m\n\u001b[1;32m    679\u001b[0m \u001b[0;34m\u001b[0m\u001b[0m\n",
            "\u001b[0;32m/usr/local/lib/python3.7/dist-packages/tensorflow/python/framework/func_graph.py\u001b[0m in \u001b[0;36mautograph_handler\u001b[0;34m(*args, **kwargs)\u001b[0m\n\u001b[1;32m   1141\u001b[0m                     \u001b[0mrecursive\u001b[0m\u001b[0;34m=\u001b[0m\u001b[0;32mTrue\u001b[0m\u001b[0;34m,\u001b[0m\u001b[0;34m\u001b[0m\u001b[0;34m\u001b[0m\u001b[0m\n\u001b[1;32m   1142\u001b[0m                     \u001b[0moptional_features\u001b[0m\u001b[0;34m=\u001b[0m\u001b[0mautograph_options\u001b[0m\u001b[0;34m,\u001b[0m\u001b[0;34m\u001b[0m\u001b[0;34m\u001b[0m\u001b[0m\n\u001b[0;32m-> 1143\u001b[0;31m                     \u001b[0muser_requested\u001b[0m\u001b[0;34m=\u001b[0m\u001b[0;32mTrue\u001b[0m\u001b[0;34m,\u001b[0m\u001b[0;34m\u001b[0m\u001b[0;34m\u001b[0m\u001b[0m\n\u001b[0m\u001b[1;32m   1144\u001b[0m                 ))\n\u001b[1;32m   1145\u001b[0m           \u001b[0;32mexcept\u001b[0m \u001b[0mException\u001b[0m \u001b[0;32mas\u001b[0m \u001b[0me\u001b[0m\u001b[0;34m:\u001b[0m  \u001b[0;31m# pylint:disable=broad-except\u001b[0m\u001b[0;34m\u001b[0m\u001b[0;34m\u001b[0m\u001b[0m\n",
            "\u001b[0;32m/usr/local/lib/python3.7/dist-packages/tensorflow/python/autograph/impl/api.py\u001b[0m in \u001b[0;36mconverted_call\u001b[0;34m(f, args, kwargs, caller_fn_scope, options)\u001b[0m\n\u001b[1;32m    437\u001b[0m     \u001b[0;32mtry\u001b[0m\u001b[0;34m:\u001b[0m\u001b[0;34m\u001b[0m\u001b[0;34m\u001b[0m\u001b[0m\n\u001b[1;32m    438\u001b[0m       \u001b[0;32mif\u001b[0m \u001b[0mkwargs\u001b[0m \u001b[0;32mis\u001b[0m \u001b[0;32mnot\u001b[0m \u001b[0;32mNone\u001b[0m\u001b[0;34m:\u001b[0m\u001b[0;34m\u001b[0m\u001b[0;34m\u001b[0m\u001b[0m\n\u001b[0;32m--> 439\u001b[0;31m         \u001b[0mresult\u001b[0m \u001b[0;34m=\u001b[0m \u001b[0mconverted_f\u001b[0m\u001b[0;34m(\u001b[0m\u001b[0;34m*\u001b[0m\u001b[0meffective_args\u001b[0m\u001b[0;34m,\u001b[0m \u001b[0;34m**\u001b[0m\u001b[0mkwargs\u001b[0m\u001b[0;34m)\u001b[0m\u001b[0;34m\u001b[0m\u001b[0;34m\u001b[0m\u001b[0m\n\u001b[0m\u001b[1;32m    440\u001b[0m       \u001b[0;32melse\u001b[0m\u001b[0;34m:\u001b[0m\u001b[0;34m\u001b[0m\u001b[0;34m\u001b[0m\u001b[0m\n\u001b[1;32m    441\u001b[0m         \u001b[0mresult\u001b[0m \u001b[0;34m=\u001b[0m \u001b[0mconverted_f\u001b[0m\u001b[0;34m(\u001b[0m\u001b[0;34m*\u001b[0m\u001b[0meffective_args\u001b[0m\u001b[0;34m)\u001b[0m\u001b[0;34m\u001b[0m\u001b[0;34m\u001b[0m\u001b[0m\n",
            "\u001b[0;32m/usr/local/lib/python3.7/dist-packages/keras/engine/training.py\u001b[0m in \u001b[0;36mtf__train_function\u001b[0;34m(iterator)\u001b[0m\n\u001b[1;32m     13\u001b[0m                 \u001b[0;32mtry\u001b[0m\u001b[0;34m:\u001b[0m\u001b[0;34m\u001b[0m\u001b[0;34m\u001b[0m\u001b[0m\n\u001b[1;32m     14\u001b[0m                     \u001b[0mdo_return\u001b[0m \u001b[0;34m=\u001b[0m \u001b[0;32mTrue\u001b[0m\u001b[0;34m\u001b[0m\u001b[0;34m\u001b[0m\u001b[0m\n\u001b[0;32m---> 15\u001b[0;31m                     \u001b[0mretval_\u001b[0m \u001b[0;34m=\u001b[0m \u001b[0mag__\u001b[0m\u001b[0;34m.\u001b[0m\u001b[0mconverted_call\u001b[0m\u001b[0;34m(\u001b[0m\u001b[0mag__\u001b[0m\u001b[0;34m.\u001b[0m\u001b[0mld\u001b[0m\u001b[0;34m(\u001b[0m\u001b[0mstep_function\u001b[0m\u001b[0;34m)\u001b[0m\u001b[0;34m,\u001b[0m \u001b[0;34m(\u001b[0m\u001b[0mag__\u001b[0m\u001b[0;34m.\u001b[0m\u001b[0mld\u001b[0m\u001b[0;34m(\u001b[0m\u001b[0mself\u001b[0m\u001b[0;34m)\u001b[0m\u001b[0;34m,\u001b[0m \u001b[0mag__\u001b[0m\u001b[0;34m.\u001b[0m\u001b[0mld\u001b[0m\u001b[0;34m(\u001b[0m\u001b[0miterator\u001b[0m\u001b[0;34m)\u001b[0m\u001b[0;34m)\u001b[0m\u001b[0;34m,\u001b[0m \u001b[0;32mNone\u001b[0m\u001b[0;34m,\u001b[0m \u001b[0mfscope\u001b[0m\u001b[0;34m)\u001b[0m\u001b[0;34m\u001b[0m\u001b[0;34m\u001b[0m\u001b[0m\n\u001b[0m\u001b[1;32m     16\u001b[0m                 \u001b[0;32mexcept\u001b[0m\u001b[0;34m:\u001b[0m\u001b[0;34m\u001b[0m\u001b[0;34m\u001b[0m\u001b[0m\n\u001b[1;32m     17\u001b[0m                     \u001b[0mdo_return\u001b[0m \u001b[0;34m=\u001b[0m \u001b[0;32mFalse\u001b[0m\u001b[0;34m\u001b[0m\u001b[0;34m\u001b[0m\u001b[0m\n",
            "\u001b[0;32m/usr/local/lib/python3.7/dist-packages/tensorflow/python/autograph/impl/api.py\u001b[0m in \u001b[0;36mconverted_call\u001b[0;34m(f, args, kwargs, caller_fn_scope, options)\u001b[0m\n\u001b[1;32m    329\u001b[0m   \u001b[0;32mif\u001b[0m \u001b[0mconversion\u001b[0m\u001b[0;34m.\u001b[0m\u001b[0mis_in_allowlist_cache\u001b[0m\u001b[0;34m(\u001b[0m\u001b[0mf\u001b[0m\u001b[0;34m,\u001b[0m \u001b[0moptions\u001b[0m\u001b[0;34m)\u001b[0m\u001b[0;34m:\u001b[0m\u001b[0;34m\u001b[0m\u001b[0;34m\u001b[0m\u001b[0m\n\u001b[1;32m    330\u001b[0m     \u001b[0mlogging\u001b[0m\u001b[0;34m.\u001b[0m\u001b[0mlog\u001b[0m\u001b[0;34m(\u001b[0m\u001b[0;36m2\u001b[0m\u001b[0;34m,\u001b[0m \u001b[0;34m'Allowlisted %s: from cache'\u001b[0m\u001b[0;34m,\u001b[0m \u001b[0mf\u001b[0m\u001b[0;34m)\u001b[0m\u001b[0;34m\u001b[0m\u001b[0;34m\u001b[0m\u001b[0m\n\u001b[0;32m--> 331\u001b[0;31m     \u001b[0;32mreturn\u001b[0m \u001b[0m_call_unconverted\u001b[0m\u001b[0;34m(\u001b[0m\u001b[0mf\u001b[0m\u001b[0;34m,\u001b[0m \u001b[0margs\u001b[0m\u001b[0;34m,\u001b[0m \u001b[0mkwargs\u001b[0m\u001b[0;34m,\u001b[0m \u001b[0moptions\u001b[0m\u001b[0;34m,\u001b[0m \u001b[0;32mFalse\u001b[0m\u001b[0;34m)\u001b[0m\u001b[0;34m\u001b[0m\u001b[0;34m\u001b[0m\u001b[0m\n\u001b[0m\u001b[1;32m    332\u001b[0m \u001b[0;34m\u001b[0m\u001b[0m\n\u001b[1;32m    333\u001b[0m   \u001b[0;32mif\u001b[0m \u001b[0mag_ctx\u001b[0m\u001b[0;34m.\u001b[0m\u001b[0mcontrol_status_ctx\u001b[0m\u001b[0;34m(\u001b[0m\u001b[0;34m)\u001b[0m\u001b[0;34m.\u001b[0m\u001b[0mstatus\u001b[0m \u001b[0;34m==\u001b[0m \u001b[0mag_ctx\u001b[0m\u001b[0;34m.\u001b[0m\u001b[0mStatus\u001b[0m\u001b[0;34m.\u001b[0m\u001b[0mDISABLED\u001b[0m\u001b[0;34m:\u001b[0m\u001b[0;34m\u001b[0m\u001b[0;34m\u001b[0m\u001b[0m\n",
            "\u001b[0;32m/usr/local/lib/python3.7/dist-packages/tensorflow/python/autograph/impl/api.py\u001b[0m in \u001b[0;36m_call_unconverted\u001b[0;34m(f, args, kwargs, options, update_cache)\u001b[0m\n\u001b[1;32m    457\u001b[0m   \u001b[0;32mif\u001b[0m \u001b[0mkwargs\u001b[0m \u001b[0;32mis\u001b[0m \u001b[0;32mnot\u001b[0m \u001b[0;32mNone\u001b[0m\u001b[0;34m:\u001b[0m\u001b[0;34m\u001b[0m\u001b[0;34m\u001b[0m\u001b[0m\n\u001b[1;32m    458\u001b[0m     \u001b[0;32mreturn\u001b[0m \u001b[0mf\u001b[0m\u001b[0;34m(\u001b[0m\u001b[0;34m*\u001b[0m\u001b[0margs\u001b[0m\u001b[0;34m,\u001b[0m \u001b[0;34m**\u001b[0m\u001b[0mkwargs\u001b[0m\u001b[0;34m)\u001b[0m\u001b[0;34m\u001b[0m\u001b[0;34m\u001b[0m\u001b[0m\n\u001b[0;32m--> 459\u001b[0;31m   \u001b[0;32mreturn\u001b[0m \u001b[0mf\u001b[0m\u001b[0;34m(\u001b[0m\u001b[0;34m*\u001b[0m\u001b[0margs\u001b[0m\u001b[0;34m)\u001b[0m\u001b[0;34m\u001b[0m\u001b[0;34m\u001b[0m\u001b[0m\n\u001b[0m\u001b[1;32m    460\u001b[0m \u001b[0;34m\u001b[0m\u001b[0m\n\u001b[1;32m    461\u001b[0m \u001b[0;34m\u001b[0m\u001b[0m\n",
            "\u001b[0;32m/usr/local/lib/python3.7/dist-packages/keras/engine/training.py\u001b[0m in \u001b[0;36mstep_function\u001b[0;34m(model, iterator)\u001b[0m\n\u001b[1;32m   1008\u001b[0m             run_step, jit_compile=True, experimental_relax_shapes=True)\n\u001b[1;32m   1009\u001b[0m       \u001b[0mdata\u001b[0m \u001b[0;34m=\u001b[0m \u001b[0mnext\u001b[0m\u001b[0;34m(\u001b[0m\u001b[0miterator\u001b[0m\u001b[0;34m)\u001b[0m\u001b[0;34m\u001b[0m\u001b[0;34m\u001b[0m\u001b[0m\n\u001b[0;32m-> 1010\u001b[0;31m       \u001b[0moutputs\u001b[0m \u001b[0;34m=\u001b[0m \u001b[0mmodel\u001b[0m\u001b[0;34m.\u001b[0m\u001b[0mdistribute_strategy\u001b[0m\u001b[0;34m.\u001b[0m\u001b[0mrun\u001b[0m\u001b[0;34m(\u001b[0m\u001b[0mrun_step\u001b[0m\u001b[0;34m,\u001b[0m \u001b[0margs\u001b[0m\u001b[0;34m=\u001b[0m\u001b[0;34m(\u001b[0m\u001b[0mdata\u001b[0m\u001b[0;34m,\u001b[0m\u001b[0;34m)\u001b[0m\u001b[0;34m)\u001b[0m\u001b[0;34m\u001b[0m\u001b[0;34m\u001b[0m\u001b[0m\n\u001b[0m\u001b[1;32m   1011\u001b[0m       outputs = reduce_per_replica(\n\u001b[1;32m   1012\u001b[0m           outputs, self.distribute_strategy, reduction='first')\n",
            "\u001b[0;32m/usr/local/lib/python3.7/dist-packages/tensorflow/python/distribute/distribute_lib.py\u001b[0m in \u001b[0;36mrun\u001b[0;34m(***failed resolving arguments***)\u001b[0m\n\u001b[1;32m   1310\u001b[0m       fn = autograph.tf_convert(\n\u001b[1;32m   1311\u001b[0m           fn, autograph_ctx.control_status_ctx(), convert_by_default=False)\n\u001b[0;32m-> 1312\u001b[0;31m       \u001b[0;32mreturn\u001b[0m \u001b[0mself\u001b[0m\u001b[0;34m.\u001b[0m\u001b[0m_extended\u001b[0m\u001b[0;34m.\u001b[0m\u001b[0mcall_for_each_replica\u001b[0m\u001b[0;34m(\u001b[0m\u001b[0mfn\u001b[0m\u001b[0;34m,\u001b[0m \u001b[0margs\u001b[0m\u001b[0;34m=\u001b[0m\u001b[0margs\u001b[0m\u001b[0;34m,\u001b[0m \u001b[0mkwargs\u001b[0m\u001b[0;34m=\u001b[0m\u001b[0mkwargs\u001b[0m\u001b[0;34m)\u001b[0m\u001b[0;34m\u001b[0m\u001b[0;34m\u001b[0m\u001b[0m\n\u001b[0m\u001b[1;32m   1313\u001b[0m \u001b[0;34m\u001b[0m\u001b[0m\n\u001b[1;32m   1314\u001b[0m   \u001b[0;32mdef\u001b[0m \u001b[0mreduce\u001b[0m\u001b[0;34m(\u001b[0m\u001b[0mself\u001b[0m\u001b[0;34m,\u001b[0m \u001b[0mreduce_op\u001b[0m\u001b[0;34m,\u001b[0m \u001b[0mvalue\u001b[0m\u001b[0;34m,\u001b[0m \u001b[0maxis\u001b[0m\u001b[0;34m)\u001b[0m\u001b[0;34m:\u001b[0m\u001b[0;34m\u001b[0m\u001b[0;34m\u001b[0m\u001b[0m\n",
            "\u001b[0;32m/usr/local/lib/python3.7/dist-packages/tensorflow/python/distribute/distribute_lib.py\u001b[0m in \u001b[0;36mcall_for_each_replica\u001b[0;34m(self, fn, args, kwargs)\u001b[0m\n\u001b[1;32m   2886\u001b[0m       \u001b[0mkwargs\u001b[0m \u001b[0;34m=\u001b[0m \u001b[0;34m{\u001b[0m\u001b[0;34m}\u001b[0m\u001b[0;34m\u001b[0m\u001b[0;34m\u001b[0m\u001b[0m\n\u001b[1;32m   2887\u001b[0m     \u001b[0;32mwith\u001b[0m \u001b[0mself\u001b[0m\u001b[0;34m.\u001b[0m\u001b[0m_container_strategy\u001b[0m\u001b[0;34m(\u001b[0m\u001b[0;34m)\u001b[0m\u001b[0;34m.\u001b[0m\u001b[0mscope\u001b[0m\u001b[0;34m(\u001b[0m\u001b[0;34m)\u001b[0m\u001b[0;34m:\u001b[0m\u001b[0;34m\u001b[0m\u001b[0;34m\u001b[0m\u001b[0m\n\u001b[0;32m-> 2888\u001b[0;31m       \u001b[0;32mreturn\u001b[0m \u001b[0mself\u001b[0m\u001b[0;34m.\u001b[0m\u001b[0m_call_for_each_replica\u001b[0m\u001b[0;34m(\u001b[0m\u001b[0mfn\u001b[0m\u001b[0;34m,\u001b[0m \u001b[0margs\u001b[0m\u001b[0;34m,\u001b[0m \u001b[0mkwargs\u001b[0m\u001b[0;34m)\u001b[0m\u001b[0;34m\u001b[0m\u001b[0;34m\u001b[0m\u001b[0m\n\u001b[0m\u001b[1;32m   2889\u001b[0m \u001b[0;34m\u001b[0m\u001b[0m\n\u001b[1;32m   2890\u001b[0m   \u001b[0;32mdef\u001b[0m \u001b[0m_call_for_each_replica\u001b[0m\u001b[0;34m(\u001b[0m\u001b[0mself\u001b[0m\u001b[0;34m,\u001b[0m \u001b[0mfn\u001b[0m\u001b[0;34m,\u001b[0m \u001b[0margs\u001b[0m\u001b[0;34m,\u001b[0m \u001b[0mkwargs\u001b[0m\u001b[0;34m)\u001b[0m\u001b[0;34m:\u001b[0m\u001b[0;34m\u001b[0m\u001b[0;34m\u001b[0m\u001b[0m\n",
            "\u001b[0;32m/usr/local/lib/python3.7/dist-packages/tensorflow/python/distribute/distribute_lib.py\u001b[0m in \u001b[0;36m_call_for_each_replica\u001b[0;34m(self, fn, args, kwargs)\u001b[0m\n\u001b[1;32m   3687\u001b[0m   \u001b[0;32mdef\u001b[0m \u001b[0m_call_for_each_replica\u001b[0m\u001b[0;34m(\u001b[0m\u001b[0mself\u001b[0m\u001b[0;34m,\u001b[0m \u001b[0mfn\u001b[0m\u001b[0;34m,\u001b[0m \u001b[0margs\u001b[0m\u001b[0;34m,\u001b[0m \u001b[0mkwargs\u001b[0m\u001b[0;34m)\u001b[0m\u001b[0;34m:\u001b[0m\u001b[0;34m\u001b[0m\u001b[0;34m\u001b[0m\u001b[0m\n\u001b[1;32m   3688\u001b[0m     \u001b[0;32mwith\u001b[0m \u001b[0mReplicaContext\u001b[0m\u001b[0;34m(\u001b[0m\u001b[0mself\u001b[0m\u001b[0;34m.\u001b[0m\u001b[0m_container_strategy\u001b[0m\u001b[0;34m(\u001b[0m\u001b[0;34m)\u001b[0m\u001b[0;34m,\u001b[0m \u001b[0mreplica_id_in_sync_group\u001b[0m\u001b[0;34m=\u001b[0m\u001b[0;36m0\u001b[0m\u001b[0;34m)\u001b[0m\u001b[0;34m:\u001b[0m\u001b[0;34m\u001b[0m\u001b[0;34m\u001b[0m\u001b[0m\n\u001b[0;32m-> 3689\u001b[0;31m       \u001b[0;32mreturn\u001b[0m \u001b[0mfn\u001b[0m\u001b[0;34m(\u001b[0m\u001b[0;34m*\u001b[0m\u001b[0margs\u001b[0m\u001b[0;34m,\u001b[0m \u001b[0;34m**\u001b[0m\u001b[0mkwargs\u001b[0m\u001b[0;34m)\u001b[0m\u001b[0;34m\u001b[0m\u001b[0;34m\u001b[0m\u001b[0m\n\u001b[0m\u001b[1;32m   3690\u001b[0m \u001b[0;34m\u001b[0m\u001b[0m\n\u001b[1;32m   3691\u001b[0m   \u001b[0;32mdef\u001b[0m \u001b[0m_reduce_to\u001b[0m\u001b[0;34m(\u001b[0m\u001b[0mself\u001b[0m\u001b[0;34m,\u001b[0m \u001b[0mreduce_op\u001b[0m\u001b[0;34m,\u001b[0m \u001b[0mvalue\u001b[0m\u001b[0;34m,\u001b[0m \u001b[0mdestinations\u001b[0m\u001b[0;34m,\u001b[0m \u001b[0moptions\u001b[0m\u001b[0;34m)\u001b[0m\u001b[0;34m:\u001b[0m\u001b[0;34m\u001b[0m\u001b[0;34m\u001b[0m\u001b[0m\n",
            "\u001b[0;32m/usr/local/lib/python3.7/dist-packages/tensorflow/python/autograph/impl/api.py\u001b[0m in \u001b[0;36mwrapper\u001b[0;34m(*args, **kwargs)\u001b[0m\n\u001b[1;32m    687\u001b[0m       \u001b[0;32mtry\u001b[0m\u001b[0;34m:\u001b[0m\u001b[0;34m\u001b[0m\u001b[0;34m\u001b[0m\u001b[0m\n\u001b[1;32m    688\u001b[0m         \u001b[0;32mwith\u001b[0m \u001b[0mconversion_ctx\u001b[0m\u001b[0;34m:\u001b[0m\u001b[0;34m\u001b[0m\u001b[0;34m\u001b[0m\u001b[0m\n\u001b[0;32m--> 689\u001b[0;31m           \u001b[0;32mreturn\u001b[0m \u001b[0mconverted_call\u001b[0m\u001b[0;34m(\u001b[0m\u001b[0mf\u001b[0m\u001b[0;34m,\u001b[0m \u001b[0margs\u001b[0m\u001b[0;34m,\u001b[0m \u001b[0mkwargs\u001b[0m\u001b[0;34m,\u001b[0m \u001b[0moptions\u001b[0m\u001b[0;34m=\u001b[0m\u001b[0moptions\u001b[0m\u001b[0;34m)\u001b[0m\u001b[0;34m\u001b[0m\u001b[0;34m\u001b[0m\u001b[0m\n\u001b[0m\u001b[1;32m    690\u001b[0m       \u001b[0;32mexcept\u001b[0m \u001b[0mException\u001b[0m \u001b[0;32mas\u001b[0m \u001b[0me\u001b[0m\u001b[0;34m:\u001b[0m  \u001b[0;31m# pylint:disable=broad-except\u001b[0m\u001b[0;34m\u001b[0m\u001b[0;34m\u001b[0m\u001b[0m\n\u001b[1;32m    691\u001b[0m         \u001b[0;32mif\u001b[0m \u001b[0mhasattr\u001b[0m\u001b[0;34m(\u001b[0m\u001b[0me\u001b[0m\u001b[0;34m,\u001b[0m \u001b[0;34m'ag_error_metadata'\u001b[0m\u001b[0;34m)\u001b[0m\u001b[0;34m:\u001b[0m\u001b[0;34m\u001b[0m\u001b[0;34m\u001b[0m\u001b[0m\n",
            "\u001b[0;32m/usr/local/lib/python3.7/dist-packages/tensorflow/python/autograph/impl/api.py\u001b[0m in \u001b[0;36mconverted_call\u001b[0;34m(f, args, kwargs, caller_fn_scope, options)\u001b[0m\n\u001b[1;32m    375\u001b[0m \u001b[0;34m\u001b[0m\u001b[0m\n\u001b[1;32m    376\u001b[0m   \u001b[0;32mif\u001b[0m \u001b[0;32mnot\u001b[0m \u001b[0moptions\u001b[0m\u001b[0;34m.\u001b[0m\u001b[0muser_requested\u001b[0m \u001b[0;32mand\u001b[0m \u001b[0mconversion\u001b[0m\u001b[0;34m.\u001b[0m\u001b[0mis_allowlisted\u001b[0m\u001b[0;34m(\u001b[0m\u001b[0mf\u001b[0m\u001b[0;34m)\u001b[0m\u001b[0;34m:\u001b[0m\u001b[0;34m\u001b[0m\u001b[0;34m\u001b[0m\u001b[0m\n\u001b[0;32m--> 377\u001b[0;31m     \u001b[0;32mreturn\u001b[0m \u001b[0m_call_unconverted\u001b[0m\u001b[0;34m(\u001b[0m\u001b[0mf\u001b[0m\u001b[0;34m,\u001b[0m \u001b[0margs\u001b[0m\u001b[0;34m,\u001b[0m \u001b[0mkwargs\u001b[0m\u001b[0;34m,\u001b[0m \u001b[0moptions\u001b[0m\u001b[0;34m)\u001b[0m\u001b[0;34m\u001b[0m\u001b[0;34m\u001b[0m\u001b[0m\n\u001b[0m\u001b[1;32m    378\u001b[0m \u001b[0;34m\u001b[0m\u001b[0m\n\u001b[1;32m    379\u001b[0m   \u001b[0;31m# internal_convert_user_code is for example turned off when issuing a dynamic\u001b[0m\u001b[0;34m\u001b[0m\u001b[0;34m\u001b[0m\u001b[0;34m\u001b[0m\u001b[0m\n",
            "\u001b[0;32m/usr/local/lib/python3.7/dist-packages/tensorflow/python/autograph/impl/api.py\u001b[0m in \u001b[0;36m_call_unconverted\u001b[0;34m(f, args, kwargs, options, update_cache)\u001b[0m\n\u001b[1;32m    456\u001b[0m \u001b[0;34m\u001b[0m\u001b[0m\n\u001b[1;32m    457\u001b[0m   \u001b[0;32mif\u001b[0m \u001b[0mkwargs\u001b[0m \u001b[0;32mis\u001b[0m \u001b[0;32mnot\u001b[0m \u001b[0;32mNone\u001b[0m\u001b[0;34m:\u001b[0m\u001b[0;34m\u001b[0m\u001b[0;34m\u001b[0m\u001b[0m\n\u001b[0;32m--> 458\u001b[0;31m     \u001b[0;32mreturn\u001b[0m \u001b[0mf\u001b[0m\u001b[0;34m(\u001b[0m\u001b[0;34m*\u001b[0m\u001b[0margs\u001b[0m\u001b[0;34m,\u001b[0m \u001b[0;34m**\u001b[0m\u001b[0mkwargs\u001b[0m\u001b[0;34m)\u001b[0m\u001b[0;34m\u001b[0m\u001b[0;34m\u001b[0m\u001b[0m\n\u001b[0m\u001b[1;32m    459\u001b[0m   \u001b[0;32mreturn\u001b[0m \u001b[0mf\u001b[0m\u001b[0;34m(\u001b[0m\u001b[0;34m*\u001b[0m\u001b[0margs\u001b[0m\u001b[0;34m)\u001b[0m\u001b[0;34m\u001b[0m\u001b[0;34m\u001b[0m\u001b[0m\n\u001b[1;32m    460\u001b[0m \u001b[0;34m\u001b[0m\u001b[0m\n",
            "\u001b[0;32m/usr/local/lib/python3.7/dist-packages/keras/engine/training.py\u001b[0m in \u001b[0;36mrun_step\u001b[0;34m(data)\u001b[0m\n\u001b[1;32m    998\u001b[0m \u001b[0;34m\u001b[0m\u001b[0m\n\u001b[1;32m    999\u001b[0m       \u001b[0;32mdef\u001b[0m \u001b[0mrun_step\u001b[0m\u001b[0;34m(\u001b[0m\u001b[0mdata\u001b[0m\u001b[0;34m)\u001b[0m\u001b[0;34m:\u001b[0m\u001b[0;34m\u001b[0m\u001b[0;34m\u001b[0m\u001b[0m\n\u001b[0;32m-> 1000\u001b[0;31m         \u001b[0moutputs\u001b[0m \u001b[0;34m=\u001b[0m \u001b[0mmodel\u001b[0m\u001b[0;34m.\u001b[0m\u001b[0mtrain_step\u001b[0m\u001b[0;34m(\u001b[0m\u001b[0mdata\u001b[0m\u001b[0;34m)\u001b[0m\u001b[0;34m\u001b[0m\u001b[0;34m\u001b[0m\u001b[0m\n\u001b[0m\u001b[1;32m   1001\u001b[0m         \u001b[0;31m# Ensure counter is updated only if `train_step` succeeds.\u001b[0m\u001b[0;34m\u001b[0m\u001b[0;34m\u001b[0m\u001b[0;34m\u001b[0m\u001b[0m\n\u001b[1;32m   1002\u001b[0m         \u001b[0;32mwith\u001b[0m \u001b[0mtf\u001b[0m\u001b[0;34m.\u001b[0m\u001b[0mcontrol_dependencies\u001b[0m\u001b[0;34m(\u001b[0m\u001b[0m_minimum_control_deps\u001b[0m\u001b[0;34m(\u001b[0m\u001b[0moutputs\u001b[0m\u001b[0;34m)\u001b[0m\u001b[0;34m)\u001b[0m\u001b[0;34m:\u001b[0m\u001b[0;34m\u001b[0m\u001b[0;34m\u001b[0m\u001b[0m\n",
            "\u001b[0;32m/usr/local/lib/python3.7/dist-packages/keras/engine/training.py\u001b[0m in \u001b[0;36mtrain_step\u001b[0;34m(self, data)\u001b[0m\n\u001b[1;32m    857\u001b[0m     \u001b[0;31m# Run forward pass.\u001b[0m\u001b[0;34m\u001b[0m\u001b[0;34m\u001b[0m\u001b[0;34m\u001b[0m\u001b[0m\n\u001b[1;32m    858\u001b[0m     \u001b[0;32mwith\u001b[0m \u001b[0mtf\u001b[0m\u001b[0;34m.\u001b[0m\u001b[0mGradientTape\u001b[0m\u001b[0;34m(\u001b[0m\u001b[0;34m)\u001b[0m \u001b[0;32mas\u001b[0m \u001b[0mtape\u001b[0m\u001b[0;34m:\u001b[0m\u001b[0;34m\u001b[0m\u001b[0;34m\u001b[0m\u001b[0m\n\u001b[0;32m--> 859\u001b[0;31m       \u001b[0my_pred\u001b[0m \u001b[0;34m=\u001b[0m \u001b[0mself\u001b[0m\u001b[0;34m(\u001b[0m\u001b[0mx\u001b[0m\u001b[0;34m,\u001b[0m \u001b[0mtraining\u001b[0m\u001b[0;34m=\u001b[0m\u001b[0;32mTrue\u001b[0m\u001b[0;34m)\u001b[0m\u001b[0;34m\u001b[0m\u001b[0;34m\u001b[0m\u001b[0m\n\u001b[0m\u001b[1;32m    860\u001b[0m       \u001b[0mloss\u001b[0m \u001b[0;34m=\u001b[0m \u001b[0mself\u001b[0m\u001b[0;34m.\u001b[0m\u001b[0mcompute_loss\u001b[0m\u001b[0;34m(\u001b[0m\u001b[0mx\u001b[0m\u001b[0;34m,\u001b[0m \u001b[0my\u001b[0m\u001b[0;34m,\u001b[0m \u001b[0my_pred\u001b[0m\u001b[0;34m,\u001b[0m \u001b[0msample_weight\u001b[0m\u001b[0;34m)\u001b[0m\u001b[0;34m\u001b[0m\u001b[0;34m\u001b[0m\u001b[0m\n\u001b[1;32m    861\u001b[0m     \u001b[0mself\u001b[0m\u001b[0;34m.\u001b[0m\u001b[0m_validate_target_and_loss\u001b[0m\u001b[0;34m(\u001b[0m\u001b[0my\u001b[0m\u001b[0;34m,\u001b[0m \u001b[0mloss\u001b[0m\u001b[0;34m)\u001b[0m\u001b[0;34m\u001b[0m\u001b[0;34m\u001b[0m\u001b[0m\n",
            "\u001b[0;32m/usr/local/lib/python3.7/dist-packages/keras/utils/traceback_utils.py\u001b[0m in \u001b[0;36merror_handler\u001b[0;34m(*args, **kwargs)\u001b[0m\n\u001b[1;32m     62\u001b[0m     \u001b[0mfiltered_tb\u001b[0m \u001b[0;34m=\u001b[0m \u001b[0;32mNone\u001b[0m\u001b[0;34m\u001b[0m\u001b[0;34m\u001b[0m\u001b[0m\n\u001b[1;32m     63\u001b[0m     \u001b[0;32mtry\u001b[0m\u001b[0;34m:\u001b[0m\u001b[0;34m\u001b[0m\u001b[0;34m\u001b[0m\u001b[0m\n\u001b[0;32m---> 64\u001b[0;31m       \u001b[0;32mreturn\u001b[0m \u001b[0mfn\u001b[0m\u001b[0;34m(\u001b[0m\u001b[0;34m*\u001b[0m\u001b[0margs\u001b[0m\u001b[0;34m,\u001b[0m \u001b[0;34m**\u001b[0m\u001b[0mkwargs\u001b[0m\u001b[0;34m)\u001b[0m\u001b[0;34m\u001b[0m\u001b[0;34m\u001b[0m\u001b[0m\n\u001b[0m\u001b[1;32m     65\u001b[0m     \u001b[0;32mexcept\u001b[0m \u001b[0mException\u001b[0m \u001b[0;32mas\u001b[0m \u001b[0me\u001b[0m\u001b[0;34m:\u001b[0m  \u001b[0;31m# pylint: disable=broad-except\u001b[0m\u001b[0;34m\u001b[0m\u001b[0;34m\u001b[0m\u001b[0m\n\u001b[1;32m     66\u001b[0m       \u001b[0mfiltered_tb\u001b[0m \u001b[0;34m=\u001b[0m \u001b[0m_process_traceback_frames\u001b[0m\u001b[0;34m(\u001b[0m\u001b[0me\u001b[0m\u001b[0;34m.\u001b[0m\u001b[0m__traceback__\u001b[0m\u001b[0;34m)\u001b[0m\u001b[0;34m\u001b[0m\u001b[0;34m\u001b[0m\u001b[0m\n",
            "\u001b[0;32m/usr/local/lib/python3.7/dist-packages/keras/engine/base_layer.py\u001b[0m in \u001b[0;36m__call__\u001b[0;34m(self, *args, **kwargs)\u001b[0m\n\u001b[1;32m   1094\u001b[0m         with autocast_variable.enable_auto_cast_variables(\n\u001b[1;32m   1095\u001b[0m             self._compute_dtype_object):\n\u001b[0;32m-> 1096\u001b[0;31m           \u001b[0moutputs\u001b[0m \u001b[0;34m=\u001b[0m \u001b[0mcall_fn\u001b[0m\u001b[0;34m(\u001b[0m\u001b[0minputs\u001b[0m\u001b[0;34m,\u001b[0m \u001b[0;34m*\u001b[0m\u001b[0margs\u001b[0m\u001b[0;34m,\u001b[0m \u001b[0;34m**\u001b[0m\u001b[0mkwargs\u001b[0m\u001b[0;34m)\u001b[0m\u001b[0;34m\u001b[0m\u001b[0;34m\u001b[0m\u001b[0m\n\u001b[0m\u001b[1;32m   1097\u001b[0m \u001b[0;34m\u001b[0m\u001b[0m\n\u001b[1;32m   1098\u001b[0m         \u001b[0;32mif\u001b[0m \u001b[0mself\u001b[0m\u001b[0;34m.\u001b[0m\u001b[0m_activity_regularizer\u001b[0m\u001b[0;34m:\u001b[0m\u001b[0;34m\u001b[0m\u001b[0;34m\u001b[0m\u001b[0m\n",
            "\u001b[0;32m/usr/local/lib/python3.7/dist-packages/keras/utils/traceback_utils.py\u001b[0m in \u001b[0;36merror_handler\u001b[0;34m(*args, **kwargs)\u001b[0m\n\u001b[1;32m     90\u001b[0m     \u001b[0mbound_signature\u001b[0m \u001b[0;34m=\u001b[0m \u001b[0;32mNone\u001b[0m\u001b[0;34m\u001b[0m\u001b[0;34m\u001b[0m\u001b[0m\n\u001b[1;32m     91\u001b[0m     \u001b[0;32mtry\u001b[0m\u001b[0;34m:\u001b[0m\u001b[0;34m\u001b[0m\u001b[0;34m\u001b[0m\u001b[0m\n\u001b[0;32m---> 92\u001b[0;31m       \u001b[0;32mreturn\u001b[0m \u001b[0mfn\u001b[0m\u001b[0;34m(\u001b[0m\u001b[0;34m*\u001b[0m\u001b[0margs\u001b[0m\u001b[0;34m,\u001b[0m \u001b[0;34m**\u001b[0m\u001b[0mkwargs\u001b[0m\u001b[0;34m)\u001b[0m\u001b[0;34m\u001b[0m\u001b[0;34m\u001b[0m\u001b[0m\n\u001b[0m\u001b[1;32m     93\u001b[0m     \u001b[0;32mexcept\u001b[0m \u001b[0mException\u001b[0m \u001b[0;32mas\u001b[0m \u001b[0me\u001b[0m\u001b[0;34m:\u001b[0m  \u001b[0;31m# pylint: disable=broad-except\u001b[0m\u001b[0;34m\u001b[0m\u001b[0;34m\u001b[0m\u001b[0m\n\u001b[1;32m     94\u001b[0m       \u001b[0;32mif\u001b[0m \u001b[0mhasattr\u001b[0m\u001b[0;34m(\u001b[0m\u001b[0me\u001b[0m\u001b[0;34m,\u001b[0m \u001b[0;34m'_keras_call_info_injected'\u001b[0m\u001b[0;34m)\u001b[0m\u001b[0;34m:\u001b[0m\u001b[0;34m\u001b[0m\u001b[0;34m\u001b[0m\u001b[0m\n",
            "\u001b[0;32m/usr/local/lib/python3.7/dist-packages/keras/engine/sequential.py\u001b[0m in \u001b[0;36mcall\u001b[0;34m(self, inputs, training, mask)\u001b[0m\n\u001b[1;32m    372\u001b[0m       \u001b[0;32mif\u001b[0m \u001b[0;32mnot\u001b[0m \u001b[0mself\u001b[0m\u001b[0;34m.\u001b[0m\u001b[0mbuilt\u001b[0m\u001b[0;34m:\u001b[0m\u001b[0;34m\u001b[0m\u001b[0;34m\u001b[0m\u001b[0m\n\u001b[1;32m    373\u001b[0m         \u001b[0mself\u001b[0m\u001b[0;34m.\u001b[0m\u001b[0m_init_graph_network\u001b[0m\u001b[0;34m(\u001b[0m\u001b[0mself\u001b[0m\u001b[0;34m.\u001b[0m\u001b[0minputs\u001b[0m\u001b[0;34m,\u001b[0m \u001b[0mself\u001b[0m\u001b[0;34m.\u001b[0m\u001b[0moutputs\u001b[0m\u001b[0;34m)\u001b[0m\u001b[0;34m\u001b[0m\u001b[0;34m\u001b[0m\u001b[0m\n\u001b[0;32m--> 374\u001b[0;31m       \u001b[0;32mreturn\u001b[0m \u001b[0msuper\u001b[0m\u001b[0;34m(\u001b[0m\u001b[0mSequential\u001b[0m\u001b[0;34m,\u001b[0m \u001b[0mself\u001b[0m\u001b[0;34m)\u001b[0m\u001b[0;34m.\u001b[0m\u001b[0mcall\u001b[0m\u001b[0;34m(\u001b[0m\u001b[0minputs\u001b[0m\u001b[0;34m,\u001b[0m \u001b[0mtraining\u001b[0m\u001b[0;34m=\u001b[0m\u001b[0mtraining\u001b[0m\u001b[0;34m,\u001b[0m \u001b[0mmask\u001b[0m\u001b[0;34m=\u001b[0m\u001b[0mmask\u001b[0m\u001b[0;34m)\u001b[0m\u001b[0;34m\u001b[0m\u001b[0;34m\u001b[0m\u001b[0m\n\u001b[0m\u001b[1;32m    375\u001b[0m \u001b[0;34m\u001b[0m\u001b[0m\n\u001b[1;32m    376\u001b[0m     \u001b[0moutputs\u001b[0m \u001b[0;34m=\u001b[0m \u001b[0minputs\u001b[0m  \u001b[0;31m# handle the corner case where self.layers is empty\u001b[0m\u001b[0;34m\u001b[0m\u001b[0;34m\u001b[0m\u001b[0m\n",
            "\u001b[0;32m/usr/local/lib/python3.7/dist-packages/keras/engine/functional.py\u001b[0m in \u001b[0;36mcall\u001b[0;34m(self, inputs, training, mask)\u001b[0m\n\u001b[1;32m    450\u001b[0m     \"\"\"\n\u001b[1;32m    451\u001b[0m     return self._run_internal_graph(\n\u001b[0;32m--> 452\u001b[0;31m         inputs, training=training, mask=mask)\n\u001b[0m\u001b[1;32m    453\u001b[0m \u001b[0;34m\u001b[0m\u001b[0m\n\u001b[1;32m    454\u001b[0m   \u001b[0;32mdef\u001b[0m \u001b[0mcompute_output_shape\u001b[0m\u001b[0;34m(\u001b[0m\u001b[0mself\u001b[0m\u001b[0;34m,\u001b[0m \u001b[0minput_shape\u001b[0m\u001b[0;34m)\u001b[0m\u001b[0;34m:\u001b[0m\u001b[0;34m\u001b[0m\u001b[0;34m\u001b[0m\u001b[0m\n",
            "\u001b[0;32m/usr/local/lib/python3.7/dist-packages/keras/engine/functional.py\u001b[0m in \u001b[0;36m_run_internal_graph\u001b[0;34m(self, inputs, training, mask)\u001b[0m\n\u001b[1;32m    587\u001b[0m \u001b[0;34m\u001b[0m\u001b[0m\n\u001b[1;32m    588\u001b[0m         \u001b[0margs\u001b[0m\u001b[0;34m,\u001b[0m \u001b[0mkwargs\u001b[0m \u001b[0;34m=\u001b[0m \u001b[0mnode\u001b[0m\u001b[0;34m.\u001b[0m\u001b[0mmap_arguments\u001b[0m\u001b[0;34m(\u001b[0m\u001b[0mtensor_dict\u001b[0m\u001b[0;34m)\u001b[0m\u001b[0;34m\u001b[0m\u001b[0;34m\u001b[0m\u001b[0m\n\u001b[0;32m--> 589\u001b[0;31m         \u001b[0moutputs\u001b[0m \u001b[0;34m=\u001b[0m \u001b[0mnode\u001b[0m\u001b[0;34m.\u001b[0m\u001b[0mlayer\u001b[0m\u001b[0;34m(\u001b[0m\u001b[0;34m*\u001b[0m\u001b[0margs\u001b[0m\u001b[0;34m,\u001b[0m \u001b[0;34m**\u001b[0m\u001b[0mkwargs\u001b[0m\u001b[0;34m)\u001b[0m\u001b[0;34m\u001b[0m\u001b[0;34m\u001b[0m\u001b[0m\n\u001b[0m\u001b[1;32m    590\u001b[0m \u001b[0;34m\u001b[0m\u001b[0m\n\u001b[1;32m    591\u001b[0m         \u001b[0;31m# Update tensor_dict.\u001b[0m\u001b[0;34m\u001b[0m\u001b[0;34m\u001b[0m\u001b[0;34m\u001b[0m\u001b[0m\n",
            "\u001b[0;32m/usr/local/lib/python3.7/dist-packages/keras/utils/traceback_utils.py\u001b[0m in \u001b[0;36merror_handler\u001b[0;34m(*args, **kwargs)\u001b[0m\n\u001b[1;32m     62\u001b[0m     \u001b[0mfiltered_tb\u001b[0m \u001b[0;34m=\u001b[0m \u001b[0;32mNone\u001b[0m\u001b[0;34m\u001b[0m\u001b[0;34m\u001b[0m\u001b[0m\n\u001b[1;32m     63\u001b[0m     \u001b[0;32mtry\u001b[0m\u001b[0;34m:\u001b[0m\u001b[0;34m\u001b[0m\u001b[0;34m\u001b[0m\u001b[0m\n\u001b[0;32m---> 64\u001b[0;31m       \u001b[0;32mreturn\u001b[0m \u001b[0mfn\u001b[0m\u001b[0;34m(\u001b[0m\u001b[0;34m*\u001b[0m\u001b[0margs\u001b[0m\u001b[0;34m,\u001b[0m \u001b[0;34m**\u001b[0m\u001b[0mkwargs\u001b[0m\u001b[0;34m)\u001b[0m\u001b[0;34m\u001b[0m\u001b[0;34m\u001b[0m\u001b[0m\n\u001b[0m\u001b[1;32m     65\u001b[0m     \u001b[0;32mexcept\u001b[0m \u001b[0mException\u001b[0m \u001b[0;32mas\u001b[0m \u001b[0me\u001b[0m\u001b[0;34m:\u001b[0m  \u001b[0;31m# pylint: disable=broad-except\u001b[0m\u001b[0;34m\u001b[0m\u001b[0;34m\u001b[0m\u001b[0m\n\u001b[1;32m     66\u001b[0m       \u001b[0mfiltered_tb\u001b[0m \u001b[0;34m=\u001b[0m \u001b[0m_process_traceback_frames\u001b[0m\u001b[0;34m(\u001b[0m\u001b[0me\u001b[0m\u001b[0;34m.\u001b[0m\u001b[0m__traceback__\u001b[0m\u001b[0;34m)\u001b[0m\u001b[0;34m\u001b[0m\u001b[0;34m\u001b[0m\u001b[0m\n",
            "\u001b[0;32m/usr/local/lib/python3.7/dist-packages/keras/engine/base_layer.py\u001b[0m in \u001b[0;36m__call__\u001b[0;34m(self, *args, **kwargs)\u001b[0m\n\u001b[1;32m   1094\u001b[0m         with autocast_variable.enable_auto_cast_variables(\n\u001b[1;32m   1095\u001b[0m             self._compute_dtype_object):\n\u001b[0;32m-> 1096\u001b[0;31m           \u001b[0moutputs\u001b[0m \u001b[0;34m=\u001b[0m \u001b[0mcall_fn\u001b[0m\u001b[0;34m(\u001b[0m\u001b[0minputs\u001b[0m\u001b[0;34m,\u001b[0m \u001b[0;34m*\u001b[0m\u001b[0margs\u001b[0m\u001b[0;34m,\u001b[0m \u001b[0;34m**\u001b[0m\u001b[0mkwargs\u001b[0m\u001b[0;34m)\u001b[0m\u001b[0;34m\u001b[0m\u001b[0;34m\u001b[0m\u001b[0m\n\u001b[0m\u001b[1;32m   1097\u001b[0m \u001b[0;34m\u001b[0m\u001b[0m\n\u001b[1;32m   1098\u001b[0m         \u001b[0;32mif\u001b[0m \u001b[0mself\u001b[0m\u001b[0;34m.\u001b[0m\u001b[0m_activity_regularizer\u001b[0m\u001b[0;34m:\u001b[0m\u001b[0;34m\u001b[0m\u001b[0;34m\u001b[0m\u001b[0m\n",
            "\u001b[0;32m/usr/local/lib/python3.7/dist-packages/keras/utils/traceback_utils.py\u001b[0m in \u001b[0;36merror_handler\u001b[0;34m(*args, **kwargs)\u001b[0m\n\u001b[1;32m     90\u001b[0m     \u001b[0mbound_signature\u001b[0m \u001b[0;34m=\u001b[0m \u001b[0;32mNone\u001b[0m\u001b[0;34m\u001b[0m\u001b[0;34m\u001b[0m\u001b[0m\n\u001b[1;32m     91\u001b[0m     \u001b[0;32mtry\u001b[0m\u001b[0;34m:\u001b[0m\u001b[0;34m\u001b[0m\u001b[0;34m\u001b[0m\u001b[0m\n\u001b[0;32m---> 92\u001b[0;31m       \u001b[0;32mreturn\u001b[0m \u001b[0mfn\u001b[0m\u001b[0;34m(\u001b[0m\u001b[0;34m*\u001b[0m\u001b[0margs\u001b[0m\u001b[0;34m,\u001b[0m \u001b[0;34m**\u001b[0m\u001b[0mkwargs\u001b[0m\u001b[0;34m)\u001b[0m\u001b[0;34m\u001b[0m\u001b[0;34m\u001b[0m\u001b[0m\n\u001b[0m\u001b[1;32m     93\u001b[0m     \u001b[0;32mexcept\u001b[0m \u001b[0mException\u001b[0m \u001b[0;32mas\u001b[0m \u001b[0me\u001b[0m\u001b[0;34m:\u001b[0m  \u001b[0;31m# pylint: disable=broad-except\u001b[0m\u001b[0;34m\u001b[0m\u001b[0;34m\u001b[0m\u001b[0m\n\u001b[1;32m     94\u001b[0m       \u001b[0;32mif\u001b[0m \u001b[0mhasattr\u001b[0m\u001b[0;34m(\u001b[0m\u001b[0me\u001b[0m\u001b[0;34m,\u001b[0m \u001b[0;34m'_keras_call_info_injected'\u001b[0m\u001b[0;34m)\u001b[0m\u001b[0;34m:\u001b[0m\u001b[0;34m\u001b[0m\u001b[0;34m\u001b[0m\u001b[0m\n",
            "\u001b[0;32m/usr/local/lib/python3.7/dist-packages/keras/layers/normalization/batch_normalization.py\u001b[0m in \u001b[0;36mcall\u001b[0;34m(self, inputs, training)\u001b[0m\n\u001b[1;32m    899\u001b[0m         \u001b[0;32mreturn\u001b[0m \u001b[0mcontrol_flow_util\u001b[0m\u001b[0;34m.\u001b[0m\u001b[0msmart_cond\u001b[0m\u001b[0;34m(\u001b[0m\u001b[0mtraining\u001b[0m\u001b[0;34m,\u001b[0m \u001b[0mtrue_branch\u001b[0m\u001b[0;34m,\u001b[0m \u001b[0mfalse_branch\u001b[0m\u001b[0;34m)\u001b[0m\u001b[0;34m\u001b[0m\u001b[0;34m\u001b[0m\u001b[0m\n\u001b[1;32m    900\u001b[0m \u001b[0;34m\u001b[0m\u001b[0m\n\u001b[0;32m--> 901\u001b[0;31m       \u001b[0mself\u001b[0m\u001b[0;34m.\u001b[0m\u001b[0madd_update\u001b[0m\u001b[0;34m(\u001b[0m\u001b[0mmean_update\u001b[0m\u001b[0;34m)\u001b[0m\u001b[0;34m\u001b[0m\u001b[0;34m\u001b[0m\u001b[0m\n\u001b[0m\u001b[1;32m    902\u001b[0m       \u001b[0mself\u001b[0m\u001b[0;34m.\u001b[0m\u001b[0madd_update\u001b[0m\u001b[0;34m(\u001b[0m\u001b[0mvariance_update\u001b[0m\u001b[0;34m)\u001b[0m\u001b[0;34m\u001b[0m\u001b[0;34m\u001b[0m\u001b[0m\n\u001b[1;32m    903\u001b[0m \u001b[0;34m\u001b[0m\u001b[0m\n",
            "\u001b[0;32m/usr/local/lib/python3.7/dist-packages/keras/engine/base_layer.py\u001b[0m in \u001b[0;36madd_update\u001b[0;34m(self, updates, inputs)\u001b[0m\n\u001b[1;32m   1787\u001b[0m       \u001b[0;32mfor\u001b[0m \u001b[0mupdate\u001b[0m \u001b[0;32min\u001b[0m \u001b[0mtf\u001b[0m\u001b[0;34m.\u001b[0m\u001b[0mnest\u001b[0m\u001b[0;34m.\u001b[0m\u001b[0mflatten\u001b[0m\u001b[0;34m(\u001b[0m\u001b[0mupdates\u001b[0m\u001b[0;34m)\u001b[0m\u001b[0;34m:\u001b[0m\u001b[0;34m\u001b[0m\u001b[0;34m\u001b[0m\u001b[0m\n\u001b[1;32m   1788\u001b[0m         \u001b[0;32mif\u001b[0m \u001b[0mcallable\u001b[0m\u001b[0;34m(\u001b[0m\u001b[0mupdate\u001b[0m\u001b[0;34m)\u001b[0m\u001b[0;34m:\u001b[0m\u001b[0;34m\u001b[0m\u001b[0;34m\u001b[0m\u001b[0m\n\u001b[0;32m-> 1789\u001b[0;31m           \u001b[0mupdate\u001b[0m\u001b[0;34m(\u001b[0m\u001b[0;34m)\u001b[0m  \u001b[0;31m# pylint: disable=not-callable\u001b[0m\u001b[0;34m\u001b[0m\u001b[0;34m\u001b[0m\u001b[0m\n\u001b[0m\u001b[1;32m   1790\u001b[0m \u001b[0;34m\u001b[0m\u001b[0m\n\u001b[1;32m   1791\u001b[0m   \u001b[0;32mdef\u001b[0m \u001b[0mset_weights\u001b[0m\u001b[0;34m(\u001b[0m\u001b[0mself\u001b[0m\u001b[0;34m,\u001b[0m \u001b[0mweights\u001b[0m\u001b[0;34m)\u001b[0m\u001b[0;34m:\u001b[0m\u001b[0;34m\u001b[0m\u001b[0;34m\u001b[0m\u001b[0m\n",
            "\u001b[0;32m/usr/local/lib/python3.7/dist-packages/keras/layers/normalization/batch_normalization.py\u001b[0m in \u001b[0;36mmean_update\u001b[0;34m()\u001b[0m\n\u001b[1;32m    875\u001b[0m         \u001b[0mtrue_branch\u001b[0m \u001b[0;34m=\u001b[0m \u001b[0;32mlambda\u001b[0m\u001b[0;34m:\u001b[0m \u001b[0m_do_update\u001b[0m\u001b[0;34m(\u001b[0m\u001b[0mself\u001b[0m\u001b[0;34m.\u001b[0m\u001b[0mmoving_mean\u001b[0m\u001b[0;34m,\u001b[0m \u001b[0mnew_mean\u001b[0m\u001b[0;34m)\u001b[0m\u001b[0;34m\u001b[0m\u001b[0;34m\u001b[0m\u001b[0m\n\u001b[1;32m    876\u001b[0m         \u001b[0mfalse_branch\u001b[0m \u001b[0;34m=\u001b[0m \u001b[0;32mlambda\u001b[0m\u001b[0;34m:\u001b[0m \u001b[0mself\u001b[0m\u001b[0;34m.\u001b[0m\u001b[0mmoving_mean\u001b[0m\u001b[0;34m\u001b[0m\u001b[0;34m\u001b[0m\u001b[0m\n\u001b[0;32m--> 877\u001b[0;31m         \u001b[0;32mreturn\u001b[0m \u001b[0mcontrol_flow_util\u001b[0m\u001b[0;34m.\u001b[0m\u001b[0msmart_cond\u001b[0m\u001b[0;34m(\u001b[0m\u001b[0mtraining\u001b[0m\u001b[0;34m,\u001b[0m \u001b[0mtrue_branch\u001b[0m\u001b[0;34m,\u001b[0m \u001b[0mfalse_branch\u001b[0m\u001b[0;34m)\u001b[0m\u001b[0;34m\u001b[0m\u001b[0;34m\u001b[0m\u001b[0m\n\u001b[0m\u001b[1;32m    878\u001b[0m \u001b[0;34m\u001b[0m\u001b[0m\n\u001b[1;32m    879\u001b[0m       \u001b[0;32mdef\u001b[0m \u001b[0mvariance_update\u001b[0m\u001b[0;34m(\u001b[0m\u001b[0;34m)\u001b[0m\u001b[0;34m:\u001b[0m\u001b[0;34m\u001b[0m\u001b[0;34m\u001b[0m\u001b[0m\n",
            "\u001b[0;32m/usr/local/lib/python3.7/dist-packages/keras/utils/control_flow_util.py\u001b[0m in \u001b[0;36msmart_cond\u001b[0;34m(pred, true_fn, false_fn, name)\u001b[0m\n\u001b[1;32m    104\u001b[0m         pred, true_fn=true_fn, false_fn=false_fn, name=name)\n\u001b[1;32m    105\u001b[0m   return tf.__internal__.smart_cond.smart_cond(\n\u001b[0;32m--> 106\u001b[0;31m       pred, true_fn=true_fn, false_fn=false_fn, name=name)\n\u001b[0m\u001b[1;32m    107\u001b[0m \u001b[0;34m\u001b[0m\u001b[0m\n\u001b[1;32m    108\u001b[0m \u001b[0;34m\u001b[0m\u001b[0m\n",
            "\u001b[0;32m/usr/local/lib/python3.7/dist-packages/tensorflow/python/framework/smart_cond.py\u001b[0m in \u001b[0;36msmart_cond\u001b[0;34m(pred, true_fn, false_fn, name)\u001b[0m\n\u001b[1;32m     51\u001b[0m   \u001b[0;32mif\u001b[0m \u001b[0mpred_value\u001b[0m \u001b[0;32mis\u001b[0m \u001b[0;32mnot\u001b[0m \u001b[0;32mNone\u001b[0m\u001b[0;34m:\u001b[0m\u001b[0;34m\u001b[0m\u001b[0;34m\u001b[0m\u001b[0m\n\u001b[1;32m     52\u001b[0m     \u001b[0;32mif\u001b[0m \u001b[0mpred_value\u001b[0m\u001b[0;34m:\u001b[0m\u001b[0;34m\u001b[0m\u001b[0;34m\u001b[0m\u001b[0m\n\u001b[0;32m---> 53\u001b[0;31m       \u001b[0;32mreturn\u001b[0m \u001b[0mtrue_fn\u001b[0m\u001b[0;34m(\u001b[0m\u001b[0;34m)\u001b[0m\u001b[0;34m\u001b[0m\u001b[0;34m\u001b[0m\u001b[0m\n\u001b[0m\u001b[1;32m     54\u001b[0m     \u001b[0;32melse\u001b[0m\u001b[0;34m:\u001b[0m\u001b[0;34m\u001b[0m\u001b[0;34m\u001b[0m\u001b[0m\n\u001b[1;32m     55\u001b[0m       \u001b[0;32mreturn\u001b[0m \u001b[0mfalse_fn\u001b[0m\u001b[0;34m(\u001b[0m\u001b[0;34m)\u001b[0m\u001b[0;34m\u001b[0m\u001b[0;34m\u001b[0m\u001b[0m\n",
            "\u001b[0;32m/usr/local/lib/python3.7/dist-packages/keras/layers/normalization/batch_normalization.py\u001b[0m in \u001b[0;36m<lambda>\u001b[0;34m()\u001b[0m\n\u001b[1;32m    873\u001b[0m \u001b[0;34m\u001b[0m\u001b[0m\n\u001b[1;32m    874\u001b[0m       \u001b[0;32mdef\u001b[0m \u001b[0mmean_update\u001b[0m\u001b[0;34m(\u001b[0m\u001b[0;34m)\u001b[0m\u001b[0;34m:\u001b[0m\u001b[0;34m\u001b[0m\u001b[0;34m\u001b[0m\u001b[0m\n\u001b[0;32m--> 875\u001b[0;31m         \u001b[0mtrue_branch\u001b[0m \u001b[0;34m=\u001b[0m \u001b[0;32mlambda\u001b[0m\u001b[0;34m:\u001b[0m \u001b[0m_do_update\u001b[0m\u001b[0;34m(\u001b[0m\u001b[0mself\u001b[0m\u001b[0;34m.\u001b[0m\u001b[0mmoving_mean\u001b[0m\u001b[0;34m,\u001b[0m \u001b[0mnew_mean\u001b[0m\u001b[0;34m)\u001b[0m\u001b[0;34m\u001b[0m\u001b[0;34m\u001b[0m\u001b[0m\n\u001b[0m\u001b[1;32m    876\u001b[0m         \u001b[0mfalse_branch\u001b[0m \u001b[0;34m=\u001b[0m \u001b[0;32mlambda\u001b[0m\u001b[0;34m:\u001b[0m \u001b[0mself\u001b[0m\u001b[0;34m.\u001b[0m\u001b[0mmoving_mean\u001b[0m\u001b[0;34m\u001b[0m\u001b[0;34m\u001b[0m\u001b[0m\n\u001b[1;32m    877\u001b[0m         \u001b[0;32mreturn\u001b[0m \u001b[0mcontrol_flow_util\u001b[0m\u001b[0;34m.\u001b[0m\u001b[0msmart_cond\u001b[0m\u001b[0;34m(\u001b[0m\u001b[0mtraining\u001b[0m\u001b[0;34m,\u001b[0m \u001b[0mtrue_branch\u001b[0m\u001b[0;34m,\u001b[0m \u001b[0mfalse_branch\u001b[0m\u001b[0;34m)\u001b[0m\u001b[0;34m\u001b[0m\u001b[0;34m\u001b[0m\u001b[0m\n",
            "\u001b[0;32m/usr/local/lib/python3.7/dist-packages/keras/layers/normalization/batch_normalization.py\u001b[0m in \u001b[0;36m_do_update\u001b[0;34m(var, value)\u001b[0m\n\u001b[1;32m    870\u001b[0m         \u001b[0;34m\"\"\"Compute the updates for mean and variance.\"\"\"\u001b[0m\u001b[0;34m\u001b[0m\u001b[0;34m\u001b[0m\u001b[0m\n\u001b[1;32m    871\u001b[0m         return self._assign_moving_average(var, value, self.momentum,\n\u001b[0;32m--> 872\u001b[0;31m                                            input_batch_size)\n\u001b[0m\u001b[1;32m    873\u001b[0m \u001b[0;34m\u001b[0m\u001b[0m\n\u001b[1;32m    874\u001b[0m       \u001b[0;32mdef\u001b[0m \u001b[0mmean_update\u001b[0m\u001b[0;34m(\u001b[0m\u001b[0;34m)\u001b[0m\u001b[0;34m:\u001b[0m\u001b[0;34m\u001b[0m\u001b[0;34m\u001b[0m\u001b[0m\n",
            "\u001b[0;32m/usr/local/lib/python3.7/dist-packages/keras/layers/normalization/batch_normalization.py\u001b[0m in \u001b[0;36m_assign_moving_average\u001b[0;34m(self, variable, value, momentum, inputs_size)\u001b[0m\n\u001b[1;32m    528\u001b[0m     \u001b[0;32mwith\u001b[0m \u001b[0mbackend\u001b[0m\u001b[0;34m.\u001b[0m\u001b[0mname_scope\u001b[0m\u001b[0;34m(\u001b[0m\u001b[0;34m'AssignMovingAvg'\u001b[0m\u001b[0;34m)\u001b[0m \u001b[0;32mas\u001b[0m \u001b[0mscope\u001b[0m\u001b[0;34m:\u001b[0m\u001b[0;34m\u001b[0m\u001b[0;34m\u001b[0m\u001b[0m\n\u001b[1;32m    529\u001b[0m       \u001b[0;32mif\u001b[0m \u001b[0mtf\u001b[0m\u001b[0;34m.\u001b[0m\u001b[0mcompat\u001b[0m\u001b[0;34m.\u001b[0m\u001b[0mv1\u001b[0m\u001b[0;34m.\u001b[0m\u001b[0mexecuting_eagerly_outside_functions\u001b[0m\u001b[0;34m(\u001b[0m\u001b[0;34m)\u001b[0m\u001b[0;34m:\u001b[0m\u001b[0;34m\u001b[0m\u001b[0;34m\u001b[0m\u001b[0m\n\u001b[0;32m--> 530\u001b[0;31m         \u001b[0;32mreturn\u001b[0m \u001b[0mvariable\u001b[0m\u001b[0;34m.\u001b[0m\u001b[0massign_sub\u001b[0m\u001b[0;34m(\u001b[0m\u001b[0mcalculate_update_delta\u001b[0m\u001b[0;34m(\u001b[0m\u001b[0;34m)\u001b[0m\u001b[0;34m,\u001b[0m \u001b[0mname\u001b[0m\u001b[0;34m=\u001b[0m\u001b[0mscope\u001b[0m\u001b[0;34m)\u001b[0m\u001b[0;34m\u001b[0m\u001b[0;34m\u001b[0m\u001b[0m\n\u001b[0m\u001b[1;32m    531\u001b[0m       \u001b[0;32melse\u001b[0m\u001b[0;34m:\u001b[0m\u001b[0;34m\u001b[0m\u001b[0;34m\u001b[0m\u001b[0m\n\u001b[1;32m    532\u001b[0m         \u001b[0;32mwith\u001b[0m \u001b[0mtf\u001b[0m\u001b[0;34m.\u001b[0m\u001b[0mcompat\u001b[0m\u001b[0;34m.\u001b[0m\u001b[0mv1\u001b[0m\u001b[0;34m.\u001b[0m\u001b[0mcolocate_with\u001b[0m\u001b[0;34m(\u001b[0m\u001b[0mvariable\u001b[0m\u001b[0;34m)\u001b[0m\u001b[0;34m:\u001b[0m  \u001b[0;31m# pylint: disable=protected-access\u001b[0m\u001b[0;34m\u001b[0m\u001b[0;34m\u001b[0m\u001b[0m\n",
            "\u001b[0;32m/usr/local/lib/python3.7/dist-packages/keras/layers/normalization/batch_normalization.py\u001b[0m in \u001b[0;36mcalculate_update_delta\u001b[0;34m()\u001b[0m\n\u001b[1;32m    520\u001b[0m       \u001b[0;32mif\u001b[0m \u001b[0mdecay\u001b[0m\u001b[0;34m.\u001b[0m\u001b[0mdtype\u001b[0m \u001b[0;34m!=\u001b[0m \u001b[0mvariable\u001b[0m\u001b[0;34m.\u001b[0m\u001b[0mdtype\u001b[0m\u001b[0;34m.\u001b[0m\u001b[0mbase_dtype\u001b[0m\u001b[0;34m:\u001b[0m\u001b[0;34m\u001b[0m\u001b[0;34m\u001b[0m\u001b[0m\n\u001b[1;32m    521\u001b[0m         \u001b[0mdecay\u001b[0m \u001b[0;34m=\u001b[0m \u001b[0mtf\u001b[0m\u001b[0;34m.\u001b[0m\u001b[0mcast\u001b[0m\u001b[0;34m(\u001b[0m\u001b[0mdecay\u001b[0m\u001b[0;34m,\u001b[0m \u001b[0mvariable\u001b[0m\u001b[0;34m.\u001b[0m\u001b[0mdtype\u001b[0m\u001b[0;34m.\u001b[0m\u001b[0mbase_dtype\u001b[0m\u001b[0;34m)\u001b[0m\u001b[0;34m\u001b[0m\u001b[0;34m\u001b[0m\u001b[0m\n\u001b[0;32m--> 522\u001b[0;31m       \u001b[0mupdate_delta\u001b[0m \u001b[0;34m=\u001b[0m \u001b[0;34m(\u001b[0m\u001b[0mvariable\u001b[0m \u001b[0;34m-\u001b[0m \u001b[0mtf\u001b[0m\u001b[0;34m.\u001b[0m\u001b[0mcast\u001b[0m\u001b[0;34m(\u001b[0m\u001b[0mvalue\u001b[0m\u001b[0;34m,\u001b[0m \u001b[0mvariable\u001b[0m\u001b[0;34m.\u001b[0m\u001b[0mdtype\u001b[0m\u001b[0;34m)\u001b[0m\u001b[0;34m)\u001b[0m \u001b[0;34m*\u001b[0m \u001b[0mdecay\u001b[0m\u001b[0;34m\u001b[0m\u001b[0;34m\u001b[0m\u001b[0m\n\u001b[0m\u001b[1;32m    523\u001b[0m       \u001b[0;32mif\u001b[0m \u001b[0minputs_size\u001b[0m \u001b[0;32mis\u001b[0m \u001b[0;32mnot\u001b[0m \u001b[0;32mNone\u001b[0m\u001b[0;34m:\u001b[0m\u001b[0;34m\u001b[0m\u001b[0;34m\u001b[0m\u001b[0m\n\u001b[1;32m    524\u001b[0m         update_delta = tf.where(inputs_size > 0, update_delta,\n",
            "\u001b[0;32m/usr/local/lib/python3.7/dist-packages/tensorflow/python/util/traceback_utils.py\u001b[0m in \u001b[0;36merror_handler\u001b[0;34m(*args, **kwargs)\u001b[0m\n\u001b[1;32m    148\u001b[0m     \u001b[0mfiltered_tb\u001b[0m \u001b[0;34m=\u001b[0m \u001b[0;32mNone\u001b[0m\u001b[0;34m\u001b[0m\u001b[0;34m\u001b[0m\u001b[0m\n\u001b[1;32m    149\u001b[0m     \u001b[0;32mtry\u001b[0m\u001b[0;34m:\u001b[0m\u001b[0;34m\u001b[0m\u001b[0;34m\u001b[0m\u001b[0m\n\u001b[0;32m--> 150\u001b[0;31m       \u001b[0;32mreturn\u001b[0m \u001b[0mfn\u001b[0m\u001b[0;34m(\u001b[0m\u001b[0;34m*\u001b[0m\u001b[0margs\u001b[0m\u001b[0;34m,\u001b[0m \u001b[0;34m**\u001b[0m\u001b[0mkwargs\u001b[0m\u001b[0;34m)\u001b[0m\u001b[0;34m\u001b[0m\u001b[0;34m\u001b[0m\u001b[0m\n\u001b[0m\u001b[1;32m    151\u001b[0m     \u001b[0;32mexcept\u001b[0m \u001b[0mException\u001b[0m \u001b[0;32mas\u001b[0m \u001b[0me\u001b[0m\u001b[0;34m:\u001b[0m\u001b[0;34m\u001b[0m\u001b[0;34m\u001b[0m\u001b[0m\n\u001b[1;32m    152\u001b[0m       \u001b[0mfiltered_tb\u001b[0m \u001b[0;34m=\u001b[0m \u001b[0m_process_traceback_frames\u001b[0m\u001b[0;34m(\u001b[0m\u001b[0me\u001b[0m\u001b[0;34m.\u001b[0m\u001b[0m__traceback__\u001b[0m\u001b[0;34m)\u001b[0m\u001b[0;34m\u001b[0m\u001b[0;34m\u001b[0m\u001b[0m\n",
            "\u001b[0;32m/usr/local/lib/python3.7/dist-packages/tensorflow/python/ops/math_ops.py\u001b[0m in \u001b[0;36mbinary_op_wrapper\u001b[0;34m(x, y)\u001b[0m\n\u001b[1;32m   1404\u001b[0m         \u001b[0;31m#   r_binary_op_wrapper use different force_same_dtype values.\u001b[0m\u001b[0;34m\u001b[0m\u001b[0;34m\u001b[0m\u001b[0;34m\u001b[0m\u001b[0m\n\u001b[1;32m   1405\u001b[0m         \u001b[0mx\u001b[0m\u001b[0;34m,\u001b[0m \u001b[0my\u001b[0m \u001b[0;34m=\u001b[0m \u001b[0mmaybe_promote_tensors\u001b[0m\u001b[0;34m(\u001b[0m\u001b[0mx\u001b[0m\u001b[0;34m,\u001b[0m \u001b[0my\u001b[0m\u001b[0;34m)\u001b[0m\u001b[0;34m\u001b[0m\u001b[0;34m\u001b[0m\u001b[0m\n\u001b[0;32m-> 1406\u001b[0;31m         \u001b[0;32mreturn\u001b[0m \u001b[0mfunc\u001b[0m\u001b[0;34m(\u001b[0m\u001b[0mx\u001b[0m\u001b[0;34m,\u001b[0m \u001b[0my\u001b[0m\u001b[0;34m,\u001b[0m \u001b[0mname\u001b[0m\u001b[0;34m=\u001b[0m\u001b[0mname\u001b[0m\u001b[0;34m)\u001b[0m\u001b[0;34m\u001b[0m\u001b[0;34m\u001b[0m\u001b[0m\n\u001b[0m\u001b[1;32m   1407\u001b[0m       \u001b[0;32mexcept\u001b[0m \u001b[0;34m(\u001b[0m\u001b[0mTypeError\u001b[0m\u001b[0;34m,\u001b[0m \u001b[0mValueError\u001b[0m\u001b[0;34m)\u001b[0m \u001b[0;32mas\u001b[0m \u001b[0me\u001b[0m\u001b[0;34m:\u001b[0m\u001b[0;34m\u001b[0m\u001b[0;34m\u001b[0m\u001b[0m\n\u001b[1;32m   1408\u001b[0m         \u001b[0;31m# Even if dispatching the op failed, the RHS may be a tensor aware\u001b[0m\u001b[0;34m\u001b[0m\u001b[0;34m\u001b[0m\u001b[0;34m\u001b[0m\u001b[0m\n",
            "\u001b[0;32m/usr/local/lib/python3.7/dist-packages/tensorflow/python/ops/math_ops.py\u001b[0m in \u001b[0;36m_mul_dispatch\u001b[0;34m(x, y, name)\u001b[0m\n\u001b[1;32m   1764\u001b[0m     \u001b[0;32mreturn\u001b[0m \u001b[0msparse_tensor\u001b[0m\u001b[0;34m.\u001b[0m\u001b[0mSparseTensor\u001b[0m\u001b[0;34m(\u001b[0m\u001b[0my\u001b[0m\u001b[0;34m.\u001b[0m\u001b[0mindices\u001b[0m\u001b[0;34m,\u001b[0m \u001b[0mnew_vals\u001b[0m\u001b[0;34m,\u001b[0m \u001b[0my\u001b[0m\u001b[0;34m.\u001b[0m\u001b[0mdense_shape\u001b[0m\u001b[0;34m)\u001b[0m\u001b[0;34m\u001b[0m\u001b[0;34m\u001b[0m\u001b[0m\n\u001b[1;32m   1765\u001b[0m   \u001b[0;32melse\u001b[0m\u001b[0;34m:\u001b[0m\u001b[0;34m\u001b[0m\u001b[0;34m\u001b[0m\u001b[0m\n\u001b[0;32m-> 1766\u001b[0;31m     \u001b[0;32mreturn\u001b[0m \u001b[0mmultiply\u001b[0m\u001b[0;34m(\u001b[0m\u001b[0mx\u001b[0m\u001b[0;34m,\u001b[0m \u001b[0my\u001b[0m\u001b[0;34m,\u001b[0m \u001b[0mname\u001b[0m\u001b[0;34m=\u001b[0m\u001b[0mname\u001b[0m\u001b[0;34m)\u001b[0m\u001b[0;34m\u001b[0m\u001b[0;34m\u001b[0m\u001b[0m\n\u001b[0m\u001b[1;32m   1767\u001b[0m \u001b[0;34m\u001b[0m\u001b[0m\n\u001b[1;32m   1768\u001b[0m \u001b[0;34m\u001b[0m\u001b[0m\n",
            "\u001b[0;32m/usr/local/lib/python3.7/dist-packages/tensorflow/python/util/traceback_utils.py\u001b[0m in \u001b[0;36merror_handler\u001b[0;34m(*args, **kwargs)\u001b[0m\n\u001b[1;32m    148\u001b[0m     \u001b[0mfiltered_tb\u001b[0m \u001b[0;34m=\u001b[0m \u001b[0;32mNone\u001b[0m\u001b[0;34m\u001b[0m\u001b[0;34m\u001b[0m\u001b[0m\n\u001b[1;32m    149\u001b[0m     \u001b[0;32mtry\u001b[0m\u001b[0;34m:\u001b[0m\u001b[0;34m\u001b[0m\u001b[0;34m\u001b[0m\u001b[0m\n\u001b[0;32m--> 150\u001b[0;31m       \u001b[0;32mreturn\u001b[0m \u001b[0mfn\u001b[0m\u001b[0;34m(\u001b[0m\u001b[0;34m*\u001b[0m\u001b[0margs\u001b[0m\u001b[0;34m,\u001b[0m \u001b[0;34m**\u001b[0m\u001b[0mkwargs\u001b[0m\u001b[0;34m)\u001b[0m\u001b[0;34m\u001b[0m\u001b[0;34m\u001b[0m\u001b[0m\n\u001b[0m\u001b[1;32m    151\u001b[0m     \u001b[0;32mexcept\u001b[0m \u001b[0mException\u001b[0m \u001b[0;32mas\u001b[0m \u001b[0me\u001b[0m\u001b[0;34m:\u001b[0m\u001b[0;34m\u001b[0m\u001b[0;34m\u001b[0m\u001b[0m\n\u001b[1;32m    152\u001b[0m       \u001b[0mfiltered_tb\u001b[0m \u001b[0;34m=\u001b[0m \u001b[0m_process_traceback_frames\u001b[0m\u001b[0;34m(\u001b[0m\u001b[0me\u001b[0m\u001b[0;34m.\u001b[0m\u001b[0m__traceback__\u001b[0m\u001b[0;34m)\u001b[0m\u001b[0;34m\u001b[0m\u001b[0;34m\u001b[0m\u001b[0m\n",
            "\u001b[0;32m/usr/local/lib/python3.7/dist-packages/tensorflow/python/util/dispatch.py\u001b[0m in \u001b[0;36mop_dispatch_handler\u001b[0;34m(*args, **kwargs)\u001b[0m\n\u001b[1;32m   1080\u001b[0m       \u001b[0;31m# Fallback dispatch system (dispatch v1):\u001b[0m\u001b[0;34m\u001b[0m\u001b[0;34m\u001b[0m\u001b[0;34m\u001b[0m\u001b[0m\n\u001b[1;32m   1081\u001b[0m       \u001b[0;32mtry\u001b[0m\u001b[0;34m:\u001b[0m\u001b[0;34m\u001b[0m\u001b[0;34m\u001b[0m\u001b[0m\n\u001b[0;32m-> 1082\u001b[0;31m         \u001b[0;32mreturn\u001b[0m \u001b[0mdispatch_target\u001b[0m\u001b[0;34m(\u001b[0m\u001b[0;34m*\u001b[0m\u001b[0margs\u001b[0m\u001b[0;34m,\u001b[0m \u001b[0;34m**\u001b[0m\u001b[0mkwargs\u001b[0m\u001b[0;34m)\u001b[0m\u001b[0;34m\u001b[0m\u001b[0;34m\u001b[0m\u001b[0m\n\u001b[0m\u001b[1;32m   1083\u001b[0m       \u001b[0;32mexcept\u001b[0m \u001b[0;34m(\u001b[0m\u001b[0mTypeError\u001b[0m\u001b[0;34m,\u001b[0m \u001b[0mValueError\u001b[0m\u001b[0;34m)\u001b[0m\u001b[0;34m:\u001b[0m\u001b[0;34m\u001b[0m\u001b[0;34m\u001b[0m\u001b[0m\n\u001b[1;32m   1084\u001b[0m         \u001b[0;31m# Note: convert_to_eager_tensor currently raises a ValueError, not a\u001b[0m\u001b[0;34m\u001b[0m\u001b[0;34m\u001b[0m\u001b[0;34m\u001b[0m\u001b[0m\n",
            "\u001b[0;32m/usr/local/lib/python3.7/dist-packages/tensorflow/python/ops/math_ops.py\u001b[0m in \u001b[0;36mmultiply\u001b[0;34m(x, y, name)\u001b[0m\n\u001b[1;32m    527\u001b[0m   \"\"\"\n\u001b[1;32m    528\u001b[0m \u001b[0;34m\u001b[0m\u001b[0m\n\u001b[0;32m--> 529\u001b[0;31m   \u001b[0;32mreturn\u001b[0m \u001b[0mgen_math_ops\u001b[0m\u001b[0;34m.\u001b[0m\u001b[0mmul\u001b[0m\u001b[0;34m(\u001b[0m\u001b[0mx\u001b[0m\u001b[0;34m,\u001b[0m \u001b[0my\u001b[0m\u001b[0;34m,\u001b[0m \u001b[0mname\u001b[0m\u001b[0;34m)\u001b[0m\u001b[0;34m\u001b[0m\u001b[0;34m\u001b[0m\u001b[0m\n\u001b[0m\u001b[1;32m    530\u001b[0m \u001b[0;34m\u001b[0m\u001b[0m\n\u001b[1;32m    531\u001b[0m \u001b[0;34m\u001b[0m\u001b[0m\n",
            "\u001b[0;32m/usr/local/lib/python3.7/dist-packages/tensorflow/python/ops/gen_math_ops.py\u001b[0m in \u001b[0;36mmul\u001b[0;34m(x, y, name)\u001b[0m\n\u001b[1;32m   6588\u001b[0m   \u001b[0;31m# Add nodes to the TensorFlow graph.\u001b[0m\u001b[0;34m\u001b[0m\u001b[0;34m\u001b[0m\u001b[0;34m\u001b[0m\u001b[0m\n\u001b[1;32m   6589\u001b[0m   _, _, _op, _outputs = _op_def_library._apply_op_helper(\n\u001b[0;32m-> 6590\u001b[0;31m         \"Mul\", x=x, y=y, name=name)\n\u001b[0m\u001b[1;32m   6591\u001b[0m   \u001b[0m_result\u001b[0m \u001b[0;34m=\u001b[0m \u001b[0m_outputs\u001b[0m\u001b[0;34m[\u001b[0m\u001b[0;34m:\u001b[0m\u001b[0;34m]\u001b[0m\u001b[0;34m\u001b[0m\u001b[0;34m\u001b[0m\u001b[0m\n\u001b[1;32m   6592\u001b[0m   \u001b[0;32mif\u001b[0m \u001b[0m_execute\u001b[0m\u001b[0;34m.\u001b[0m\u001b[0mmust_record_gradient\u001b[0m\u001b[0;34m(\u001b[0m\u001b[0;34m)\u001b[0m\u001b[0;34m:\u001b[0m\u001b[0;34m\u001b[0m\u001b[0;34m\u001b[0m\u001b[0m\n",
            "\u001b[0;32m/usr/local/lib/python3.7/dist-packages/tensorflow/python/framework/op_def_library.py\u001b[0m in \u001b[0;36m_apply_op_helper\u001b[0;34m(op_type_name, name, **keywords)\u001b[0m\n\u001b[1;32m    740\u001b[0m       op = g._create_op_internal(op_type_name, inputs, dtypes=None,\n\u001b[1;32m    741\u001b[0m                                  \u001b[0mname\u001b[0m\u001b[0;34m=\u001b[0m\u001b[0mscope\u001b[0m\u001b[0;34m,\u001b[0m \u001b[0minput_types\u001b[0m\u001b[0;34m=\u001b[0m\u001b[0minput_types\u001b[0m\u001b[0;34m,\u001b[0m\u001b[0;34m\u001b[0m\u001b[0;34m\u001b[0m\u001b[0m\n\u001b[0;32m--> 742\u001b[0;31m                                  attrs=attr_protos, op_def=op_def)\n\u001b[0m\u001b[1;32m    743\u001b[0m \u001b[0;34m\u001b[0m\u001b[0m\n\u001b[1;32m    744\u001b[0m     \u001b[0;31m# `outputs` is returned as a separate return value so that the output\u001b[0m\u001b[0;34m\u001b[0m\u001b[0;34m\u001b[0m\u001b[0;34m\u001b[0m\u001b[0m\n",
            "\u001b[0;32m/usr/local/lib/python3.7/dist-packages/tensorflow/python/framework/func_graph.py\u001b[0m in \u001b[0;36m_create_op_internal\u001b[0;34m(self, op_type, inputs, dtypes, input_types, name, attrs, op_def, compute_device)\u001b[0m\n\u001b[1;32m    693\u001b[0m     return super(FuncGraph, self)._create_op_internal(  # pylint: disable=protected-access\n\u001b[1;32m    694\u001b[0m         \u001b[0mop_type\u001b[0m\u001b[0;34m,\u001b[0m \u001b[0mcaptured_inputs\u001b[0m\u001b[0;34m,\u001b[0m \u001b[0mdtypes\u001b[0m\u001b[0;34m,\u001b[0m \u001b[0minput_types\u001b[0m\u001b[0;34m,\u001b[0m \u001b[0mname\u001b[0m\u001b[0;34m,\u001b[0m \u001b[0mattrs\u001b[0m\u001b[0;34m,\u001b[0m \u001b[0mop_def\u001b[0m\u001b[0;34m,\u001b[0m\u001b[0;34m\u001b[0m\u001b[0;34m\u001b[0m\u001b[0m\n\u001b[0;32m--> 695\u001b[0;31m         compute_device)\n\u001b[0m\u001b[1;32m    696\u001b[0m \u001b[0;34m\u001b[0m\u001b[0m\n\u001b[1;32m    697\u001b[0m   \u001b[0;32mdef\u001b[0m \u001b[0mcapture\u001b[0m\u001b[0;34m(\u001b[0m\u001b[0mself\u001b[0m\u001b[0;34m,\u001b[0m \u001b[0mtensor\u001b[0m\u001b[0;34m,\u001b[0m \u001b[0mname\u001b[0m\u001b[0;34m=\u001b[0m\u001b[0;32mNone\u001b[0m\u001b[0;34m,\u001b[0m \u001b[0mshape\u001b[0m\u001b[0;34m=\u001b[0m\u001b[0;32mNone\u001b[0m\u001b[0;34m)\u001b[0m\u001b[0;34m:\u001b[0m\u001b[0;34m\u001b[0m\u001b[0;34m\u001b[0m\u001b[0m\n",
            "\u001b[0;32m/usr/local/lib/python3.7/dist-packages/tensorflow/python/framework/ops.py\u001b[0m in \u001b[0;36m_create_op_internal\u001b[0;34m(self, op_type, inputs, dtypes, input_types, name, attrs, op_def, compute_device)\u001b[0m\n\u001b[1;32m   3782\u001b[0m           \u001b[0minput_types\u001b[0m\u001b[0;34m=\u001b[0m\u001b[0minput_types\u001b[0m\u001b[0;34m,\u001b[0m\u001b[0;34m\u001b[0m\u001b[0;34m\u001b[0m\u001b[0m\n\u001b[1;32m   3783\u001b[0m           \u001b[0moriginal_op\u001b[0m\u001b[0;34m=\u001b[0m\u001b[0mself\u001b[0m\u001b[0;34m.\u001b[0m\u001b[0m_default_original_op\u001b[0m\u001b[0;34m,\u001b[0m\u001b[0;34m\u001b[0m\u001b[0;34m\u001b[0m\u001b[0m\n\u001b[0;32m-> 3784\u001b[0;31m           op_def=op_def)\n\u001b[0m\u001b[1;32m   3785\u001b[0m       \u001b[0mself\u001b[0m\u001b[0;34m.\u001b[0m\u001b[0m_create_op_helper\u001b[0m\u001b[0;34m(\u001b[0m\u001b[0mret\u001b[0m\u001b[0;34m,\u001b[0m \u001b[0mcompute_device\u001b[0m\u001b[0;34m=\u001b[0m\u001b[0mcompute_device\u001b[0m\u001b[0;34m)\u001b[0m\u001b[0;34m\u001b[0m\u001b[0;34m\u001b[0m\u001b[0m\n\u001b[1;32m   3786\u001b[0m     \u001b[0;32mreturn\u001b[0m \u001b[0mret\u001b[0m\u001b[0;34m\u001b[0m\u001b[0;34m\u001b[0m\u001b[0m\n",
            "\u001b[0;32m/usr/local/lib/python3.7/dist-packages/tensorflow/python/framework/ops.py\u001b[0m in \u001b[0;36m__init__\u001b[0;34m(self, node_def, g, inputs, output_types, control_inputs, input_types, original_op, op_def)\u001b[0m\n\u001b[1;32m   2170\u001b[0m         \u001b[0mop_def\u001b[0m \u001b[0;34m=\u001b[0m \u001b[0mself\u001b[0m\u001b[0;34m.\u001b[0m\u001b[0m_graph\u001b[0m\u001b[0;34m.\u001b[0m\u001b[0m_get_op_def\u001b[0m\u001b[0;34m(\u001b[0m\u001b[0mnode_def\u001b[0m\u001b[0;34m.\u001b[0m\u001b[0mop\u001b[0m\u001b[0;34m)\u001b[0m\u001b[0;34m\u001b[0m\u001b[0;34m\u001b[0m\u001b[0m\n\u001b[1;32m   2171\u001b[0m       self._c_op = _create_c_op(self._graph, node_def, inputs,\n\u001b[0;32m-> 2172\u001b[0;31m                                 control_input_ops, op_def)\n\u001b[0m\u001b[1;32m   2173\u001b[0m       \u001b[0mname\u001b[0m \u001b[0;34m=\u001b[0m \u001b[0mcompat\u001b[0m\u001b[0;34m.\u001b[0m\u001b[0mas_str\u001b[0m\u001b[0;34m(\u001b[0m\u001b[0mnode_def\u001b[0m\u001b[0;34m.\u001b[0m\u001b[0mname\u001b[0m\u001b[0;34m)\u001b[0m\u001b[0;34m\u001b[0m\u001b[0;34m\u001b[0m\u001b[0m\n\u001b[1;32m   2174\u001b[0m \u001b[0;34m\u001b[0m\u001b[0m\n",
            "\u001b[0;32m/usr/local/lib/python3.7/dist-packages/tensorflow/python/util/traceback_utils.py\u001b[0m in \u001b[0;36merror_handler\u001b[0;34m(*args, **kwargs)\u001b[0m\n\u001b[1;32m    148\u001b[0m     \u001b[0mfiltered_tb\u001b[0m \u001b[0;34m=\u001b[0m \u001b[0;32mNone\u001b[0m\u001b[0;34m\u001b[0m\u001b[0;34m\u001b[0m\u001b[0m\n\u001b[1;32m    149\u001b[0m     \u001b[0;32mtry\u001b[0m\u001b[0;34m:\u001b[0m\u001b[0;34m\u001b[0m\u001b[0;34m\u001b[0m\u001b[0m\n\u001b[0;32m--> 150\u001b[0;31m       \u001b[0;32mreturn\u001b[0m \u001b[0mfn\u001b[0m\u001b[0;34m(\u001b[0m\u001b[0;34m*\u001b[0m\u001b[0margs\u001b[0m\u001b[0;34m,\u001b[0m \u001b[0;34m**\u001b[0m\u001b[0mkwargs\u001b[0m\u001b[0;34m)\u001b[0m\u001b[0;34m\u001b[0m\u001b[0;34m\u001b[0m\u001b[0m\n\u001b[0m\u001b[1;32m    151\u001b[0m     \u001b[0;32mexcept\u001b[0m \u001b[0mException\u001b[0m \u001b[0;32mas\u001b[0m \u001b[0me\u001b[0m\u001b[0;34m:\u001b[0m\u001b[0;34m\u001b[0m\u001b[0;34m\u001b[0m\u001b[0m\n\u001b[1;32m    152\u001b[0m       \u001b[0mfiltered_tb\u001b[0m \u001b[0;34m=\u001b[0m \u001b[0m_process_traceback_frames\u001b[0m\u001b[0;34m(\u001b[0m\u001b[0me\u001b[0m\u001b[0;34m.\u001b[0m\u001b[0m__traceback__\u001b[0m\u001b[0;34m)\u001b[0m\u001b[0;34m\u001b[0m\u001b[0;34m\u001b[0m\u001b[0m\n",
            "\u001b[0;32m/usr/local/lib/python3.7/dist-packages/tensorflow/python/framework/ops.py\u001b[0m in \u001b[0;36m_create_c_op\u001b[0;34m(graph, node_def, inputs, control_inputs, op_def)\u001b[0m\n\u001b[1;32m   2008\u001b[0m \u001b[0;34m\u001b[0m\u001b[0m\n\u001b[1;32m   2009\u001b[0m   \u001b[0;32mtry\u001b[0m\u001b[0;34m:\u001b[0m\u001b[0;34m\u001b[0m\u001b[0;34m\u001b[0m\u001b[0m\n\u001b[0;32m-> 2010\u001b[0;31m     \u001b[0mc_op\u001b[0m \u001b[0;34m=\u001b[0m \u001b[0mpywrap_tf_session\u001b[0m\u001b[0;34m.\u001b[0m\u001b[0mTF_FinishOperation\u001b[0m\u001b[0;34m(\u001b[0m\u001b[0mop_desc\u001b[0m\u001b[0;34m)\u001b[0m\u001b[0;34m\u001b[0m\u001b[0;34m\u001b[0m\u001b[0m\n\u001b[0m\u001b[1;32m   2011\u001b[0m   \u001b[0;32mexcept\u001b[0m \u001b[0merrors\u001b[0m\u001b[0;34m.\u001b[0m\u001b[0mInvalidArgumentError\u001b[0m \u001b[0;32mas\u001b[0m \u001b[0me\u001b[0m\u001b[0;34m:\u001b[0m\u001b[0;34m\u001b[0m\u001b[0;34m\u001b[0m\u001b[0m\n\u001b[1;32m   2012\u001b[0m     \u001b[0;31m# Convert to ValueError for backwards compatibility.\u001b[0m\u001b[0;34m\u001b[0m\u001b[0;34m\u001b[0m\u001b[0;34m\u001b[0m\u001b[0m\n",
            "\u001b[0;31mKeyboardInterrupt\u001b[0m: "
          ]
        }
      ]
    },
    {
      "cell_type": "code",
      "source": [
        "!pip install neural-structured-learning"
      ],
      "metadata": {
        "colab": {
          "base_uri": "https://localhost:8080/"
        },
        "id": "1_wgeIcAhAAY",
        "outputId": "ccebb066-2d86-4241-a861-1ab187116b51"
      },
      "execution_count": 31,
      "outputs": [
        {
          "output_type": "stream",
          "name": "stdout",
          "text": [
            "Collecting neural-structured-learning\n",
            "  Downloading neural_structured_learning-1.3.1-py2.py3-none-any.whl (120 kB)\n",
            "\u001b[?25l\r\u001b[K     |██▊                             | 10 kB 25.5 MB/s eta 0:00:01\r\u001b[K     |█████▍                          | 20 kB 31.9 MB/s eta 0:00:01\r\u001b[K     |████████▏                       | 30 kB 34.6 MB/s eta 0:00:01\r\u001b[K     |██████████▉                     | 40 kB 37.7 MB/s eta 0:00:01\r\u001b[K     |█████████████▋                  | 51 kB 28.3 MB/s eta 0:00:01\r\u001b[K     |████████████████▎               | 61 kB 30.9 MB/s eta 0:00:01\r\u001b[K     |███████████████████             | 71 kB 32.7 MB/s eta 0:00:01\r\u001b[K     |█████████████████████▊          | 81 kB 28.7 MB/s eta 0:00:01\r\u001b[K     |████████████████████████▌       | 92 kB 29.8 MB/s eta 0:00:01\r\u001b[K     |███████████████████████████▏    | 102 kB 31.8 MB/s eta 0:00:01\r\u001b[K     |██████████████████████████████  | 112 kB 31.8 MB/s eta 0:00:01\r\u001b[K     |████████████████████████████████| 120 kB 31.8 MB/s \n",
            "\u001b[?25hRequirement already satisfied: scipy in /usr/local/lib/python3.7/dist-packages (from neural-structured-learning) (1.4.1)\n",
            "Requirement already satisfied: six in /usr/local/lib/python3.7/dist-packages (from neural-structured-learning) (1.15.0)\n",
            "Requirement already satisfied: attrs in /usr/local/lib/python3.7/dist-packages (from neural-structured-learning) (21.4.0)\n",
            "Requirement already satisfied: absl-py in /usr/local/lib/python3.7/dist-packages (from neural-structured-learning) (1.0.0)\n",
            "Requirement already satisfied: numpy>=1.13.3 in /usr/local/lib/python3.7/dist-packages (from scipy->neural-structured-learning) (1.21.5)\n",
            "Installing collected packages: neural-structured-learning\n",
            "Successfully installed neural-structured-learning-1.3.1\n"
          ]
        }
      ]
    },
    {
      "cell_type": "code",
      "source": [
        "import neural_structured_learning as nsl\n",
        "\n",
        "tf.keras.backend.clear_session()\n",
        "\n",
        "a_model = tf.keras.Sequential([\n",
        "    tf.keras.layers.Dense(64, input_dim=X.shape[1], activation='relu'),\n",
        "    tf.keras.layers.BatchNormalization(),\n",
        "    tf.keras.layers.Dropout(0.4),\n",
        "    tf.keras.layers.Dense(128, activation='relu'),\n",
        "    tf.keras.layers.BatchNormalization(),\n",
        "    tf.keras.layers.Dropout(0.4),    \n",
        "    tf.keras.layers.Dense(256, activation='relu'),\n",
        "    tf.keras.layers.Dropout(0.4),\n",
        "    tf.keras.layers.Dense(6, activation=tf.nn.softmax)\n",
        "])\n",
        "\n",
        "b_model = tf.keras.Sequential([\n",
        "    tf.keras.layers.Dense(200, input_dim=X.shape[1], activation='relu'),\n",
        "    tf.keras.layers.BatchNormalization(),\n",
        "    tf.keras.layers.Dropout(0.5),\n",
        "    tf.keras.layers.Dense(250, activation='relu'),\n",
        "    tf.keras.layers.BatchNormalization(),\n",
        "    tf.keras.layers.Dropout(0.5),    \n",
        "    # tf.keras.layers.Dense(, activation='relu'),\n",
        "    # tf.keras.layers.BatchNormalization(),\n",
        "    # tf.keras.layers.Dropout(0.4),    \n",
        "    tf.keras.layers.Dense(300, activation='relu'),\n",
        "    tf.keras.layers.Dropout(0.5),\n",
        "    tf.keras.layers.Dense(6, activation=tf.nn.softmax)\n",
        "])\n",
        "\n",
        "# # Wrap the model with adversarial regularization.\n",
        "adv_config = nsl.configs.make_adv_reg_config(multiplier=0.2, adv_step_size=0.05)\n",
        "adv_model = nsl.keras.AdversarialRegularization(b_model, adv_config=adv_config)\n",
        "\n",
        "adam = tf.keras.optimizers.Adam(learning_rate=0.0001)\n",
        "rms = tf.keras.optimizers.RMSprop(learning_rate=0.0001)\n",
        "\n",
        "# Compile, train, and evaluate.\n",
        "adv_model.compile(loss='sparse_categorical_crossentropy', \n",
        "                optimizer=rms, \n",
        "                metrics=['accuracy'])\n",
        "\n",
        "batch_size = 32\n",
        "\n",
        "X_train_tensor = tf.convert_to_tensor(X_scaled, dtype=tf.float64)\n",
        "y_train_tensor = tf.convert_to_tensor(y_train, dtype=tf.float64)\n",
        "X_val_tensor = tf.convert_to_tensor(X_val_scaled, dtype=tf.float64)\n",
        "y_val_tensor = tf.convert_to_tensor(y_val, dtype=tf.float64)\n",
        "\n",
        "train_data = tf.data.Dataset.from_tensor_slices(\n",
        "    {'input': X_train_tensor, 'label': y_train_tensor}).batch(batch_size)\n",
        "val_data = tf.data.Dataset.from_tensor_slices(\n",
        "    {'input': X_val_tensor, 'label': y_val_tensor}).batch(batch_size)\n",
        "val_steps = X_val.shape[0] / batch_size\n",
        "\n",
        "history = adv_model.fit(train_data, batch_size=batch_size, epochs=100, validation_data=val_data)\n",
        "#model.evaluate(X_test, y_test)"
      ],
      "metadata": {
        "colab": {
          "base_uri": "https://localhost:8080/"
        },
        "id": "ACXehHf6hC2U",
        "outputId": "094cf3c6-f69b-46c0-c931-5783cd799d89"
      },
      "execution_count": 32,
      "outputs": [
        {
          "output_type": "stream",
          "name": "stdout",
          "text": [
            "Epoch 1/100\n",
            "WARNING:tensorflow:AutoGraph could not transform <bound method Socket.send of <zmq.Socket(zmq.PUSH) at 0x7fb02bf61c20>> and will run it as-is.\n",
            "Please report this to the TensorFlow team. When filing the bug, set the verbosity to 10 (on Linux, `export AUTOGRAPH_VERBOSITY=10`) and attach the full output.\n",
            "Cause: module, class, method, function, traceback, frame, or code object was expected, got cython_function_or_method\n",
            "To silence this warning, decorate the function with @tf.autograph.experimental.do_not_convert\n"
          ]
        },
        {
          "output_type": "stream",
          "name": "stderr",
          "text": [
            "WARNING:absl:Cannot perturb features dict_keys(['label'])\n",
            "WARNING:tensorflow:AutoGraph could not transform <bound method Socket.send of <zmq.Socket(zmq.PUSH) at 0x7fb02bf61c20>> and will run it as-is.\n",
            "Please report this to the TensorFlow team. When filing the bug, set the verbosity to 10 (on Linux, `export AUTOGRAPH_VERBOSITY=10`) and attach the full output.\n",
            "Cause: module, class, method, function, traceback, frame, or code object was expected, got cython_function_or_method\n",
            "To silence this warning, decorate the function with @tf.autograph.experimental.do_not_convert\n"
          ]
        },
        {
          "output_type": "stream",
          "name": "stdout",
          "text": [
            "WARNING: AutoGraph could not transform <bound method Socket.send of <zmq.Socket(zmq.PUSH) at 0x7fb02bf61c20>> and will run it as-is.\n",
            "Please report this to the TensorFlow team. When filing the bug, set the verbosity to 10 (on Linux, `export AUTOGRAPH_VERBOSITY=10`) and attach the full output.\n",
            "Cause: module, class, method, function, traceback, frame, or code object was expected, got cython_function_or_method\n",
            "To silence this warning, decorate the function with @tf.autograph.experimental.do_not_convert\n",
            "WARNING:tensorflow:AutoGraph could not transform <function wrap at 0x7fb03a409cb0> and will run it as-is.\n",
            "Cause: while/else statement not yet supported\n",
            "To silence this warning, decorate the function with @tf.autograph.experimental.do_not_convert\n"
          ]
        },
        {
          "output_type": "stream",
          "name": "stderr",
          "text": [
            "WARNING:tensorflow:AutoGraph could not transform <function wrap at 0x7fb03a409cb0> and will run it as-is.\n",
            "Cause: while/else statement not yet supported\n",
            "To silence this warning, decorate the function with @tf.autograph.experimental.do_not_convert\n"
          ]
        },
        {
          "output_type": "stream",
          "name": "stdout",
          "text": [
            "\r  1/213 [..............................] - ETA: 1:45:09 - loss: 3.4814 - sparse_categorical_crossentropy: 2.8390 - sparse_categorical_accuracy: 0.2500 - scaled_adversarial_loss: 0.6424WARNING: AutoGraph could not transform <function wrap at 0x7fb03a409cb0> and will run it as-is.\n",
            "Cause: while/else statement not yet supported\n",
            "To silence this warning, decorate the function with @tf.autograph.experimental.do_not_convert\n",
            "213/213 [==============================] - 50s 97ms/step - loss: 2.9636 - sparse_categorical_crossentropy: 2.4661 - sparse_categorical_accuracy: 0.2152 - scaled_adversarial_loss: 0.4975 - val_loss: 1.8956 - val_sparse_categorical_crossentropy: 1.5724 - val_sparse_categorical_accuracy: 0.3472 - val_scaled_adversarial_loss: 0.3232\n",
            "Epoch 2/100\n",
            "213/213 [==============================] - 2s 10ms/step - loss: 2.5318 - sparse_categorical_crossentropy: 2.1108 - sparse_categorical_accuracy: 0.2681 - scaled_adversarial_loss: 0.4210 - val_loss: 1.7857 - val_sparse_categorical_crossentropy: 1.4814 - val_sparse_categorical_accuracy: 0.4046 - val_scaled_adversarial_loss: 0.3043\n",
            "Epoch 3/100\n",
            "213/213 [==============================] - 2s 10ms/step - loss: 2.3672 - sparse_categorical_crossentropy: 1.9746 - sparse_categorical_accuracy: 0.3043 - scaled_adversarial_loss: 0.3926 - val_loss: 1.7194 - val_sparse_categorical_crossentropy: 1.4267 - val_sparse_categorical_accuracy: 0.4324 - val_scaled_adversarial_loss: 0.2927\n",
            "Epoch 4/100\n",
            "213/213 [==============================] - 2s 10ms/step - loss: 2.2064 - sparse_categorical_crossentropy: 1.8364 - sparse_categorical_accuracy: 0.3447 - scaled_adversarial_loss: 0.3700 - val_loss: 1.6676 - val_sparse_categorical_crossentropy: 1.3839 - val_sparse_categorical_accuracy: 0.4633 - val_scaled_adversarial_loss: 0.2836\n",
            "Epoch 5/100\n",
            "213/213 [==============================] - 2s 9ms/step - loss: 2.1364 - sparse_categorical_crossentropy: 1.7776 - sparse_categorical_accuracy: 0.3422 - scaled_adversarial_loss: 0.3588 - val_loss: 1.6358 - val_sparse_categorical_crossentropy: 1.3578 - val_sparse_categorical_accuracy: 0.4761 - val_scaled_adversarial_loss: 0.2780\n",
            "Epoch 6/100\n",
            "213/213 [==============================] - 2s 10ms/step - loss: 2.0427 - sparse_categorical_crossentropy: 1.7064 - sparse_categorical_accuracy: 0.3660 - scaled_adversarial_loss: 0.3363 - val_loss: 1.6138 - val_sparse_categorical_crossentropy: 1.3397 - val_sparse_categorical_accuracy: 0.4894 - val_scaled_adversarial_loss: 0.2740\n",
            "Epoch 7/100\n",
            "213/213 [==============================] - 2s 10ms/step - loss: 1.9762 - sparse_categorical_crossentropy: 1.6445 - sparse_categorical_accuracy: 0.3780 - scaled_adversarial_loss: 0.3316 - val_loss: 1.5933 - val_sparse_categorical_crossentropy: 1.3230 - val_sparse_categorical_accuracy: 0.4938 - val_scaled_adversarial_loss: 0.2703\n",
            "Epoch 8/100\n",
            "213/213 [==============================] - 2s 10ms/step - loss: 1.9263 - sparse_categorical_crossentropy: 1.6027 - sparse_categorical_accuracy: 0.3911 - scaled_adversarial_loss: 0.3236 - val_loss: 1.5799 - val_sparse_categorical_crossentropy: 1.3120 - val_sparse_categorical_accuracy: 0.5000 - val_scaled_adversarial_loss: 0.2679\n",
            "Epoch 9/100\n",
            "213/213 [==============================] - 2s 10ms/step - loss: 1.8946 - sparse_categorical_crossentropy: 1.5793 - sparse_categorical_accuracy: 0.3986 - scaled_adversarial_loss: 0.3154 - val_loss: 1.5613 - val_sparse_categorical_crossentropy: 1.2968 - val_sparse_categorical_accuracy: 0.5053 - val_scaled_adversarial_loss: 0.2646\n",
            "Epoch 10/100\n",
            "213/213 [==============================] - 2s 10ms/step - loss: 1.8354 - sparse_categorical_crossentropy: 1.5269 - sparse_categorical_accuracy: 0.4099 - scaled_adversarial_loss: 0.3085 - val_loss: 1.5565 - val_sparse_categorical_crossentropy: 1.2930 - val_sparse_categorical_accuracy: 0.5093 - val_scaled_adversarial_loss: 0.2635\n",
            "Epoch 11/100\n",
            "213/213 [==============================] - 2s 10ms/step - loss: 1.8248 - sparse_categorical_crossentropy: 1.5224 - sparse_categorical_accuracy: 0.4152 - scaled_adversarial_loss: 0.3024 - val_loss: 1.5470 - val_sparse_categorical_crossentropy: 1.2852 - val_sparse_categorical_accuracy: 0.5128 - val_scaled_adversarial_loss: 0.2618\n",
            "Epoch 12/100\n",
            "213/213 [==============================] - 2s 10ms/step - loss: 1.7459 - sparse_categorical_crossentropy: 1.4481 - sparse_categorical_accuracy: 0.4333 - scaled_adversarial_loss: 0.2978 - val_loss: 1.5325 - val_sparse_categorical_crossentropy: 1.2732 - val_sparse_categorical_accuracy: 0.5177 - val_scaled_adversarial_loss: 0.2593\n",
            "Epoch 13/100\n",
            "213/213 [==============================] - 2s 10ms/step - loss: 1.7561 - sparse_categorical_crossentropy: 1.4644 - sparse_categorical_accuracy: 0.4222 - scaled_adversarial_loss: 0.2917 - val_loss: 1.5286 - val_sparse_categorical_crossentropy: 1.2701 - val_sparse_categorical_accuracy: 0.5133 - val_scaled_adversarial_loss: 0.2586\n",
            "Epoch 14/100\n",
            "213/213 [==============================] - 2s 10ms/step - loss: 1.7303 - sparse_categorical_crossentropy: 1.4375 - sparse_categorical_accuracy: 0.4344 - scaled_adversarial_loss: 0.2928 - val_loss: 1.5265 - val_sparse_categorical_crossentropy: 1.2684 - val_sparse_categorical_accuracy: 0.5177 - val_scaled_adversarial_loss: 0.2581\n",
            "Epoch 15/100\n",
            "213/213 [==============================] - 2s 10ms/step - loss: 1.7231 - sparse_categorical_crossentropy: 1.4356 - sparse_categorical_accuracy: 0.4332 - scaled_adversarial_loss: 0.2875 - val_loss: 1.5203 - val_sparse_categorical_crossentropy: 1.2633 - val_sparse_categorical_accuracy: 0.5150 - val_scaled_adversarial_loss: 0.2570\n",
            "Epoch 16/100\n",
            "213/213 [==============================] - 2s 10ms/step - loss: 1.6699 - sparse_categorical_crossentropy: 1.3903 - sparse_categorical_accuracy: 0.4568 - scaled_adversarial_loss: 0.2796 - val_loss: 1.5110 - val_sparse_categorical_crossentropy: 1.2556 - val_sparse_categorical_accuracy: 0.5252 - val_scaled_adversarial_loss: 0.2555\n",
            "Epoch 17/100\n",
            "213/213 [==============================] - 2s 10ms/step - loss: 1.6653 - sparse_categorical_crossentropy: 1.3876 - sparse_categorical_accuracy: 0.4521 - scaled_adversarial_loss: 0.2778 - val_loss: 1.5037 - val_sparse_categorical_crossentropy: 1.2494 - val_sparse_categorical_accuracy: 0.5283 - val_scaled_adversarial_loss: 0.2542\n",
            "Epoch 18/100\n",
            "213/213 [==============================] - 2s 10ms/step - loss: 1.6328 - sparse_categorical_crossentropy: 1.3587 - sparse_categorical_accuracy: 0.4630 - scaled_adversarial_loss: 0.2742 - val_loss: 1.4975 - val_sparse_categorical_crossentropy: 1.2444 - val_sparse_categorical_accuracy: 0.5314 - val_scaled_adversarial_loss: 0.2532\n",
            "Epoch 19/100\n",
            "213/213 [==============================] - 2s 10ms/step - loss: 1.6183 - sparse_categorical_crossentropy: 1.3481 - sparse_categorical_accuracy: 0.4680 - scaled_adversarial_loss: 0.2701 - val_loss: 1.4922 - val_sparse_categorical_crossentropy: 1.2398 - val_sparse_categorical_accuracy: 0.5261 - val_scaled_adversarial_loss: 0.2523\n",
            "Epoch 20/100\n",
            "213/213 [==============================] - 2s 10ms/step - loss: 1.5875 - sparse_categorical_crossentropy: 1.3207 - sparse_categorical_accuracy: 0.4727 - scaled_adversarial_loss: 0.2668 - val_loss: 1.4837 - val_sparse_categorical_crossentropy: 1.2327 - val_sparse_categorical_accuracy: 0.5256 - val_scaled_adversarial_loss: 0.2509\n",
            "Epoch 21/100\n",
            "213/213 [==============================] - 2s 10ms/step - loss: 1.5705 - sparse_categorical_crossentropy: 1.3053 - sparse_categorical_accuracy: 0.4803 - scaled_adversarial_loss: 0.2652 - val_loss: 1.4759 - val_sparse_categorical_crossentropy: 1.2262 - val_sparse_categorical_accuracy: 0.5287 - val_scaled_adversarial_loss: 0.2497\n",
            "Epoch 22/100\n",
            "213/213 [==============================] - 2s 9ms/step - loss: 1.5716 - sparse_categorical_crossentropy: 1.3071 - sparse_categorical_accuracy: 0.4740 - scaled_adversarial_loss: 0.2645 - val_loss: 1.4740 - val_sparse_categorical_crossentropy: 1.2247 - val_sparse_categorical_accuracy: 0.5287 - val_scaled_adversarial_loss: 0.2493\n",
            "Epoch 23/100\n",
            "213/213 [==============================] - 2s 10ms/step - loss: 1.5534 - sparse_categorical_crossentropy: 1.2915 - sparse_categorical_accuracy: 0.4739 - scaled_adversarial_loss: 0.2619 - val_loss: 1.4693 - val_sparse_categorical_crossentropy: 1.2207 - val_sparse_categorical_accuracy: 0.5336 - val_scaled_adversarial_loss: 0.2486\n",
            "Epoch 24/100\n",
            "213/213 [==============================] - 2s 10ms/step - loss: 1.5462 - sparse_categorical_crossentropy: 1.2879 - sparse_categorical_accuracy: 0.4923 - scaled_adversarial_loss: 0.2583 - val_loss: 1.4667 - val_sparse_categorical_crossentropy: 1.2185 - val_sparse_categorical_accuracy: 0.5318 - val_scaled_adversarial_loss: 0.2482\n",
            "Epoch 25/100\n",
            "213/213 [==============================] - 2s 10ms/step - loss: 1.5186 - sparse_categorical_crossentropy: 1.2600 - sparse_categorical_accuracy: 0.4926 - scaled_adversarial_loss: 0.2586 - val_loss: 1.4632 - val_sparse_categorical_crossentropy: 1.2156 - val_sparse_categorical_accuracy: 0.5340 - val_scaled_adversarial_loss: 0.2476\n",
            "Epoch 26/100\n",
            "213/213 [==============================] - 2s 10ms/step - loss: 1.5128 - sparse_categorical_crossentropy: 1.2575 - sparse_categorical_accuracy: 0.4884 - scaled_adversarial_loss: 0.2553 - val_loss: 1.4605 - val_sparse_categorical_crossentropy: 1.2133 - val_sparse_categorical_accuracy: 0.5384 - val_scaled_adversarial_loss: 0.2472\n",
            "Epoch 27/100\n",
            "213/213 [==============================] - 2s 10ms/step - loss: 1.5081 - sparse_categorical_crossentropy: 1.2528 - sparse_categorical_accuracy: 0.4962 - scaled_adversarial_loss: 0.2553 - val_loss: 1.4591 - val_sparse_categorical_crossentropy: 1.2121 - val_sparse_categorical_accuracy: 0.5336 - val_scaled_adversarial_loss: 0.2470\n",
            "Epoch 28/100\n",
            "213/213 [==============================] - 2s 10ms/step - loss: 1.5049 - sparse_categorical_crossentropy: 1.2517 - sparse_categorical_accuracy: 0.4942 - scaled_adversarial_loss: 0.2532 - val_loss: 1.4546 - val_sparse_categorical_crossentropy: 1.2083 - val_sparse_categorical_accuracy: 0.5375 - val_scaled_adversarial_loss: 0.2462\n",
            "Epoch 29/100\n",
            "213/213 [==============================] - 2s 9ms/step - loss: 1.4887 - sparse_categorical_crossentropy: 1.2370 - sparse_categorical_accuracy: 0.5070 - scaled_adversarial_loss: 0.2517 - val_loss: 1.4514 - val_sparse_categorical_crossentropy: 1.2056 - val_sparse_categorical_accuracy: 0.5393 - val_scaled_adversarial_loss: 0.2458\n",
            "Epoch 30/100\n",
            "213/213 [==============================] - 2s 10ms/step - loss: 1.4776 - sparse_categorical_crossentropy: 1.2267 - sparse_categorical_accuracy: 0.5021 - scaled_adversarial_loss: 0.2509 - val_loss: 1.4463 - val_sparse_categorical_crossentropy: 1.2013 - val_sparse_categorical_accuracy: 0.5420 - val_scaled_adversarial_loss: 0.2450\n",
            "Epoch 31/100\n",
            "213/213 [==============================] - 2s 10ms/step - loss: 1.4691 - sparse_categorical_crossentropy: 1.2197 - sparse_categorical_accuracy: 0.5039 - scaled_adversarial_loss: 0.2494 - val_loss: 1.4430 - val_sparse_categorical_crossentropy: 1.1986 - val_sparse_categorical_accuracy: 0.5437 - val_scaled_adversarial_loss: 0.2445\n",
            "Epoch 32/100\n",
            "213/213 [==============================] - 2s 11ms/step - loss: 1.4460 - sparse_categorical_crossentropy: 1.2010 - sparse_categorical_accuracy: 0.5158 - scaled_adversarial_loss: 0.2450 - val_loss: 1.4442 - val_sparse_categorical_crossentropy: 1.1995 - val_sparse_categorical_accuracy: 0.5473 - val_scaled_adversarial_loss: 0.2447\n",
            "Epoch 33/100\n",
            "213/213 [==============================] - 2s 10ms/step - loss: 1.4547 - sparse_categorical_crossentropy: 1.2094 - sparse_categorical_accuracy: 0.5151 - scaled_adversarial_loss: 0.2452 - val_loss: 1.4412 - val_sparse_categorical_crossentropy: 1.1970 - val_sparse_categorical_accuracy: 0.5459 - val_scaled_adversarial_loss: 0.2441\n",
            "Epoch 34/100\n",
            "213/213 [==============================] - 2s 10ms/step - loss: 1.4535 - sparse_categorical_crossentropy: 1.2069 - sparse_categorical_accuracy: 0.5122 - scaled_adversarial_loss: 0.2467 - val_loss: 1.4365 - val_sparse_categorical_crossentropy: 1.1931 - val_sparse_categorical_accuracy: 0.5428 - val_scaled_adversarial_loss: 0.2434\n",
            "Epoch 35/100\n",
            "213/213 [==============================] - 2s 10ms/step - loss: 1.4308 - sparse_categorical_crossentropy: 1.1873 - sparse_categorical_accuracy: 0.5177 - scaled_adversarial_loss: 0.2435 - val_loss: 1.4323 - val_sparse_categorical_crossentropy: 1.1896 - val_sparse_categorical_accuracy: 0.5446 - val_scaled_adversarial_loss: 0.2428\n",
            "Epoch 36/100\n",
            "213/213 [==============================] - 2s 10ms/step - loss: 1.4243 - sparse_categorical_crossentropy: 1.1835 - sparse_categorical_accuracy: 0.5247 - scaled_adversarial_loss: 0.2408 - val_loss: 1.4301 - val_sparse_categorical_crossentropy: 1.1877 - val_sparse_categorical_accuracy: 0.5437 - val_scaled_adversarial_loss: 0.2424\n",
            "Epoch 37/100\n",
            "213/213 [==============================] - 2s 10ms/step - loss: 1.4277 - sparse_categorical_crossentropy: 1.1852 - sparse_categorical_accuracy: 0.5198 - scaled_adversarial_loss: 0.2426 - val_loss: 1.4321 - val_sparse_categorical_crossentropy: 1.1893 - val_sparse_categorical_accuracy: 0.5495 - val_scaled_adversarial_loss: 0.2428\n",
            "Epoch 38/100\n",
            "213/213 [==============================] - 2s 10ms/step - loss: 1.4141 - sparse_categorical_crossentropy: 1.1733 - sparse_categorical_accuracy: 0.5281 - scaled_adversarial_loss: 0.2408 - val_loss: 1.4274 - val_sparse_categorical_crossentropy: 1.1854 - val_sparse_categorical_accuracy: 0.5504 - val_scaled_adversarial_loss: 0.2420\n",
            "Epoch 39/100\n",
            "213/213 [==============================] - 2s 10ms/step - loss: 1.4120 - sparse_categorical_crossentropy: 1.1739 - sparse_categorical_accuracy: 0.5226 - scaled_adversarial_loss: 0.2381 - val_loss: 1.4257 - val_sparse_categorical_crossentropy: 1.1840 - val_sparse_categorical_accuracy: 0.5521 - val_scaled_adversarial_loss: 0.2418\n",
            "Epoch 40/100\n",
            "213/213 [==============================] - 2s 10ms/step - loss: 1.4051 - sparse_categorical_crossentropy: 1.1669 - sparse_categorical_accuracy: 0.5313 - scaled_adversarial_loss: 0.2381 - val_loss: 1.4253 - val_sparse_categorical_crossentropy: 1.1836 - val_sparse_categorical_accuracy: 0.5428 - val_scaled_adversarial_loss: 0.2418\n",
            "Epoch 41/100\n",
            "213/213 [==============================] - 2s 10ms/step - loss: 1.3930 - sparse_categorical_crossentropy: 1.1556 - sparse_categorical_accuracy: 0.5357 - scaled_adversarial_loss: 0.2374 - val_loss: 1.4212 - val_sparse_categorical_crossentropy: 1.1801 - val_sparse_categorical_accuracy: 0.5504 - val_scaled_adversarial_loss: 0.2411\n",
            "Epoch 42/100\n",
            "213/213 [==============================] - 2s 10ms/step - loss: 1.3920 - sparse_categorical_crossentropy: 1.1568 - sparse_categorical_accuracy: 0.5350 - scaled_adversarial_loss: 0.2352 - val_loss: 1.4200 - val_sparse_categorical_crossentropy: 1.1791 - val_sparse_categorical_accuracy: 0.5495 - val_scaled_adversarial_loss: 0.2410\n",
            "Epoch 43/100\n",
            "213/213 [==============================] - 2s 10ms/step - loss: 1.3863 - sparse_categorical_crossentropy: 1.1535 - sparse_categorical_accuracy: 0.5359 - scaled_adversarial_loss: 0.2328 - val_loss: 1.4169 - val_sparse_categorical_crossentropy: 1.1764 - val_sparse_categorical_accuracy: 0.5508 - val_scaled_adversarial_loss: 0.2405\n",
            "Epoch 44/100\n",
            "213/213 [==============================] - 2s 10ms/step - loss: 1.3882 - sparse_categorical_crossentropy: 1.1532 - sparse_categorical_accuracy: 0.5319 - scaled_adversarial_loss: 0.2350 - val_loss: 1.4138 - val_sparse_categorical_crossentropy: 1.1738 - val_sparse_categorical_accuracy: 0.5552 - val_scaled_adversarial_loss: 0.2400\n",
            "Epoch 45/100\n",
            "213/213 [==============================] - 2s 10ms/step - loss: 1.3690 - sparse_categorical_crossentropy: 1.1367 - sparse_categorical_accuracy: 0.5319 - scaled_adversarial_loss: 0.2323 - val_loss: 1.4119 - val_sparse_categorical_crossentropy: 1.1722 - val_sparse_categorical_accuracy: 0.5490 - val_scaled_adversarial_loss: 0.2397\n",
            "Epoch 46/100\n",
            "213/213 [==============================] - 2s 10ms/step - loss: 1.3721 - sparse_categorical_crossentropy: 1.1391 - sparse_categorical_accuracy: 0.5393 - scaled_adversarial_loss: 0.2330 - val_loss: 1.4096 - val_sparse_categorical_crossentropy: 1.1702 - val_sparse_categorical_accuracy: 0.5521 - val_scaled_adversarial_loss: 0.2394\n",
            "Epoch 47/100\n",
            "213/213 [==============================] - 2s 10ms/step - loss: 1.3682 - sparse_categorical_crossentropy: 1.1374 - sparse_categorical_accuracy: 0.5398 - scaled_adversarial_loss: 0.2308 - val_loss: 1.4047 - val_sparse_categorical_crossentropy: 1.1661 - val_sparse_categorical_accuracy: 0.5534 - val_scaled_adversarial_loss: 0.2387\n",
            "Epoch 48/100\n",
            "213/213 [==============================] - 2s 10ms/step - loss: 1.3676 - sparse_categorical_crossentropy: 1.1366 - sparse_categorical_accuracy: 0.5490 - scaled_adversarial_loss: 0.2310 - val_loss: 1.4078 - val_sparse_categorical_crossentropy: 1.1687 - val_sparse_categorical_accuracy: 0.5477 - val_scaled_adversarial_loss: 0.2391\n",
            "Epoch 49/100\n",
            "213/213 [==============================] - 2s 10ms/step - loss: 1.3685 - sparse_categorical_crossentropy: 1.1406 - sparse_categorical_accuracy: 0.5353 - scaled_adversarial_loss: 0.2279 - val_loss: 1.4055 - val_sparse_categorical_crossentropy: 1.1667 - val_sparse_categorical_accuracy: 0.5530 - val_scaled_adversarial_loss: 0.2388\n",
            "Epoch 50/100\n",
            "213/213 [==============================] - 2s 10ms/step - loss: 1.3654 - sparse_categorical_crossentropy: 1.1352 - sparse_categorical_accuracy: 0.5453 - scaled_adversarial_loss: 0.2303 - val_loss: 1.4031 - val_sparse_categorical_crossentropy: 1.1647 - val_sparse_categorical_accuracy: 0.5539 - val_scaled_adversarial_loss: 0.2384\n",
            "Epoch 51/100\n",
            "213/213 [==============================] - 2s 10ms/step - loss: 1.3583 - sparse_categorical_crossentropy: 1.1294 - sparse_categorical_accuracy: 0.5484 - scaled_adversarial_loss: 0.2290 - val_loss: 1.4002 - val_sparse_categorical_crossentropy: 1.1622 - val_sparse_categorical_accuracy: 0.5526 - val_scaled_adversarial_loss: 0.2380\n",
            "Epoch 52/100\n",
            "213/213 [==============================] - 2s 10ms/step - loss: 1.3402 - sparse_categorical_crossentropy: 1.1093 - sparse_categorical_accuracy: 0.5558 - scaled_adversarial_loss: 0.2309 - val_loss: 1.3972 - val_sparse_categorical_crossentropy: 1.1596 - val_sparse_categorical_accuracy: 0.5508 - val_scaled_adversarial_loss: 0.2376\n",
            "Epoch 53/100\n",
            "213/213 [==============================] - 2s 10ms/step - loss: 1.3411 - sparse_categorical_crossentropy: 1.1139 - sparse_categorical_accuracy: 0.5549 - scaled_adversarial_loss: 0.2273 - val_loss: 1.3986 - val_sparse_categorical_crossentropy: 1.1607 - val_sparse_categorical_accuracy: 0.5552 - val_scaled_adversarial_loss: 0.2379\n",
            "Epoch 54/100\n",
            "213/213 [==============================] - 2s 10ms/step - loss: 1.3296 - sparse_categorical_crossentropy: 1.1044 - sparse_categorical_accuracy: 0.5541 - scaled_adversarial_loss: 0.2252 - val_loss: 1.3952 - val_sparse_categorical_crossentropy: 1.1578 - val_sparse_categorical_accuracy: 0.5543 - val_scaled_adversarial_loss: 0.2374\n",
            "Epoch 55/100\n",
            "213/213 [==============================] - 2s 9ms/step - loss: 1.3350 - sparse_categorical_crossentropy: 1.1066 - sparse_categorical_accuracy: 0.5530 - scaled_adversarial_loss: 0.2284 - val_loss: 1.3989 - val_sparse_categorical_crossentropy: 1.1609 - val_sparse_categorical_accuracy: 0.5574 - val_scaled_adversarial_loss: 0.2379\n",
            "Epoch 56/100\n",
            "213/213 [==============================] - 2s 10ms/step - loss: 1.3291 - sparse_categorical_crossentropy: 1.1043 - sparse_categorical_accuracy: 0.5586 - scaled_adversarial_loss: 0.2248 - val_loss: 1.3994 - val_sparse_categorical_crossentropy: 1.1612 - val_sparse_categorical_accuracy: 0.5530 - val_scaled_adversarial_loss: 0.2382\n",
            "Epoch 57/100\n",
            "213/213 [==============================] - 2s 10ms/step - loss: 1.3189 - sparse_categorical_crossentropy: 1.0933 - sparse_categorical_accuracy: 0.5555 - scaled_adversarial_loss: 0.2256 - val_loss: 1.3935 - val_sparse_categorical_crossentropy: 1.1564 - val_sparse_categorical_accuracy: 0.5521 - val_scaled_adversarial_loss: 0.2372\n",
            "Epoch 58/100\n",
            "213/213 [==============================] - 2s 10ms/step - loss: 1.3237 - sparse_categorical_crossentropy: 1.0987 - sparse_categorical_accuracy: 0.5558 - scaled_adversarial_loss: 0.2250 - val_loss: 1.3887 - val_sparse_categorical_crossentropy: 1.1523 - val_sparse_categorical_accuracy: 0.5579 - val_scaled_adversarial_loss: 0.2364\n",
            "Epoch 59/100\n",
            "213/213 [==============================] - 2s 10ms/step - loss: 1.3155 - sparse_categorical_crossentropy: 1.0924 - sparse_categorical_accuracy: 0.5602 - scaled_adversarial_loss: 0.2232 - val_loss: 1.3911 - val_sparse_categorical_crossentropy: 1.1544 - val_sparse_categorical_accuracy: 0.5552 - val_scaled_adversarial_loss: 0.2368\n",
            "Epoch 60/100\n",
            "213/213 [==============================] - 2s 10ms/step - loss: 1.3011 - sparse_categorical_crossentropy: 1.0792 - sparse_categorical_accuracy: 0.5652 - scaled_adversarial_loss: 0.2220 - val_loss: 1.3880 - val_sparse_categorical_crossentropy: 1.1516 - val_sparse_categorical_accuracy: 0.5592 - val_scaled_adversarial_loss: 0.2364\n",
            "Epoch 61/100\n",
            "213/213 [==============================] - 2s 10ms/step - loss: 1.3116 - sparse_categorical_crossentropy: 1.0879 - sparse_categorical_accuracy: 0.5618 - scaled_adversarial_loss: 0.2237 - val_loss: 1.3874 - val_sparse_categorical_crossentropy: 1.1511 - val_sparse_categorical_accuracy: 0.5557 - val_scaled_adversarial_loss: 0.2363\n",
            "Epoch 62/100\n",
            "213/213 [==============================] - 2s 10ms/step - loss: 1.3002 - sparse_categorical_crossentropy: 1.0788 - sparse_categorical_accuracy: 0.5599 - scaled_adversarial_loss: 0.2214 - val_loss: 1.3841 - val_sparse_categorical_crossentropy: 1.1482 - val_sparse_categorical_accuracy: 0.5570 - val_scaled_adversarial_loss: 0.2359\n",
            "Epoch 63/100\n",
            "213/213 [==============================] - 4s 17ms/step - loss: 1.3007 - sparse_categorical_crossentropy: 1.0808 - sparse_categorical_accuracy: 0.5621 - scaled_adversarial_loss: 0.2199 - val_loss: 1.3859 - val_sparse_categorical_crossentropy: 1.1497 - val_sparse_categorical_accuracy: 0.5654 - val_scaled_adversarial_loss: 0.2362\n",
            "Epoch 64/100\n",
            "213/213 [==============================] - 2s 10ms/step - loss: 1.2967 - sparse_categorical_crossentropy: 1.0774 - sparse_categorical_accuracy: 0.5590 - scaled_adversarial_loss: 0.2193 - val_loss: 1.3839 - val_sparse_categorical_crossentropy: 1.1482 - val_sparse_categorical_accuracy: 0.5614 - val_scaled_adversarial_loss: 0.2358\n",
            "Epoch 65/100\n",
            "213/213 [==============================] - 2s 10ms/step - loss: 1.2968 - sparse_categorical_crossentropy: 1.0757 - sparse_categorical_accuracy: 0.5671 - scaled_adversarial_loss: 0.2211 - val_loss: 1.3827 - val_sparse_categorical_crossentropy: 1.1470 - val_sparse_categorical_accuracy: 0.5632 - val_scaled_adversarial_loss: 0.2356\n",
            "Epoch 66/100\n",
            "213/213 [==============================] - 2s 10ms/step - loss: 1.2834 - sparse_categorical_crossentropy: 1.0645 - sparse_categorical_accuracy: 0.5708 - scaled_adversarial_loss: 0.2189 - val_loss: 1.3805 - val_sparse_categorical_crossentropy: 1.1452 - val_sparse_categorical_accuracy: 0.5610 - val_scaled_adversarial_loss: 0.2353\n",
            "Epoch 67/100\n",
            "213/213 [==============================] - 2s 10ms/step - loss: 1.2837 - sparse_categorical_crossentropy: 1.0644 - sparse_categorical_accuracy: 0.5720 - scaled_adversarial_loss: 0.2194 - val_loss: 1.3796 - val_sparse_categorical_crossentropy: 1.1443 - val_sparse_categorical_accuracy: 0.5601 - val_scaled_adversarial_loss: 0.2352\n",
            "Epoch 68/100\n",
            "213/213 [==============================] - 2s 10ms/step - loss: 1.2805 - sparse_categorical_crossentropy: 1.0633 - sparse_categorical_accuracy: 0.5739 - scaled_adversarial_loss: 0.2172 - val_loss: 1.3793 - val_sparse_categorical_crossentropy: 1.1440 - val_sparse_categorical_accuracy: 0.5654 - val_scaled_adversarial_loss: 0.2353\n",
            "Epoch 69/100\n",
            "213/213 [==============================] - 2s 10ms/step - loss: 1.2748 - sparse_categorical_crossentropy: 1.0557 - sparse_categorical_accuracy: 0.5675 - scaled_adversarial_loss: 0.2192 - val_loss: 1.3778 - val_sparse_categorical_crossentropy: 1.1427 - val_sparse_categorical_accuracy: 0.5583 - val_scaled_adversarial_loss: 0.2351\n",
            "Epoch 70/100\n",
            "213/213 [==============================] - 2s 10ms/step - loss: 1.2725 - sparse_categorical_crossentropy: 1.0530 - sparse_categorical_accuracy: 0.5777 - scaled_adversarial_loss: 0.2195 - val_loss: 1.3768 - val_sparse_categorical_crossentropy: 1.1418 - val_sparse_categorical_accuracy: 0.5632 - val_scaled_adversarial_loss: 0.2350\n",
            "Epoch 71/100\n",
            "213/213 [==============================] - 2s 10ms/step - loss: 1.2694 - sparse_categorical_crossentropy: 1.0513 - sparse_categorical_accuracy: 0.5784 - scaled_adversarial_loss: 0.2181 - val_loss: 1.3777 - val_sparse_categorical_crossentropy: 1.1425 - val_sparse_categorical_accuracy: 0.5649 - val_scaled_adversarial_loss: 0.2351\n",
            "Epoch 72/100\n",
            "213/213 [==============================] - 2s 10ms/step - loss: 1.2819 - sparse_categorical_crossentropy: 1.0655 - sparse_categorical_accuracy: 0.5722 - scaled_adversarial_loss: 0.2164 - val_loss: 1.3751 - val_sparse_categorical_crossentropy: 1.1404 - val_sparse_categorical_accuracy: 0.5618 - val_scaled_adversarial_loss: 0.2347\n",
            "Epoch 73/100\n",
            "213/213 [==============================] - 2s 10ms/step - loss: 1.2609 - sparse_categorical_crossentropy: 1.0443 - sparse_categorical_accuracy: 0.5867 - scaled_adversarial_loss: 0.2166 - val_loss: 1.3764 - val_sparse_categorical_crossentropy: 1.1414 - val_sparse_categorical_accuracy: 0.5618 - val_scaled_adversarial_loss: 0.2351\n",
            "Epoch 74/100\n",
            "213/213 [==============================] - 2s 10ms/step - loss: 1.2707 - sparse_categorical_crossentropy: 1.0547 - sparse_categorical_accuracy: 0.5718 - scaled_adversarial_loss: 0.2160 - val_loss: 1.3733 - val_sparse_categorical_crossentropy: 1.1387 - val_sparse_categorical_accuracy: 0.5583 - val_scaled_adversarial_loss: 0.2346\n",
            "Epoch 75/100\n",
            "213/213 [==============================] - 2s 10ms/step - loss: 1.2553 - sparse_categorical_crossentropy: 1.0361 - sparse_categorical_accuracy: 0.5796 - scaled_adversarial_loss: 0.2191 - val_loss: 1.3739 - val_sparse_categorical_crossentropy: 1.1392 - val_sparse_categorical_accuracy: 0.5605 - val_scaled_adversarial_loss: 0.2348\n",
            "Epoch 76/100\n",
            "213/213 [==============================] - 2s 10ms/step - loss: 1.2637 - sparse_categorical_crossentropy: 1.0494 - sparse_categorical_accuracy: 0.5792 - scaled_adversarial_loss: 0.2143 - val_loss: 1.3774 - val_sparse_categorical_crossentropy: 1.1421 - val_sparse_categorical_accuracy: 0.5636 - val_scaled_adversarial_loss: 0.2353\n",
            "Epoch 77/100\n",
            "213/213 [==============================] - 2s 10ms/step - loss: 1.2726 - sparse_categorical_crossentropy: 1.0558 - sparse_categorical_accuracy: 0.5725 - scaled_adversarial_loss: 0.2167 - val_loss: 1.3811 - val_sparse_categorical_crossentropy: 1.1453 - val_sparse_categorical_accuracy: 0.5587 - val_scaled_adversarial_loss: 0.2358\n",
            "Epoch 78/100\n",
            "213/213 [==============================] - 2s 10ms/step - loss: 1.2594 - sparse_categorical_crossentropy: 1.0459 - sparse_categorical_accuracy: 0.5831 - scaled_adversarial_loss: 0.2135 - val_loss: 1.3784 - val_sparse_categorical_crossentropy: 1.1430 - val_sparse_categorical_accuracy: 0.5570 - val_scaled_adversarial_loss: 0.2354\n",
            "Epoch 79/100\n",
            "213/213 [==============================] - 2s 10ms/step - loss: 1.2467 - sparse_categorical_crossentropy: 1.0349 - sparse_categorical_accuracy: 0.5833 - scaled_adversarial_loss: 0.2117 - val_loss: 1.3796 - val_sparse_categorical_crossentropy: 1.1439 - val_sparse_categorical_accuracy: 0.5614 - val_scaled_adversarial_loss: 0.2357\n",
            "Epoch 80/100\n",
            "213/213 [==============================] - 2s 10ms/step - loss: 1.2492 - sparse_categorical_crossentropy: 1.0351 - sparse_categorical_accuracy: 0.5808 - scaled_adversarial_loss: 0.2141 - val_loss: 1.3793 - val_sparse_categorical_crossentropy: 1.1437 - val_sparse_categorical_accuracy: 0.5610 - val_scaled_adversarial_loss: 0.2357\n",
            "Epoch 81/100\n",
            "213/213 [==============================] - 2s 10ms/step - loss: 1.2450 - sparse_categorical_crossentropy: 1.0302 - sparse_categorical_accuracy: 0.5913 - scaled_adversarial_loss: 0.2148 - val_loss: 1.3758 - val_sparse_categorical_crossentropy: 1.1406 - val_sparse_categorical_accuracy: 0.5605 - val_scaled_adversarial_loss: 0.2352\n",
            "Epoch 82/100\n",
            "213/213 [==============================] - 2s 10ms/step - loss: 1.2345 - sparse_categorical_crossentropy: 1.0245 - sparse_categorical_accuracy: 0.5880 - scaled_adversarial_loss: 0.2100 - val_loss: 1.3725 - val_sparse_categorical_crossentropy: 1.1378 - val_sparse_categorical_accuracy: 0.5640 - val_scaled_adversarial_loss: 0.2347\n",
            "Epoch 83/100\n",
            "213/213 [==============================] - 2s 10ms/step - loss: 1.2413 - sparse_categorical_crossentropy: 1.0264 - sparse_categorical_accuracy: 0.5868 - scaled_adversarial_loss: 0.2149 - val_loss: 1.3664 - val_sparse_categorical_crossentropy: 1.1326 - val_sparse_categorical_accuracy: 0.5614 - val_scaled_adversarial_loss: 0.2338\n",
            "Epoch 84/100\n",
            "213/213 [==============================] - 2s 10ms/step - loss: 1.2399 - sparse_categorical_crossentropy: 1.0284 - sparse_categorical_accuracy: 0.5848 - scaled_adversarial_loss: 0.2115 - val_loss: 1.3738 - val_sparse_categorical_crossentropy: 1.1388 - val_sparse_categorical_accuracy: 0.5579 - val_scaled_adversarial_loss: 0.2350\n",
            "Epoch 85/100\n",
            "213/213 [==============================] - 2s 10ms/step - loss: 1.2335 - sparse_categorical_crossentropy: 1.0238 - sparse_categorical_accuracy: 0.5882 - scaled_adversarial_loss: 0.2096 - val_loss: 1.3664 - val_sparse_categorical_crossentropy: 1.1326 - val_sparse_categorical_accuracy: 0.5605 - val_scaled_adversarial_loss: 0.2337\n",
            "Epoch 86/100\n",
            "213/213 [==============================] - 2s 10ms/step - loss: 1.2398 - sparse_categorical_crossentropy: 1.0284 - sparse_categorical_accuracy: 0.5867 - scaled_adversarial_loss: 0.2114 - val_loss: 1.3686 - val_sparse_categorical_crossentropy: 1.1346 - val_sparse_categorical_accuracy: 0.5570 - val_scaled_adversarial_loss: 0.2340\n",
            "Epoch 87/100\n",
            "213/213 [==============================] - 2s 10ms/step - loss: 1.2207 - sparse_categorical_crossentropy: 1.0102 - sparse_categorical_accuracy: 0.5867 - scaled_adversarial_loss: 0.2105 - val_loss: 1.3687 - val_sparse_categorical_crossentropy: 1.1346 - val_sparse_categorical_accuracy: 0.5627 - val_scaled_adversarial_loss: 0.2341\n",
            "Epoch 88/100\n",
            "213/213 [==============================] - 2s 10ms/step - loss: 1.2111 - sparse_categorical_crossentropy: 1.0009 - sparse_categorical_accuracy: 0.5927 - scaled_adversarial_loss: 0.2102 - val_loss: 1.3681 - val_sparse_categorical_crossentropy: 1.1340 - val_sparse_categorical_accuracy: 0.5658 - val_scaled_adversarial_loss: 0.2341\n",
            "Epoch 89/100\n",
            "213/213 [==============================] - 2s 10ms/step - loss: 1.2329 - sparse_categorical_crossentropy: 1.0220 - sparse_categorical_accuracy: 0.5896 - scaled_adversarial_loss: 0.2110 - val_loss: 1.3664 - val_sparse_categorical_crossentropy: 1.1325 - val_sparse_categorical_accuracy: 0.5658 - val_scaled_adversarial_loss: 0.2339\n",
            "Epoch 90/100\n",
            "213/213 [==============================] - 2s 11ms/step - loss: 1.2318 - sparse_categorical_crossentropy: 1.0239 - sparse_categorical_accuracy: 0.5940 - scaled_adversarial_loss: 0.2080 - val_loss: 1.3636 - val_sparse_categorical_crossentropy: 1.1303 - val_sparse_categorical_accuracy: 0.5667 - val_scaled_adversarial_loss: 0.2333\n",
            "Epoch 91/100\n",
            "213/213 [==============================] - 2s 11ms/step - loss: 1.2209 - sparse_categorical_crossentropy: 1.0130 - sparse_categorical_accuracy: 0.5966 - scaled_adversarial_loss: 0.2079 - val_loss: 1.3656 - val_sparse_categorical_crossentropy: 1.1317 - val_sparse_categorical_accuracy: 0.5649 - val_scaled_adversarial_loss: 0.2338\n",
            "Epoch 92/100\n",
            "213/213 [==============================] - 2s 10ms/step - loss: 1.2108 - sparse_categorical_crossentropy: 1.0038 - sparse_categorical_accuracy: 0.6001 - scaled_adversarial_loss: 0.2070 - val_loss: 1.3645 - val_sparse_categorical_crossentropy: 1.1307 - val_sparse_categorical_accuracy: 0.5627 - val_scaled_adversarial_loss: 0.2338\n",
            "Epoch 93/100\n",
            "213/213 [==============================] - 2s 10ms/step - loss: 1.2088 - sparse_categorical_crossentropy: 0.9994 - sparse_categorical_accuracy: 0.6019 - scaled_adversarial_loss: 0.2095 - val_loss: 1.3640 - val_sparse_categorical_crossentropy: 1.1302 - val_sparse_categorical_accuracy: 0.5623 - val_scaled_adversarial_loss: 0.2337\n",
            "Epoch 94/100\n",
            "213/213 [==============================] - 2s 10ms/step - loss: 1.2194 - sparse_categorical_crossentropy: 1.0094 - sparse_categorical_accuracy: 0.5932 - scaled_adversarial_loss: 0.2100 - val_loss: 1.3678 - val_sparse_categorical_crossentropy: 1.1334 - val_sparse_categorical_accuracy: 0.5605 - val_scaled_adversarial_loss: 0.2343\n",
            "Epoch 95/100\n",
            "213/213 [==============================] - 2s 10ms/step - loss: 1.2168 - sparse_categorical_crossentropy: 1.0081 - sparse_categorical_accuracy: 0.5954 - scaled_adversarial_loss: 0.2087 - val_loss: 1.3685 - val_sparse_categorical_crossentropy: 1.1342 - val_sparse_categorical_accuracy: 0.5693 - val_scaled_adversarial_loss: 0.2344\n",
            "Epoch 96/100\n",
            "213/213 [==============================] - 2s 10ms/step - loss: 1.2176 - sparse_categorical_crossentropy: 1.0108 - sparse_categorical_accuracy: 0.5902 - scaled_adversarial_loss: 0.2067 - val_loss: 1.3712 - val_sparse_categorical_crossentropy: 1.1363 - val_sparse_categorical_accuracy: 0.5698 - val_scaled_adversarial_loss: 0.2349\n",
            "Epoch 97/100\n",
            "213/213 [==============================] - 2s 10ms/step - loss: 1.2097 - sparse_categorical_crossentropy: 1.0011 - sparse_categorical_accuracy: 0.6032 - scaled_adversarial_loss: 0.2086 - val_loss: 1.3680 - val_sparse_categorical_crossentropy: 1.1336 - val_sparse_categorical_accuracy: 0.5654 - val_scaled_adversarial_loss: 0.2345\n",
            "Epoch 98/100\n",
            "213/213 [==============================] - 2s 10ms/step - loss: 1.2094 - sparse_categorical_crossentropy: 1.0031 - sparse_categorical_accuracy: 0.5991 - scaled_adversarial_loss: 0.2063 - val_loss: 1.3694 - val_sparse_categorical_crossentropy: 1.1348 - val_sparse_categorical_accuracy: 0.5685 - val_scaled_adversarial_loss: 0.2346\n",
            "Epoch 99/100\n",
            "213/213 [==============================] - 2s 10ms/step - loss: 1.1986 - sparse_categorical_crossentropy: 0.9939 - sparse_categorical_accuracy: 0.6010 - scaled_adversarial_loss: 0.2047 - val_loss: 1.3680 - val_sparse_categorical_crossentropy: 1.1335 - val_sparse_categorical_accuracy: 0.5676 - val_scaled_adversarial_loss: 0.2345\n",
            "Epoch 100/100\n",
            "213/213 [==============================] - 2s 10ms/step - loss: 1.1888 - sparse_categorical_crossentropy: 0.9826 - sparse_categorical_accuracy: 0.6077 - scaled_adversarial_loss: 0.2062 - val_loss: 1.3693 - val_sparse_categorical_crossentropy: 1.1344 - val_sparse_categorical_accuracy: 0.5623 - val_scaled_adversarial_loss: 0.2348\n"
          ]
        }
      ]
    },
    {
      "cell_type": "code",
      "source": [
        "plt.plot(history.history['sparse_categorical_accuracy'])\n",
        "plt.plot(history.history['val_sparse_categorical_accuracy'])\n",
        "plt.title('model accuracy')\n",
        "plt.ylabel('accuracy')\n",
        "plt.xlabel('epoch')\n",
        "plt.legend(['train', 'val'], loc='upper left')\n",
        "plt.show()"
      ],
      "metadata": {
        "id": "yqpMP3cAWbmu",
        "colab": {
          "base_uri": "https://localhost:8080/",
          "height": 295
        },
        "outputId": "1ec3b09c-1755-49f2-fa44-7c29554bf819"
      },
      "execution_count": null,
      "outputs": [
        {
          "output_type": "display_data",
          "data": {
            "text/plain": [
              "<Figure size 432x288 with 1 Axes>"
            ],
            "image/png": "[encoded data removed]"
          },
          "metadata": {
            "needs_background": "light"
          }
        }
      ]
    },
    {
      "cell_type": "code",
      "source": [
        "plt.plot(history.history['loss'])\n",
        "plt.plot(history.history['val_loss'])\n",
        "plt.title('model loss')\n",
        "plt.ylabel('loss')\n",
        "plt.xlabel('epoch')\n",
        "plt.legend(['train', 'val'], loc='upper left')\n",
        "plt.show()"
      ],
      "metadata": {
        "id": "WNZkd9XgWeWd",
        "colab": {
          "base_uri": "https://localhost:8080/",
          "height": 295
        },
        "outputId": "e0191ef5-757c-42a6-e206-7f0ec77040e9"
      },
      "execution_count": null,
      "outputs": [
        {
          "output_type": "display_data",
          "data": {
            "text/plain": [
              "<Figure size 432x288 with 1 Axes>"
            ],
            "image/png": "[encoded data removed]"
          },
          "metadata": {
            "needs_background": "light"
          }
        }
      ]
    },
    {
      "cell_type": "code",
      "source": [
        "#Create a Gaussian Classifier\n",
        "clf=RandomForestClassifier(criterion='entropy')\n",
        "\n",
        "#Train the model using the training sets y_pred=clf.predict(X_test)\n",
        "# Flatten X to a 2d array for random forest\n",
        "clf.fit(X_scaled, y_train)"
      ],
      "metadata": {
        "colab": {
          "base_uri": "https://localhost:8080/"
        },
        "id": "raRoY8sVzn9C",
        "outputId": "5a416c60-24c7-4fec-9077-fbe2757f5c1a"
      },
      "execution_count": null,
      "outputs": [
        {
          "output_type": "execute_result",
          "data": {
            "text/plain": [
              "RandomForestClassifier(criterion='entropy')"
            ]
          },
          "metadata": {},
          "execution_count": 20
        }
      ]
    },
    {
      "cell_type": "code",
      "source": [
        "y_pred=clf.predict(X_val_scaled)"
      ],
      "metadata": {
        "id": "aAoD7r7Jz1l9"
      },
      "execution_count": null,
      "outputs": []
    },
    {
      "cell_type": "code",
      "source": [
        "ascore = sklearn.metrics.accuracy_score(y_val, y_pred)"
      ],
      "metadata": {
        "id": "mgow6rVKz9NW"
      },
      "execution_count": null,
      "outputs": []
    },
    {
      "cell_type": "code",
      "source": [
        "print(ascore)"
      ],
      "metadata": {
        "colab": {
          "base_uri": "https://localhost:8080/"
        },
        "id": "4sHd2oYZ0ATY",
        "outputId": "e8cccd54-1001-4ab0-d04c-922f8bcfcdd9"
      },
      "execution_count": null,
      "outputs": [
        {
          "output_type": "stream",
          "name": "stdout",
          "text": [
            "0.4787985865724382\n"
          ]
        }
      ]
    },
    {
      "cell_type": "code",
      "source": [
        "# Create a base model -- sequential, functional, or subclass.\n",
        "model_rnn = tf.keras.Sequential([\n",
        "    tf.keras.layers.LSTM(64, return_sequences = True, input_shape=(X_train.shape[1],1)),\n",
        "    tf.keras.layers.LSTM(64),\n",
        "    tf.keras.layers.Dense(6, activation=tf.nn.softmax)\n",
        "])\n",
        "\n",
        "\n",
        "# # Wrap the model with adversarial regularization.\n",
        "# adv_config = nsl.configs.make_adv_reg_config(multiplier=0.2, adv_step_size=0.05)\n",
        "# adv_model = nsl.keras.AdversarialRegularization(model, adv_config=adv_config)\n",
        "\n",
        "rms = tf.keras.optimizers.RMSprop(learning_rate=0.001)\n",
        "\n",
        "# Compile, train, and evaluate.\n",
        "model_rnn.compile(optimizer=rms,\n",
        "                  loss='sparse_categorical_crossentropy',\n",
        "                  metrics=['accuracy'])\n",
        "model_rnn.fit(X_scaled, y_train, batch_size=64, epochs=200, validation_data=(X_val_scaled, y_val))\n",
        "# model.evaluate(x_test, y_test)"
      ],
      "metadata": {
        "colab": {
          "base_uri": "https://localhost:8080/",
          "height": 979
        },
        "id": "hCxGQ6pz_ssS",
        "outputId": "afc3046b-0925-42d4-faec-bc8c34100795"
      },
      "execution_count": null,
      "outputs": [
        {
          "output_type": "stream",
          "name": "stdout",
          "text": [
            "Epoch 1/200\n",
            "107/107 [==============================] - 23s 95ms/step - loss: 1.6632 - accuracy: 0.2657 - val_loss: 1.6341 - val_accuracy: 0.2703\n",
            "Epoch 2/200\n",
            "107/107 [==============================] - 9s 86ms/step - loss: 1.6242 - accuracy: 0.2868 - val_loss: 1.6089 - val_accuracy: 0.2951\n",
            "Epoch 3/200\n",
            "107/107 [==============================] - 10s 89ms/step - loss: 1.6019 - accuracy: 0.2922 - val_loss: 1.7729 - val_accuracy: 0.2314\n",
            "Epoch 4/200\n",
            "107/107 [==============================] - 9s 87ms/step - loss: 1.5845 - accuracy: 0.3065 - val_loss: 1.6129 - val_accuracy: 0.2959\n",
            "Epoch 5/200\n",
            "107/107 [==============================] - 9s 86ms/step - loss: 1.5700 - accuracy: 0.3190 - val_loss: 1.6069 - val_accuracy: 0.2867\n",
            "Epoch 6/200\n",
            "107/107 [==============================] - 9s 87ms/step - loss: 1.5582 - accuracy: 0.3257 - val_loss: 1.5763 - val_accuracy: 0.3405\n",
            "Epoch 7/200\n",
            "107/107 [==============================] - 9s 87ms/step - loss: 1.5532 - accuracy: 0.3392 - val_loss: 1.7685 - val_accuracy: 0.2323\n",
            "Epoch 8/200\n",
            "107/107 [==============================] - 9s 87ms/step - loss: 1.5381 - accuracy: 0.3476 - val_loss: 1.5840 - val_accuracy: 0.2915\n",
            "Epoch 9/200\n",
            "107/107 [==============================] - 10s 89ms/step - loss: 1.5236 - accuracy: 0.3519 - val_loss: 1.6135 - val_accuracy: 0.3485\n",
            "Epoch 10/200\n",
            "107/107 [==============================] - 9s 87ms/step - loss: 1.5183 - accuracy: 0.3619 - val_loss: 1.5749 - val_accuracy: 0.3379\n",
            "Epoch 11/200\n",
            "107/107 [==============================] - 9s 87ms/step - loss: 1.5127 - accuracy: 0.3644 - val_loss: 1.6688 - val_accuracy: 0.2394\n",
            "Epoch 12/200\n",
            "107/107 [==============================] - 9s 87ms/step - loss: 1.4884 - accuracy: 0.3749 - val_loss: 1.5572 - val_accuracy: 0.3127\n",
            "Epoch 13/200\n",
            "107/107 [==============================] - 9s 87ms/step - loss: 1.4898 - accuracy: 0.3759 - val_loss: 1.6236 - val_accuracy: 0.3317\n",
            "Epoch 14/200\n",
            "107/107 [==============================] - 9s 86ms/step - loss: 1.4900 - accuracy: 0.3730 - val_loss: 1.6145 - val_accuracy: 0.3061\n",
            "Epoch 15/200\n",
            "107/107 [==============================] - 9s 87ms/step - loss: 1.5085 - accuracy: 0.3538 - val_loss: 2.0457 - val_accuracy: 0.2363\n",
            "Epoch 16/200\n",
            " 67/107 [=================>............] - ETA: 3s - loss: 1.4494 - accuracy: 0.3953"
          ]
        },
        {
          "output_type": "error",
          "ename": "KeyboardInterrupt",
          "evalue": "ignored",
          "traceback": [
            "\u001b[0;31m---------------------------------------------------------------------------\u001b[0m",
            "\u001b[0;31mKeyboardInterrupt\u001b[0m                         Traceback (most recent call last)",
            "\u001b[0;32m<ipython-input-13-642fbb1c3176>\u001b[0m in \u001b[0;36m<module>\u001b[0;34m()\u001b[0m\n\u001b[1;32m     17\u001b[0m                   \u001b[0mloss\u001b[0m\u001b[0;34m=\u001b[0m\u001b[0;34m'sparse_categorical_crossentropy'\u001b[0m\u001b[0;34m,\u001b[0m\u001b[0;34m\u001b[0m\u001b[0;34m\u001b[0m\u001b[0m\n\u001b[1;32m     18\u001b[0m                   metrics=['accuracy'])\n\u001b[0;32m---> 19\u001b[0;31m \u001b[0mmodel_rnn\u001b[0m\u001b[0;34m.\u001b[0m\u001b[0mfit\u001b[0m\u001b[0;34m(\u001b[0m\u001b[0mX_scaled\u001b[0m\u001b[0;34m,\u001b[0m \u001b[0my_train\u001b[0m\u001b[0;34m,\u001b[0m \u001b[0mbatch_size\u001b[0m\u001b[0;34m=\u001b[0m\u001b[0;36m64\u001b[0m\u001b[0;34m,\u001b[0m \u001b[0mepochs\u001b[0m\u001b[0;34m=\u001b[0m\u001b[0;36m200\u001b[0m\u001b[0;34m,\u001b[0m \u001b[0mvalidation_data\u001b[0m\u001b[0;34m=\u001b[0m\u001b[0;34m(\u001b[0m\u001b[0mX_val_scaled\u001b[0m\u001b[0;34m,\u001b[0m \u001b[0my_val\u001b[0m\u001b[0;34m)\u001b[0m\u001b[0;34m)\u001b[0m\u001b[0;34m\u001b[0m\u001b[0;34m\u001b[0m\u001b[0m\n\u001b[0m\u001b[1;32m     20\u001b[0m \u001b[0;31m# model.evaluate(x_test, y_test)\u001b[0m\u001b[0;34m\u001b[0m\u001b[0;34m\u001b[0m\u001b[0;34m\u001b[0m\u001b[0m\n",
            "\u001b[0;32m/usr/local/lib/python3.7/dist-packages/keras/utils/traceback_utils.py\u001b[0m in \u001b[0;36merror_handler\u001b[0;34m(*args, **kwargs)\u001b[0m\n\u001b[1;32m     62\u001b[0m     \u001b[0mfiltered_tb\u001b[0m \u001b[0;34m=\u001b[0m \u001b[0;32mNone\u001b[0m\u001b[0;34m\u001b[0m\u001b[0;34m\u001b[0m\u001b[0m\n\u001b[1;32m     63\u001b[0m     \u001b[0;32mtry\u001b[0m\u001b[0;34m:\u001b[0m\u001b[0;34m\u001b[0m\u001b[0;34m\u001b[0m\u001b[0m\n\u001b[0;32m---> 64\u001b[0;31m       \u001b[0;32mreturn\u001b[0m \u001b[0mfn\u001b[0m\u001b[0;34m(\u001b[0m\u001b[0;34m*\u001b[0m\u001b[0margs\u001b[0m\u001b[0;34m,\u001b[0m \u001b[0;34m**\u001b[0m\u001b[0mkwargs\u001b[0m\u001b[0;34m)\u001b[0m\u001b[0;34m\u001b[0m\u001b[0;34m\u001b[0m\u001b[0m\n\u001b[0m\u001b[1;32m     65\u001b[0m     \u001b[0;32mexcept\u001b[0m \u001b[0mException\u001b[0m \u001b[0;32mas\u001b[0m \u001b[0me\u001b[0m\u001b[0;34m:\u001b[0m  \u001b[0;31m# pylint: disable=broad-except\u001b[0m\u001b[0;34m\u001b[0m\u001b[0;34m\u001b[0m\u001b[0m\n\u001b[1;32m     66\u001b[0m       \u001b[0mfiltered_tb\u001b[0m \u001b[0;34m=\u001b[0m \u001b[0m_process_traceback_frames\u001b[0m\u001b[0;34m(\u001b[0m\u001b[0me\u001b[0m\u001b[0;34m.\u001b[0m\u001b[0m__traceback__\u001b[0m\u001b[0;34m)\u001b[0m\u001b[0;34m\u001b[0m\u001b[0;34m\u001b[0m\u001b[0m\n",
            "\u001b[0;32m/usr/local/lib/python3.7/dist-packages/keras/engine/training.py\u001b[0m in \u001b[0;36mfit\u001b[0;34m(self, x, y, batch_size, epochs, verbose, callbacks, validation_split, validation_data, shuffle, class_weight, sample_weight, initial_epoch, steps_per_epoch, validation_steps, validation_batch_size, validation_freq, max_queue_size, workers, use_multiprocessing)\u001b[0m\n\u001b[1;32m   1387\u001b[0m               \u001b[0mlogs\u001b[0m \u001b[0;34m=\u001b[0m \u001b[0mtmp_logs\u001b[0m  \u001b[0;31m# No error, now safe to assign to logs.\u001b[0m\u001b[0;34m\u001b[0m\u001b[0;34m\u001b[0m\u001b[0m\n\u001b[1;32m   1388\u001b[0m               \u001b[0mend_step\u001b[0m \u001b[0;34m=\u001b[0m \u001b[0mstep\u001b[0m \u001b[0;34m+\u001b[0m \u001b[0mdata_handler\u001b[0m\u001b[0;34m.\u001b[0m\u001b[0mstep_increment\u001b[0m\u001b[0;34m\u001b[0m\u001b[0;34m\u001b[0m\u001b[0m\n\u001b[0;32m-> 1389\u001b[0;31m               \u001b[0mcallbacks\u001b[0m\u001b[0;34m.\u001b[0m\u001b[0mon_train_batch_end\u001b[0m\u001b[0;34m(\u001b[0m\u001b[0mend_step\u001b[0m\u001b[0;34m,\u001b[0m \u001b[0mlogs\u001b[0m\u001b[0;34m)\u001b[0m\u001b[0;34m\u001b[0m\u001b[0;34m\u001b[0m\u001b[0m\n\u001b[0m\u001b[1;32m   1390\u001b[0m               \u001b[0;32mif\u001b[0m \u001b[0mself\u001b[0m\u001b[0;34m.\u001b[0m\u001b[0mstop_training\u001b[0m\u001b[0;34m:\u001b[0m\u001b[0;34m\u001b[0m\u001b[0;34m\u001b[0m\u001b[0m\n\u001b[1;32m   1391\u001b[0m                 \u001b[0;32mbreak\u001b[0m\u001b[0;34m\u001b[0m\u001b[0;34m\u001b[0m\u001b[0m\n",
            "\u001b[0;32m/usr/local/lib/python3.7/dist-packages/keras/callbacks.py\u001b[0m in \u001b[0;36mon_train_batch_end\u001b[0;34m(self, batch, logs)\u001b[0m\n\u001b[1;32m    436\u001b[0m     \"\"\"\n\u001b[1;32m    437\u001b[0m     \u001b[0;32mif\u001b[0m \u001b[0mself\u001b[0m\u001b[0;34m.\u001b[0m\u001b[0m_should_call_train_batch_hooks\u001b[0m\u001b[0;34m:\u001b[0m\u001b[0;34m\u001b[0m\u001b[0;34m\u001b[0m\u001b[0m\n\u001b[0;32m--> 438\u001b[0;31m       \u001b[0mself\u001b[0m\u001b[0;34m.\u001b[0m\u001b[0m_call_batch_hook\u001b[0m\u001b[0;34m(\u001b[0m\u001b[0mModeKeys\u001b[0m\u001b[0;34m.\u001b[0m\u001b[0mTRAIN\u001b[0m\u001b[0;34m,\u001b[0m \u001b[0;34m'end'\u001b[0m\u001b[0;34m,\u001b[0m \u001b[0mbatch\u001b[0m\u001b[0;34m,\u001b[0m \u001b[0mlogs\u001b[0m\u001b[0;34m=\u001b[0m\u001b[0mlogs\u001b[0m\u001b[0;34m)\u001b[0m\u001b[0;34m\u001b[0m\u001b[0;34m\u001b[0m\u001b[0m\n\u001b[0m\u001b[1;32m    439\u001b[0m \u001b[0;34m\u001b[0m\u001b[0m\n\u001b[1;32m    440\u001b[0m   \u001b[0;32mdef\u001b[0m \u001b[0mon_test_batch_begin\u001b[0m\u001b[0;34m(\u001b[0m\u001b[0mself\u001b[0m\u001b[0;34m,\u001b[0m \u001b[0mbatch\u001b[0m\u001b[0;34m,\u001b[0m \u001b[0mlogs\u001b[0m\u001b[0;34m=\u001b[0m\u001b[0;32mNone\u001b[0m\u001b[0;34m)\u001b[0m\u001b[0;34m:\u001b[0m\u001b[0;34m\u001b[0m\u001b[0;34m\u001b[0m\u001b[0m\n",
            "\u001b[0;32m/usr/local/lib/python3.7/dist-packages/keras/callbacks.py\u001b[0m in \u001b[0;36m_call_batch_hook\u001b[0;34m(self, mode, hook, batch, logs)\u001b[0m\n\u001b[1;32m    295\u001b[0m       \u001b[0mself\u001b[0m\u001b[0;34m.\u001b[0m\u001b[0m_call_batch_begin_hook\u001b[0m\u001b[0;34m(\u001b[0m\u001b[0mmode\u001b[0m\u001b[0;34m,\u001b[0m \u001b[0mbatch\u001b[0m\u001b[0;34m,\u001b[0m \u001b[0mlogs\u001b[0m\u001b[0;34m)\u001b[0m\u001b[0;34m\u001b[0m\u001b[0;34m\u001b[0m\u001b[0m\n\u001b[1;32m    296\u001b[0m     \u001b[0;32melif\u001b[0m \u001b[0mhook\u001b[0m \u001b[0;34m==\u001b[0m \u001b[0;34m'end'\u001b[0m\u001b[0;34m:\u001b[0m\u001b[0;34m\u001b[0m\u001b[0;34m\u001b[0m\u001b[0m\n\u001b[0;32m--> 297\u001b[0;31m       \u001b[0mself\u001b[0m\u001b[0;34m.\u001b[0m\u001b[0m_call_batch_end_hook\u001b[0m\u001b[0;34m(\u001b[0m\u001b[0mmode\u001b[0m\u001b[0;34m,\u001b[0m \u001b[0mbatch\u001b[0m\u001b[0;34m,\u001b[0m \u001b[0mlogs\u001b[0m\u001b[0;34m)\u001b[0m\u001b[0;34m\u001b[0m\u001b[0;34m\u001b[0m\u001b[0m\n\u001b[0m\u001b[1;32m    298\u001b[0m     \u001b[0;32melse\u001b[0m\u001b[0;34m:\u001b[0m\u001b[0;34m\u001b[0m\u001b[0;34m\u001b[0m\u001b[0m\n\u001b[1;32m    299\u001b[0m       raise ValueError(\n",
            "\u001b[0;32m/usr/local/lib/python3.7/dist-packages/keras/callbacks.py\u001b[0m in \u001b[0;36m_call_batch_end_hook\u001b[0;34m(self, mode, batch, logs)\u001b[0m\n\u001b[1;32m    316\u001b[0m       \u001b[0mself\u001b[0m\u001b[0;34m.\u001b[0m\u001b[0m_batch_times\u001b[0m\u001b[0;34m.\u001b[0m\u001b[0mappend\u001b[0m\u001b[0;34m(\u001b[0m\u001b[0mbatch_time\u001b[0m\u001b[0;34m)\u001b[0m\u001b[0;34m\u001b[0m\u001b[0;34m\u001b[0m\u001b[0m\n\u001b[1;32m    317\u001b[0m \u001b[0;34m\u001b[0m\u001b[0m\n\u001b[0;32m--> 318\u001b[0;31m     \u001b[0mself\u001b[0m\u001b[0;34m.\u001b[0m\u001b[0m_call_batch_hook_helper\u001b[0m\u001b[0;34m(\u001b[0m\u001b[0mhook_name\u001b[0m\u001b[0;34m,\u001b[0m \u001b[0mbatch\u001b[0m\u001b[0;34m,\u001b[0m \u001b[0mlogs\u001b[0m\u001b[0;34m)\u001b[0m\u001b[0;34m\u001b[0m\u001b[0;34m\u001b[0m\u001b[0m\n\u001b[0m\u001b[1;32m    319\u001b[0m \u001b[0;34m\u001b[0m\u001b[0m\n\u001b[1;32m    320\u001b[0m     \u001b[0;32mif\u001b[0m \u001b[0mlen\u001b[0m\u001b[0;34m(\u001b[0m\u001b[0mself\u001b[0m\u001b[0;34m.\u001b[0m\u001b[0m_batch_times\u001b[0m\u001b[0;34m)\u001b[0m \u001b[0;34m>=\u001b[0m \u001b[0mself\u001b[0m\u001b[0;34m.\u001b[0m\u001b[0m_num_batches_for_timing_check\u001b[0m\u001b[0;34m:\u001b[0m\u001b[0;34m\u001b[0m\u001b[0;34m\u001b[0m\u001b[0m\n",
            "\u001b[0;32m/usr/local/lib/python3.7/dist-packages/keras/callbacks.py\u001b[0m in \u001b[0;36m_call_batch_hook_helper\u001b[0;34m(self, hook_name, batch, logs)\u001b[0m\n\u001b[1;32m    354\u001b[0m     \u001b[0;32mfor\u001b[0m \u001b[0mcallback\u001b[0m \u001b[0;32min\u001b[0m \u001b[0mself\u001b[0m\u001b[0;34m.\u001b[0m\u001b[0mcallbacks\u001b[0m\u001b[0;34m:\u001b[0m\u001b[0;34m\u001b[0m\u001b[0;34m\u001b[0m\u001b[0m\n\u001b[1;32m    355\u001b[0m       \u001b[0mhook\u001b[0m \u001b[0;34m=\u001b[0m \u001b[0mgetattr\u001b[0m\u001b[0;34m(\u001b[0m\u001b[0mcallback\u001b[0m\u001b[0;34m,\u001b[0m \u001b[0mhook_name\u001b[0m\u001b[0;34m)\u001b[0m\u001b[0;34m\u001b[0m\u001b[0;34m\u001b[0m\u001b[0m\n\u001b[0;32m--> 356\u001b[0;31m       \u001b[0mhook\u001b[0m\u001b[0;34m(\u001b[0m\u001b[0mbatch\u001b[0m\u001b[0;34m,\u001b[0m \u001b[0mlogs\u001b[0m\u001b[0;34m)\u001b[0m\u001b[0;34m\u001b[0m\u001b[0;34m\u001b[0m\u001b[0m\n\u001b[0m\u001b[1;32m    357\u001b[0m \u001b[0;34m\u001b[0m\u001b[0m\n\u001b[1;32m    358\u001b[0m     \u001b[0;32mif\u001b[0m \u001b[0mself\u001b[0m\u001b[0;34m.\u001b[0m\u001b[0m_check_timing\u001b[0m\u001b[0;34m:\u001b[0m\u001b[0;34m\u001b[0m\u001b[0;34m\u001b[0m\u001b[0m\n",
            "\u001b[0;32m/usr/local/lib/python3.7/dist-packages/keras/callbacks.py\u001b[0m in \u001b[0;36mon_train_batch_end\u001b[0;34m(self, batch, logs)\u001b[0m\n\u001b[1;32m   1032\u001b[0m \u001b[0;34m\u001b[0m\u001b[0m\n\u001b[1;32m   1033\u001b[0m   \u001b[0;32mdef\u001b[0m \u001b[0mon_train_batch_end\u001b[0m\u001b[0;34m(\u001b[0m\u001b[0mself\u001b[0m\u001b[0;34m,\u001b[0m \u001b[0mbatch\u001b[0m\u001b[0;34m,\u001b[0m \u001b[0mlogs\u001b[0m\u001b[0;34m=\u001b[0m\u001b[0;32mNone\u001b[0m\u001b[0;34m)\u001b[0m\u001b[0;34m:\u001b[0m\u001b[0;34m\u001b[0m\u001b[0;34m\u001b[0m\u001b[0m\n\u001b[0;32m-> 1034\u001b[0;31m     \u001b[0mself\u001b[0m\u001b[0;34m.\u001b[0m\u001b[0m_batch_update_progbar\u001b[0m\u001b[0;34m(\u001b[0m\u001b[0mbatch\u001b[0m\u001b[0;34m,\u001b[0m \u001b[0mlogs\u001b[0m\u001b[0;34m)\u001b[0m\u001b[0;34m\u001b[0m\u001b[0;34m\u001b[0m\u001b[0m\n\u001b[0m\u001b[1;32m   1035\u001b[0m \u001b[0;34m\u001b[0m\u001b[0m\n\u001b[1;32m   1036\u001b[0m   \u001b[0;32mdef\u001b[0m \u001b[0mon_test_batch_end\u001b[0m\u001b[0;34m(\u001b[0m\u001b[0mself\u001b[0m\u001b[0;34m,\u001b[0m \u001b[0mbatch\u001b[0m\u001b[0;34m,\u001b[0m \u001b[0mlogs\u001b[0m\u001b[0;34m=\u001b[0m\u001b[0;32mNone\u001b[0m\u001b[0;34m)\u001b[0m\u001b[0;34m:\u001b[0m\u001b[0;34m\u001b[0m\u001b[0;34m\u001b[0m\u001b[0m\n",
            "\u001b[0;32m/usr/local/lib/python3.7/dist-packages/keras/callbacks.py\u001b[0m in \u001b[0;36m_batch_update_progbar\u001b[0;34m(self, batch, logs)\u001b[0m\n\u001b[1;32m   1105\u001b[0m       \u001b[0;31m# Only block async when verbose = 1.\u001b[0m\u001b[0;34m\u001b[0m\u001b[0;34m\u001b[0m\u001b[0;34m\u001b[0m\u001b[0m\n\u001b[1;32m   1106\u001b[0m       \u001b[0mlogs\u001b[0m \u001b[0;34m=\u001b[0m \u001b[0mtf_utils\u001b[0m\u001b[0;34m.\u001b[0m\u001b[0msync_to_numpy_or_python_type\u001b[0m\u001b[0;34m(\u001b[0m\u001b[0mlogs\u001b[0m\u001b[0;34m)\u001b[0m\u001b[0;34m\u001b[0m\u001b[0;34m\u001b[0m\u001b[0m\n\u001b[0;32m-> 1107\u001b[0;31m       \u001b[0mself\u001b[0m\u001b[0;34m.\u001b[0m\u001b[0mprogbar\u001b[0m\u001b[0;34m.\u001b[0m\u001b[0mupdate\u001b[0m\u001b[0;34m(\u001b[0m\u001b[0mself\u001b[0m\u001b[0;34m.\u001b[0m\u001b[0mseen\u001b[0m\u001b[0;34m,\u001b[0m \u001b[0mlist\u001b[0m\u001b[0;34m(\u001b[0m\u001b[0mlogs\u001b[0m\u001b[0;34m.\u001b[0m\u001b[0mitems\u001b[0m\u001b[0;34m(\u001b[0m\u001b[0;34m)\u001b[0m\u001b[0;34m)\u001b[0m\u001b[0;34m,\u001b[0m \u001b[0mfinalize\u001b[0m\u001b[0;34m=\u001b[0m\u001b[0;32mFalse\u001b[0m\u001b[0;34m)\u001b[0m\u001b[0;34m\u001b[0m\u001b[0;34m\u001b[0m\u001b[0m\n\u001b[0m\u001b[1;32m   1108\u001b[0m \u001b[0;34m\u001b[0m\u001b[0m\n\u001b[1;32m   1109\u001b[0m   \u001b[0;32mdef\u001b[0m \u001b[0m_finalize_progbar\u001b[0m\u001b[0;34m(\u001b[0m\u001b[0mself\u001b[0m\u001b[0;34m,\u001b[0m \u001b[0mlogs\u001b[0m\u001b[0;34m,\u001b[0m \u001b[0mcounter\u001b[0m\u001b[0;34m)\u001b[0m\u001b[0;34m:\u001b[0m\u001b[0;34m\u001b[0m\u001b[0;34m\u001b[0m\u001b[0m\n",
            "\u001b[0;32m/usr/local/lib/python3.7/dist-packages/keras/utils/generic_utils.py\u001b[0m in \u001b[0;36mupdate\u001b[0;34m(self, current, values, finalize)\u001b[0m\n\u001b[1;32m    974\u001b[0m \u001b[0;34m\u001b[0m\u001b[0m\n\u001b[1;32m    975\u001b[0m       \u001b[0mmessage\u001b[0m \u001b[0;34m+=\u001b[0m \u001b[0minfo\u001b[0m\u001b[0;34m\u001b[0m\u001b[0;34m\u001b[0m\u001b[0m\n\u001b[0;32m--> 976\u001b[0;31m       \u001b[0mio_utils\u001b[0m\u001b[0;34m.\u001b[0m\u001b[0mprint_msg\u001b[0m\u001b[0;34m(\u001b[0m\u001b[0mmessage\u001b[0m\u001b[0;34m,\u001b[0m \u001b[0mline_break\u001b[0m\u001b[0;34m=\u001b[0m\u001b[0;32mFalse\u001b[0m\u001b[0;34m)\u001b[0m\u001b[0;34m\u001b[0m\u001b[0;34m\u001b[0m\u001b[0m\n\u001b[0m\u001b[1;32m    977\u001b[0m       \u001b[0mmessage\u001b[0m \u001b[0;34m=\u001b[0m \u001b[0;34m''\u001b[0m\u001b[0;34m\u001b[0m\u001b[0;34m\u001b[0m\u001b[0m\n\u001b[1;32m    978\u001b[0m \u001b[0;34m\u001b[0m\u001b[0m\n",
            "\u001b[0;32m/usr/local/lib/python3.7/dist-packages/keras/utils/io_utils.py\u001b[0m in \u001b[0;36mprint_msg\u001b[0;34m(message, line_break)\u001b[0m\n\u001b[1;32m     35\u001b[0m       \u001b[0msys\u001b[0m\u001b[0;34m.\u001b[0m\u001b[0mstdout\u001b[0m\u001b[0;34m.\u001b[0m\u001b[0mwrite\u001b[0m\u001b[0;34m(\u001b[0m\u001b[0mmessage\u001b[0m \u001b[0;34m+\u001b[0m \u001b[0;34m'\\n'\u001b[0m\u001b[0;34m)\u001b[0m\u001b[0;34m\u001b[0m\u001b[0;34m\u001b[0m\u001b[0m\n\u001b[1;32m     36\u001b[0m     \u001b[0;32melse\u001b[0m\u001b[0;34m:\u001b[0m\u001b[0;34m\u001b[0m\u001b[0;34m\u001b[0m\u001b[0m\n\u001b[0;32m---> 37\u001b[0;31m       \u001b[0msys\u001b[0m\u001b[0;34m.\u001b[0m\u001b[0mstdout\u001b[0m\u001b[0;34m.\u001b[0m\u001b[0mwrite\u001b[0m\u001b[0;34m(\u001b[0m\u001b[0mmessage\u001b[0m\u001b[0;34m)\u001b[0m\u001b[0;34m\u001b[0m\u001b[0;34m\u001b[0m\u001b[0m\n\u001b[0m\u001b[1;32m     38\u001b[0m     \u001b[0msys\u001b[0m\u001b[0;34m.\u001b[0m\u001b[0mstdout\u001b[0m\u001b[0;34m.\u001b[0m\u001b[0mflush\u001b[0m\u001b[0;34m(\u001b[0m\u001b[0;34m)\u001b[0m\u001b[0;34m\u001b[0m\u001b[0;34m\u001b[0m\u001b[0m\n\u001b[1;32m     39\u001b[0m \u001b[0;34m\u001b[0m\u001b[0m\n",
            "\u001b[0;32m/usr/local/lib/python3.7/dist-packages/ipykernel/iostream.py\u001b[0m in \u001b[0;36mwrite\u001b[0;34m(self, string)\u001b[0m\n\u001b[1;32m    398\u001b[0m             \u001b[0mis_child\u001b[0m \u001b[0;34m=\u001b[0m \u001b[0;34m(\u001b[0m\u001b[0;32mnot\u001b[0m \u001b[0mself\u001b[0m\u001b[0;34m.\u001b[0m\u001b[0m_is_master_process\u001b[0m\u001b[0;34m(\u001b[0m\u001b[0;34m)\u001b[0m\u001b[0;34m)\u001b[0m\u001b[0;34m\u001b[0m\u001b[0;34m\u001b[0m\u001b[0m\n\u001b[1;32m    399\u001b[0m             \u001b[0;31m# only touch the buffer in the IO thread to avoid races\u001b[0m\u001b[0;34m\u001b[0m\u001b[0;34m\u001b[0m\u001b[0;34m\u001b[0m\u001b[0m\n\u001b[0;32m--> 400\u001b[0;31m             \u001b[0mself\u001b[0m\u001b[0;34m.\u001b[0m\u001b[0mpub_thread\u001b[0m\u001b[0;34m.\u001b[0m\u001b[0mschedule\u001b[0m\u001b[0;34m(\u001b[0m\u001b[0;32mlambda\u001b[0m \u001b[0;34m:\u001b[0m \u001b[0mself\u001b[0m\u001b[0;34m.\u001b[0m\u001b[0m_buffer\u001b[0m\u001b[0;34m.\u001b[0m\u001b[0mwrite\u001b[0m\u001b[0;34m(\u001b[0m\u001b[0mstring\u001b[0m\u001b[0;34m)\u001b[0m\u001b[0;34m)\u001b[0m\u001b[0;34m\u001b[0m\u001b[0;34m\u001b[0m\u001b[0m\n\u001b[0m\u001b[1;32m    401\u001b[0m             \u001b[0;32mif\u001b[0m \u001b[0mis_child\u001b[0m\u001b[0;34m:\u001b[0m\u001b[0;34m\u001b[0m\u001b[0;34m\u001b[0m\u001b[0m\n\u001b[1;32m    402\u001b[0m                 \u001b[0;31m# newlines imply flush in subprocesses\u001b[0m\u001b[0;34m\u001b[0m\u001b[0;34m\u001b[0m\u001b[0;34m\u001b[0m\u001b[0m\n",
            "\u001b[0;32m/usr/local/lib/python3.7/dist-packages/ipykernel/iostream.py\u001b[0m in \u001b[0;36mschedule\u001b[0;34m(self, f)\u001b[0m\n\u001b[1;32m    201\u001b[0m             \u001b[0mself\u001b[0m\u001b[0;34m.\u001b[0m\u001b[0m_events\u001b[0m\u001b[0;34m.\u001b[0m\u001b[0mappend\u001b[0m\u001b[0;34m(\u001b[0m\u001b[0mf\u001b[0m\u001b[0;34m)\u001b[0m\u001b[0;34m\u001b[0m\u001b[0;34m\u001b[0m\u001b[0m\n\u001b[1;32m    202\u001b[0m             \u001b[0;31m# wake event thread (message content is ignored)\u001b[0m\u001b[0;34m\u001b[0m\u001b[0;34m\u001b[0m\u001b[0;34m\u001b[0m\u001b[0m\n\u001b[0;32m--> 203\u001b[0;31m             \u001b[0mself\u001b[0m\u001b[0;34m.\u001b[0m\u001b[0m_event_pipe\u001b[0m\u001b[0;34m.\u001b[0m\u001b[0msend\u001b[0m\u001b[0;34m(\u001b[0m\u001b[0;34mb''\u001b[0m\u001b[0;34m)\u001b[0m\u001b[0;34m\u001b[0m\u001b[0;34m\u001b[0m\u001b[0m\n\u001b[0m\u001b[1;32m    204\u001b[0m         \u001b[0;32melse\u001b[0m\u001b[0;34m:\u001b[0m\u001b[0;34m\u001b[0m\u001b[0;34m\u001b[0m\u001b[0m\n\u001b[1;32m    205\u001b[0m             \u001b[0mf\u001b[0m\u001b[0;34m(\u001b[0m\u001b[0;34m)\u001b[0m\u001b[0;34m\u001b[0m\u001b[0;34m\u001b[0m\u001b[0m\n",
            "\u001b[0;32m/usr/local/lib/python3.7/dist-packages/zmq/sugar/socket.py\u001b[0m in \u001b[0;36msend\u001b[0;34m(self, data, flags, copy, track, routing_id, group)\u001b[0m\n\u001b[1;32m    545\u001b[0m                 )\n\u001b[1;32m    546\u001b[0m             \u001b[0mdata\u001b[0m\u001b[0;34m.\u001b[0m\u001b[0mgroup\u001b[0m \u001b[0;34m=\u001b[0m \u001b[0mgroup\u001b[0m\u001b[0;34m\u001b[0m\u001b[0;34m\u001b[0m\u001b[0m\n\u001b[0;32m--> 547\u001b[0;31m         \u001b[0;32mreturn\u001b[0m \u001b[0msuper\u001b[0m\u001b[0;34m(\u001b[0m\u001b[0mSocket\u001b[0m\u001b[0;34m,\u001b[0m \u001b[0mself\u001b[0m\u001b[0;34m)\u001b[0m\u001b[0;34m.\u001b[0m\u001b[0msend\u001b[0m\u001b[0;34m(\u001b[0m\u001b[0mdata\u001b[0m\u001b[0;34m,\u001b[0m \u001b[0mflags\u001b[0m\u001b[0;34m=\u001b[0m\u001b[0mflags\u001b[0m\u001b[0;34m,\u001b[0m \u001b[0mcopy\u001b[0m\u001b[0;34m=\u001b[0m\u001b[0mcopy\u001b[0m\u001b[0;34m,\u001b[0m \u001b[0mtrack\u001b[0m\u001b[0;34m=\u001b[0m\u001b[0mtrack\u001b[0m\u001b[0;34m)\u001b[0m\u001b[0;34m\u001b[0m\u001b[0;34m\u001b[0m\u001b[0m\n\u001b[0m\u001b[1;32m    548\u001b[0m \u001b[0;34m\u001b[0m\u001b[0m\n\u001b[1;32m    549\u001b[0m     \u001b[0;32mdef\u001b[0m \u001b[0msend_multipart\u001b[0m\u001b[0;34m(\u001b[0m\u001b[0mself\u001b[0m\u001b[0;34m,\u001b[0m \u001b[0mmsg_parts\u001b[0m\u001b[0;34m,\u001b[0m \u001b[0mflags\u001b[0m\u001b[0;34m=\u001b[0m\u001b[0;36m0\u001b[0m\u001b[0;34m,\u001b[0m \u001b[0mcopy\u001b[0m\u001b[0;34m=\u001b[0m\u001b[0;32mTrue\u001b[0m\u001b[0;34m,\u001b[0m \u001b[0mtrack\u001b[0m\u001b[0;34m=\u001b[0m\u001b[0;32mFalse\u001b[0m\u001b[0;34m,\u001b[0m \u001b[0;34m**\u001b[0m\u001b[0mkwargs\u001b[0m\u001b[0;34m)\u001b[0m\u001b[0;34m:\u001b[0m\u001b[0;34m\u001b[0m\u001b[0;34m\u001b[0m\u001b[0m\n",
            "\u001b[0;32mzmq/backend/cython/socket.pyx\u001b[0m in \u001b[0;36mzmq.backend.cython.socket.Socket.send\u001b[0;34m()\u001b[0m\n",
            "\u001b[0;32mzmq/backend/cython/socket.pyx\u001b[0m in \u001b[0;36mzmq.backend.cython.socket.Socket.send\u001b[0;34m()\u001b[0m\n",
            "\u001b[0;32mzmq/backend/cython/socket.pyx\u001b[0m in \u001b[0;36mzmq.backend.cython.socket._send_copy\u001b[0;34m()\u001b[0m\n",
            "\u001b[0;32m/usr/local/lib/python3.7/dist-packages/zmq/backend/cython/checkrc.pxd\u001b[0m in \u001b[0;36mzmq.backend.cython.checkrc._check_rc\u001b[0;34m()\u001b[0m\n",
            "\u001b[0;31mKeyboardInterrupt\u001b[0m: "
          ]
        }
      ]
    },
    {
      "cell_type": "code",
      "source": [
        "from sklearn.neural_network import MLPClassifier\n",
        "from sklearn.metrics import accuracy_score"
      ],
      "metadata": {
        "id": "5L2N0GxPR1Sw"
      },
      "execution_count": 8,
      "outputs": []
    },
    {
      "cell_type": "code",
      "source": [
        "modl=MLPClassifier(alpha=0.001, batch_size=64, epsilon=1e-08, hidden_layer_sizes=(150,150,150), learning_rate='adaptive', max_iter=500)"
      ],
      "metadata": {
        "id": "N3efdQSdRMH3"
      },
      "execution_count": 27,
      "outputs": []
    },
    {
      "cell_type": "code",
      "source": [
        "modl.fit(X_scaled,y_train)"
      ],
      "metadata": {
        "colab": {
          "base_uri": "https://localhost:8080/"
        },
        "id": "EuNH7l3gRe46",
        "outputId": "d5a607d9-4717-4b91-e32c-4a85f88f5363"
      },
      "execution_count": 28,
      "outputs": [
        {
          "output_type": "execute_result",
          "data": {
            "text/plain": [
              "MLPClassifier(alpha=0.001, batch_size=64, hidden_layer_sizes=(150, 150, 150),\n",
              "              learning_rate='adaptive', max_iter=500)"
            ]
          },
          "metadata": {},
          "execution_count": 28
        }
      ]
    },
    {
      "cell_type": "code",
      "source": [
        "y_pr = modl.predict(X_val_scaled)"
      ],
      "metadata": {
        "id": "-WQ0QHu8Rnll"
      },
      "execution_count": 29,
      "outputs": []
    },
    {
      "cell_type": "code",
      "source": [
        "accuracy=accuracy_score(y_true=y_val, y_pred=y_pr)\n",
        "#DataFlair - Print the accuracy\n",
        "print(\"Accuracy: {:.2f}%\".format(accuracy*100))"
      ],
      "metadata": {
        "colab": {
          "base_uri": "https://localhost:8080/"
        },
        "id": "dyUyGVA1Rtpa",
        "outputId": "f57b18f2-52ae-412b-add4-040883ab8768"
      },
      "execution_count": 30,
      "outputs": [
        {
          "output_type": "stream",
          "name": "stdout",
          "text": [
            "Accuracy: 58.70%\n"
          ]
        }
      ]
    }
  ],
  "metadata": {
    "colab": {
      "collapsed_sections": [],
      "name": "model_using_mean.ipynb",
      "provenance": [],
      "authorship_tag": "ABX9TyP21/1kU4giR8dGYu3M50X2"
    },
    "kernelspec": {
      "display_name": "Python 3",
      "name": "python3"
    },
    "language_info": {
      "name": "python"
    }
  },
  "nbformat": 4,
  "nbformat_minor": 0
}